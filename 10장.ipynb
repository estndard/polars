{
 "cells": [
  {
   "cell_type": "code",
   "execution_count": null,
   "id": "5a0909c3-2eb6-4b15-a6b7-1b0ca90d85a6",
   "metadata": {},
   "outputs": [],
   "source": [
    "## 사전 실행 코드\n",
    "import polars as pl\n",
    "import pycountry_convert as pc\n",
    "def get_continent_name(nation_code: str) -> str:\n",
    "\tif nation_code != 'WW':\n",
    "\t\tcontinent_code = pc.country_alpha2_to_continent_code(nation_code)\n",
    "\telse: \n",
    "\t\tcontinent_code = 'WW'\n",
    "\tcontinent_dict = {\"NA\": \"North America\",\"SA\": \"South America\", \"AS\": \"Asia\", \"AF\": \"Africa\",\n",
    "\t\t\"OC\": \"Oceania\", \"EU\": \"Europe\", \"AQ\": \"Antarctica\", \"WW\": \"Global\"}\n",
    "\treturn continent_dict[continent_code]\n",
    "\n",
    "key_levels = pl.Enum([\"C\", \"C#\", \"D\", \"Eb\", \"E\", \"F\", \"F#\", \"G\", \"G#\", \"A\", \"Bb\", \"B\"])\n",
    "\n",
    "df_spotify = (pl.read_csv(\"./universal_top_spotify_songs.csv\", try_parse_dates = True, null_values = [\"\"])\n",
    "\t.filter(pl.col('snapshot_date').dt.year() == 2024).sort('snapshot_date')\n",
    "    .with_columns(pl.when(pl.col('country').is_null() == True)  ## country 열이 null이면\n",
    "\t\t.then(pl.lit('WW')) ## WW로 변경\n",
    "\t\t.otherwise(pl.col('country')).alias('country'))  ## 아니면 원래대로\n",
    "\t.drop_nulls()\n",
    "    .with_columns(pl.col('key').cast(pl.String)\n",
    "\t.replace([\"0\", \"1\", \"2\", \"3\", \"4\", \"5\", \"6\", \"7\", \"8\", \"9\", \"10\", \"11\"],\n",
    "\t\t[\"C\", \"C#\", \"D\", \"Eb\", \"E\", \"F\", \"F#\", \"G\", \"G#\", \"A\", \"Bb\", \"B\"]))\n",
    "\t.with_columns(pl.col('key').cast(key_levels)).sort('key')\n",
    "    .with_columns(pl.col('artists').str.split(', '))  ## ,를 기준으로 문자열을 분리\n",
    "    ## 리스트의 첫 번째 아이템을 가져와서 main_vocal로 저장\n",
    "\t.with_columns(pl.col('artists').list.get(0, null_on_oob = True).alias('main_vocal'), \n",
    "\t\tpl.col('artists').list.tail(-1).alias('featuring')) ## 첫 번째 아이템을 제외한 나머지를 featuring으로 저장\n",
    "\t.with_columns(pl.when(pl.col('featuring').list.len() == 0) ## 리스트 길이가 0이면\n",
    "\t\t.then(None)  ## None으로 설정\n",
    "\t\t.otherwise(pl.col('featuring')).name.keep())\n",
    "    .with_columns(pl.col('country')\n",
    "        .map_elements(get_continent_name, return_dtype = pl.String).alias('continent')))"
   ]
  },
  {
   "cell_type": "markdown",
   "id": "1031745b-2a3a-4a4b-a239-202908398dca",
   "metadata": {},
   "source": [
    "# 10장\t스포티파이 음악 데이터로 인사이트 도출하기"
   ]
  },
  {
   "cell_type": "markdown",
   "id": "135f3498-56d2-4ea9-a3c0-ac7ab5217b0c",
   "metadata": {},
   "source": [
    "[10장 결과확인: https://estndard.github.io/polars/10.html](https://estndard.github.io/polars/10.html)"
   ]
  },
  {
   "cell_type": "markdown",
   "id": "dd7fa492-e315-4d86-8cc0-c490abfec9bb",
   "metadata": {},
   "source": [
    "## 10.1\t스포티파이 숫자 데이터로 국가별 인기도 분포 분석하기"
   ]
  },
  {
   "cell_type": "code",
   "execution_count": null,
   "id": "a906028c-8f59-496e-a62a-b60c999e7b03",
   "metadata": {},
   "outputs": [],
   "source": [
    "pl.Config(set_tbl_cols = 10, set_tbl_rows = 25)\n",
    "(df_spotify.select(pl.col([pl.Int64, pl.Float64])).describe()\n",
    "\t.transpose(include_header = True, header_name = 'columns',\n",
    "\t\tcolumn_names = [\"count\", \"null_count\", \"mean\", \"std\", \"min\", \"25%\", \"50%\", \"75%\", \"max\"])[1:])"
   ]
  },
  {
   "cell_type": "code",
   "execution_count": null,
   "id": "40b4d67e-e0d3-4267-ad1a-bdfa112fa7a9",
   "metadata": {},
   "outputs": [],
   "source": [
    "import plotly.express as px\n",
    "fig = px.histogram(df_spotify, x = 'daily_rank') \n",
    "fig.show()"
   ]
  },
  {
   "cell_type": "code",
   "execution_count": null,
   "id": "824fbd73-823c-43d7-8c78-13ada9b09244",
   "metadata": {},
   "outputs": [],
   "source": [
    "fig = px.histogram(df_spotify, x = 'daily_movement') \n",
    "fig.show()"
   ]
  },
  {
   "cell_type": "code",
   "execution_count": null,
   "id": "34c9638b-982c-4414-a096-ddad0a62b872",
   "metadata": {},
   "outputs": [],
   "source": [
    "fig = px.histogram(df_spotify, x = 'weekly_movement') \n",
    "fig.show()"
   ]
  },
  {
   "cell_type": "code",
   "execution_count": null,
   "id": "ad83e13d-99d2-4bbf-838d-5e815d2b9d88",
   "metadata": {},
   "outputs": [],
   "source": [
    "fig = px.histogram(df_spotify, x = 'popularity') \n",
    "fig.show()"
   ]
  },
  {
   "cell_type": "code",
   "execution_count": null,
   "id": "84deffa1-627f-4bf1-adbf-808e53f009cb",
   "metadata": {},
   "outputs": [],
   "source": [
    "fig = px.pie(df_spotify.group_by('is_explicit').len('count'), values = \"count\")\n",
    "fig.update_traces(textinfo = \"percent+label\")\n",
    "fig.show()"
   ]
  },
  {
   "cell_type": "code",
   "execution_count": null,
   "id": "fd267504-a171-4d6b-b4cc-466944d6f3f9",
   "metadata": {},
   "outputs": [],
   "source": [
    "pl.Config(set_tbl_cols = 10, set_tbl_rows = 25)\n",
    "(df_spotify.select(pl.col([pl.String, pl.List(pl.String)])). describe()\n",
    "\t.transpose(include_header = True, header_name = 'columns', \n",
    "\t\tcolumn_names = ['count', 'null_count', 'mean', 'std', 'min', '25%', '50%', '75%', 'max'])[1:])"
   ]
  },
  {
   "cell_type": "code",
   "execution_count": null,
   "id": "e18ef6ed-b14e-4547-b772-26ee7cc10271",
   "metadata": {},
   "outputs": [],
   "source": [
    "df_spotify.select(pl.col([pl.String]).unique().len())"
   ]
  },
  {
   "cell_type": "code",
   "execution_count": null,
   "id": "ad2248b8-f908-471b-8834-b8a91025e464",
   "metadata": {},
   "outputs": [],
   "source": [
    "fig = px.bar((df_spotify.group_by('country').agg(pl.len().alias('count'))\n",
    "    .with_columns(pl.when(pl.col('country') == \"KR\").then(pl.lit(\"KR\"))\n",
    "    \t.when(pl.col('country') == \"WW\").then(pl.lit(\"Global\")).otherwise(pl.lit(\"Others\")).alias('국가'))),\n",
    "\tx = 'country', y = 'count', color = '국가')\n",
    "fig.update_xaxes(categoryorder = \"total descending\")\n",
    "fig.show()"
   ]
  },
  {
   "cell_type": "code",
   "execution_count": null,
   "id": "6853be72-ef8d-4b17-9af0-e680fc8b36af",
   "metadata": {},
   "outputs": [],
   "source": [
    "df_spotify.group_by('country').len().sort('len', descending = True)"
   ]
  },
  {
   "cell_type": "code",
   "execution_count": null,
   "id": "30fa3466-3bc9-4edd-83c5-79dcf774a250",
   "metadata": {},
   "outputs": [],
   "source": [
    "fig = px.bar(df_spotify.group_by('continent').agg(pl.col('country').unique().len()), \n",
    "\tx = 'continent', y = 'country', text = 'country')\n",
    "fig.update_xaxes(categoryorder = \"total descending\")\n",
    "fig.show()"
   ]
  },
  {
   "cell_type": "code",
   "execution_count": null,
   "id": "244620cb-46c2-4db7-a41a-527ec10cc326",
   "metadata": {},
   "outputs": [],
   "source": [
    "(df_spotify.group_by('continent').agg(pl.col('country').unique().len()).sort('country', descending = True))"
   ]
  },
  {
   "cell_type": "code",
   "execution_count": null,
   "id": "0e9c3859-ba4f-4d67-b1ed-3f6ea579367b",
   "metadata": {},
   "outputs": [],
   "source": [
    "fig = px.histogram(df_spotify, x = 'snapshot_date')\n",
    "fig.show()"
   ]
  },
  {
   "cell_type": "code",
   "execution_count": null,
   "id": "400ff18f-fe8f-486d-8ba4-8053c3f454f7",
   "metadata": {},
   "outputs": [],
   "source": [
    "fig = px.box(df_spotify, x = 'continent', y = 'popularity')\n",
    "fig.show()"
   ]
  },
  {
   "cell_type": "code",
   "execution_count": null,
   "id": "284a236f-f7e7-4490-9dc0-ea4ced9b32bb",
   "metadata": {},
   "outputs": [],
   "source": [
    "fig = px.box((df_spotify. filter(pl.col('country').is_in([\"WW\", \"KR\", \"US\", \"BR\", \"GB\", \"AU\", \"NG\"]))), \n",
    "\tx = 'country', y = 'popularity')\n",
    "fig.show()"
   ]
  },
  {
   "cell_type": "code",
   "execution_count": null,
   "id": "e76ca8af-d40b-4ae3-be9e-34a841c986ff",
   "metadata": {},
   "outputs": [],
   "source": [
    "(df_spotify.filter(pl.col('country').is_in([\"KR\", \"GB\", \"WW\", \"US\"]))\n",
    "\t.group_by('country', 'name').agg(pl.all().sort_by('snapshot_date').first())\n",
    "\t.select(pl.col('country', 'name'), (pl.col('snapshot_date')-pl.col('album_release_date')).alias('duration'))\n",
    "\t.group_by('country').agg(pl.col('duration').mean().dt.total_days().alias('duration_mean'),\n",
    "\t\tpl.col('duration').median().dt.total_days().alias('duration_median'))\n",
    "\t.sort('duration_mean', descending = True))"
   ]
  },
  {
   "cell_type": "code",
   "execution_count": null,
   "id": "33ac5432-6a9d-4d40-9b62-d4706320d7de",
   "metadata": {},
   "outputs": [],
   "source": [
    "fig = px.box((df_spotify.filter(pl.col('country').is_in([\"KR\", \"GB\", \"WW\", \"US\"]))\n",
    "\t.group_by('country', 'name').agg(pl.all().sort_by('snapshot_date').first())\n",
    "\t.select(pl.col('country', 'name'), \t\n",
    "\t\t(pl.col('snapshot_date')-pl.col('album_release_date')).dt.total_days().alias('duration'))),\n",
    "\tx = 'country', y = 'duration')\n",
    "fig.show()"
   ]
  },
  {
   "cell_type": "code",
   "execution_count": null,
   "id": "e968f2a3-0b0a-44b8-9c81-2b68ea298cfd",
   "metadata": {},
   "outputs": [],
   "source": [
    "fig = px.box(df_spotify.filter(pl.col('country').is_in([\"WW\", \"KR\", \"US\", \"BR\", \"GB\", \"AU\", \"NG\"])), \n",
    "\tx = 'country', y = 'popularity', color = 'is_explicit')\n",
    "fig.show()"
   ]
  },
  {
   "cell_type": "code",
   "execution_count": null,
   "id": "4172418b-5349-414e-b491-fa4323a45dab",
   "metadata": {},
   "outputs": [],
   "source": [
    "(df_spotify.filter(pl.col('country').is_in([\"WW\", \"KR\", \"US\", \"BR\", \"GB\", \"AU\", \"NG\"]))\n",
    "\t.group_by('country').agg(((pl.col('is_explicit')\n",
    "\t.filter(pl.col('is_explicit') == True).len()) / (pl.col('is_explicit').len())*100).round(2).alias('Explicit_True(%)'),\n",
    "\t\t((pl.col('is_explicit').filter(pl.col('is_explicit') == False).len()) / (pl.col('is_explicit').len())*100).round(2).alias('Explicit_False(%)'))\n",
    "\t.sort('Explicit_True(%)', descending = True))"
   ]
  },
  {
   "cell_type": "markdown",
   "id": "a815996b-7683-4395-8135-e9de08bce29d",
   "metadata": {},
   "source": [
    "## 10.2\t수치형 변수 간 상관관계와 회귀 분석하기"
   ]
  },
  {
   "cell_type": "code",
   "execution_count": null,
   "id": "27a53f8e-78ae-4b2a-854e-bd14d01b61df",
   "metadata": {},
   "outputs": [],
   "source": [
    "df_spotify.select(pl.col(pl.Int64), pl.col(pl.Float64)).corr()"
   ]
  },
  {
   "cell_type": "code",
   "execution_count": null,
   "id": "d7f770f0-adef-49a8-a095-e2a9f109b2fc",
   "metadata": {},
   "outputs": [],
   "source": [
    "fig = px.imshow((df_spotify.select(pl.col(pl.Int64), pl.col(pl.Float64)).corr().with_columns(pl.all().round(1))),\n",
    "\ty = df_spotify.select(pl.col(pl.Int64), pl.col(pl.Float64)).columns,\n",
    "\ttext_auto = True, aspect = \"auto\", color_continuous_scale = \"RdBu_r\")\n",
    "fig.show()"
   ]
  },
  {
   "cell_type": "code",
   "execution_count": null,
   "id": "bc1dfd9b-a3a7-4bf1-8ae3-87f1260e013e",
   "metadata": {},
   "outputs": [],
   "source": [
    "(df_spotify.select(pl.col(pl.Int64), pl.col(pl.Float64)).corr()\n",
    "\t.with_columns(index = pl.lit(pl.Series(df_spotify.select(pl.col(pl.Int64), pl.col(pl.Float64)).columns)))\n",
    "\t.unpivot(index = 'index')\n",
    "\t.filter(pl.col('index') != pl.col('variable'))\n",
    "\t.filter((pl.col('value') > 0.5) | (pl.col('value') < -0.5))\n",
    "\t.sort('value', descending = True))"
   ]
  },
  {
   "cell_type": "code",
   "execution_count": null,
   "id": "9d7bb2ed-677b-4299-bce6-099233ec402d",
   "metadata": {},
   "outputs": [],
   "source": [
    "fig = px.scatter(df_spotify.sample(fraction = 0.1, seed = 123),\n",
    "\tx = 'loudness', y = 'energy', trendline = 'ols', trendline_color_override = \"red\", opacity = 0.1, \n",
    "\trange_y = [0, 1])\n",
    "fig.show()"
   ]
  },
  {
   "cell_type": "code",
   "execution_count": null,
   "id": "fae0ecdc-977c-4e66-901e-53ecd6ab8f26",
   "metadata": {},
   "outputs": [],
   "source": [
    "result = px.get_trendline_results(fig)\n",
    "result.px_fit_results.iloc[0].summary()"
   ]
  },
  {
   "cell_type": "code",
   "execution_count": null,
   "id": "6eba52a6-b81f-4608-98a3-f66892fc896f",
   "metadata": {},
   "outputs": [],
   "source": [
    "fig = px.scatter(df_spotify.sample(fraction = 0.1, seed = 123), \n",
    "\tx = 'acousticness', y = 'energy', trendline_color_override = \"red\", trendline = \"ols\", opacity = 0.1)\n",
    "fig.show()"
   ]
  },
  {
   "cell_type": "code",
   "execution_count": null,
   "id": "edade3cd-53dc-4053-a03b-19e229632d1c",
   "metadata": {},
   "outputs": [],
   "source": [
    "result = px.get_trendline_results(fig)\n",
    "result.px_fit_results.iloc[0].summary()"
   ]
  },
  {
   "cell_type": "markdown",
   "id": "a2802da1-4df0-4e7c-9434-2d1ff4d1db11",
   "metadata": {},
   "source": [
    "## 10.3\t스포티파이 데이터로 글로벌 인기도 파악하기"
   ]
  },
  {
   "cell_type": "code",
   "execution_count": null,
   "id": "6d2cc3b5-0f69-4953-8f7a-1041afb664cf",
   "metadata": {},
   "outputs": [],
   "source": [
    "expr_1 = pl.col('name').unique().len().over('main_vocal')\n",
    "\n",
    "df_spotify_EDA1 = (\n",
    "pl.concat([\n",
    "    ## 글로벌 메인보컬 Top 10 산출\n",
    "    (df_spotify.filter(pl.col('country') == 'WW').select(pl.col('main_vocal').alias('Global_Main_Vocal'),\n",
    "\texpr_1.alias('Global_Songs')).unique().sort('Global_Songs', descending = True).head(10)),\n",
    "    ## 우리나라 메인보컬 Top 10 산출\n",
    "    (df_spotify.filter(pl.col('country') == 'KR').select(pl.col('main_vocal').alias('KR_Main_Vocal'), \n",
    "\t\texpr_1.alias('KR_Songs')).unique().sort('KR_Songs', descending = True).head(10)),\n",
    "    ## 미국 메인보컬 Top 10 산출\n",
    "    (df_spotify.filter(pl.col('country') == 'US').select(pl.col('main_vocal').alias('US_Main_Vocal'),\n",
    "\t\texpr_1.alias('US_Songs')).unique().sort('US_Songs', descending = True).head(10)),\n",
    "    ## 영국 메인보컬 Top 10 산출\n",
    "    (df_spotify.filter(pl.col('country') == 'GB').select(pl.col('main_vocal').alias('GB_Main_Vocal'),\n",
    "\t\texpr_1.alias('GB_Songs')).unique().sort('GB_Songs', descending = True).head(10))], \n",
    "\thow = 'horizontal')\n",
    "\t.with_columns(pl.int_range(1, 11).alias('rank'))\n",
    "\t.select(pl.col('rank'), pl.all().exclude('rank')))\n",
    "df_spotify_EDA1"
   ]
  },
  {
   "cell_type": "code",
   "execution_count": null,
   "id": "1f12c147-9f40-47e9-a4c9-e295f2809c7a",
   "metadata": {},
   "outputs": [],
   "source": [
    "fig = px.bar(\n",
    "    (df_spotify.filter(pl.col('country').is_in([\"WW\", \"KR\", \"US\", \"GB\"]))  ## 대상 국가 필터링\n",
    "\t\t.group_by('country', 'main_vocal')  ## 국가와 메인보컬로 그룹화\n",
    "\t\t.agg(pl.col('name').unique().len())  ## 노래 이름의 고윳값에 대한 개수 산출\n",
    "\t\t.sort(['country', 'name'], descending = True)  ## 결과를 국가와 노래 이름으로 정렬\n",
    "\t\t.group_by('country', maintain_order = True)  ## 결과를 국가명으로 다시 그룹화\n",
    "\t\t.head(10)),  ## 상위 10개만 선택\n",
    "    x = 'main_vocal', y = 'name', text = 'name',  ## X축은 main_vocal, Y축과 막대 텍스트는 name으로 설정\n",
    "    facet_row = 'country', facet_row_spacing = 0.07,  ## facet 설정\n",
    "    labels = {\"main_vocal\": \"메인보컬\", \"name\": \"노래수\"})  ## 축 라벨 설정\n",
    "fig.update_xaxes(matches = None, showticklabels = True)  ## X축 간의 매칭과 틱라벨을 제거 \n",
    "fig.show()"
   ]
  },
  {
   "cell_type": "code",
   "execution_count": null,
   "id": "54abc83c-479f-47c9-9dd1-cbb85586bfc1",
   "metadata": {},
   "outputs": [],
   "source": [
    "(df_spotify.filter(pl.col('country') == \"WW\",  ## 글로벌만 필터링\n",
    "\t\tpl.col('main_vocal') == \"Taylor Swift\")  ## 테일러 스위프트만 필터링\n",
    "\t.group_by(['main_vocal', 'name'])  ## 메인보컬과 노래명으로 그룹화\n",
    "\t.len('chart in days')  ## 전체 개수 산출\n",
    "\t.sort('chart in days', descending = True).head(10))"
   ]
  },
  {
   "cell_type": "code",
   "execution_count": null,
   "id": "4573a620-de8a-462d-9981-29abd644caa2",
   "metadata": {},
   "outputs": [],
   "source": [
    "(df_spotify.filter(pl.col('country') == \"KR\", pl.col('main_vocal') == \"Jimin\")\n",
    "\t.group_by(['main_vocal', 'name']).len('chart in days').sort('chart in days', descending = True).head(10))"
   ]
  },
  {
   "cell_type": "code",
   "execution_count": null,
   "id": "682b2e58-98d0-4a73-891f-d4c2ee5928d6",
   "metadata": {},
   "outputs": [],
   "source": [
    "df_spotify_EDA2 = ( \n",
    "pl.concat([\n",
    "\t(df_spotify.filter(pl.col('country') == \"WW\")  ## 글로벌 차트만 필터링\n",
    "\t\t.select(pl.col('name').alias('Global_Song'),  ## 노래명 열 선택\n",
    "\t\t\tpl.col('main_vocal').alias('Global_Vocal'),  ## 메인보컬 열 선택\n",
    " \t\t\tpl.col('name').len().over('name').alias('Global_Day'))  ## 노래명별 노래 수 산출\n",
    " \n",
    "                                ## 고유 행만 산출하여 정렬 후 상위 10곡만 ㄹ출력\n",
    "\t\t.unique().sort('Global_Day', descending = True).head(10)),  \n",
    "\t(df_spotify.filter(pl.col('country') == \"KR\")  ## 한국 차트만 필터링\n",
    "\t\t.select(pl.col('name').alias('KR_Song'),\n",
    "\t\t\tpl.col('main_vocal').alias('KR_Vocal'),\n",
    "\t\t\tpl.col('name').len().over('name').alias('KR_Day'))\n",
    "\t\t.unique().sort('KR_Day', descending = True).head(10)),\n",
    "\t(df_spotify.filter(pl.col('country') == \"US\")  ## 미국 차트만 필터링\n",
    "\t\t.select(pl.col('name').alias('US_Song'),\n",
    "\t\t\tpl.col('main_vocal').alias('US_Vocal'),\n",
    "\t\t\tpl.col('name').len().over('name').alias('US_Day'))\n",
    "\t\t.unique().sort('US_Day', descending = True).head(10)),\n",
    "\t(df_spotify.filter(pl.col('country') == \"GB\")\n",
    "\t\t.select(pl.col('name').alias('GB_Song'),  ## 영국 차트만 핕터링\n",
    "\t\t\tpl.col('main_vocal').alias('GB_Vocal'),\n",
    "\t\t\tpl.col('name').len().over('name').alias('GB_Day'))\n",
    "\t\t.unique().sort('GB_Day', descending = True).head(10))],\n",
    "\thow = 'horizontal')\n",
    "   .with_columns(pl.int_range(1, 11).alias('rank'))  ## 순위 열 생성\n",
    "   .select(pl.col('rank'), pl.all().exclude('rank'))  ## 순위 열을 앞으로 재배치\n",
    ")\n",
    "\n",
    "df_spotify_EDA2"
   ]
  },
  {
   "cell_type": "code",
   "execution_count": null,
   "id": "6bacba69-42f9-4d25-bb0f-4aac81894955",
   "metadata": {},
   "outputs": [],
   "source": [
    "(df_spotify_EDA2.style\n",
    "\t.tab_header(title = \"2024년 노래 Top 10\")  ## 표 제목 설정\n",
    "\t.tab_stub(rowname_col = 'rank')  ## 스텁 설정\n",
    "    ## 스패너 설정\n",
    "\t.tab_spanner(\"글로벌\", ['Global_Song', 'Global_Vocal', 'Global_Day'])\n",
    "\t.tab_spanner(\"한국\", ['KR_Song', 'KR_Vocal', 'KR_Day'])\n",
    "\t.tab_spanner(\"미국\", ['US_Song', 'US_Vocal', 'US_Day'])\n",
    "\t.tab_spanner(\"영국\", ['GB_Song', 'GB_Vocal', 'GB_Day'])\n",
    "    ## 열 정렬 설정\n",
    "\t.cols_align(align = \"center\")\n",
    "    ## 열 라벨 설정\n",
    "\t.cols_label(Global_Song = \"노래\", Global_Vocal = \"메인보컬\", Global_Day = \"차트일수\", \n",
    "\t\tKR_Song = \"노래\", KR_Vocal = \"메인보컬\", KR_Day = \"차트일수\", \n",
    "\t\tUS_Song = \"노래\", US_Vocal = \"메인보컬\", US_Day = \"차트일수\", \n",
    "\t\tGB_Song = \"노래\", GB_Vocal = \"메인보컬\", GB_Day = \"차트일수\"))"
   ]
  },
  {
   "cell_type": "code",
   "execution_count": null,
   "id": "3587ed94-31b2-4a32-8505-599eb639507b",
   "metadata": {},
   "outputs": [],
   "source": [
    "## 국가별, 메인보컬별, 노래별 차트일 수 붙이기\n",
    "(pl.concat([\n",
    "\t(df_spotify.filter(pl.col('country') == \"WW\", pl.col('daily_rank') == 1)\n",
    "\t\t.group_by('name')\n",
    "\t\t.agg(pl.col('main_vocal').first().alias('Global_Main_Vocal'), pl.len().alias('Global_Chart_Days'))\n",
    "\t\t.rename({\"name\": \"Global_Song\"}).sort('Global_Chart_Days', descending = True).head(10)),\n",
    "    (df_spotify.filter(pl.col('country') == \"KR\", pl.col('daily_rank') == 1)\n",
    "\t\t.group_by('name')\n",
    "\t\t.agg(pl.col('main_vocal').first().alias('KR_Main_Vocal'), pl.len().alias('KR_Chart_Days'))\n",
    "\t\t.rename({\"name\": \"KR_Song\"}).sort('KR_Chart_Days', descending = True).head(10)),\n",
    "    (df_spotify.filter(pl.col('country') == \"US\", pl.col('daily_rank') == 1)\n",
    "\t\t.group_by('name')\n",
    "\t\t.agg(pl.col('main_vocal').first().alias('US_Main_Vocal'), pl.len().alias('US_Chart_Days'))\n",
    "\t\t.rename({\"name\": \"US_Song\"}).sort('US_Chart_Days', descending = True).head(10)),\n",
    "    (df_spotify.filter(pl.col('country') == \"GB\", pl.col('daily_rank') == 1)\n",
    "\t\t.group_by('name')\n",
    "\t\t.agg(pl.col('main_vocal').first().alias('GB_Main_Vocal'), pl.len().alias('GB_Chart_Days'))\n",
    "\t\t.rename({\"name\": \"GB_Song\"}).sort('GB_Chart_Days', descending = True).head(10))],\n",
    "    how = 'horizontal')\n",
    "  \t.with_columns(pl.int_range(1, 11).alias('rank'))  ## 순위 열 만들기\n",
    "\t.select(pl.col('rank'), pl.all().exclude('rank')).style   ## 순위 열 순서 설정\n",
    "\t.tab_header(title = \"2024년 차트 1위 노래 Top 10\")   ## 표 제목 설정\n",
    "\t.tab_stub(rowname_col = 'rank')\n",
    " \t## 스패너 설정\n",
    ".tab_spanner(\"글로벌\", ['Global_Song', 'Global_Main_Vocal', 'Global_Chart_Days'])\n",
    "\t.tab_spanner(\"한국\", ['KR_Song', 'KR_Main_Vocal', 'KR_Chart_Days'])\n",
    "\t.tab_spanner(\"미국\", ['US_Song', 'US_Main_Vocal', 'US_Chart_Days'])\n",
    "\t.tab_spanner(\"영국\", ['GB_Song', 'GB_Main_Vocal', 'GB_Chart_Days'])\n",
    " \t.cols_align(align = \"center\")  ## 열 제목 정렬\n",
    "## 열 라벨 설정\n",
    "\t.cols_label(Global_Song = \"노래\", Global_Main_Vocal = \"메인보컬\", Global_Chart_Days = \"차트일수\", \n",
    "\t\tKR_Song = \"노래\", KR_Main_Vocal = \"메인보컬\", KR_Chart_Days = \"차트일수\", \n",
    "\t\tUS_Song = \"노래\", US_Main_Vocal = \"메인보컬\", US_Chart_Days = \"차트일수\", \n",
    "\t\tGB_Song = \"노래\", GB_Main_Vocal = \"메인보컬\", GB_Chart_Days = \"차트일수\"))"
   ]
  },
  {
   "cell_type": "code",
   "execution_count": null,
   "id": "e0b8efa2-5c5e-4c00-80c2-3afa3b13b91a",
   "metadata": {},
   "outputs": [],
   "source": [
    "(df_spotify.filter(pl.col('country').is_in([\"WW\", \"KR\", \"US\", \"GB\"]),  ## 국가 필터링\n",
    "\t\tpl.col('daily_rank') == 1)  ## 1위만 필터링\n",
    "\t.select(pl.col('country'), pl.col('name').unique().len().over('country'))  ## 국가별 1위곡 수 산출 \n",
    "\t.unique().sort('name', descending = True))"
   ]
  },
  {
   "cell_type": "code",
   "execution_count": null,
   "id": "a68cccad-bd36-467c-ada7-80a0da97bcc0",
   "metadata": {},
   "outputs": [],
   "source": [
    "fig = px.line((df_spotify.\n",
    "     ## 우리나라 1위곡들만 필터링\n",
    "\tfilter(pl.col('name').is_in([\"Like Crazy\", \"Who\", \"Magnetic\", \"How Sweet\", \"Supernova\", \"Supernatural\"]),\n",
    "\t\tpl.col('country') == 'KR')),\n",
    "\tx = 'snapshot_date', y = 'daily_rank', color = 'name', line_dash = 'name',\n",
    "\tlabels = {\"snapshot_date\": \"날짜\", \"daily_rank\": \"순위\", \"name\": \"노래\"})\n",
    "fig.update_yaxes(autorange = \"reversed\")\n",
    "fig.show()"
   ]
  },
  {
   "cell_type": "code",
   "execution_count": null,
   "id": "a2596de9-17df-45fc-ba58-e184bf647f03",
   "metadata": {},
   "outputs": [],
   "source": [
    "(df_spotify.filter(pl.col('name') == \"APT.\", pl.col('daily_rank') == 1)\n",
    "\t.select(pl.col('continent'), pl.col('country').unique().len().over('continent').alias('NO.1'))\n",
    "\t.unique().sort('NO.1', descending = True))"
   ]
  },
  {
   "cell_type": "code",
   "execution_count": null,
   "id": "e84f6c3b-6f29-4468-bc9b-76da468b2178",
   "metadata": {},
   "outputs": [],
   "source": [
    "(df_spotify.filter(pl.col('name') == \"APT.\", pl.col('daily_rank') == 1,\n",
    "\t\tpl.col('continent') == \"Global\").select(pl.col('snapshot_date')))"
   ]
  },
  {
   "cell_type": "code",
   "execution_count": null,
   "id": "9665b44c-df98-4808-9577-b28f846e979f",
   "metadata": {},
   "outputs": [],
   "source": [
    "(df_spotify.filter(pl.col('country') == \"KR\", pl.col('name') == \"APT.\").select(pl.col('daily_rank').min()))"
   ]
  },
  {
   "cell_type": "code",
   "execution_count": null,
   "id": "8b698afd-aa5f-4bc0-a903-1d8d3d27a1f7",
   "metadata": {},
   "outputs": [],
   "source": [
    "fig = px.line((df_spotify.filter(pl.col('country').is_in([\"WW\", \"KR\", \"US\", \"GB\"]), pl.col('name') == \"APT.\")), \n",
    "\t\tx = 'snapshot_date', y = 'daily_rank', color = 'country', line_dash = 'country')\n",
    "fig.update_yaxes(autorange = \"reversed\")\n",
    "fig.show()"
   ]
  },
  {
   "cell_type": "code",
   "execution_count": null,
   "id": "db85e6c8-6096-464e-b71b-591ab88a760d",
   "metadata": {},
   "outputs": [],
   "source": [
    "df_spotify_EDA4 = (\n",
    "    df_spotify.filter(pl.col('name') == \"APT.\").select(pl.col('country'), pl.col('continent'),\n",
    "\t\tpl.col('country').map_elements(\n",
    "\t\t\tlambda x: pc.country_name_to_country_alpha3(pc.country_alpha2_to_country_name(x))\n",
    "\t\t\t\tif x != \"WW\" else \"WW\", return_dtype = pl.String).alias('nation'),\n",
    "\t\t\t\t\t(pl.col('country').map_elements(\n",
    "\t\t\t\t\t\tlambda x: pc.country_alpha2_to_country_name(x) if x != \"WW\" else \"WW\", \n",
    "\t\t\t\t\t\t\treturn_dtype = pl.String).alias('nation_name')),\n",
    "\t\tpl.col('popularity'), pl.col('daily_rank'), pl.col('name').len().over('country').alias('chart_days'))\n",
    "\t\t\t.group_by('nation').agg(pl.col('country').first(),\n",
    "\t\tpl.col('nation_name').first(), pl.col('continent').first(),\n",
    "\t\tpl.col('popularity').mean(), pl.col('daily_rank').mean(),\n",
    "\t\tpl.col('chart_days').first()))\n",
    "df_spotify_EDA4.sort('daily_rank')"
   ]
  },
  {
   "cell_type": "code",
   "execution_count": null,
   "id": "77c65343-cb10-44e4-932d-beadb7152bbc",
   "metadata": {},
   "outputs": [],
   "source": [
    "(df_spotify.select(pl.col('country').unique()).join(df_spotify_EDA4, on = 'country', how = \"anti\"))"
   ]
  },
  {
   "cell_type": "code",
   "execution_count": null,
   "id": "27690b97-1f78-4bd7-8f4e-1c176b31b571",
   "metadata": {},
   "outputs": [],
   "source": [
    "fig = px.choropleth(df_spotify_EDA4, locations = 'nation', color = 'popularity', scope = \"world\",\n",
    "\thover_name = 'nation_name', color_continuous_scale = \"greens\", width = 800, height = 600,\n",
    "\ttitle = \"로제의 APT. 인기도\")\n",
    "fig.show()"
   ]
  },
  {
   "cell_type": "code",
   "execution_count": null,
   "id": "4b9425f9-0355-4703-bf62-d7dd9cbffd46",
   "metadata": {},
   "outputs": [],
   "source": [
    "fig = px.choropleth(df_spotify_EDA4, locations = 'nation', color = 'daily_rank', scope = \"world\", \n",
    "\thover_name = 'nation_name', color_continuous_scale = \"greens_r\", width = 800, height = 600,\n",
    "\ttitle = '로제의 아파트 평균 순위')\n",
    "fig.show()"
   ]
  }
 ],
 "metadata": {
  "kernelspec": {
   "display_name": "venv_polars_book_deploy",
   "language": "python",
   "name": "venv_polars_book_deploy"
  },
  "language_info": {
   "codemirror_mode": {
    "name": "ipython",
    "version": 3
   },
   "file_extension": ".py",
   "mimetype": "text/x-python",
   "name": "python",
   "nbconvert_exporter": "python",
   "pygments_lexer": "ipython3",
   "version": "3.12.7"
  }
 },
 "nbformat": 4,
 "nbformat_minor": 5
}
