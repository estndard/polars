{
 "cells": [
  {
   "cell_type": "markdown",
   "id": "6a17f357-6413-4883-84b3-c328fd2b3aee",
   "metadata": {},
   "source": [
    "# 2장 파이썬이란"
   ]
  },
  {
   "cell_type": "markdown",
   "id": "8e3dea4f-84fc-4c93-9e63-dbffd0017bdd",
   "metadata": {},
   "source": [
    "## 2.3\t파이썬 데이터 다루기: 팬더스의 기초"
   ]
  },
  {
   "cell_type": "code",
   "execution_count": 2,
   "id": "dd6d5a69-8fd3-4d15-94ce-619a67c77072",
   "metadata": {},
   "outputs": [],
   "source": [
    "import pandas as pd"
   ]
  },
  {
   "cell_type": "code",
   "execution_count": 3,
   "id": "9fc82474-467a-45d4-b28f-8c32b1735630",
   "metadata": {},
   "outputs": [
    {
     "name": "stdout",
     "output_type": "stream",
     "text": [
      "a    10\n",
      "b    20\n",
      "c    30\n",
      "d    40\n",
      "e    50\n",
      "dtype: int64\n"
     ]
    }
   ],
   "source": [
    "data = pd.Series([10, 20, 30, 40, 50], index=['a', 'b', 'c', 'd', 'e'])\n",
    "print(data)"
   ]
  },
  {
   "cell_type": "code",
   "execution_count": 4,
   "id": "8403b748-fb0a-4ecf-93d1-9a8db231df1f",
   "metadata": {},
   "outputs": [
    {
     "name": "stdout",
     "output_type": "stream",
     "text": [
      "30\n"
     ]
    }
   ],
   "source": [
    "print(data['c'])"
   ]
  },
  {
   "cell_type": "code",
   "execution_count": 5,
   "id": "5b0d5850-36f6-4de6-a4dd-4a2d1cbcee6e",
   "metadata": {},
   "outputs": [
    {
     "data": {
      "text/html": [
       "<div>\n",
       "<style scoped>\n",
       "    .dataframe tbody tr th:only-of-type {\n",
       "        vertical-align: middle;\n",
       "    }\n",
       "\n",
       "    .dataframe tbody tr th {\n",
       "        vertical-align: top;\n",
       "    }\n",
       "\n",
       "    .dataframe thead th {\n",
       "        text-align: right;\n",
       "    }\n",
       "</style>\n",
       "<table border=\"1\" class=\"dataframe\">\n",
       "  <thead>\n",
       "    <tr style=\"text-align: right;\">\n",
       "      <th></th>\n",
       "      <th>Name</th>\n",
       "      <th>Age</th>\n",
       "      <th>City</th>\n",
       "      <th>Sex</th>\n",
       "      <th>Continent</th>\n",
       "    </tr>\n",
       "  </thead>\n",
       "  <tbody>\n",
       "    <tr>\n",
       "      <th>0</th>\n",
       "      <td>Kim</td>\n",
       "      <td>28</td>\n",
       "      <td>Seoul</td>\n",
       "      <td>Man</td>\n",
       "      <td>Asia</td>\n",
       "    </tr>\n",
       "    <tr>\n",
       "      <th>1</th>\n",
       "      <td>Sophie</td>\n",
       "      <td>24</td>\n",
       "      <td>Paris</td>\n",
       "      <td>Woman</td>\n",
       "      <td>Europe</td>\n",
       "    </tr>\n",
       "    <tr>\n",
       "      <th>2</th>\n",
       "      <td>Sara</td>\n",
       "      <td>35</td>\n",
       "      <td>Berlin</td>\n",
       "      <td>Woman</td>\n",
       "      <td>Europe</td>\n",
       "    </tr>\n",
       "    <tr>\n",
       "      <th>3</th>\n",
       "      <td>Cyrus</td>\n",
       "      <td>32</td>\n",
       "      <td>London</td>\n",
       "      <td>Man</td>\n",
       "      <td>Europe</td>\n",
       "    </tr>\n",
       "    <tr>\n",
       "      <th>4</th>\n",
       "      <td>Lee</td>\n",
       "      <td>48</td>\n",
       "      <td>Busan</td>\n",
       "      <td>Man</td>\n",
       "      <td>Asia</td>\n",
       "    </tr>\n",
       "    <tr>\n",
       "      <th>5</th>\n",
       "      <td>James</td>\n",
       "      <td>27</td>\n",
       "      <td>NewYork</td>\n",
       "      <td>Man</td>\n",
       "      <td>America</td>\n",
       "    </tr>\n",
       "    <tr>\n",
       "      <th>6</th>\n",
       "      <td>Daniel</td>\n",
       "      <td>34</td>\n",
       "      <td>Seattle</td>\n",
       "      <td>Man</td>\n",
       "      <td>America</td>\n",
       "    </tr>\n",
       "  </tbody>\n",
       "</table>\n",
       "</div>"
      ],
      "text/plain": [
       "     Name  Age     City    Sex Continent\n",
       "0     Kim   28    Seoul    Man      Asia\n",
       "1  Sophie   24    Paris  Woman    Europe\n",
       "2    Sara   35   Berlin  Woman    Europe\n",
       "3   Cyrus   32   London    Man    Europe\n",
       "4     Lee   48    Busan    Man      Asia\n",
       "5   James   27  NewYork    Man   America\n",
       "6  Daniel   34  Seattle    Man   America"
      ]
     },
     "execution_count": 5,
     "metadata": {},
     "output_type": "execute_result"
    }
   ],
   "source": [
    "df = pd.DataFrame({\n",
    "    'Name' : [\"Kim\", \"Sophie\", \"Sara\", \"Cyrus\", \"Lee\", \"James\", \"Daniel\"],\n",
    "    'Age' : [28, 24, 35, 32, 48, 27, 34],\n",
    "    'City' : [\"Seoul\", \"Paris\", \"Berlin\", \"London\", \"Busan\", \"NewYork\", \"Seattle\"], \n",
    "    'Sex' : [\"Man\", \"Woman\", \"Woman\", \"Man\", \"Man\", \"Man\", \"Man\"],\n",
    "    'Continent' : [\"Asia\", \"Europe\", \"Europe\", \"Europe\", \"Asia\", \"America\", \"America\"]}) \n",
    "df"
   ]
  },
  {
   "cell_type": "code",
   "execution_count": 6,
   "id": "68e29424-a0de-4ee8-89a5-a15c5f23e1b6",
   "metadata": {},
   "outputs": [
    {
     "data": {
      "text/html": [
       "<div>\n",
       "<style scoped>\n",
       "    .dataframe tbody tr th:only-of-type {\n",
       "        vertical-align: middle;\n",
       "    }\n",
       "\n",
       "    .dataframe tbody tr th {\n",
       "        vertical-align: top;\n",
       "    }\n",
       "\n",
       "    .dataframe thead th {\n",
       "        text-align: right;\n",
       "    }\n",
       "</style>\n",
       "<table border=\"1\" class=\"dataframe\">\n",
       "  <thead>\n",
       "    <tr style=\"text-align: right;\">\n",
       "      <th></th>\n",
       "      <th>Name</th>\n",
       "      <th>Age</th>\n",
       "      <th>City</th>\n",
       "      <th>Sex</th>\n",
       "      <th>Continent</th>\n",
       "    </tr>\n",
       "  </thead>\n",
       "  <tbody>\n",
       "    <tr>\n",
       "      <th>0</th>\n",
       "      <td>Kim</td>\n",
       "      <td>28</td>\n",
       "      <td>Seoul</td>\n",
       "      <td>Man</td>\n",
       "      <td>Asia</td>\n",
       "    </tr>\n",
       "    <tr>\n",
       "      <th>1</th>\n",
       "      <td>Sophie</td>\n",
       "      <td>24</td>\n",
       "      <td>Paris</td>\n",
       "      <td>Woman</td>\n",
       "      <td>Europe</td>\n",
       "    </tr>\n",
       "  </tbody>\n",
       "</table>\n",
       "</div>"
      ],
      "text/plain": [
       "     Name  Age   City    Sex Continent\n",
       "0     Kim   28  Seoul    Man      Asia\n",
       "1  Sophie   24  Paris  Woman    Europe"
      ]
     },
     "execution_count": 6,
     "metadata": {},
     "output_type": "execute_result"
    }
   ],
   "source": [
    "df.head(2)"
   ]
  },
  {
   "cell_type": "code",
   "execution_count": 7,
   "id": "faac9488-f2c2-4b44-83d2-fadcab0215fe",
   "metadata": {},
   "outputs": [
    {
     "data": {
      "text/plain": [
       "0      Seoul\n",
       "1      Paris\n",
       "2     Berlin\n",
       "3     London\n",
       "4      Busan\n",
       "5    NewYork\n",
       "6    Seattle\n",
       "Name: City, dtype: object"
      ]
     },
     "execution_count": 7,
     "metadata": {},
     "output_type": "execute_result"
    }
   ],
   "source": [
    "df['City']"
   ]
  },
  {
   "cell_type": "code",
   "execution_count": 8,
   "id": "759d71f2-9183-4d3e-ac52-2465a206ffb9",
   "metadata": {},
   "outputs": [
    {
     "data": {
      "text/plain": [
       "Name          Cyrus\n",
       "Age              32\n",
       "City         London\n",
       "Sex             Man\n",
       "Continent    Europe\n",
       "Name: 3, dtype: object"
      ]
     },
     "execution_count": 8,
     "metadata": {},
     "output_type": "execute_result"
    }
   ],
   "source": [
    "df.loc[3]  ## 행 인덱스 번호를 사용한 행 추출"
   ]
  },
  {
   "cell_type": "code",
   "execution_count": 9,
   "id": "ee5f1ad1-2267-460d-a54e-8e93e326c58a",
   "metadata": {},
   "outputs": [
    {
     "data": {
      "text/plain": [
       "'Berlin'"
      ]
     },
     "execution_count": 9,
     "metadata": {},
     "output_type": "execute_result"
    }
   ],
   "source": [
    "df.loc[2, 'City']  ## 행 인덱스 번호와 열 이름을 사용한 데이터 추출"
   ]
  },
  {
   "cell_type": "code",
   "execution_count": 10,
   "id": "20033942-4bcb-4b01-80c3-642f7bccd493",
   "metadata": {},
   "outputs": [
    {
     "data": {
      "text/html": [
       "<div>\n",
       "<style scoped>\n",
       "    .dataframe tbody tr th:only-of-type {\n",
       "        vertical-align: middle;\n",
       "    }\n",
       "\n",
       "    .dataframe tbody tr th {\n",
       "        vertical-align: top;\n",
       "    }\n",
       "\n",
       "    .dataframe thead th {\n",
       "        text-align: right;\n",
       "    }\n",
       "</style>\n",
       "<table border=\"1\" class=\"dataframe\">\n",
       "  <thead>\n",
       "    <tr style=\"text-align: right;\">\n",
       "      <th></th>\n",
       "      <th>Age</th>\n",
       "      <th>City</th>\n",
       "    </tr>\n",
       "  </thead>\n",
       "  <tbody>\n",
       "    <tr>\n",
       "      <th>0</th>\n",
       "      <td>28</td>\n",
       "      <td>Seoul</td>\n",
       "    </tr>\n",
       "    <tr>\n",
       "      <th>1</th>\n",
       "      <td>24</td>\n",
       "      <td>Paris</td>\n",
       "    </tr>\n",
       "    <tr>\n",
       "      <th>2</th>\n",
       "      <td>35</td>\n",
       "      <td>Berlin</td>\n",
       "    </tr>\n",
       "  </tbody>\n",
       "</table>\n",
       "</div>"
      ],
      "text/plain": [
       "   Age    City\n",
       "0   28   Seoul\n",
       "1   24   Paris\n",
       "2   35  Berlin"
      ]
     },
     "execution_count": 10,
     "metadata": {},
     "output_type": "execute_result"
    }
   ],
   "source": [
    "df.loc[0:2, 'Age':'City']  ## 행 인덱스 범위와 열 이름 범위를 사용한 데이터프레임 슬라이싱"
   ]
  },
  {
   "cell_type": "code",
   "execution_count": 11,
   "id": "ff4bee64-7669-4204-9e31-194a3ad14cc2",
   "metadata": {},
   "outputs": [
    {
     "data": {
      "text/plain": [
       "Name           Kim\n",
       "Age             28\n",
       "City         Seoul\n",
       "Sex            Man\n",
       "Continent     Asia\n",
       "Name: 0, dtype: object"
      ]
     },
     "execution_count": 11,
     "metadata": {},
     "output_type": "execute_result"
    }
   ],
   "source": [
    "df.iloc[0]  ## 정수형 인덱스로 특정 행 추출하기"
   ]
  },
  {
   "cell_type": "code",
   "execution_count": 12,
   "id": "35c1e307-69fc-4e23-9e5a-43abe38fd68e",
   "metadata": {},
   "outputs": [
    {
     "data": {
      "text/plain": [
       "np.int64(28)"
      ]
     },
     "execution_count": 12,
     "metadata": {},
     "output_type": "execute_result"
    }
   ],
   "source": [
    "df.iloc[0, 1]  ## 첫 번째 행과 두 번째 열의 데이터 추출"
   ]
  },
  {
   "cell_type": "code",
   "execution_count": 13,
   "id": "b502e4e1-37e5-4ada-bb8a-4633ca07d895",
   "metadata": {},
   "outputs": [
    {
     "data": {
      "text/html": [
       "<div>\n",
       "<style scoped>\n",
       "    .dataframe tbody tr th:only-of-type {\n",
       "        vertical-align: middle;\n",
       "    }\n",
       "\n",
       "    .dataframe tbody tr th {\n",
       "        vertical-align: top;\n",
       "    }\n",
       "\n",
       "    .dataframe thead th {\n",
       "        text-align: right;\n",
       "    }\n",
       "</style>\n",
       "<table border=\"1\" class=\"dataframe\">\n",
       "  <thead>\n",
       "    <tr style=\"text-align: right;\">\n",
       "      <th></th>\n",
       "      <th>Age</th>\n",
       "      <th>City</th>\n",
       "    </tr>\n",
       "  </thead>\n",
       "  <tbody>\n",
       "    <tr>\n",
       "      <th>0</th>\n",
       "      <td>28</td>\n",
       "      <td>Seoul</td>\n",
       "    </tr>\n",
       "    <tr>\n",
       "      <th>1</th>\n",
       "      <td>24</td>\n",
       "      <td>Paris</td>\n",
       "    </tr>\n",
       "  </tbody>\n",
       "</table>\n",
       "</div>"
      ],
      "text/plain": [
       "   Age   City\n",
       "0   28  Seoul\n",
       "1   24  Paris"
      ]
     },
     "execution_count": 13,
     "metadata": {},
     "output_type": "execute_result"
    }
   ],
   "source": [
    "df.iloc[0:2, 1:3]  ## 첫 번째부터 두 번째 행, 두 번째 열부터 세 번째 열까지의 데이터프레임 슬라이싱"
   ]
  },
  {
   "cell_type": "code",
   "execution_count": 14,
   "id": "6a6ed433-189e-4388-ae65-f657b020f11e",
   "metadata": {},
   "outputs": [
    {
     "data": {
      "text/html": [
       "<div>\n",
       "<style scoped>\n",
       "    .dataframe tbody tr th:only-of-type {\n",
       "        vertical-align: middle;\n",
       "    }\n",
       "\n",
       "    .dataframe tbody tr th {\n",
       "        vertical-align: top;\n",
       "    }\n",
       "\n",
       "    .dataframe thead th {\n",
       "        text-align: right;\n",
       "    }\n",
       "</style>\n",
       "<table border=\"1\" class=\"dataframe\">\n",
       "  <thead>\n",
       "    <tr style=\"text-align: right;\">\n",
       "      <th></th>\n",
       "      <th>Name</th>\n",
       "      <th>Age</th>\n",
       "      <th>City</th>\n",
       "      <th>Sex</th>\n",
       "      <th>Continent</th>\n",
       "    </tr>\n",
       "  </thead>\n",
       "  <tbody>\n",
       "    <tr>\n",
       "      <th>2</th>\n",
       "      <td>Sara</td>\n",
       "      <td>35</td>\n",
       "      <td>Berlin</td>\n",
       "      <td>Woman</td>\n",
       "      <td>Europe</td>\n",
       "    </tr>\n",
       "    <tr>\n",
       "      <th>3</th>\n",
       "      <td>Cyrus</td>\n",
       "      <td>32</td>\n",
       "      <td>London</td>\n",
       "      <td>Man</td>\n",
       "      <td>Europe</td>\n",
       "    </tr>\n",
       "    <tr>\n",
       "      <th>4</th>\n",
       "      <td>Lee</td>\n",
       "      <td>48</td>\n",
       "      <td>Busan</td>\n",
       "      <td>Man</td>\n",
       "      <td>Asia</td>\n",
       "    </tr>\n",
       "    <tr>\n",
       "      <th>6</th>\n",
       "      <td>Daniel</td>\n",
       "      <td>34</td>\n",
       "      <td>Seattle</td>\n",
       "      <td>Man</td>\n",
       "      <td>America</td>\n",
       "    </tr>\n",
       "  </tbody>\n",
       "</table>\n",
       "</div>"
      ],
      "text/plain": [
       "     Name  Age     City    Sex Continent\n",
       "2    Sara   35   Berlin  Woman    Europe\n",
       "3   Cyrus   32   London    Man    Europe\n",
       "4     Lee   48    Busan    Man      Asia\n",
       "6  Daniel   34  Seattle    Man   America"
      ]
     },
     "execution_count": 14,
     "metadata": {},
     "output_type": "execute_result"
    }
   ],
   "source": [
    "df[df['Age'] > 30]  ## Age가 30보다 큰 데이터 필터링"
   ]
  },
  {
   "cell_type": "code",
   "execution_count": 15,
   "id": "1c2ccea8-c2d3-4035-bd07-d49eeb71c004",
   "metadata": {},
   "outputs": [
    {
     "data": {
      "text/html": [
       "<div>\n",
       "<style scoped>\n",
       "    .dataframe tbody tr th:only-of-type {\n",
       "        vertical-align: middle;\n",
       "    }\n",
       "\n",
       "    .dataframe tbody tr th {\n",
       "        vertical-align: top;\n",
       "    }\n",
       "\n",
       "    .dataframe thead th {\n",
       "        text-align: right;\n",
       "    }\n",
       "</style>\n",
       "<table border=\"1\" class=\"dataframe\">\n",
       "  <thead>\n",
       "    <tr style=\"text-align: right;\">\n",
       "      <th></th>\n",
       "      <th>Name</th>\n",
       "      <th>Age</th>\n",
       "      <th>City</th>\n",
       "      <th>Sex</th>\n",
       "      <th>Continent</th>\n",
       "    </tr>\n",
       "  </thead>\n",
       "  <tbody>\n",
       "    <tr>\n",
       "      <th>0</th>\n",
       "      <td>Kim</td>\n",
       "      <td>28</td>\n",
       "      <td>Seoul</td>\n",
       "      <td>Man</td>\n",
       "      <td>Asia</td>\n",
       "    </tr>\n",
       "  </tbody>\n",
       "</table>\n",
       "</div>"
      ],
      "text/plain": [
       "  Name  Age   City  Sex Continent\n",
       "0  Kim   28  Seoul  Man      Asia"
      ]
     },
     "execution_count": 15,
     "metadata": {},
     "output_type": "execute_result"
    }
   ],
   "source": [
    "df[(df['Age'] < 30) & (df['City'] == \"Seoul\")]  ## 두 가지 조건을 사용한 데이터 필터링"
   ]
  },
  {
   "cell_type": "code",
   "execution_count": 16,
   "id": "e5227cad-ce4b-40dd-b0f8-a5a5af951b18",
   "metadata": {},
   "outputs": [
    {
     "data": {
      "text/html": [
       "<div>\n",
       "<style scoped>\n",
       "    .dataframe tbody tr th:only-of-type {\n",
       "        vertical-align: middle;\n",
       "    }\n",
       "\n",
       "    .dataframe tbody tr th {\n",
       "        vertical-align: top;\n",
       "    }\n",
       "\n",
       "    .dataframe thead th {\n",
       "        text-align: right;\n",
       "    }\n",
       "</style>\n",
       "<table border=\"1\" class=\"dataframe\">\n",
       "  <thead>\n",
       "    <tr style=\"text-align: right;\">\n",
       "      <th></th>\n",
       "      <th>Name</th>\n",
       "      <th>Age</th>\n",
       "      <th>City</th>\n",
       "      <th>Sex</th>\n",
       "      <th>Continent</th>\n",
       "    </tr>\n",
       "  </thead>\n",
       "  <tbody>\n",
       "    <tr>\n",
       "      <th>0</th>\n",
       "      <td>Kim</td>\n",
       "      <td>28</td>\n",
       "      <td>Seoul</td>\n",
       "      <td>Man</td>\n",
       "      <td>Asia</td>\n",
       "    </tr>\n",
       "    <tr>\n",
       "      <th>1</th>\n",
       "      <td>Sophie</td>\n",
       "      <td>24</td>\n",
       "      <td>Paris</td>\n",
       "      <td>Woman</td>\n",
       "      <td>Europe</td>\n",
       "    </tr>\n",
       "    <tr>\n",
       "      <th>2</th>\n",
       "      <td>Sara</td>\n",
       "      <td>35</td>\n",
       "      <td>Berlin</td>\n",
       "      <td>Woman</td>\n",
       "      <td>Europe</td>\n",
       "    </tr>\n",
       "    <tr>\n",
       "      <th>3</th>\n",
       "      <td>Cyrus</td>\n",
       "      <td>32</td>\n",
       "      <td>London</td>\n",
       "      <td>Man</td>\n",
       "      <td>Europe</td>\n",
       "    </tr>\n",
       "    <tr>\n",
       "      <th>4</th>\n",
       "      <td>Lee</td>\n",
       "      <td>48</td>\n",
       "      <td>Busan</td>\n",
       "      <td>Man</td>\n",
       "      <td>Asia</td>\n",
       "    </tr>\n",
       "    <tr>\n",
       "      <th>5</th>\n",
       "      <td>James</td>\n",
       "      <td>27</td>\n",
       "      <td>NewYork</td>\n",
       "      <td>Man</td>\n",
       "      <td>America</td>\n",
       "    </tr>\n",
       "    <tr>\n",
       "      <th>6</th>\n",
       "      <td>Daniel</td>\n",
       "      <td>34</td>\n",
       "      <td>Seattle</td>\n",
       "      <td>Man</td>\n",
       "      <td>America</td>\n",
       "    </tr>\n",
       "    <tr>\n",
       "      <th>7</th>\n",
       "      <td>Kofi</td>\n",
       "      <td>55</td>\n",
       "      <td>Cape Town</td>\n",
       "      <td>Man</td>\n",
       "      <td>None</td>\n",
       "    </tr>\n",
       "  </tbody>\n",
       "</table>\n",
       "</div>"
      ],
      "text/plain": [
       "     Name  Age       City    Sex Continent\n",
       "0     Kim   28      Seoul    Man      Asia\n",
       "1  Sophie   24      Paris  Woman    Europe\n",
       "2    Sara   35     Berlin  Woman    Europe\n",
       "3   Cyrus   32     London    Man    Europe\n",
       "4     Lee   48      Busan    Man      Asia\n",
       "5   James   27    NewYork    Man   America\n",
       "6  Daniel   34    Seattle    Man   America\n",
       "7    Kofi   55  Cape Town    Man      None"
      ]
     },
     "execution_count": 16,
     "metadata": {},
     "output_type": "execute_result"
    }
   ],
   "source": [
    "df.loc[7] = ['Kofi', 55, 'Cape Town', 'Man', None]\n",
    "df"
   ]
  },
  {
   "cell_type": "code",
   "execution_count": 17,
   "id": "458de962-8f54-4ada-ba46-d96ff2d3250b",
   "metadata": {},
   "outputs": [
    {
     "data": {
      "text/html": [
       "<div>\n",
       "<style scoped>\n",
       "    .dataframe tbody tr th:only-of-type {\n",
       "        vertical-align: middle;\n",
       "    }\n",
       "\n",
       "    .dataframe tbody tr th {\n",
       "        vertical-align: top;\n",
       "    }\n",
       "\n",
       "    .dataframe thead th {\n",
       "        text-align: right;\n",
       "    }\n",
       "</style>\n",
       "<table border=\"1\" class=\"dataframe\">\n",
       "  <thead>\n",
       "    <tr style=\"text-align: right;\">\n",
       "      <th></th>\n",
       "      <th>Name</th>\n",
       "      <th>Age</th>\n",
       "      <th>City</th>\n",
       "      <th>Sex</th>\n",
       "      <th>Continent</th>\n",
       "    </tr>\n",
       "  </thead>\n",
       "  <tbody>\n",
       "    <tr>\n",
       "      <th>7</th>\n",
       "      <td>Kofi</td>\n",
       "      <td>55</td>\n",
       "      <td>Cape Town</td>\n",
       "      <td>Man</td>\n",
       "      <td>None</td>\n",
       "    </tr>\n",
       "    <tr>\n",
       "      <th>4</th>\n",
       "      <td>Lee</td>\n",
       "      <td>48</td>\n",
       "      <td>Busan</td>\n",
       "      <td>Man</td>\n",
       "      <td>Asia</td>\n",
       "    </tr>\n",
       "    <tr>\n",
       "      <th>2</th>\n",
       "      <td>Sara</td>\n",
       "      <td>35</td>\n",
       "      <td>Berlin</td>\n",
       "      <td>Woman</td>\n",
       "      <td>Europe</td>\n",
       "    </tr>\n",
       "    <tr>\n",
       "      <th>6</th>\n",
       "      <td>Daniel</td>\n",
       "      <td>34</td>\n",
       "      <td>Seattle</td>\n",
       "      <td>Man</td>\n",
       "      <td>America</td>\n",
       "    </tr>\n",
       "    <tr>\n",
       "      <th>3</th>\n",
       "      <td>Cyrus</td>\n",
       "      <td>32</td>\n",
       "      <td>London</td>\n",
       "      <td>Man</td>\n",
       "      <td>Europe</td>\n",
       "    </tr>\n",
       "    <tr>\n",
       "      <th>0</th>\n",
       "      <td>Kim</td>\n",
       "      <td>28</td>\n",
       "      <td>Seoul</td>\n",
       "      <td>Man</td>\n",
       "      <td>Asia</td>\n",
       "    </tr>\n",
       "    <tr>\n",
       "      <th>5</th>\n",
       "      <td>James</td>\n",
       "      <td>27</td>\n",
       "      <td>NewYork</td>\n",
       "      <td>Man</td>\n",
       "      <td>America</td>\n",
       "    </tr>\n",
       "    <tr>\n",
       "      <th>1</th>\n",
       "      <td>Sophie</td>\n",
       "      <td>24</td>\n",
       "      <td>Paris</td>\n",
       "      <td>Woman</td>\n",
       "      <td>Europe</td>\n",
       "    </tr>\n",
       "  </tbody>\n",
       "</table>\n",
       "</div>"
      ],
      "text/plain": [
       "     Name  Age       City    Sex Continent\n",
       "7    Kofi   55  Cape Town    Man      None\n",
       "4     Lee   48      Busan    Man      Asia\n",
       "2    Sara   35     Berlin  Woman    Europe\n",
       "6  Daniel   34    Seattle    Man   America\n",
       "3   Cyrus   32     London    Man    Europe\n",
       "0     Kim   28      Seoul    Man      Asia\n",
       "5   James   27    NewYork    Man   America\n",
       "1  Sophie   24      Paris  Woman    Europe"
      ]
     },
     "execution_count": 17,
     "metadata": {},
     "output_type": "execute_result"
    }
   ],
   "source": [
    "df.sort_values(by = 'Age', ascending = False)"
   ]
  },
  {
   "cell_type": "code",
   "execution_count": 19,
   "id": "0102a0a9-ed0f-4351-b1a8-840bb918bf1d",
   "metadata": {},
   "outputs": [
    {
     "data": {
      "text/plain": [
       "Continent\n",
       "America    2\n",
       "Asia       2\n",
       "Europe     3\n",
       "Name: Name, dtype: int64"
      ]
     },
     "execution_count": 19,
     "metadata": {},
     "output_type": "execute_result"
    }
   ],
   "source": [
    "df.groupby('Continent')['Name'].count()"
   ]
  },
  {
   "cell_type": "code",
   "execution_count": 20,
   "id": "6478406c-b768-4ec6-9489-93533dac044b",
   "metadata": {},
   "outputs": [
    {
     "data": {
      "text/html": [
       "<div>\n",
       "<style scoped>\n",
       "    .dataframe tbody tr th:only-of-type {\n",
       "        vertical-align: middle;\n",
       "    }\n",
       "\n",
       "    .dataframe tbody tr th {\n",
       "        vertical-align: top;\n",
       "    }\n",
       "\n",
       "    .dataframe thead th {\n",
       "        text-align: right;\n",
       "    }\n",
       "</style>\n",
       "<table border=\"1\" class=\"dataframe\">\n",
       "  <thead>\n",
       "    <tr style=\"text-align: right;\">\n",
       "      <th></th>\n",
       "      <th>Age</th>\n",
       "      <th>Name</th>\n",
       "    </tr>\n",
       "    <tr>\n",
       "      <th>Continent</th>\n",
       "      <th></th>\n",
       "      <th></th>\n",
       "    </tr>\n",
       "  </thead>\n",
       "  <tbody>\n",
       "    <tr>\n",
       "      <th>America</th>\n",
       "      <td>30.500000</td>\n",
       "      <td>2</td>\n",
       "    </tr>\n",
       "    <tr>\n",
       "      <th>Asia</th>\n",
       "      <td>38.000000</td>\n",
       "      <td>2</td>\n",
       "    </tr>\n",
       "    <tr>\n",
       "      <th>Europe</th>\n",
       "      <td>30.333333</td>\n",
       "      <td>3</td>\n",
       "    </tr>\n",
       "  </tbody>\n",
       "</table>\n",
       "</div>"
      ],
      "text/plain": [
       "                 Age  Name\n",
       "Continent                 \n",
       "America    30.500000     2\n",
       "Asia       38.000000     2\n",
       "Europe     30.333333     3"
      ]
     },
     "execution_count": 20,
     "metadata": {},
     "output_type": "execute_result"
    }
   ],
   "source": [
    "df.groupby('Continent').agg({'Age' : \"mean\", 'Name' : \"count\"})"
   ]
  }
 ],
 "metadata": {
  "kernelspec": {
   "display_name": "venv_polars_book_deploy",
   "language": "python",
   "name": "venv_polars_book_deploy"
  },
  "language_info": {
   "codemirror_mode": {
    "name": "ipython",
    "version": 3
   },
   "file_extension": ".py",
   "mimetype": "text/x-python",
   "name": "python",
   "nbconvert_exporter": "python",
   "pygments_lexer": "ipython3",
   "version": "3.12.7"
  }
 },
 "nbformat": 4,
 "nbformat_minor": 5
}
