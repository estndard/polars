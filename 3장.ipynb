{
 "cells": [
  {
   "cell_type": "markdown",
   "id": "8c3825da-3588-4525-83a0-d85f69f8dbba",
   "metadata": {},
   "source": [
    "# 3장 폴라스란?"
   ]
  },
  {
   "cell_type": "markdown",
   "id": "7cc747ea-cc7f-4473-8c61-78ef22ed522e",
   "metadata": {},
   "source": [
    "## 3.4 팬더스 vs. 폴라스"
   ]
  },
  {
   "cell_type": "code",
   "execution_count": 2,
   "id": "96ff4d35-6261-48d9-b47c-37717300c497",
   "metadata": {},
   "outputs": [],
   "source": [
    "import pandas as pd\n",
    "import polars as pl\n",
    "import numpy as np\n",
    "import time"
   ]
  },
  {
   "cell_type": "code",
   "execution_count": 3,
   "id": "ae40949c-79da-4af7-9aea-2a2f8a756c95",
   "metadata": {},
   "outputs": [],
   "source": [
    "## 샘플 데이터 생성, 1억 개의 행을 가진 데이터셋 생성\n",
    "data = {'Age': np.random.randint(18, 60, 100_000_000),\n",
    "        'Salary': np.random.randint(30000, 90000, 100_000_000),\n",
    "        'Gender': np.random.choice([\"Male\", \"Female\"], 100_000_000)}\n"
   ]
  },
  {
   "cell_type": "code",
   "execution_count": 4,
   "id": "5abe5b52-aaa3-4248-8342-977a8947309d",
   "metadata": {},
   "outputs": [
    {
     "name": "stdout",
     "output_type": "stream",
     "text": [
      "(100000000, 3)\n"
     ]
    }
   ],
   "source": [
    "df_pandas_data = pd.DataFrame(data)\n",
    "print(df_pandas_data.shape)"
   ]
  },
  {
   "cell_type": "code",
   "execution_count": 5,
   "id": "a7ab748a-0284-46f8-8efc-837015d3b995",
   "metadata": {},
   "outputs": [
    {
     "name": "stdout",
     "output_type": "stream",
     "text": [
      "<class 'pandas.core.frame.DataFrame'>\n",
      "RangeIndex: 100000000 entries, 0 to 99999999\n",
      "Data columns (total 3 columns):\n",
      " #   Column  Dtype \n",
      "---  ------  ----- \n",
      " 0   Age     int32 \n",
      " 1   Salary  int32 \n",
      " 2   Gender  object\n",
      "dtypes: int32(2), object(1)\n",
      "memory usage: 5.8 GB\n"
     ]
    }
   ],
   "source": [
    "df_pandas_data.info(memory_usage = \"deep\")"
   ]
  },
  {
   "cell_type": "code",
   "execution_count": 6,
   "id": "ace2911a-12d5-4cb8-9255-3d08af42558e",
   "metadata": {},
   "outputs": [
    {
     "name": "stdout",
     "output_type": "stream",
     "text": [
      "Pandas Execution Time: 86.328 seconds\n"
     ]
    }
   ],
   "source": [
    "## PC의 환경에 따라 실행 시간은 달라집니다.\n",
    "start_time = time.time()\n",
    "filtered_pandas = df_pandas_data[df_pandas_data['Age'] > 30]\n",
    "grouped_pandas = filtered_pandas.groupby('Gender')['Salary'].mean()\n",
    "end_time = time.time()\n",
    "print(\"Pandas Execution Time:\", round(end_time - start_time, 3), \"seconds\")"
   ]
  },
  {
   "cell_type": "code",
   "execution_count": 7,
   "id": "594b658b-1f84-414a-bce7-cc2038bb63d9",
   "metadata": {},
   "outputs": [
    {
     "name": "stdout",
     "output_type": "stream",
     "text": [
      "(100000000, 3)\n"
     ]
    }
   ],
   "source": [
    "df_polars_data = pl.DataFrame(data)\n",
    "print(df_polars_data.shape)"
   ]
  },
  {
   "cell_type": "code",
   "execution_count": 7,
   "id": "fca75305-7af9-49a1-b8cb-35b12b39157f",
   "metadata": {},
   "outputs": [
    {
     "data": {
      "text/plain": [
       "1.2107175942510366"
      ]
     },
     "execution_count": 7,
     "metadata": {},
     "output_type": "execute_result"
    }
   ],
   "source": [
    "df_polars_data.estimated_size(\"gb\")"
   ]
  },
  {
   "cell_type": "code",
   "execution_count": 8,
   "id": "ff296ab4-9575-462c-903f-166e663c0572",
   "metadata": {},
   "outputs": [
    {
     "name": "stdout",
     "output_type": "stream",
     "text": [
      "Polars Execution Time: 28.132 seconds\n"
     ]
    }
   ],
   "source": [
    "## PC의 환경에 따라 실행 시간은 달라집니다.\n",
    "start_time = time.time()\n",
    "filtered_polars = df_polars_data.filter(df_polars_data['Age'] > 30)\n",
    "grouped_polars = filtered_polars.group_by('Gender').agg(pl.col('Salary').mean().alias('Average Salary'))\n",
    "end_time = time.time()\n",
    "print(\"Polars Execution Time:\", round(end_time - start_time, 3), \"seconds\")"
   ]
  }
 ],
 "metadata": {
  "kernelspec": {
   "display_name": "venv_polars_book_deploy",
   "language": "python",
   "name": "venv_polars_book_deploy"
  },
  "language_info": {
   "codemirror_mode": {
    "name": "ipython",
    "version": 3
   },
   "file_extension": ".py",
   "mimetype": "text/x-python",
   "name": "python",
   "nbconvert_exporter": "python",
   "pygments_lexer": "ipython3",
   "version": "3.12.7"
  }
 },
 "nbformat": 4,
 "nbformat_minor": 5
}
