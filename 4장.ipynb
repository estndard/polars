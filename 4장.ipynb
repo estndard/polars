{
 "cells": [
  {
   "cell_type": "code",
   "execution_count": 1,
   "id": "532cd2a4-f621-48e9-9f1d-566e11a6eb61",
   "metadata": {},
   "outputs": [],
   "source": [
    "## 사전 실행 코드\n",
    "import time\n",
    "import pandas as pd\n",
    "import numpy as np"
   ]
  },
  {
   "cell_type": "markdown",
   "id": "09be71d1-cb7a-4044-b8c1-5c45b659b7df",
   "metadata": {},
   "source": [
    "# 4장 폴라스 깊이 있게 배우기"
   ]
  },
  {
   "cell_type": "markdown",
   "id": "e0c11864-e1ab-4f21-986b-9bb670e2b716",
   "metadata": {},
   "source": [
    "## 4.1\t폴라스 설치"
   ]
  },
  {
   "cell_type": "code",
   "execution_count": 2,
   "id": "dfcea5a2-e118-4fff-80e5-d4ab5c707ecb",
   "metadata": {},
   "outputs": [],
   "source": [
    "import polars as pl"
   ]
  },
  {
   "cell_type": "markdown",
   "id": "5c27e1a9-74fa-43af-a3b2-c92b064ae589",
   "metadata": {},
   "source": [
    "## 4.2 폴라스 데이터 타입"
   ]
  },
  {
   "cell_type": "code",
   "execution_count": 3,
   "id": "8e7d2298-e401-4e9e-a996-b36ed3b9644d",
   "metadata": {},
   "outputs": [
    {
     "data": {
      "text/html": [
       "<div><style>\n",
       ".dataframe > thead > tr,\n",
       ".dataframe > tbody > tr {\n",
       "  text-align: right;\n",
       "  white-space: pre-wrap;\n",
       "}\n",
       "</style>\n",
       "<small>shape: (2, 2)</small><table border=\"1\" class=\"dataframe\"><thead><tr><th>array_1</th><th>array_2</th></tr><tr><td>array[i64, 2]</td><td>array[str, 3]</td></tr></thead><tbody><tr><td>[1, 3]</td><td>[&quot;a&quot;, &quot;b&quot;, &quot;c&quot;]</td></tr><tr><td>[4, 6]</td><td>[&quot;d&quot;, &quot;e&quot;, &quot;f&quot;]</td></tr></tbody></table></div>"
      ],
      "text/plain": [
       "shape: (2, 2)\n",
       "┌───────────────┬─────────────────┐\n",
       "│ array_1       ┆ array_2         │\n",
       "│ ---           ┆ ---             │\n",
       "│ array[i64, 2] ┆ array[str, 3]   │\n",
       "╞═══════════════╪═════════════════╡\n",
       "│ [1, 3]        ┆ [\"a\", \"b\", \"c\"] │\n",
       "│ [4, 6]        ┆ [\"d\", \"e\", \"f\"] │\n",
       "└───────────────┴─────────────────┘"
      ]
     },
     "execution_count": 3,
     "metadata": {},
     "output_type": "execute_result"
    }
   ],
   "source": [
    "pl.DataFrame([pl.Series('int_array', [[1,3], [4,6]]), pl.Series('string_array', [[\"a\", \"b\", \"c\"], [\"d\", \"e\", \"f\"]]),],\n",
    "    schema = {'array_1': pl.Array(shape = 2, inner = pl.Int64), 'array_2': pl.Array(shape = 3, inner = pl.String)\n",
    "})"
   ]
  },
  {
   "cell_type": "code",
   "execution_count": 4,
   "id": "3cd57b4f-5333-46b4-82a2-966d0f13be34",
   "metadata": {},
   "outputs": [
    {
     "data": {
      "text/html": [
       "<div><style>\n",
       ".dataframe > thead > tr,\n",
       ".dataframe > tbody > tr {\n",
       "  text-align: right;\n",
       "  white-space: pre-wrap;\n",
       "}\n",
       "</style>\n",
       "<small>shape: (2, 2)</small><table border=\"1\" class=\"dataframe\"><thead><tr><th>int_list</th><th>string_lists</th></tr><tr><td>list[i64]</td><td>list[str]</td></tr></thead><tbody><tr><td>[1, 3]</td><td>[&quot;a&quot;, &quot;b&quot;, &quot;c&quot;]</td></tr><tr><td>[4, 6, 8]</td><td>[&quot;d&quot;, &quot;e&quot;]</td></tr></tbody></table></div>"
      ],
      "text/plain": [
       "shape: (2, 2)\n",
       "┌───────────┬─────────────────┐\n",
       "│ int_list  ┆ string_lists    │\n",
       "│ ---       ┆ ---             │\n",
       "│ list[i64] ┆ list[str]       │\n",
       "╞═══════════╪═════════════════╡\n",
       "│ [1, 3]    ┆ [\"a\", \"b\", \"c\"] │\n",
       "│ [4, 6, 8] ┆ [\"d\", \"e\"]      │\n",
       "└───────────┴─────────────────┘"
      ]
     },
     "execution_count": 4,
     "metadata": {},
     "output_type": "execute_result"
    }
   ],
   "source": [
    "pl.DataFrame({'int_list': [[1, 3], [4, 6, 8]], 'string_lists': [[\"a\", \"b\", \"c\"], [\"d\", \"e\"]]})"
   ]
  },
  {
   "cell_type": "code",
   "execution_count": 5,
   "id": "e95569b4-714b-40c0-b617-ddcb659f3708",
   "metadata": {},
   "outputs": [
    {
     "data": {
      "text/html": [
       "<div><style>\n",
       ".dataframe > thead > tr,\n",
       ".dataframe > tbody > tr {\n",
       "  text-align: right;\n",
       "  white-space: pre-wrap;\n",
       "}\n",
       "</style>\n",
       "<small>shape: (2, 1)</small><table border=\"1\" class=\"dataframe\"><thead><tr><th>등장인물</th></tr><tr><td>struct[3]</td></tr></thead><tbody><tr><td>{&quot;홍길동&quot;,25,&quot;남&quot;}</td></tr><tr><td>{&quot;성춘향&quot;,24,&quot;여&quot;}</td></tr></tbody></table></div>"
      ],
      "text/plain": [
       "shape: (2, 1)\n",
       "┌────────────────────┐\n",
       "│ 등장인물           │\n",
       "│ ---                │\n",
       "│ struct[3]          │\n",
       "╞════════════════════╡\n",
       "│ {\"홍길동\",25,\"남\"} │\n",
       "│ {\"성춘향\",24,\"여\"} │\n",
       "└────────────────────┘"
      ]
     },
     "execution_count": 5,
     "metadata": {},
     "output_type": "execute_result"
    }
   ],
   "source": [
    "pl.DataFrame(\n",
    "    pl.Series('등장인물', [{'name': \"홍길동\", '나이': 25, '성별': \"남\"}, {'name': \"성춘향\", '나이': 24, '성별': \"여\"}])\n",
    ")"
   ]
  },
  {
   "cell_type": "code",
   "execution_count": 6,
   "id": "9431a821-6482-41d9-be9e-449f260a2c3d",
   "metadata": {},
   "outputs": [
    {
     "data": {
      "text/html": [
       "<div><style>\n",
       ".dataframe > thead > tr,\n",
       ".dataframe > tbody > tr {\n",
       "  text-align: right;\n",
       "  white-space: pre-wrap;\n",
       "}\n",
       "</style>\n",
       "<small>shape: (1, 4)</small><table border=\"1\" class=\"dataframe\"><thead><tr><th>date</th><th>datetime</th><th>time</th><th>duration</th></tr><tr><td>date</td><td>datetime[μs]</td><td>time</td><td>duration[μs]</td></tr></thead><tbody><tr><td>1978-01-01</td><td>2024-10-13 05:30:14.500</td><td>05:30:14.500</td><td>-79d -18h -29m -46s</td></tr></tbody></table></div>"
      ],
      "text/plain": [
       "shape: (1, 4)\n",
       "┌────────────┬─────────────────────────┬──────────────┬─────────────────────┐\n",
       "│ date       ┆ datetime                ┆ time         ┆ duration            │\n",
       "│ ---        ┆ ---                     ┆ ---          ┆ ---                 │\n",
       "│ date       ┆ datetime[μs]            ┆ time         ┆ duration[μs]        │\n",
       "╞════════════╪═════════════════════════╪══════════════╪═════════════════════╡\n",
       "│ 1978-01-01 ┆ 2024-10-13 05:30:14.500 ┆ 05:30:14.500 ┆ -79d -18h -29m -46s │\n",
       "└────────────┴─────────────────────────┴──────────────┴─────────────────────┘"
      ]
     },
     "execution_count": 6,
     "metadata": {},
     "output_type": "execute_result"
    }
   ],
   "source": [
    "from datetime import datetime, date, time\n",
    "pl.DataFrame({'date': [date(1978, 1, 1)],\n",
    "    'datetime': [datetime(2024, 10, 13, 5, 30, 14, 500_000)],\n",
    "    'time': [time(5, 30, 14, 500_000)],\n",
    "    'duration': [datetime(2024, 10, 13, 5, 30, 14) - datetime(2025, 1, 1, 0, 0, 0)]\n",
    "})"
   ]
  },
  {
   "cell_type": "markdown",
   "id": "e0d69fab-f336-4471-bc5e-82c7dd7fb1e5",
   "metadata": {},
   "source": [
    "## 4.3 폴라스 데이터 구조"
   ]
  },
  {
   "cell_type": "code",
   "execution_count": 7,
   "id": "4d055c17-2b2f-4e57-9f97-a02f02ea9c31",
   "metadata": {},
   "outputs": [
    {
     "data": {
      "text/html": [
       "<div><style>\n",
       ".dataframe > thead > tr,\n",
       ".dataframe > tbody > tr {\n",
       "  text-align: right;\n",
       "  white-space: pre-wrap;\n",
       "}\n",
       "</style>\n",
       "<small>shape: (3,)</small><table border=\"1\" class=\"dataframe\"><thead><tr><th>a</th></tr><tr><td>i64</td></tr></thead><tbody><tr><td>1</td></tr><tr><td>2</td></tr><tr><td>3</td></tr></tbody></table></div>"
      ],
      "text/plain": [
       "shape: (3,)\n",
       "Series: 'a' [i64]\n",
       "[\n",
       "\t1\n",
       "\t2\n",
       "\t3\n",
       "]"
      ]
     },
     "execution_count": 7,
     "metadata": {},
     "output_type": "execute_result"
    }
   ],
   "source": [
    "pl.Series('a', [1, 2, 3])"
   ]
  },
  {
   "cell_type": "code",
   "execution_count": 8,
   "id": "40807ab3-426f-4331-a66a-afe8389f5c90",
   "metadata": {},
   "outputs": [
    {
     "data": {
      "text/html": [
       "<div><style>\n",
       ".dataframe > thead > tr,\n",
       ".dataframe > tbody > tr {\n",
       "  text-align: right;\n",
       "  white-space: pre-wrap;\n",
       "}\n",
       "</style>\n",
       "<small>shape: (4, 4)</small><table border=\"1\" class=\"dataframe\"><thead><tr><th>name</th><th>birthdate</th><th>weight</th><th>height</th></tr><tr><td>str</td><td>date</td><td>f64</td><td>f64</td></tr></thead><tbody><tr><td>&quot;Alice Archer&quot;</td><td>1997-01-10</td><td>57.9</td><td>1.56</td></tr><tr><td>&quot;Ben Brown&quot;</td><td>1985-02-15</td><td>72.5</td><td>1.77</td></tr><tr><td>&quot;Chloe Cooper&quot;</td><td>1983-03-22</td><td>53.6</td><td>1.65</td></tr><tr><td>&quot;Daniel Donovan&quot;</td><td>1981-04-30</td><td>83.1</td><td>1.75</td></tr></tbody></table></div>"
      ],
      "text/plain": [
       "shape: (4, 4)\n",
       "┌────────────────┬────────────┬────────┬────────┐\n",
       "│ name           ┆ birthdate  ┆ weight ┆ height │\n",
       "│ ---            ┆ ---        ┆ ---    ┆ ---    │\n",
       "│ str            ┆ date       ┆ f64    ┆ f64    │\n",
       "╞════════════════╪════════════╪════════╪════════╡\n",
       "│ Alice Archer   ┆ 1997-01-10 ┆ 57.9   ┆ 1.56   │\n",
       "│ Ben Brown      ┆ 1985-02-15 ┆ 72.5   ┆ 1.77   │\n",
       "│ Chloe Cooper   ┆ 1983-03-22 ┆ 53.6   ┆ 1.65   │\n",
       "│ Daniel Donovan ┆ 1981-04-30 ┆ 83.1   ┆ 1.75   │\n",
       "└────────────────┴────────────┴────────┴────────┘"
      ]
     },
     "execution_count": 8,
     "metadata": {},
     "output_type": "execute_result"
    }
   ],
   "source": [
    "## 파이썬 리스트의 딕셔너리로 데이터프레임 만들기\n",
    "pl.DataFrame({\n",
    "    'name': [\"Alice Archer\", \"Ben Brown\", \"Chloe Cooper\", \"Daniel Donovan\"],\n",
    "    'birthdate': [date(1997, 1, 10), date(1985, 2, 15), date(1983, 3, 22), date(1981, 4, 30)],\n",
    "    'weight': [57.9, 72.5, 53.6, 83.1],\n",
    "    'height': [1.56, 1.77, 1.65, 1.75]})"
   ]
  },
  {
   "cell_type": "code",
   "execution_count": 9,
   "id": "848a1bee-5b88-4035-9969-27da158ab284",
   "metadata": {},
   "outputs": [
    {
     "data": {
      "text/html": [
       "<div><style>\n",
       ".dataframe > thead > tr,\n",
       ".dataframe > tbody > tr {\n",
       "  text-align: right;\n",
       "  white-space: pre-wrap;\n",
       "}\n",
       "</style>\n",
       "<small>shape: (4, 4)</small><table border=\"1\" class=\"dataframe\"><thead><tr><th>name</th><th>birthdate</th><th>weight</th><th>height</th></tr><tr><td>str</td><td>date</td><td>f64</td><td>f64</td></tr></thead><tbody><tr><td>&quot;Alice Archer&quot;</td><td>1997-01-10</td><td>57.9</td><td>1.56</td></tr><tr><td>&quot;Ben Brown&quot;</td><td>1985-02-15</td><td>72.5</td><td>1.77</td></tr><tr><td>&quot;Chloe Cooper&quot;</td><td>1983-03-22</td><td>53.6</td><td>1.65</td></tr><tr><td>&quot;Daniel Donovan&quot;</td><td>1981-04-30</td><td>83.1</td><td>1.75</td></tr></tbody></table></div>"
      ],
      "text/plain": [
       "shape: (4, 4)\n",
       "┌────────────────┬────────────┬────────┬────────┐\n",
       "│ name           ┆ birthdate  ┆ weight ┆ height │\n",
       "│ ---            ┆ ---        ┆ ---    ┆ ---    │\n",
       "│ str            ┆ date       ┆ f64    ┆ f64    │\n",
       "╞════════════════╪════════════╪════════╪════════╡\n",
       "│ Alice Archer   ┆ 1997-01-10 ┆ 57.9   ┆ 1.56   │\n",
       "│ Ben Brown      ┆ 1985-02-15 ┆ 72.5   ┆ 1.77   │\n",
       "│ Chloe Cooper   ┆ 1983-03-22 ┆ 53.6   ┆ 1.65   │\n",
       "│ Daniel Donovan ┆ 1981-04-30 ┆ 83.1   ┆ 1.75   │\n",
       "└────────────────┴────────────┴────────┴────────┘"
      ]
     },
     "execution_count": 9,
     "metadata": {},
     "output_type": "execute_result"
    }
   ],
   "source": [
    "## 폴라스 시리즈 리스트로 데이터프레임 만들기\n",
    "df = pl.DataFrame([\n",
    "    pl.Series('name', [\"Alice Archer\", \"Ben Brown\", \"Chloe Cooper\", \"Daniel Donovan\"]),\n",
    "    pl.Series('birthdate', [date(1997, 1, 10), date(1985, 2, 15), date(1983, 3, 22), date(1981, 4, 30)]),\n",
    "    pl.Series('weight', [57.9, 72.5, 53.6, 83.1]), \n",
    "    pl.Series('height', [1.56, 1.77, 1.65, 1.75])])\n",
    "df"
   ]
  },
  {
   "cell_type": "code",
   "execution_count": 10,
   "id": "b48130cd-c70b-4ab6-a490-daa482ad94e1",
   "metadata": {},
   "outputs": [
    {
     "data": {
      "text/html": [
       "<div><style>\n",
       ".dataframe > thead > tr,\n",
       ".dataframe > tbody > tr {\n",
       "  text-align: right;\n",
       "  white-space: pre-wrap;\n",
       "}\n",
       "</style>\n",
       "<small>shape: (4, 4)</small><table border=\"1\" class=\"dataframe\"><thead><tr><th>name</th><th>birthdate</th><th>weight</th><th>height</th></tr><tr><td>str</td><td>date</td><td>u8</td><td>u8</td></tr></thead><tbody><tr><td>&quot;Alice Archer&quot;</td><td>1997-01-10</td><td>57</td><td>1</td></tr><tr><td>&quot;Ben Brown&quot;</td><td>1985-02-15</td><td>72</td><td>1</td></tr><tr><td>&quot;Chloe Cooper&quot;</td><td>1983-03-22</td><td>53</td><td>1</td></tr><tr><td>&quot;Daniel Donovan&quot;</td><td>1981-04-30</td><td>83</td><td>1</td></tr></tbody></table></div>"
      ],
      "text/plain": [
       "shape: (4, 4)\n",
       "┌────────────────┬────────────┬────────┬────────┐\n",
       "│ name           ┆ birthdate  ┆ weight ┆ height │\n",
       "│ ---            ┆ ---        ┆ ---    ┆ ---    │\n",
       "│ str            ┆ date       ┆ u8     ┆ u8     │\n",
       "╞════════════════╪════════════╪════════╪════════╡\n",
       "│ Alice Archer   ┆ 1997-01-10 ┆ 57     ┆ 1      │\n",
       "│ Ben Brown      ┆ 1985-02-15 ┆ 72     ┆ 1      │\n",
       "│ Chloe Cooper   ┆ 1983-03-22 ┆ 53     ┆ 1      │\n",
       "│ Daniel Donovan ┆ 1981-04-30 ┆ 83     ┆ 1      │\n",
       "└────────────────┴────────────┴────────┴────────┘"
      ]
     },
     "execution_count": 10,
     "metadata": {},
     "output_type": "execute_result"
    }
   ],
   "source": [
    "pl.DataFrame([\n",
    "    pl.Series('name', [\"Alice Archer\", \"Ben Brown\", \"Chloe Cooper\", \"Daniel Donovan\"]),\n",
    "    pl.Series('birthdate', [date(1997, 1, 10), date(1985, 2, 15), date(1983, 3, 22), date(1981, 4, 30)]),\n",
    "    pl.Series('weight', [57.9, 72.5, 53.6, 83.1]),\n",
    "    pl.Series('height', [1.56, 1.77, 1.65, 1.75])],\n",
    "    schema = {'name': pl.String, 'birthdate': pl.Date, 'weight': pl.UInt8, 'height': pl.UInt8})"
   ]
  },
  {
   "cell_type": "markdown",
   "id": "300f621a-550d-4016-870c-75eb28fa59ec",
   "metadata": {},
   "source": [
    "## 4.4 표현식"
   ]
  },
  {
   "cell_type": "code",
   "execution_count": 11,
   "id": "b3b5c139-cf51-4a78-b819-e0aedca475e1",
   "metadata": {},
   "outputs": [
    {
     "data": {
      "text/html": [
       "[(col(\"weight\")) / (col(\"height\").pow([dyn int: 2]))]"
      ],
      "text/plain": [
       "<Expr ['[(col(\"weight\")) / (col(\"heigh…'] at 0x2826B157DD0>"
      ]
     },
     "execution_count": 11,
     "metadata": {},
     "output_type": "execute_result"
    }
   ],
   "source": [
    "(pl.col('weight') / (pl.col('height').pow(2)))"
   ]
  },
  {
   "cell_type": "code",
   "execution_count": 12,
   "id": "745d77dc-8e88-47e4-a37f-a8ba477a2135",
   "metadata": {},
   "outputs": [
    {
     "data": {
      "text/html": [
       "<div><style>\n",
       ".dataframe > thead > tr,\n",
       ".dataframe > tbody > tr {\n",
       "  text-align: right;\n",
       "  white-space: pre-wrap;\n",
       "}\n",
       "</style>\n",
       "<small>shape: (4, 5)</small><table border=\"1\" class=\"dataframe\"><thead><tr><th>name</th><th>birthdate</th><th>weight</th><th>height</th><th>BMI</th></tr><tr><td>str</td><td>date</td><td>f64</td><td>f64</td><td>f64</td></tr></thead><tbody><tr><td>&quot;Alice Archer&quot;</td><td>1997-01-10</td><td>57.9</td><td>1.56</td><td>23.791913</td></tr><tr><td>&quot;Ben Brown&quot;</td><td>1985-02-15</td><td>72.5</td><td>1.77</td><td>23.141498</td></tr><tr><td>&quot;Chloe Cooper&quot;</td><td>1983-03-22</td><td>53.6</td><td>1.65</td><td>19.687787</td></tr><tr><td>&quot;Daniel Donovan&quot;</td><td>1981-04-30</td><td>83.1</td><td>1.75</td><td>27.134694</td></tr></tbody></table></div>"
      ],
      "text/plain": [
       "shape: (4, 5)\n",
       "┌────────────────┬────────────┬────────┬────────┬───────────┐\n",
       "│ name           ┆ birthdate  ┆ weight ┆ height ┆ BMI       │\n",
       "│ ---            ┆ ---        ┆ ---    ┆ ---    ┆ ---       │\n",
       "│ str            ┆ date       ┆ f64    ┆ f64    ┆ f64       │\n",
       "╞════════════════╪════════════╪════════╪════════╪═══════════╡\n",
       "│ Alice Archer   ┆ 1997-01-10 ┆ 57.9   ┆ 1.56   ┆ 23.791913 │\n",
       "│ Ben Brown      ┆ 1985-02-15 ┆ 72.5   ┆ 1.77   ┆ 23.141498 │\n",
       "│ Chloe Cooper   ┆ 1983-03-22 ┆ 53.6   ┆ 1.65   ┆ 19.687787 │\n",
       "│ Daniel Donovan ┆ 1981-04-30 ┆ 83.1   ┆ 1.75   ┆ 27.134694 │\n",
       "└────────────────┴────────────┴────────┴────────┴───────────┘"
      ]
     },
     "execution_count": 12,
     "metadata": {},
     "output_type": "execute_result"
    }
   ],
   "source": [
    "exp = (pl.col('weight') / (pl.col('height').pow(2)))\n",
    "df = df.with_columns(exp.alias('BMI'))\n",
    "df"
   ]
  },
  {
   "cell_type": "code",
   "execution_count": 13,
   "id": "30828423-1a31-43a8-857e-aff191b46d3a",
   "metadata": {},
   "outputs": [
    {
     "data": {
      "text/html": [
       "<div><style>\n",
       ".dataframe > thead > tr,\n",
       ".dataframe > tbody > tr {\n",
       "  text-align: right;\n",
       "  white-space: pre-wrap;\n",
       "}\n",
       "</style>\n",
       "<small>shape: (4, 2)</small><table border=\"1\" class=\"dataframe\"><thead><tr><th>height 10</th><th>height_5</th></tr><tr><td>f64</td><td>f64</td></tr></thead><tbody><tr><td>-8.44</td><td>-3.44</td></tr><tr><td>-8.23</td><td>-3.23</td></tr><tr><td>-8.35</td><td>-3.35</td></tr><tr><td>-8.25</td><td>-3.25</td></tr></tbody></table></div>"
      ],
      "text/plain": [
       "shape: (4, 2)\n",
       "┌───────────┬──────────┐\n",
       "│ height 10 ┆ height_5 │\n",
       "│ ---       ┆ ---      │\n",
       "│ f64       ┆ f64      │\n",
       "╞═══════════╪══════════╡\n",
       "│ -8.44     ┆ -3.44    │\n",
       "│ -8.23     ┆ -3.23    │\n",
       "│ -8.35     ┆ -3.35    │\n",
       "│ -8.25     ┆ -3.25    │\n",
       "└───────────┴──────────┘"
      ]
     },
     "execution_count": 13,
     "metadata": {},
     "output_type": "execute_result"
    }
   ],
   "source": [
    "df.select((pl.col('height') - 10).alias('height 10'), height_5 = pl.col('height') - 5)  ## alias() 이후=사용"
   ]
  },
  {
   "cell_type": "code",
   "execution_count": 14,
   "id": "a82fc0d7-c3c4-4709-b653-7306d31812d8",
   "metadata": {},
   "outputs": [
    {
     "ename": "SyntaxError",
     "evalue": "invalid syntax. Maybe you meant '==' or ':=' instead of '='? (950095961.py, line 1)",
     "output_type": "error",
     "traceback": [
      "  \u001b[36mCell\u001b[39m\u001b[36m \u001b[39m\u001b[32mIn[14]\u001b[39m\u001b[32m, line 1\u001b[39m\n\u001b[31m    \u001b[39m\u001b[31mdf.select((height_5 = pl.col('height') - 5, pl.col('height') - 10).alias('height 10'))  ## alias() 이전=사용-오류\u001b[39m\n               ^\n\u001b[31mSyntaxError\u001b[39m\u001b[31m:\u001b[39m invalid syntax. Maybe you meant '==' or ':=' instead of '='?\n"
     ]
    }
   ],
   "source": [
    "df.select((height_5 = pl.col('height') - 5, pl.col('height') - 10).alias('height 10'))  ## alias() 이전=사용-오류 "
   ]
  },
  {
   "cell_type": "code",
   "execution_count": 15,
   "id": "1694dbab-d194-4f6a-9379-a3aee309614d",
   "metadata": {},
   "outputs": [
    {
     "data": {
      "text/html": [
       "<div><style>\n",
       ".dataframe > thead > tr,\n",
       ".dataframe > tbody > tr {\n",
       "  text-align: right;\n",
       "  white-space: pre-wrap;\n",
       "}\n",
       "</style>\n",
       "<small>shape: (4, 8)</small><table border=\"1\" class=\"dataframe\"><thead><tr><th>name</th><th>birthdate</th><th>weight</th><th>height</th><th>BMI</th><th>JOB</th><th>Alive</th><th>BMI standard</th></tr><tr><td>str</td><td>date</td><td>f64</td><td>f64</td><td>f64</td><td>str</td><td>bool</td><td>f64</td></tr></thead><tbody><tr><td>&quot;Alice Archer&quot;</td><td>1997-01-10</td><td>57.9</td><td>1.56</td><td>23.791913</td><td>&quot;Singer&quot;</td><td>true</td><td>22.9</td></tr><tr><td>&quot;Ben Brown&quot;</td><td>1985-02-15</td><td>72.5</td><td>1.77</td><td>23.141498</td><td>&quot;Singer&quot;</td><td>true</td><td>22.9</td></tr><tr><td>&quot;Chloe Cooper&quot;</td><td>1983-03-22</td><td>53.6</td><td>1.65</td><td>19.687787</td><td>&quot;Singer&quot;</td><td>true</td><td>22.9</td></tr><tr><td>&quot;Daniel Donovan&quot;</td><td>1981-04-30</td><td>83.1</td><td>1.75</td><td>27.134694</td><td>&quot;Singer&quot;</td><td>true</td><td>22.9</td></tr></tbody></table></div>"
      ],
      "text/plain": [
       "shape: (4, 8)\n",
       "┌────────────────┬────────────┬────────┬────────┬───────────┬────────┬───────┬──────────────┐\n",
       "│ name           ┆ birthdate  ┆ weight ┆ height ┆ BMI       ┆ JOB    ┆ Alive ┆ BMI standard │\n",
       "│ ---            ┆ ---        ┆ ---    ┆ ---    ┆ ---       ┆ ---    ┆ ---   ┆ ---          │\n",
       "│ str            ┆ date       ┆ f64    ┆ f64    ┆ f64       ┆ str    ┆ bool  ┆ f64          │\n",
       "╞════════════════╪════════════╪════════╪════════╪═══════════╪════════╪═══════╪══════════════╡\n",
       "│ Alice Archer   ┆ 1997-01-10 ┆ 57.9   ┆ 1.56   ┆ 23.791913 ┆ Singer ┆ true  ┆ 22.9         │\n",
       "│ Ben Brown      ┆ 1985-02-15 ┆ 72.5   ┆ 1.77   ┆ 23.141498 ┆ Singer ┆ true  ┆ 22.9         │\n",
       "│ Chloe Cooper   ┆ 1983-03-22 ┆ 53.6   ┆ 1.65   ┆ 19.687787 ┆ Singer ┆ true  ┆ 22.9         │\n",
       "│ Daniel Donovan ┆ 1981-04-30 ┆ 83.1   ┆ 1.75   ┆ 27.134694 ┆ Singer ┆ true  ┆ 22.9         │\n",
       "└────────────────┴────────────┴────────┴────────┴───────────┴────────┴───────┴──────────────┘"
      ]
     },
     "execution_count": 15,
     "metadata": {},
     "output_type": "execute_result"
    }
   ],
   "source": [
    "df.with_columns(pl.lit('Singer').alias('JOB'), pl.lit(True).alias('Alive'), pl.lit(22.9).alias('BMI standard'))"
   ]
  },
  {
   "cell_type": "code",
   "execution_count": 16,
   "id": "a1b82ed7-f235-4e4c-9651-732f99f81df3",
   "metadata": {},
   "outputs": [
    {
     "data": {
      "text/html": [
       "<div><style>\n",
       ".dataframe > thead > tr,\n",
       ".dataframe > tbody > tr {\n",
       "  text-align: right;\n",
       "  white-space: pre-wrap;\n",
       "}\n",
       "</style>\n",
       "<small>shape: (4, 6)</small><table border=\"1\" class=\"dataframe\"><thead><tr><th>weight + 5</th><th>height - 5</th><th>weight * height</th><th>height / weight</th><th>BMI ** 2</th><th>BMI % 3</th></tr><tr><td>f64</td><td>f64</td><td>f64</td><td>f64</td><td>f64</td><td>f64</td></tr></thead><tbody><tr><td>62.9</td><td>-3.44</td><td>90.324</td><td>0.026943</td><td>566.055134</td><td>2.791913</td></tr><tr><td>77.5</td><td>-3.23</td><td>128.325</td><td>0.024414</td><td>535.528943</td><td>2.141498</td></tr><tr><td>58.6</td><td>-3.35</td><td>88.44</td><td>0.030784</td><td>387.608955</td><td>1.687787</td></tr><tr><td>88.1</td><td>-3.25</td><td>145.425</td><td>0.021059</td><td>736.291612</td><td>0.134694</td></tr></tbody></table></div>"
      ],
      "text/plain": [
       "shape: (4, 6)\n",
       "┌────────────┬────────────┬─────────────────┬─────────────────┬────────────┬──────────┐\n",
       "│ weight + 5 ┆ height - 5 ┆ weight * height ┆ height / weight ┆ BMI ** 2   ┆ BMI % 3  │\n",
       "│ ---        ┆ ---        ┆ ---             ┆ ---             ┆ ---        ┆ ---      │\n",
       "│ f64        ┆ f64        ┆ f64             ┆ f64             ┆ f64        ┆ f64      │\n",
       "╞════════════╪════════════╪═════════════════╪═════════════════╪════════════╪══════════╡\n",
       "│ 62.9       ┆ -3.44      ┆ 90.324          ┆ 0.026943        ┆ 566.055134 ┆ 2.791913 │\n",
       "│ 77.5       ┆ -3.23      ┆ 128.325         ┆ 0.024414        ┆ 535.528943 ┆ 2.141498 │\n",
       "│ 58.6       ┆ -3.35      ┆ 88.44           ┆ 0.030784        ┆ 387.608955 ┆ 1.687787 │\n",
       "│ 88.1       ┆ -3.25      ┆ 145.425         ┆ 0.021059        ┆ 736.291612 ┆ 0.134694 │\n",
       "└────────────┴────────────┴─────────────────┴─────────────────┴────────────┴──────────┘"
      ]
     },
     "execution_count": 16,
     "metadata": {},
     "output_type": "execute_result"
    }
   ],
   "source": [
    "df.select(\n",
    "    (pl.col('weight') + 5).alias('weight + 5'),\n",
    "    (pl.col('height').sub(5)).alias('height - 5'),\n",
    "    (pl.col('weight') * pl.col('height')).alias('weight * height'),\n",
    "    (pl.col('height').truediv(pl.col('weight'))).alias('height / weight'),\n",
    "    (pl.col('BMI') ** 2).alias('BMI ** 2'),\n",
    "    (pl.col('BMI') % 3).alias('BMI % 3'))"
   ]
  },
  {
   "cell_type": "code",
   "execution_count": 17,
   "id": "b9cea844-dc85-421b-a636-f4141c9c51b2",
   "metadata": {},
   "outputs": [
    {
     "data": {
      "text/html": [
       "<div><style>\n",
       ".dataframe > thead > tr,\n",
       ".dataframe > tbody > tr {\n",
       "  text-align: right;\n",
       "  white-space: pre-wrap;\n",
       "}\n",
       "</style>\n",
       "<small>shape: (4, 3)</small><table border=\"1\" class=\"dataframe\"><thead><tr><th>height &gt; 1.6</th><th>weight &gt;= 60</th><th>BMI == 20</th></tr><tr><td>bool</td><td>bool</td><td>bool</td></tr></thead><tbody><tr><td>false</td><td>false</td><td>true</td></tr><tr><td>true</td><td>true</td><td>true</td></tr><tr><td>true</td><td>false</td><td>true</td></tr><tr><td>true</td><td>true</td><td>true</td></tr></tbody></table></div>"
      ],
      "text/plain": [
       "shape: (4, 3)\n",
       "┌──────────────┬──────────────┬───────────┐\n",
       "│ height > 1.6 ┆ weight >= 60 ┆ BMI == 20 │\n",
       "│ ---          ┆ ---          ┆ ---       │\n",
       "│ bool         ┆ bool         ┆ bool      │\n",
       "╞══════════════╪══════════════╪═══════════╡\n",
       "│ false        ┆ false        ┆ true      │\n",
       "│ true         ┆ true         ┆ true      │\n",
       "│ true         ┆ false        ┆ true      │\n",
       "│ true         ┆ true         ┆ true      │\n",
       "└──────────────┴──────────────┴───────────┘"
      ]
     },
     "execution_count": 17,
     "metadata": {},
     "output_type": "execute_result"
    }
   ],
   "source": [
    "df.select(\n",
    "    (pl.col('height') > 1.6).alias('height > 1.6'),  \n",
    "    (pl.col('weight') >= 60).alias('weight >= 60'),\n",
    "    (pl.col('BMI') == pl.col('BMI')).alias('BMI == 20'))"
   ]
  },
  {
   "cell_type": "code",
   "execution_count": 18,
   "id": "d6c82ae6-a826-4ca4-8f53-db1c7cfd6e6f",
   "metadata": {},
   "outputs": [
    {
     "data": {
      "text/html": [
       "<div><style>\n",
       ".dataframe > thead > tr,\n",
       ".dataframe > tbody > tr {\n",
       "  text-align: right;\n",
       "  white-space: pre-wrap;\n",
       "}\n",
       "</style>\n",
       "<small>shape: (4, 3)</small><table border=\"1\" class=\"dataframe\"><thead><tr><th>height &gt; 1.6</th><th>weight &gt;= 60</th><th>BMI == 20</th></tr><tr><td>bool</td><td>bool</td><td>bool</td></tr></thead><tbody><tr><td>false</td><td>false</td><td>false</td></tr><tr><td>true</td><td>true</td><td>false</td></tr><tr><td>true</td><td>false</td><td>false</td></tr><tr><td>true</td><td>true</td><td>false</td></tr></tbody></table></div>"
      ],
      "text/plain": [
       "shape: (4, 3)\n",
       "┌──────────────┬──────────────┬───────────┐\n",
       "│ height > 1.6 ┆ weight >= 60 ┆ BMI == 20 │\n",
       "│ ---          ┆ ---          ┆ ---       │\n",
       "│ bool         ┆ bool         ┆ bool      │\n",
       "╞══════════════╪══════════════╪═══════════╡\n",
       "│ false        ┆ false        ┆ false     │\n",
       "│ true         ┆ true         ┆ false     │\n",
       "│ true         ┆ false        ┆ false     │\n",
       "│ true         ┆ true         ┆ false     │\n",
       "└──────────────┴──────────────┴───────────┘"
      ]
     },
     "execution_count": 18,
     "metadata": {},
     "output_type": "execute_result"
    }
   ],
   "source": [
    "df.select(\n",
    "    pl.col('height').gt(1.6).alias('height > 1.6'),  \n",
    "    pl.col('weight').ge(60).alias('weight >= 60'),\n",
    "    pl.col('BMI').eq(20).alias('BMI == 20'))"
   ]
  },
  {
   "cell_type": "code",
   "execution_count": 19,
   "id": "1a943c35-d5ee-4f78-a064-041e4823400b",
   "metadata": {},
   "outputs": [
    {
     "data": {
      "text/html": [
       "<div><style>\n",
       ".dataframe > thead > tr,\n",
       ".dataframe > tbody > tr {\n",
       "  text-align: right;\n",
       "  white-space: pre-wrap;\n",
       "}\n",
       "</style>\n",
       "<small>shape: (2, 5)</small><table border=\"1\" class=\"dataframe\"><thead><tr><th>name</th><th>birthdate</th><th>weight</th><th>height</th><th>BMI</th></tr><tr><td>str</td><td>date</td><td>f64</td><td>f64</td><td>f64</td></tr></thead><tbody><tr><td>&quot;Ben Brown&quot;</td><td>1985-02-15</td><td>72.5</td><td>1.77</td><td>23.141498</td></tr><tr><td>&quot;Daniel Donovan&quot;</td><td>1981-04-30</td><td>83.1</td><td>1.75</td><td>27.134694</td></tr></tbody></table></div>"
      ],
      "text/plain": [
       "shape: (2, 5)\n",
       "┌────────────────┬────────────┬────────┬────────┬───────────┐\n",
       "│ name           ┆ birthdate  ┆ weight ┆ height ┆ BMI       │\n",
       "│ ---            ┆ ---        ┆ ---    ┆ ---    ┆ ---       │\n",
       "│ str            ┆ date       ┆ f64    ┆ f64    ┆ f64       │\n",
       "╞════════════════╪════════════╪════════╪════════╪═══════════╡\n",
       "│ Ben Brown      ┆ 1985-02-15 ┆ 72.5   ┆ 1.77   ┆ 23.141498 │\n",
       "│ Daniel Donovan ┆ 1981-04-30 ┆ 83.1   ┆ 1.75   ┆ 27.134694 │\n",
       "└────────────────┴────────────┴────────┴────────┴───────────┘"
      ]
     },
     "execution_count": 19,
     "metadata": {},
     "output_type": "execute_result"
    }
   ],
   "source": [
    "df.filter(((pl.col('height') > 1.6).and_(pl.col('weight') >= 60)))"
   ]
  },
  {
   "cell_type": "code",
   "execution_count": 20,
   "id": "6d981c94-9fb9-4eec-865d-84f70258d0c1",
   "metadata": {},
   "outputs": [
    {
     "data": {
      "text/html": [
       "<div><style>\n",
       ".dataframe > thead > tr,\n",
       ".dataframe > tbody > tr {\n",
       "  text-align: right;\n",
       "  white-space: pre-wrap;\n",
       "}\n",
       "</style>\n",
       "<small>shape: (4, 7)</small><table border=\"1\" class=\"dataframe\"><thead><tr><th>name</th><th>birthdate</th><th>weight</th><th>height</th><th>BMI</th><th>string_head</th><th>string_rev</th></tr><tr><td>str</td><td>date</td><td>f64</td><td>f64</td><td>f64</td><td>str</td><td>str</td></tr></thead><tbody><tr><td>&quot;Alice Archer&quot;</td><td>1997-01-10</td><td>57.9</td><td>1.56</td><td>23.791913</td><td>&quot;Alice&quot;</td><td>&quot;rehcrA ecilA&quot;</td></tr><tr><td>&quot;Ben Brown&quot;</td><td>1985-02-15</td><td>72.5</td><td>1.77</td><td>23.141498</td><td>&quot;Ben B&quot;</td><td>&quot;nworB neB&quot;</td></tr><tr><td>&quot;Chloe Cooper&quot;</td><td>1983-03-22</td><td>53.6</td><td>1.65</td><td>19.687787</td><td>&quot;Chloe&quot;</td><td>&quot;repooC eolhC&quot;</td></tr><tr><td>&quot;Daniel Donovan&quot;</td><td>1981-04-30</td><td>83.1</td><td>1.75</td><td>27.134694</td><td>&quot;Danie&quot;</td><td>&quot;navonoD leinaD&quot;</td></tr></tbody></table></div>"
      ],
      "text/plain": [
       "shape: (4, 7)\n",
       "┌────────────────┬────────────┬────────┬────────┬───────────┬─────────────┬────────────────┐\n",
       "│ name           ┆ birthdate  ┆ weight ┆ height ┆ BMI       ┆ string_head ┆ string_rev     │\n",
       "│ ---            ┆ ---        ┆ ---    ┆ ---    ┆ ---       ┆ ---         ┆ ---            │\n",
       "│ str            ┆ date       ┆ f64    ┆ f64    ┆ f64       ┆ str         ┆ str            │\n",
       "╞════════════════╪════════════╪════════╪════════╪═══════════╪═════════════╪════════════════╡\n",
       "│ Alice Archer   ┆ 1997-01-10 ┆ 57.9   ┆ 1.56   ┆ 23.791913 ┆ Alice       ┆ rehcrA ecilA   │\n",
       "│ Ben Brown      ┆ 1985-02-15 ┆ 72.5   ┆ 1.77   ┆ 23.141498 ┆ Ben B       ┆ nworB neB      │\n",
       "│ Chloe Cooper   ┆ 1983-03-22 ┆ 53.6   ┆ 1.65   ┆ 19.687787 ┆ Chloe       ┆ repooC eolhC   │\n",
       "│ Daniel Donovan ┆ 1981-04-30 ┆ 83.1   ┆ 1.75   ┆ 27.134694 ┆ Danie       ┆ navonoD leinaD │\n",
       "└────────────────┴────────────┴────────┴────────┴───────────┴─────────────┴────────────────┘"
      ]
     },
     "execution_count": 20,
     "metadata": {},
     "output_type": "execute_result"
    }
   ],
   "source": [
    "df.with_columns(pl.col('name').str.head(5).alias('string_head'), pl.col('name').str.reverse().alias('string_rev'))"
   ]
  },
  {
   "cell_type": "code",
   "execution_count": 21,
   "id": "a9da1de3-78e8-4a87-b53f-2cadf1a1b75f",
   "metadata": {},
   "outputs": [
    {
     "data": {
      "text/html": [
       "<div><style>\n",
       ".dataframe > thead > tr,\n",
       ".dataframe > tbody > tr {\n",
       "  text-align: right;\n",
       "  white-space: pre-wrap;\n",
       "}\n",
       "</style>\n",
       "<small>shape: (4, 6)</small><table border=\"1\" class=\"dataframe\"><thead><tr><th>name</th><th>birthdate</th><th>weight</th><th>height</th><th>BMI</th><th>BMI 판정</th></tr><tr><td>str</td><td>date</td><td>f64</td><td>f64</td><td>f64</td><td>str</td></tr></thead><tbody><tr><td>&quot;Alice Archer&quot;</td><td>1997-01-10</td><td>57.9</td><td>1.56</td><td>23.791913</td><td>&quot;과체중&quot;</td></tr><tr><td>&quot;Ben Brown&quot;</td><td>1985-02-15</td><td>72.5</td><td>1.77</td><td>23.141498</td><td>&quot;과체중&quot;</td></tr><tr><td>&quot;Chloe Cooper&quot;</td><td>1983-03-22</td><td>53.6</td><td>1.65</td><td>19.687787</td><td>&quot;정상&quot;</td></tr><tr><td>&quot;Daniel Donovan&quot;</td><td>1981-04-30</td><td>83.1</td><td>1.75</td><td>27.134694</td><td>&quot;과체중&quot;</td></tr></tbody></table></div>"
      ],
      "text/plain": [
       "shape: (4, 6)\n",
       "┌────────────────┬────────────┬────────┬────────┬───────────┬──────────┐\n",
       "│ name           ┆ birthdate  ┆ weight ┆ height ┆ BMI       ┆ BMI 판정 │\n",
       "│ ---            ┆ ---        ┆ ---    ┆ ---    ┆ ---       ┆ ---      │\n",
       "│ str            ┆ date       ┆ f64    ┆ f64    ┆ f64       ┆ str      │\n",
       "╞════════════════╪════════════╪════════╪════════╪═══════════╪══════════╡\n",
       "│ Alice Archer   ┆ 1997-01-10 ┆ 57.9   ┆ 1.56   ┆ 23.791913 ┆ 과체중   │\n",
       "│ Ben Brown      ┆ 1985-02-15 ┆ 72.5   ┆ 1.77   ┆ 23.141498 ┆ 과체중   │\n",
       "│ Chloe Cooper   ┆ 1983-03-22 ┆ 53.6   ┆ 1.65   ┆ 19.687787 ┆ 정상     │\n",
       "│ Daniel Donovan ┆ 1981-04-30 ┆ 83.1   ┆ 1.75   ┆ 27.134694 ┆ 과체중   │\n",
       "└────────────────┴────────────┴────────┴────────┴───────────┴──────────┘"
      ]
     },
     "execution_count": 21,
     "metadata": {},
     "output_type": "execute_result"
    }
   ],
   "source": [
    "df = df.with_columns(\n",
    "    pl.col('BMI'), pl.when(pl.col('BMI') > 23).then(pl.lit(\"과체중\")).otherwise(pl.lit(\"정상\")).alias('BMI 판정'))\n",
    "df"
   ]
  },
  {
   "cell_type": "code",
   "execution_count": 22,
   "id": "5f87cb7f-9610-40df-815b-752501dbf341",
   "metadata": {},
   "outputs": [
    {
     "data": {
      "text/html": [
       "<div><style>\n",
       ".dataframe > thead > tr,\n",
       ".dataframe > tbody > tr {\n",
       "  text-align: right;\n",
       "  white-space: pre-wrap;\n",
       "}\n",
       "</style>\n",
       "<small>shape: (4, 7)</small><table border=\"1\" class=\"dataframe\"><thead><tr><th>name</th><th>birthdate</th><th>weight</th><th>height</th><th>BMI</th><th>BMI 판정</th><th>enum_판정</th></tr><tr><td>str</td><td>date</td><td>f64</td><td>f64</td><td>f64</td><td>str</td><td>enum</td></tr></thead><tbody><tr><td>&quot;Alice Archer&quot;</td><td>1997-01-10</td><td>57.9</td><td>1.56</td><td>23.791913</td><td>&quot;과체중&quot;</td><td>&quot;과체중&quot;</td></tr><tr><td>&quot;Ben Brown&quot;</td><td>1985-02-15</td><td>72.5</td><td>1.77</td><td>23.141498</td><td>&quot;과체중&quot;</td><td>&quot;과체중&quot;</td></tr><tr><td>&quot;Chloe Cooper&quot;</td><td>1983-03-22</td><td>53.6</td><td>1.65</td><td>19.687787</td><td>&quot;정상&quot;</td><td>&quot;정상&quot;</td></tr><tr><td>&quot;Daniel Donovan&quot;</td><td>1981-04-30</td><td>83.1</td><td>1.75</td><td>27.134694</td><td>&quot;과체중&quot;</td><td>&quot;과체중&quot;</td></tr></tbody></table></div>"
      ],
      "text/plain": [
       "shape: (4, 7)\n",
       "┌────────────────┬────────────┬────────┬────────┬───────────┬──────────┬───────────┐\n",
       "│ name           ┆ birthdate  ┆ weight ┆ height ┆ BMI       ┆ BMI 판정 ┆ enum_판정 │\n",
       "│ ---            ┆ ---        ┆ ---    ┆ ---    ┆ ---       ┆ ---      ┆ ---       │\n",
       "│ str            ┆ date       ┆ f64    ┆ f64    ┆ f64       ┆ str      ┆ enum      │\n",
       "╞════════════════╪════════════╪════════╪════════╪═══════════╪══════════╪═══════════╡\n",
       "│ Alice Archer   ┆ 1997-01-10 ┆ 57.9   ┆ 1.56   ┆ 23.791913 ┆ 과체중   ┆ 과체중    │\n",
       "│ Ben Brown      ┆ 1985-02-15 ┆ 72.5   ┆ 1.77   ┆ 23.141498 ┆ 과체중   ┆ 과체중    │\n",
       "│ Chloe Cooper   ┆ 1983-03-22 ┆ 53.6   ┆ 1.65   ┆ 19.687787 ┆ 정상     ┆ 정상      │\n",
       "│ Daniel Donovan ┆ 1981-04-30 ┆ 83.1   ┆ 1.75   ┆ 27.134694 ┆ 과체중   ┆ 과체중    │\n",
       "└────────────────┴────────────┴────────┴────────┴───────────┴──────────┴───────────┘"
      ]
     },
     "execution_count": 22,
     "metadata": {},
     "output_type": "execute_result"
    }
   ],
   "source": [
    "BMI_enum = pl.Enum([\"저체중\", \"정상\", \"과체중\", \"비만\"])\n",
    "df = df.with_columns(pl.col('BMI 판정').cast(BMI_enum).alias('enum_판정'))\n",
    "df"
   ]
  },
  {
   "cell_type": "code",
   "execution_count": 23,
   "id": "509b3d21-6e73-4f80-bc68-2212e7634b35",
   "metadata": {},
   "outputs": [
    {
     "name": "stdout",
     "output_type": "stream",
     "text": [
      "InvalidOperationError: conversion from `str` to `enum` failed in column '' for 1 out of 5 values: [\"비만전단계\"]\n",
      "\n",
      "Ensure that all values in the input column are present in the categories of the enum datatype.\n"
     ]
    }
   ],
   "source": [
    "from polars.exceptions import InvalidOperationError\n",
    "try:\n",
    "    pl.Series([\"과체중\", \"비만\", \"정상\", \"과체중\", \"비만전단계\"], dtype = BMI_enum)\n",
    "except InvalidOperationError as exc:\n",
    "    print(\"InvalidOperationError:\", exc)"
   ]
  },
  {
   "cell_type": "code",
   "execution_count": 24,
   "id": "55bb3540-b116-41ec-80f0-8ee9c0ee6dad",
   "metadata": {},
   "outputs": [
    {
     "data": {
      "text/html": [
       "<div><style>\n",
       ".dataframe > thead > tr,\n",
       ".dataframe > tbody > tr {\n",
       "  text-align: right;\n",
       "  white-space: pre-wrap;\n",
       "}\n",
       "</style>\n",
       "<small>shape: (4, 7)</small><table border=\"1\" class=\"dataframe\"><thead><tr><th>name</th><th>birthdate</th><th>weight</th><th>height</th><th>BMI</th><th>BMI 판정</th><th>enum_판정</th></tr><tr><td>str</td><td>date</td><td>f64</td><td>f64</td><td>f64</td><td>str</td><td>enum</td></tr></thead><tbody><tr><td>&quot;Chloe Cooper&quot;</td><td>1983-03-22</td><td>53.6</td><td>1.65</td><td>19.687787</td><td>&quot;정상&quot;</td><td>&quot;정상&quot;</td></tr><tr><td>&quot;Alice Archer&quot;</td><td>1997-01-10</td><td>57.9</td><td>1.56</td><td>23.791913</td><td>&quot;과체중&quot;</td><td>&quot;과체중&quot;</td></tr><tr><td>&quot;Ben Brown&quot;</td><td>1985-02-15</td><td>72.5</td><td>1.77</td><td>23.141498</td><td>&quot;과체중&quot;</td><td>&quot;과체중&quot;</td></tr><tr><td>&quot;Daniel Donovan&quot;</td><td>1981-04-30</td><td>83.1</td><td>1.75</td><td>27.134694</td><td>&quot;과체중&quot;</td><td>&quot;과체중&quot;</td></tr></tbody></table></div>"
      ],
      "text/plain": [
       "shape: (4, 7)\n",
       "┌────────────────┬────────────┬────────┬────────┬───────────┬──────────┬───────────┐\n",
       "│ name           ┆ birthdate  ┆ weight ┆ height ┆ BMI       ┆ BMI 판정 ┆ enum_판정 │\n",
       "│ ---            ┆ ---        ┆ ---    ┆ ---    ┆ ---       ┆ ---      ┆ ---       │\n",
       "│ str            ┆ date       ┆ f64    ┆ f64    ┆ f64       ┆ str      ┆ enum      │\n",
       "╞════════════════╪════════════╪════════╪════════╪═══════════╪══════════╪═══════════╡\n",
       "│ Chloe Cooper   ┆ 1983-03-22 ┆ 53.6   ┆ 1.65   ┆ 19.687787 ┆ 정상     ┆ 정상      │\n",
       "│ Alice Archer   ┆ 1997-01-10 ┆ 57.9   ┆ 1.56   ┆ 23.791913 ┆ 과체중   ┆ 과체중    │\n",
       "│ Ben Brown      ┆ 1985-02-15 ┆ 72.5   ┆ 1.77   ┆ 23.141498 ┆ 과체중   ┆ 과체중    │\n",
       "│ Daniel Donovan ┆ 1981-04-30 ┆ 83.1   ┆ 1.75   ┆ 27.134694 ┆ 과체중   ┆ 과체중    │\n",
       "└────────────────┴────────────┴────────┴────────┴───────────┴──────────┴───────────┘"
      ]
     },
     "execution_count": 24,
     "metadata": {},
     "output_type": "execute_result"
    }
   ],
   "source": [
    "df.sort('enum_판정')"
   ]
  },
  {
   "cell_type": "code",
   "execution_count": 25,
   "id": "b2c4ee31-013f-4460-b414-6a6a162a7b5e",
   "metadata": {},
   "outputs": [
    {
     "data": {
      "text/html": [
       "<div><style>\n",
       ".dataframe > thead > tr,\n",
       ".dataframe > tbody > tr {\n",
       "  text-align: right;\n",
       "  white-space: pre-wrap;\n",
       "}\n",
       "</style>\n",
       "<small>shape: (3, 7)</small><table border=\"1\" class=\"dataframe\"><thead><tr><th>name</th><th>birthdate</th><th>weight</th><th>height</th><th>BMI</th><th>BMI 판정</th><th>enum_판정</th></tr><tr><td>str</td><td>date</td><td>f64</td><td>f64</td><td>f64</td><td>str</td><td>enum</td></tr></thead><tbody><tr><td>&quot;Alice Archer&quot;</td><td>1997-01-10</td><td>57.9</td><td>1.56</td><td>23.791913</td><td>&quot;과체중&quot;</td><td>&quot;과체중&quot;</td></tr><tr><td>&quot;Ben Brown&quot;</td><td>1985-02-15</td><td>72.5</td><td>1.77</td><td>23.141498</td><td>&quot;과체중&quot;</td><td>&quot;과체중&quot;</td></tr><tr><td>&quot;Daniel Donovan&quot;</td><td>1981-04-30</td><td>83.1</td><td>1.75</td><td>27.134694</td><td>&quot;과체중&quot;</td><td>&quot;과체중&quot;</td></tr></tbody></table></div>"
      ],
      "text/plain": [
       "shape: (3, 7)\n",
       "┌────────────────┬────────────┬────────┬────────┬───────────┬──────────┬───────────┐\n",
       "│ name           ┆ birthdate  ┆ weight ┆ height ┆ BMI       ┆ BMI 판정 ┆ enum_판정 │\n",
       "│ ---            ┆ ---        ┆ ---    ┆ ---    ┆ ---       ┆ ---      ┆ ---       │\n",
       "│ str            ┆ date       ┆ f64    ┆ f64    ┆ f64       ┆ str      ┆ enum      │\n",
       "╞════════════════╪════════════╪════════╪════════╪═══════════╪══════════╪═══════════╡\n",
       "│ Alice Archer   ┆ 1997-01-10 ┆ 57.9   ┆ 1.56   ┆ 23.791913 ┆ 과체중   ┆ 과체중    │\n",
       "│ Ben Brown      ┆ 1985-02-15 ┆ 72.5   ┆ 1.77   ┆ 23.141498 ┆ 과체중   ┆ 과체중    │\n",
       "│ Daniel Donovan ┆ 1981-04-30 ┆ 83.1   ┆ 1.75   ┆ 27.134694 ┆ 과체중   ┆ 과체중    │\n",
       "└────────────────┴────────────┴────────┴────────┴───────────┴──────────┴───────────┘"
      ]
     },
     "execution_count": 25,
     "metadata": {},
     "output_type": "execute_result"
    }
   ],
   "source": [
    "df.filter((pl.col('enum_판정') > \"정상\"))"
   ]
  },
  {
   "cell_type": "code",
   "execution_count": 26,
   "id": "170ad0ac-f3ce-4e7e-b90f-a07661644efa",
   "metadata": {},
   "outputs": [
    {
     "data": {
      "text/html": [
       "<div><style>\n",
       ".dataframe > thead > tr,\n",
       ".dataframe > tbody > tr {\n",
       "  text-align: right;\n",
       "  white-space: pre-wrap;\n",
       "}\n",
       "</style>\n",
       "<small>shape: (4, 7)</small><table border=\"1\" class=\"dataframe\"><thead><tr><th>name</th><th>birthdate</th><th>weight</th><th>height</th><th>BMI</th><th>BMI 판정</th><th>enum_판정</th></tr><tr><td>str</td><td>date</td><td>f64</td><td>f64</td><td>f64</td><td>str</td><td>cat</td></tr></thead><tbody><tr><td>&quot;Alice Archer&quot;</td><td>1997-01-10</td><td>57.9</td><td>1.56</td><td>23.791913</td><td>&quot;과체중&quot;</td><td>&quot;과체중&quot;</td></tr><tr><td>&quot;Ben Brown&quot;</td><td>1985-02-15</td><td>72.5</td><td>1.77</td><td>23.141498</td><td>&quot;과체중&quot;</td><td>&quot;과체중&quot;</td></tr><tr><td>&quot;Chloe Cooper&quot;</td><td>1983-03-22</td><td>53.6</td><td>1.65</td><td>19.687787</td><td>&quot;정상&quot;</td><td>&quot;정상&quot;</td></tr><tr><td>&quot;Daniel Donovan&quot;</td><td>1981-04-30</td><td>83.1</td><td>1.75</td><td>27.134694</td><td>&quot;과체중&quot;</td><td>&quot;과체중&quot;</td></tr></tbody></table></div>"
      ],
      "text/plain": [
       "shape: (4, 7)\n",
       "┌────────────────┬────────────┬────────┬────────┬───────────┬──────────┬───────────┐\n",
       "│ name           ┆ birthdate  ┆ weight ┆ height ┆ BMI       ┆ BMI 판정 ┆ enum_판정 │\n",
       "│ ---            ┆ ---        ┆ ---    ┆ ---    ┆ ---       ┆ ---      ┆ ---       │\n",
       "│ str            ┆ date       ┆ f64    ┆ f64    ┆ f64       ┆ str      ┆ cat       │\n",
       "╞════════════════╪════════════╪════════╪════════╪═══════════╪══════════╪═══════════╡\n",
       "│ Alice Archer   ┆ 1997-01-10 ┆ 57.9   ┆ 1.56   ┆ 23.791913 ┆ 과체중   ┆ 과체중    │\n",
       "│ Ben Brown      ┆ 1985-02-15 ┆ 72.5   ┆ 1.77   ┆ 23.141498 ┆ 과체중   ┆ 과체중    │\n",
       "│ Chloe Cooper   ┆ 1983-03-22 ┆ 53.6   ┆ 1.65   ┆ 19.687787 ┆ 정상     ┆ 정상      │\n",
       "│ Daniel Donovan ┆ 1981-04-30 ┆ 83.1   ┆ 1.75   ┆ 27.134694 ┆ 과체중   ┆ 과체중    │\n",
       "└────────────────┴────────────┴────────┴────────┴───────────┴──────────┴───────────┘"
      ]
     },
     "execution_count": 26,
     "metadata": {},
     "output_type": "execute_result"
    }
   ],
   "source": [
    "df = df.with_columns(pl.col('enum_판정').cast(pl.Categorical))\n",
    "df"
   ]
  },
  {
   "cell_type": "code",
   "execution_count": 27,
   "id": "30e27bf0-a2b3-4d5c-8404-32eae6441632",
   "metadata": {},
   "outputs": [
    {
     "data": {
      "text/html": [
       "<div><style>\n",
       ".dataframe > thead > tr,\n",
       ".dataframe > tbody > tr {\n",
       "  text-align: right;\n",
       "  white-space: pre-wrap;\n",
       "}\n",
       "</style>\n",
       "<small>shape: (4, 8)</small><table border=\"1\" class=\"dataframe\"><thead><tr><th>name</th><th>birthdate</th><th>weight</th><th>height</th><th>BMI</th><th>BMI 판정</th><th>enum_판정</th><th>literal</th></tr><tr><td>str</td><td>date</td><td>f64</td><td>f64</td><td>f64</td><td>str</td><td>cat</td><td>str</td></tr></thead><tbody><tr><td>&quot;Alice Archer&quot;</td><td>1997-01-10</td><td>57.9</td><td>1.56</td><td>23.791913</td><td>&quot;과체중&quot;</td><td>&quot;과체중&quot;</td><td>&quot;저체중&quot;</td></tr><tr><td>&quot;Ben Brown&quot;</td><td>1985-02-15</td><td>72.5</td><td>1.77</td><td>23.141498</td><td>&quot;과체중&quot;</td><td>&quot;과체중&quot;</td><td>&quot;저체중&quot;</td></tr><tr><td>&quot;Chloe Cooper&quot;</td><td>1983-03-22</td><td>53.6</td><td>1.65</td><td>19.687787</td><td>&quot;정상&quot;</td><td>&quot;정상&quot;</td><td>&quot;비만&quot;</td></tr><tr><td>&quot;Daniel Donovan&quot;</td><td>1981-04-30</td><td>83.1</td><td>1.75</td><td>27.134694</td><td>&quot;과체중&quot;</td><td>&quot;과체중&quot;</td><td>&quot;저체중&quot;</td></tr></tbody></table></div>"
      ],
      "text/plain": [
       "shape: (4, 8)\n",
       "┌────────────────┬────────────┬────────┬────────┬───────────┬──────────┬───────────┬─────────┐\n",
       "│ name           ┆ birthdate  ┆ weight ┆ height ┆ BMI       ┆ BMI 판정 ┆ enum_판정 ┆ literal │\n",
       "│ ---            ┆ ---        ┆ ---    ┆ ---    ┆ ---       ┆ ---      ┆ ---       ┆ ---     │\n",
       "│ str            ┆ date       ┆ f64    ┆ f64    ┆ f64       ┆ str      ┆ cat       ┆ str     │\n",
       "╞════════════════╪════════════╪════════╪════════╪═══════════╪══════════╪═══════════╪═════════╡\n",
       "│ Alice Archer   ┆ 1997-01-10 ┆ 57.9   ┆ 1.56   ┆ 23.791913 ┆ 과체중   ┆ 과체중    ┆ 저체중  │\n",
       "│ Ben Brown      ┆ 1985-02-15 ┆ 72.5   ┆ 1.77   ┆ 23.141498 ┆ 과체중   ┆ 과체중    ┆ 저체중  │\n",
       "│ Chloe Cooper   ┆ 1983-03-22 ┆ 53.6   ┆ 1.65   ┆ 19.687787 ┆ 정상     ┆ 정상      ┆ 비만    │\n",
       "│ Daniel Donovan ┆ 1981-04-30 ┆ 83.1   ┆ 1.75   ┆ 27.134694 ┆ 과체중   ┆ 과체중    ┆ 저체중  │\n",
       "└────────────────┴────────────┴────────┴────────┴───────────┴──────────┴───────────┴─────────┘"
      ]
     },
     "execution_count": 27,
     "metadata": {},
     "output_type": "execute_result"
    }
   ],
   "source": [
    "df.with_columns(pl.when(pl.col('enum_판정') < \"정상\").then(pl.lit(\"저체중\")).otherwise(pl.lit(\"비만\")))"
   ]
  },
  {
   "cell_type": "code",
   "execution_count": 28,
   "id": "7750e971-b6a1-4f63-9993-e635fcbeeea4",
   "metadata": {},
   "outputs": [
    {
     "data": {
      "text/html": [
       "<div><style>\n",
       ".dataframe > thead > tr,\n",
       ".dataframe > tbody > tr {\n",
       "  text-align: right;\n",
       "  white-space: pre-wrap;\n",
       "}\n",
       "</style>\n",
       "<small>shape: (4, 5)</small><table border=\"1\" class=\"dataframe\"><thead><tr><th>name</th><th>birthdate</th><th>weight</th><th>height</th><th>BMI</th></tr><tr><td>str</td><td>date</td><td>f64</td><td>f64</td><td>f64</td></tr></thead><tbody><tr><td>&quot;Alice Archer&quot;</td><td>1997-01-10</td><td>57.9</td><td>null</td><td>23.79</td></tr><tr><td>&quot;Ben Brown&quot;</td><td>null</td><td>72.5</td><td>1.77</td><td>23.14</td></tr><tr><td>&quot;Chloe Cooper&quot;</td><td>1983-03-22</td><td>null</td><td>1.65</td><td>19.68</td></tr><tr><td>&quot;Daniel Donovan&quot;</td><td>1981-04-30</td><td>83.1</td><td>NaN</td><td>27.13</td></tr></tbody></table></div>"
      ],
      "text/plain": [
       "shape: (4, 5)\n",
       "┌────────────────┬────────────┬────────┬────────┬───────┐\n",
       "│ name           ┆ birthdate  ┆ weight ┆ height ┆ BMI   │\n",
       "│ ---            ┆ ---        ┆ ---    ┆ ---    ┆ ---   │\n",
       "│ str            ┆ date       ┆ f64    ┆ f64    ┆ f64   │\n",
       "╞════════════════╪════════════╪════════╪════════╪═══════╡\n",
       "│ Alice Archer   ┆ 1997-01-10 ┆ 57.9   ┆ null   ┆ 23.79 │\n",
       "│ Ben Brown      ┆ null       ┆ 72.5   ┆ 1.77   ┆ 23.14 │\n",
       "│ Chloe Cooper   ┆ 1983-03-22 ┆ null   ┆ 1.65   ┆ 19.68 │\n",
       "│ Daniel Donovan ┆ 1981-04-30 ┆ 83.1   ┆ NaN    ┆ 27.13 │\n",
       "└────────────────┴────────────┴────────┴────────┴───────┘"
      ]
     },
     "execution_count": 28,
     "metadata": {},
     "output_type": "execute_result"
    }
   ],
   "source": [
    "df_missing = pl.DataFrame([\n",
    "    pl.Series('name', [\"Alice Archer\", \"Ben Brown\", \"Chloe Cooper\", \"Daniel Donovan\"]),\n",
    "    pl.Series('birthdate', [date(1997, 1, 10), None, date(1983, 3, 22), date(1981, 4, 30)]),\n",
    "    pl.Series('weight', [57.9, 72.5, None, 83.1]),  # (kg)\n",
    "    pl.Series('height', [None, 1.77, 1.65, float(\"nan\")]),  # (m)\n",
    "    pl.Series('BMI', [23.79, 23.14, 19.68, 27.13])])\n",
    "df_missing"
   ]
  },
  {
   "cell_type": "code",
   "execution_count": 29,
   "id": "43a378d4-27b4-43e3-a937-f110dc07508a",
   "metadata": {},
   "outputs": [
    {
     "data": {
      "text/html": [
       "<div><style>\n",
       ".dataframe > thead > tr,\n",
       ".dataframe > tbody > tr {\n",
       "  text-align: right;\n",
       "  white-space: pre-wrap;\n",
       "}\n",
       "</style>\n",
       "<small>shape: (1, 5)</small><table border=\"1\" class=\"dataframe\"><thead><tr><th>name</th><th>birthdate</th><th>weight</th><th>height</th><th>BMI</th></tr><tr><td>u32</td><td>u32</td><td>u32</td><td>u32</td><td>u32</td></tr></thead><tbody><tr><td>0</td><td>1</td><td>1</td><td>1</td><td>0</td></tr></tbody></table></div>"
      ],
      "text/plain": [
       "shape: (1, 5)\n",
       "┌──────┬───────────┬────────┬────────┬─────┐\n",
       "│ name ┆ birthdate ┆ weight ┆ height ┆ BMI │\n",
       "│ ---  ┆ ---       ┆ ---    ┆ ---    ┆ --- │\n",
       "│ u32  ┆ u32       ┆ u32    ┆ u32    ┆ u32 │\n",
       "╞══════╪═══════════╪════════╪════════╪═════╡\n",
       "│ 0    ┆ 1         ┆ 1      ┆ 1      ┆ 0   │\n",
       "└──────┴───────────┴────────┴────────┴─────┘"
      ]
     },
     "execution_count": 29,
     "metadata": {},
     "output_type": "execute_result"
    }
   ],
   "source": [
    "df_missing.null_count()"
   ]
  },
  {
   "cell_type": "code",
   "execution_count": 30,
   "id": "6f1bf4e6-0e15-4d3c-8299-f75cf8834789",
   "metadata": {},
   "outputs": [
    {
     "data": {
      "text/html": [
       "<div><style>\n",
       ".dataframe > thead > tr,\n",
       ".dataframe > tbody > tr {\n",
       "  text-align: right;\n",
       "  white-space: pre-wrap;\n",
       "}\n",
       "</style>\n",
       "<small>shape: (1, 1)</small><table border=\"1\" class=\"dataframe\"><thead><tr><th>name</th></tr><tr><td>u32</td></tr></thead><tbody><tr><td>0</td></tr></tbody></table></div>"
      ],
      "text/plain": [
       "shape: (1, 1)\n",
       "┌──────┐\n",
       "│ name │\n",
       "│ ---  │\n",
       "│ u32  │\n",
       "╞══════╡\n",
       "│ 0    │\n",
       "└──────┘"
      ]
     },
     "execution_count": 30,
     "metadata": {},
     "output_type": "execute_result"
    }
   ],
   "source": [
    "df_missing.select(pl.col('name').null_count())"
   ]
  },
  {
   "cell_type": "code",
   "execution_count": 31,
   "id": "f141e991-8de3-4e15-b1e3-80194fd667a5",
   "metadata": {},
   "outputs": [
    {
     "data": {
      "text/html": [
       "<div><style>\n",
       ".dataframe > thead > tr,\n",
       ".dataframe > tbody > tr {\n",
       "  text-align: right;\n",
       "  white-space: pre-wrap;\n",
       "}\n",
       "</style>\n",
       "<small>shape: (4, 5)</small><table border=\"1\" class=\"dataframe\"><thead><tr><th>name</th><th>birthdate</th><th>weight</th><th>height</th><th>BMI</th></tr><tr><td>bool</td><td>bool</td><td>bool</td><td>bool</td><td>bool</td></tr></thead><tbody><tr><td>false</td><td>false</td><td>false</td><td>true</td><td>false</td></tr><tr><td>false</td><td>true</td><td>false</td><td>false</td><td>false</td></tr><tr><td>false</td><td>false</td><td>true</td><td>false</td><td>false</td></tr><tr><td>false</td><td>false</td><td>false</td><td>false</td><td>false</td></tr></tbody></table></div>"
      ],
      "text/plain": [
       "shape: (4, 5)\n",
       "┌───────┬───────────┬────────┬────────┬───────┐\n",
       "│ name  ┆ birthdate ┆ weight ┆ height ┆ BMI   │\n",
       "│ ---   ┆ ---       ┆ ---    ┆ ---    ┆ ---   │\n",
       "│ bool  ┆ bool      ┆ bool   ┆ bool   ┆ bool  │\n",
       "╞═══════╪═══════════╪════════╪════════╪═══════╡\n",
       "│ false ┆ false     ┆ false  ┆ true   ┆ false │\n",
       "│ false ┆ true      ┆ false  ┆ false  ┆ false │\n",
       "│ false ┆ false     ┆ true   ┆ false  ┆ false │\n",
       "│ false ┆ false     ┆ false  ┆ false  ┆ false │\n",
       "└───────┴───────────┴────────┴────────┴───────┘"
      ]
     },
     "execution_count": 31,
     "metadata": {},
     "output_type": "execute_result"
    }
   ],
   "source": [
    "df_missing.select(pl.col('*').is_null())"
   ]
  },
  {
   "cell_type": "code",
   "execution_count": 32,
   "id": "efe2bc1e-f1ea-4e18-b3e6-03a19a37e975",
   "metadata": {},
   "outputs": [
    {
     "data": {
      "text/html": [
       "<div><style>\n",
       ".dataframe > thead > tr,\n",
       ".dataframe > tbody > tr {\n",
       "  text-align: right;\n",
       "  white-space: pre-wrap;\n",
       "}\n",
       "</style>\n",
       "<small>shape: (1, 5)</small><table border=\"1\" class=\"dataframe\"><thead><tr><th>name</th><th>birthdate</th><th>weight</th><th>height</th><th>BMI</th></tr><tr><td>str</td><td>date</td><td>f64</td><td>f64</td><td>f64</td></tr></thead><tbody><tr><td>&quot;Daniel Donovan&quot;</td><td>1981-04-30</td><td>83.1</td><td>NaN</td><td>27.13</td></tr></tbody></table></div>"
      ],
      "text/plain": [
       "shape: (1, 5)\n",
       "┌────────────────┬────────────┬────────┬────────┬───────┐\n",
       "│ name           ┆ birthdate  ┆ weight ┆ height ┆ BMI   │\n",
       "│ ---            ┆ ---        ┆ ---    ┆ ---    ┆ ---   │\n",
       "│ str            ┆ date       ┆ f64    ┆ f64    ┆ f64   │\n",
       "╞════════════════╪════════════╪════════╪════════╪═══════╡\n",
       "│ Daniel Donovan ┆ 1981-04-30 ┆ 83.1   ┆ NaN    ┆ 27.13 │\n",
       "└────────────────┴────────────┴────────┴────────┴───────┘"
      ]
     },
     "execution_count": 32,
     "metadata": {},
     "output_type": "execute_result"
    }
   ],
   "source": [
    "df_missing.drop_nulls()"
   ]
  },
  {
   "cell_type": "code",
   "execution_count": 33,
   "id": "338967f9-db01-44d9-b435-c547211ea7a2",
   "metadata": {},
   "outputs": [
    {
     "data": {
      "text/html": [
       "<div><style>\n",
       ".dataframe > thead > tr,\n",
       ".dataframe > tbody > tr {\n",
       "  text-align: right;\n",
       "  white-space: pre-wrap;\n",
       "}\n",
       "</style>\n",
       "<small>shape: (3, 1)</small><table border=\"1\" class=\"dataframe\"><thead><tr><th>birthdate</th></tr><tr><td>date</td></tr></thead><tbody><tr><td>1997-01-10</td></tr><tr><td>1983-03-22</td></tr><tr><td>1981-04-30</td></tr></tbody></table></div>"
      ],
      "text/plain": [
       "shape: (3, 1)\n",
       "┌────────────┐\n",
       "│ birthdate  │\n",
       "│ ---        │\n",
       "│ date       │\n",
       "╞════════════╡\n",
       "│ 1997-01-10 │\n",
       "│ 1983-03-22 │\n",
       "│ 1981-04-30 │\n",
       "└────────────┘"
      ]
     },
     "execution_count": 33,
     "metadata": {},
     "output_type": "execute_result"
    }
   ],
   "source": [
    "df_missing.select(pl.col('birthdate').drop_nulls())"
   ]
  },
  {
   "cell_type": "code",
   "execution_count": 34,
   "id": "adc19806-7f8b-4f23-b938-ad0adccd0439",
   "metadata": {},
   "outputs": [
    {
     "data": {
      "text/html": [
       "<div><style>\n",
       ".dataframe > thead > tr,\n",
       ".dataframe > tbody > tr {\n",
       "  text-align: right;\n",
       "  white-space: pre-wrap;\n",
       "}\n",
       "</style>\n",
       "<small>shape: (3, 1)</small><table border=\"1\" class=\"dataframe\"><thead><tr><th>height</th></tr><tr><td>f64</td></tr></thead><tbody><tr><td>null</td></tr><tr><td>1.77</td></tr><tr><td>1.65</td></tr></tbody></table></div>"
      ],
      "text/plain": [
       "shape: (3, 1)\n",
       "┌────────┐\n",
       "│ height │\n",
       "│ ---    │\n",
       "│ f64    │\n",
       "╞════════╡\n",
       "│ null   │\n",
       "│ 1.77   │\n",
       "│ 1.65   │\n",
       "└────────┘"
      ]
     },
     "execution_count": 34,
     "metadata": {},
     "output_type": "execute_result"
    }
   ],
   "source": [
    "df_missing.select(pl.col('height').drop_nans())"
   ]
  },
  {
   "cell_type": "code",
   "execution_count": 35,
   "id": "cc911682-6865-4572-b3d8-d590ef46fdd5",
   "metadata": {},
   "outputs": [
    {
     "data": {
      "text/html": [
       "<div><style>\n",
       ".dataframe > thead > tr,\n",
       ".dataframe > tbody > tr {\n",
       "  text-align: right;\n",
       "  white-space: pre-wrap;\n",
       "}\n",
       "</style>\n",
       "<small>shape: (4, 5)</small><table border=\"1\" class=\"dataframe\"><thead><tr><th>name</th><th>birthdate</th><th>weight</th><th>height</th><th>BMI</th></tr><tr><td>str</td><td>date</td><td>f64</td><td>f64</td><td>f64</td></tr></thead><tbody><tr><td>&quot;Alice Archer&quot;</td><td>1997-01-10</td><td>57.9</td><td>0.0</td><td>23.79</td></tr><tr><td>&quot;Ben Brown&quot;</td><td>null</td><td>72.5</td><td>1.77</td><td>23.14</td></tr><tr><td>&quot;Chloe Cooper&quot;</td><td>1983-03-22</td><td>0.0</td><td>1.65</td><td>19.68</td></tr><tr><td>&quot;Daniel Donovan&quot;</td><td>1981-04-30</td><td>83.1</td><td>NaN</td><td>27.13</td></tr></tbody></table></div>"
      ],
      "text/plain": [
       "shape: (4, 5)\n",
       "┌────────────────┬────────────┬────────┬────────┬───────┐\n",
       "│ name           ┆ birthdate  ┆ weight ┆ height ┆ BMI   │\n",
       "│ ---            ┆ ---        ┆ ---    ┆ ---    ┆ ---   │\n",
       "│ str            ┆ date       ┆ f64    ┆ f64    ┆ f64   │\n",
       "╞════════════════╪════════════╪════════╪════════╪═══════╡\n",
       "│ Alice Archer   ┆ 1997-01-10 ┆ 57.9   ┆ 0.0    ┆ 23.79 │\n",
       "│ Ben Brown      ┆ null       ┆ 72.5   ┆ 1.77   ┆ 23.14 │\n",
       "│ Chloe Cooper   ┆ 1983-03-22 ┆ 0.0    ┆ 1.65   ┆ 19.68 │\n",
       "│ Daniel Donovan ┆ 1981-04-30 ┆ 83.1   ┆ NaN    ┆ 27.13 │\n",
       "└────────────────┴────────────┴────────┴────────┴───────┘"
      ]
     },
     "execution_count": 35,
     "metadata": {},
     "output_type": "execute_result"
    }
   ],
   "source": [
    "df_missing.with_columns(pl.col('height', 'weight').fill_null(0))"
   ]
  },
  {
   "cell_type": "code",
   "execution_count": 36,
   "id": "acb1e057-fa58-4b5b-973e-60e942412a97",
   "metadata": {},
   "outputs": [
    {
     "data": {
      "text/html": [
       "<div><style>\n",
       ".dataframe > thead > tr,\n",
       ".dataframe > tbody > tr {\n",
       "  text-align: right;\n",
       "  white-space: pre-wrap;\n",
       "}\n",
       "</style>\n",
       "<small>shape: (4, 5)</small><table border=\"1\" class=\"dataframe\"><thead><tr><th>name</th><th>birthdate</th><th>weight</th><th>height</th><th>BMI</th></tr><tr><td>str</td><td>date</td><td>f64</td><td>f64</td><td>f64</td></tr></thead><tbody><tr><td>&quot;Alice Archer&quot;</td><td>1997-01-10</td><td>57.9</td><td>null</td><td>23.79</td></tr><tr><td>&quot;Ben Brown&quot;</td><td>null</td><td>72.5</td><td>1.77</td><td>23.14</td></tr><tr><td>&quot;Chloe Cooper&quot;</td><td>1983-03-22</td><td>null</td><td>1.65</td><td>19.68</td></tr><tr><td>&quot;Daniel Donovan&quot;</td><td>1981-04-30</td><td>83.1</td><td>0.0</td><td>27.13</td></tr></tbody></table></div>"
      ],
      "text/plain": [
       "shape: (4, 5)\n",
       "┌────────────────┬────────────┬────────┬────────┬───────┐\n",
       "│ name           ┆ birthdate  ┆ weight ┆ height ┆ BMI   │\n",
       "│ ---            ┆ ---        ┆ ---    ┆ ---    ┆ ---   │\n",
       "│ str            ┆ date       ┆ f64    ┆ f64    ┆ f64   │\n",
       "╞════════════════╪════════════╪════════╪════════╪═══════╡\n",
       "│ Alice Archer   ┆ 1997-01-10 ┆ 57.9   ┆ null   ┆ 23.79 │\n",
       "│ Ben Brown      ┆ null       ┆ 72.5   ┆ 1.77   ┆ 23.14 │\n",
       "│ Chloe Cooper   ┆ 1983-03-22 ┆ null   ┆ 1.65   ┆ 19.68 │\n",
       "│ Daniel Donovan ┆ 1981-04-30 ┆ 83.1   ┆ 0.0    ┆ 27.13 │\n",
       "└────────────────┴────────────┴────────┴────────┴───────┘"
      ]
     },
     "execution_count": 36,
     "metadata": {},
     "output_type": "execute_result"
    }
   ],
   "source": [
    "df_missing.fill_nan(0)"
   ]
  },
  {
   "cell_type": "code",
   "execution_count": 37,
   "id": "67d4e16a-b8b2-4b92-b278-c35bb5df6c79",
   "metadata": {},
   "outputs": [
    {
     "data": {
      "text/html": [
       "<div><style>\n",
       ".dataframe > thead > tr,\n",
       ".dataframe > tbody > tr {\n",
       "  text-align: right;\n",
       "  white-space: pre-wrap;\n",
       "}\n",
       "</style>\n",
       "<small>shape: (4, 5)</small><table border=\"1\" class=\"dataframe\"><thead><tr><th>name</th><th>birthdate</th><th>weight</th><th>height</th><th>BMI</th></tr><tr><td>str</td><td>date</td><td>f64</td><td>f64</td><td>f64</td></tr></thead><tbody><tr><td>&quot;Alice Archer&quot;</td><td>1997-01-10</td><td>57.9</td><td>1.560063</td><td>23.79</td></tr><tr><td>&quot;Ben Brown&quot;</td><td>null</td><td>72.5</td><td>1.77</td><td>23.14</td></tr><tr><td>&quot;Chloe Cooper&quot;</td><td>1983-03-22</td><td>null</td><td>1.65</td><td>19.68</td></tr><tr><td>&quot;Daniel Donovan&quot;</td><td>1981-04-30</td><td>83.1</td><td>NaN</td><td>27.13</td></tr></tbody></table></div>"
      ],
      "text/plain": [
       "shape: (4, 5)\n",
       "┌────────────────┬────────────┬────────┬──────────┬───────┐\n",
       "│ name           ┆ birthdate  ┆ weight ┆ height   ┆ BMI   │\n",
       "│ ---            ┆ ---        ┆ ---    ┆ ---      ┆ ---   │\n",
       "│ str            ┆ date       ┆ f64    ┆ f64      ┆ f64   │\n",
       "╞════════════════╪════════════╪════════╪══════════╪═══════╡\n",
       "│ Alice Archer   ┆ 1997-01-10 ┆ 57.9   ┆ 1.560063 ┆ 23.79 │\n",
       "│ Ben Brown      ┆ null       ┆ 72.5   ┆ 1.77     ┆ 23.14 │\n",
       "│ Chloe Cooper   ┆ 1983-03-22 ┆ null   ┆ 1.65     ┆ 19.68 │\n",
       "│ Daniel Donovan ┆ 1981-04-30 ┆ 83.1   ┆ NaN      ┆ 27.13 │\n",
       "└────────────────┴────────────┴────────┴──────────┴───────┘"
      ]
     },
     "execution_count": 37,
     "metadata": {},
     "output_type": "execute_result"
    }
   ],
   "source": [
    "df_missing.with_columns(pl.col('height').fill_null((pl.col('weight') / pl.col('BMI')).sqrt()))"
   ]
  },
  {
   "cell_type": "code",
   "execution_count": 38,
   "id": "4913fc67-4980-4044-bfd9-3149baabddbc",
   "metadata": {},
   "outputs": [
    {
     "data": {
      "text/html": [
       "<div><style>\n",
       ".dataframe > thead > tr,\n",
       ".dataframe > tbody > tr {\n",
       "  text-align: right;\n",
       "  white-space: pre-wrap;\n",
       "}\n",
       "</style>\n",
       "<small>shape: (4, 5)</small><table border=\"1\" class=\"dataframe\"><thead><tr><th>name</th><th>birthdate</th><th>weight</th><th>height</th><th>BMI</th></tr><tr><td>str</td><td>date</td><td>f64</td><td>f64</td><td>f64</td></tr></thead><tbody><tr><td>&quot;Alice Archer&quot;</td><td>1997-01-10</td><td>57.9</td><td>1.77</td><td>23.79</td></tr><tr><td>&quot;Ben Brown&quot;</td><td>1983-03-22</td><td>72.5</td><td>1.77</td><td>23.14</td></tr><tr><td>&quot;Chloe Cooper&quot;</td><td>1983-03-22</td><td>83.1</td><td>1.65</td><td>19.68</td></tr><tr><td>&quot;Daniel Donovan&quot;</td><td>1981-04-30</td><td>83.1</td><td>NaN</td><td>27.13</td></tr></tbody></table></div>"
      ],
      "text/plain": [
       "shape: (4, 5)\n",
       "┌────────────────┬────────────┬────────┬────────┬───────┐\n",
       "│ name           ┆ birthdate  ┆ weight ┆ height ┆ BMI   │\n",
       "│ ---            ┆ ---        ┆ ---    ┆ ---    ┆ ---   │\n",
       "│ str            ┆ date       ┆ f64    ┆ f64    ┆ f64   │\n",
       "╞════════════════╪════════════╪════════╪════════╪═══════╡\n",
       "│ Alice Archer   ┆ 1997-01-10 ┆ 57.9   ┆ 1.77   ┆ 23.79 │\n",
       "│ Ben Brown      ┆ 1983-03-22 ┆ 72.5   ┆ 1.77   ┆ 23.14 │\n",
       "│ Chloe Cooper   ┆ 1983-03-22 ┆ 83.1   ┆ 1.65   ┆ 19.68 │\n",
       "│ Daniel Donovan ┆ 1981-04-30 ┆ 83.1   ┆ NaN    ┆ 27.13 │\n",
       "└────────────────┴────────────┴────────┴────────┴───────┘"
      ]
     },
     "execution_count": 38,
     "metadata": {},
     "output_type": "execute_result"
    }
   ],
   "source": [
    "df_missing.fill_null(strategy = \"backward\")"
   ]
  },
  {
   "cell_type": "markdown",
   "id": "5661d402-4ce8-4d73-8437-d0a6216027a6",
   "metadata": {},
   "source": [
    "## 4.5 콘텍스트"
   ]
  },
  {
   "cell_type": "code",
   "execution_count": 39,
   "id": "7e86e8d3-c6c3-4230-9490-d9bee17ad75f",
   "metadata": {},
   "outputs": [
    {
     "data": {
      "text/html": [
       "<div><style>\n",
       ".dataframe > thead > tr,\n",
       ".dataframe > tbody > tr {\n",
       "  text-align: right;\n",
       "  white-space: pre-wrap;\n",
       "}\n",
       "</style>\n",
       "<small>shape: (4, 3)</small><table border=\"1\" class=\"dataframe\"><thead><tr><th>bmi</th><th>avg_bmi</th><th>ideal_max_bmi</th></tr><tr><td>f64</td><td>f64</td><td>i32</td></tr></thead><tbody><tr><td>23.791913</td><td>23.438973</td><td>25</td></tr><tr><td>23.141498</td><td>23.438973</td><td>25</td></tr><tr><td>19.687787</td><td>23.438973</td><td>25</td></tr><tr><td>27.134694</td><td>23.438973</td><td>25</td></tr></tbody></table></div>"
      ],
      "text/plain": [
       "shape: (4, 3)\n",
       "┌───────────┬───────────┬───────────────┐\n",
       "│ bmi       ┆ avg_bmi   ┆ ideal_max_bmi │\n",
       "│ ---       ┆ ---       ┆ ---           │\n",
       "│ f64       ┆ f64       ┆ i32           │\n",
       "╞═══════════╪═══════════╪═══════════════╡\n",
       "│ 23.791913 ┆ 23.438973 ┆ 25            │\n",
       "│ 23.141498 ┆ 23.438973 ┆ 25            │\n",
       "│ 19.687787 ┆ 23.438973 ┆ 25            │\n",
       "│ 27.134694 ┆ 23.438973 ┆ 25            │\n",
       "└───────────┴───────────┴───────────────┘"
      ]
     },
     "execution_count": 39,
     "metadata": {},
     "output_type": "execute_result"
    }
   ],
   "source": [
    "df.select(\n",
    "    bmi = exp,  ## exp.alias('bmi')와 동일\n",
    "    avg_bmi = exp.mean(),  ## exp.mean().alias('avg_bmi')와 동일\n",
    "    ideal_max_bmi = 25)  ## pl.lit(25).alias('ideal_max_bmi')와 동일"
   ]
  },
  {
   "cell_type": "code",
   "execution_count": 40,
   "id": "562b4305-40c0-4c13-9ccf-3de3305cdf0f",
   "metadata": {},
   "outputs": [
    {
     "data": {
      "text/html": [
       "<div><style>\n",
       ".dataframe > thead > tr,\n",
       ".dataframe > tbody > tr {\n",
       "  text-align: right;\n",
       "  white-space: pre-wrap;\n",
       "}\n",
       "</style>\n",
       "<small>shape: (4, 10)</small><table border=\"1\" class=\"dataframe\"><thead><tr><th>name</th><th>birthdate</th><th>weight</th><th>height</th><th>BMI</th><th>BMI 판정</th><th>enum_판정</th><th>bmi</th><th>avg_bmi</th><th>ideal_max_bmi</th></tr><tr><td>str</td><td>date</td><td>f64</td><td>f64</td><td>f64</td><td>str</td><td>cat</td><td>f64</td><td>f64</td><td>i32</td></tr></thead><tbody><tr><td>&quot;Alice Archer&quot;</td><td>1997-01-10</td><td>57.9</td><td>1.56</td><td>23.791913</td><td>&quot;과체중&quot;</td><td>&quot;과체중&quot;</td><td>23.791913</td><td>23.438973</td><td>25</td></tr><tr><td>&quot;Ben Brown&quot;</td><td>1985-02-15</td><td>72.5</td><td>1.77</td><td>23.141498</td><td>&quot;과체중&quot;</td><td>&quot;과체중&quot;</td><td>23.141498</td><td>23.438973</td><td>25</td></tr><tr><td>&quot;Chloe Cooper&quot;</td><td>1983-03-22</td><td>53.6</td><td>1.65</td><td>19.687787</td><td>&quot;정상&quot;</td><td>&quot;정상&quot;</td><td>19.687787</td><td>23.438973</td><td>25</td></tr><tr><td>&quot;Daniel Donovan&quot;</td><td>1981-04-30</td><td>83.1</td><td>1.75</td><td>27.134694</td><td>&quot;과체중&quot;</td><td>&quot;과체중&quot;</td><td>27.134694</td><td>23.438973</td><td>25</td></tr></tbody></table></div>"
      ],
      "text/plain": [
       "shape: (4, 10)\n",
       "┌────────────────┬────────────┬────────┬────────┬───┬───────────┬───────────┬───────────┬───────────────┐\n",
       "│ name           ┆ birthdate  ┆ weight ┆ height ┆ … ┆ enum_판정 ┆ bmi       ┆ avg_bmi   ┆ ideal_max_bmi │\n",
       "│ ---            ┆ ---        ┆ ---    ┆ ---    ┆   ┆ ---       ┆ ---       ┆ ---       ┆ ---           │\n",
       "│ str            ┆ date       ┆ f64    ┆ f64    ┆   ┆ cat       ┆ f64       ┆ f64       ┆ i32           │\n",
       "╞════════════════╪════════════╪════════╪════════╪═══╪═══════════╪═══════════╪═══════════╪═══════════════╡\n",
       "│ Alice Archer   ┆ 1997-01-10 ┆ 57.9   ┆ 1.56   ┆ … ┆ 과체중    ┆ 23.791913 ┆ 23.438973 ┆ 25            │\n",
       "│ Ben Brown      ┆ 1985-02-15 ┆ 72.5   ┆ 1.77   ┆ … ┆ 과체중    ┆ 23.141498 ┆ 23.438973 ┆ 25            │\n",
       "│ Chloe Cooper   ┆ 1983-03-22 ┆ 53.6   ┆ 1.65   ┆ … ┆ 정상      ┆ 19.687787 ┆ 23.438973 ┆ 25            │\n",
       "│ Daniel Donovan ┆ 1981-04-30 ┆ 83.1   ┆ 1.75   ┆ … ┆ 과체중    ┆ 27.134694 ┆ 23.438973 ┆ 25            │\n",
       "└────────────────┴────────────┴────────┴────────┴───┴───────────┴───────────┴───────────┴───────────────┘"
      ]
     },
     "execution_count": 40,
     "metadata": {},
     "output_type": "execute_result"
    }
   ],
   "source": [
    "df.with_columns(bmi = exp, avg_bmi = exp.mean(), ideal_max_bmi = 25)"
   ]
  },
  {
   "cell_type": "code",
   "execution_count": 41,
   "id": "0feb05f6-702f-4717-a455-3602e3d76959",
   "metadata": {},
   "outputs": [
    {
     "data": {
      "text/html": [
       "<div><style>\n",
       ".dataframe > thead > tr,\n",
       ".dataframe > tbody > tr {\n",
       "  text-align: right;\n",
       "  white-space: pre-wrap;\n",
       "}\n",
       "</style>\n",
       "<small>shape: (1, 7)</small><table border=\"1\" class=\"dataframe\"><thead><tr><th>name</th><th>birthdate</th><th>weight</th><th>height</th><th>BMI</th><th>BMI 판정</th><th>enum_판정</th></tr><tr><td>str</td><td>date</td><td>f64</td><td>f64</td><td>f64</td><td>str</td><td>cat</td></tr></thead><tbody><tr><td>&quot;Ben Brown&quot;</td><td>1985-02-15</td><td>72.5</td><td>1.77</td><td>23.141498</td><td>&quot;과체중&quot;</td><td>&quot;과체중&quot;</td></tr></tbody></table></div>"
      ],
      "text/plain": [
       "shape: (1, 7)\n",
       "┌───────────┬────────────┬────────┬────────┬───────────┬──────────┬───────────┐\n",
       "│ name      ┆ birthdate  ┆ weight ┆ height ┆ BMI       ┆ BMI 판정 ┆ enum_판정 │\n",
       "│ ---       ┆ ---        ┆ ---    ┆ ---    ┆ ---       ┆ ---      ┆ ---       │\n",
       "│ str       ┆ date       ┆ f64    ┆ f64    ┆ f64       ┆ str      ┆ cat       │\n",
       "╞═══════════╪════════════╪════════╪════════╪═══════════╪══════════╪═══════════╡\n",
       "│ Ben Brown ┆ 1985-02-15 ┆ 72.5   ┆ 1.77   ┆ 23.141498 ┆ 과체중   ┆ 과체중    │\n",
       "└───────────┴────────────┴────────┴────────┴───────────┴──────────┴───────────┘"
      ]
     },
     "execution_count": 41,
     "metadata": {},
     "output_type": "execute_result"
    }
   ],
   "source": [
    "df.filter((pl.col('birthdate').is_between(date(1982, 12, 31), date(1996, 1, 1))) & (pl.col('height') > 1.7))"
   ]
  },
  {
   "cell_type": "code",
   "execution_count": 42,
   "id": "0c03ead3-6ae3-4254-b3ec-647cb2b234d5",
   "metadata": {},
   "outputs": [
    {
     "data": {
      "text/html": [
       "<div><style>\n",
       ".dataframe > thead > tr,\n",
       ".dataframe > tbody > tr {\n",
       "  text-align: right;\n",
       "  white-space: pre-wrap;\n",
       "}\n",
       "</style>\n",
       "<small>shape: (2, 2)</small><table border=\"1\" class=\"dataframe\"><thead><tr><th>decade</th><th>name</th></tr><tr><td>i32</td><td>list[str]</td></tr></thead><tbody><tr><td>1990</td><td>[&quot;Alice Archer&quot;]</td></tr><tr><td>1980</td><td>[&quot;Ben Brown&quot;, &quot;Chloe Cooper&quot;, &quot;Daniel Donovan&quot;]</td></tr></tbody></table></div>"
      ],
      "text/plain": [
       "shape: (2, 2)\n",
       "┌────────┬─────────────────────────────────┐\n",
       "│ decade ┆ name                            │\n",
       "│ ---    ┆ ---                             │\n",
       "│ i32    ┆ list[str]                       │\n",
       "╞════════╪═════════════════════════════════╡\n",
       "│ 1990   ┆ [\"Alice Archer\"]                │\n",
       "│ 1980   ┆ [\"Ben Brown\", \"Chloe Cooper\", … │\n",
       "└────────┴─────────────────────────────────┘"
      ]
     },
     "execution_count": 42,
     "metadata": {},
     "output_type": "execute_result"
    }
   ],
   "source": [
    "df.group_by((pl.col('birthdate').dt.year() // 10 * 10).alias('decade') ).agg(pl.col('name'))"
   ]
  },
  {
   "cell_type": "markdown",
   "id": "4da843d6-859e-4ed9-92ca-eec525d90c99",
   "metadata": {},
   "source": [
    "## 4.6 지연연산"
   ]
  },
  {
   "cell_type": "code",
   "execution_count": 43,
   "id": "dd16ae12-de41-49fd-9a0d-4ee3528c9097",
   "metadata": {},
   "outputs": [
    {
     "name": "stdout",
     "output_type": "stream",
     "text": [
      "72.76462149620056\n"
     ]
    }
   ],
   "source": [
    "import time\n",
    "start = time.time()\n",
    "pd.DataFrame({'Age': np.random.randint(18, 60, 100_000_000),\n",
    "    'Salary': np.random.randint(30000, 90000, 100_000_000),\n",
    "    'Gender': np.random.choice([\"Male\", \"Female\"], 100_000_000)})\n",
    "end = time.time()\n",
    "print(end - start)"
   ]
  },
  {
   "cell_type": "code",
   "execution_count": 44,
   "id": "315adfba-f915-41aa-bf42-6c204bff8106",
   "metadata": {},
   "outputs": [
    {
     "name": "stdout",
     "output_type": "stream",
     "text": [
      "33.972307205200195\n"
     ]
    }
   ],
   "source": [
    "start = time.time()\n",
    "df_lazy = pl.LazyFrame({'Age': np.random.randint(18, 60, 100_000_000),\n",
    "    'Salary': np.random.randint(30000, 90000, 100_000_000),\n",
    "    'Gender': np.random.choice([\"Male\", \"Female\"], 100_000_000)})\n",
    "end = time.time()\n",
    "print(end - start)"
   ]
  },
  {
   "cell_type": "code",
   "execution_count": 45,
   "id": "66dc9610-206c-4105-8d82-100ebc6f54b4",
   "metadata": {},
   "outputs": [
    {
     "name": "stdout",
     "output_type": "stream",
     "text": [
      "naive plan: (run LazyFrame.explain(optimized=True) to see the optimized plan)\n",
      "\n",
      "DF [\"Age\", \"Salary\", \"Gender\"]; PROJECT */3 COLUMNS\n"
     ]
    }
   ],
   "source": [
    "print(df_lazy)"
   ]
  },
  {
   "cell_type": "code",
   "execution_count": 46,
   "id": "a9cba1d8-da41-4a07-b6d7-6a2ee2114004",
   "metadata": {},
   "outputs": [
    {
     "data": {
      "text/html": [
       "<div><style>\n",
       ".dataframe > thead > tr,\n",
       ".dataframe > tbody > tr {\n",
       "  text-align: right;\n",
       "  white-space: pre-wrap;\n",
       "}\n",
       "</style>\n",
       "<small>shape: (100_000_000, 3)</small><table border=\"1\" class=\"dataframe\"><thead><tr><th>Age</th><th>Salary</th><th>Gender</th></tr><tr><td>i32</td><td>i32</td><td>str</td></tr></thead><tbody><tr><td>44</td><td>82235</td><td>&quot;Male&quot;</td></tr><tr><td>40</td><td>88971</td><td>&quot;Female&quot;</td></tr><tr><td>55</td><td>30129</td><td>&quot;Male&quot;</td></tr><tr><td>30</td><td>44955</td><td>&quot;Female&quot;</td></tr><tr><td>46</td><td>37560</td><td>&quot;Male&quot;</td></tr><tr><td>&hellip;</td><td>&hellip;</td><td>&hellip;</td></tr><tr><td>46</td><td>71311</td><td>&quot;Male&quot;</td></tr><tr><td>24</td><td>78177</td><td>&quot;Female&quot;</td></tr><tr><td>35</td><td>44166</td><td>&quot;Female&quot;</td></tr><tr><td>29</td><td>85303</td><td>&quot;Male&quot;</td></tr><tr><td>58</td><td>78736</td><td>&quot;Female&quot;</td></tr></tbody></table></div>"
      ],
      "text/plain": [
       "shape: (100_000_000, 3)\n",
       "┌─────┬────────┬────────┐\n",
       "│ Age ┆ Salary ┆ Gender │\n",
       "│ --- ┆ ---    ┆ ---    │\n",
       "│ i32 ┆ i32    ┆ str    │\n",
       "╞═════╪════════╪════════╡\n",
       "│ 44  ┆ 82235  ┆ Male   │\n",
       "│ 40  ┆ 88971  ┆ Female │\n",
       "│ 55  ┆ 30129  ┆ Male   │\n",
       "│ 30  ┆ 44955  ┆ Female │\n",
       "│ 46  ┆ 37560  ┆ Male   │\n",
       "│ …   ┆ …      ┆ …      │\n",
       "│ 46  ┆ 71311  ┆ Male   │\n",
       "│ 24  ┆ 78177  ┆ Female │\n",
       "│ 35  ┆ 44166  ┆ Female │\n",
       "│ 29  ┆ 85303  ┆ Male   │\n",
       "│ 58  ┆ 78736  ┆ Female │\n",
       "└─────┴────────┴────────┘"
      ]
     },
     "execution_count": 46,
     "metadata": {},
     "output_type": "execute_result"
    }
   ],
   "source": [
    "df_lazy.collect()"
   ]
  },
  {
   "cell_type": "code",
   "execution_count": 47,
   "id": "bc4de231-1e4a-4196-bb1a-eabad80c2e95",
   "metadata": {},
   "outputs": [
    {
     "name": "stdout",
     "output_type": "stream",
     "text": [
      "0.0\n"
     ]
    }
   ],
   "source": [
    "start = time.time()\n",
    "df_lazy = df_lazy.collect()\n",
    "end = time.time()\n",
    "print(end - start)"
   ]
  },
  {
   "cell_type": "code",
   "execution_count": 48,
   "id": "20bdeb7a-663d-4cd7-866c-14de2866e3c0",
   "metadata": {},
   "outputs": [
    {
     "name": "stdout",
     "output_type": "stream",
     "text": [
      "naive plan: (run LazyFrame.explain(optimized=True) to see the optimized plan)\n",
      "\n",
      "DF [\"Age\", \"Salary\", \"Gender\"]; PROJECT */3 COLUMNS\n"
     ]
    }
   ],
   "source": [
    "context_lazy = df_lazy.filter(pl.col('Gender') == \"Male\").lazy()\n",
    "print(context_lazy)"
   ]
  },
  {
   "cell_type": "code",
   "execution_count": 49,
   "id": "16d47b09-a05c-4f39-9885-d0a735bbdab2",
   "metadata": {},
   "outputs": [
    {
     "data": {
      "text/html": [
       "<div><style>\n",
       ".dataframe > thead > tr,\n",
       ".dataframe > tbody > tr {\n",
       "  text-align: right;\n",
       "  white-space: pre-wrap;\n",
       "}\n",
       "</style>\n",
       "<small>shape: (49_987_480, 3)</small><table border=\"1\" class=\"dataframe\"><thead><tr><th>Age</th><th>Salary</th><th>Gender</th></tr><tr><td>i32</td><td>i32</td><td>str</td></tr></thead><tbody><tr><td>44</td><td>82235</td><td>&quot;Male&quot;</td></tr><tr><td>55</td><td>30129</td><td>&quot;Male&quot;</td></tr><tr><td>46</td><td>37560</td><td>&quot;Male&quot;</td></tr><tr><td>54</td><td>65465</td><td>&quot;Male&quot;</td></tr><tr><td>44</td><td>63793</td><td>&quot;Male&quot;</td></tr><tr><td>&hellip;</td><td>&hellip;</td><td>&hellip;</td></tr><tr><td>21</td><td>58396</td><td>&quot;Male&quot;</td></tr><tr><td>34</td><td>80371</td><td>&quot;Male&quot;</td></tr><tr><td>48</td><td>38527</td><td>&quot;Male&quot;</td></tr><tr><td>46</td><td>71311</td><td>&quot;Male&quot;</td></tr><tr><td>29</td><td>85303</td><td>&quot;Male&quot;</td></tr></tbody></table></div>"
      ],
      "text/plain": [
       "shape: (49_987_480, 3)\n",
       "┌─────┬────────┬────────┐\n",
       "│ Age ┆ Salary ┆ Gender │\n",
       "│ --- ┆ ---    ┆ ---    │\n",
       "│ i32 ┆ i32    ┆ str    │\n",
       "╞═════╪════════╪════════╡\n",
       "│ 44  ┆ 82235  ┆ Male   │\n",
       "│ 55  ┆ 30129  ┆ Male   │\n",
       "│ 46  ┆ 37560  ┆ Male   │\n",
       "│ 54  ┆ 65465  ┆ Male   │\n",
       "│ 44  ┆ 63793  ┆ Male   │\n",
       "│ …   ┆ …      ┆ …      │\n",
       "│ 21  ┆ 58396  ┆ Male   │\n",
       "│ 34  ┆ 80371  ┆ Male   │\n",
       "│ 48  ┆ 38527  ┆ Male   │\n",
       "│ 46  ┆ 71311  ┆ Male   │\n",
       "│ 29  ┆ 85303  ┆ Male   │\n",
       "└─────┴────────┴────────┘"
      ]
     },
     "execution_count": 49,
     "metadata": {},
     "output_type": "execute_result"
    }
   ],
   "source": [
    "context_lazy.collect()"
   ]
  },
  {
   "cell_type": "code",
   "execution_count": 50,
   "id": "276b65e9-65d1-4da5-953e-77aa6def5597",
   "metadata": {},
   "outputs": [],
   "source": [
    "df_LazyFrame = pl.LazyFrame([\n",
    "    pl.Series('name', [\"Alice Archer\", \"Ben Brown\", \"Chloe Cooper\", \"Daniel Donovan\"]),\n",
    "    pl.Series('birthdate', [date(1997, 1, 10), date(1985, 2, 15), date(1983, 3, 22), date(1981, 4, 30)]),\n",
    "    pl.Series('weight', [57.9, 72.5, 53.6, 83.1]),\n",
    "    pl.Series('height', [1.56, 1.77, 1.65, 1.75])])"
   ]
  },
  {
   "cell_type": "code",
   "execution_count": 51,
   "id": "a1f6cccc-8fb6-492e-b003-c22017e4ffe0",
   "metadata": {},
   "outputs": [],
   "source": [
    "query = (df_LazyFrame.with_columns((pl.col('weight') / (pl.col('height') ** 2)).alias('BMI'))\n",
    "    .filter(pl.col('weight') < 70)\n",
    "    .select(pl.col('name', 'BMI')))"
   ]
  },
  {
   "cell_type": "code",
   "execution_count": 52,
   "id": "a44a6681-d0f5-4ce0-826e-4b7e8c6fbce3",
   "metadata": {},
   "outputs": [
    {
     "name": "stdout",
     "output_type": "stream",
     "text": [
      "simple π 2/4 [\"name\", \"BMI\"]\n",
      "   WITH_COLUMNS:\n",
      "   [[(col(\"weight\")) / (col(\"height\").pow([dyn int: 2]))].alias(\"BMI\")] \n",
      "    FILTER [(col(\"weight\")) < (70.0)]\n",
      "    FROM\n",
      "      DF [\"name\", \"birthdate\", \"weight\", \"height\"]; PROJECT[\"name\", \"weight\", \"height\"] 3/4 COLUMNS\n"
     ]
    }
   ],
   "source": [
    "print(query.explain(optimized = True))"
   ]
  },
  {
   "cell_type": "code",
   "execution_count": 53,
   "id": "6d0bcf33-94ff-449c-b6c6-12c5b1caf0d1",
   "metadata": {},
   "outputs": [
    {
     "name": "stdout",
     "output_type": "stream",
     "text": [
      "SELECT [col(\"name\"), col(\"BMI\")]\n",
      "FROM\n",
      "  FILTER [(col(\"weight\")) < (70.0)]\n",
      "  FROM\n",
      "     WITH_COLUMNS:\n",
      "     [[(col(\"weight\")) / (col(\"height\").pow([dyn int: 2]))].alias(\"BMI\")] \n",
      "      DF [\"name\", \"birthdate\", \"weight\", \"height\"]; PROJECT */4 COLUMNS\n"
     ]
    }
   ],
   "source": [
    "print(query.explain(optimized = False))"
   ]
  }
 ],
 "metadata": {
  "kernelspec": {
   "display_name": "venv_polars_book_deploy",
   "language": "python",
   "name": "venv_polars_book_deploy"
  },
  "language_info": {
   "codemirror_mode": {
    "name": "ipython",
    "version": 3
   },
   "file_extension": ".py",
   "mimetype": "text/x-python",
   "name": "python",
   "nbconvert_exporter": "python",
   "pygments_lexer": "ipython3",
   "version": "3.12.7"
  }
 },
 "nbformat": 4,
 "nbformat_minor": 5
}
