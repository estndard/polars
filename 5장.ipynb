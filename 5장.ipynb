{
 "cells": [
  {
   "cell_type": "code",
   "execution_count": 1,
   "id": "fa9e0c2f-c6cf-48dd-8755-7127f22cefa8",
   "metadata": {},
   "outputs": [],
   "source": [
    "## 사전 실행 코드\n",
    "import polars as pl\n",
    "import time\n",
    "import pandas as pd\n",
    "import numpy as np"
   ]
  },
  {
   "cell_type": "markdown",
   "id": "8213a197-e7d6-4495-aaa9-fa85f972a129",
   "metadata": {},
   "source": [
    "# 5장\t처음 만나는 영화 데이터, 구조부터 살펴보기"
   ]
  },
  {
   "cell_type": "markdown",
   "id": "ad63cc50-8c4e-4327-aae1-f01d996d7ca1",
   "metadata": {},
   "source": [
    "## 5.2\t다양한 방식으로 영화 데이터 가져오기"
   ]
  },
  {
   "cell_type": "code",
   "execution_count": 2,
   "id": "1c1bd43f-9dd3-4449-9185-7bd54dae5fc8",
   "metadata": {},
   "outputs": [
    {
     "data": {
      "text/html": [
       "<div><style>\n",
       ".dataframe > thead > tr,\n",
       ".dataframe > tbody > tr {\n",
       "  text-align: right;\n",
       "  white-space: pre-wrap;\n",
       "}\n",
       "</style>\n",
       "<small>shape: (4_319, 18)</small><table border=\"1\" class=\"dataframe\"><thead><tr><th>순위</th><th>영화명</th><th>개봉일</th><th>매출액 </th><th>매출액</th><th>누적매출액 </th><th>관객수 </th><th>누적관객수 </th><th>스크린수 </th><th>상영횟수 </th><th>대표국적 </th><th>국적 </th><th>제작사 </th><th>배급사 </th><th>등급 </th><th>장르 </th><th>감독 </th><th>배우 </th></tr><tr><td>i64</td><td>str</td><td>date</td><td>str</td><td>str</td><td>str</td><td>str</td><td>str</td><td>str</td><td>str</td><td>str</td><td>str</td><td>str</td><td>str</td><td>str</td><td>str</td><td>str</td><td>str</td></tr></thead><tbody><tr><td>null</td><td>null</td><td>null</td><td>null</td><td>&quot;점유율 &quot;</td><td>null</td><td>null</td><td>null</td><td>null</td><td>null</td><td>null</td><td>null</td><td>null</td><td>null</td><td>null</td><td>null</td><td>null</td><td>null</td></tr><tr><td>1</td><td>&quot;파묘&quot;</td><td>2024-02-22</td><td>&quot;115,157,490,414&quot;</td><td>&quot;9.6%&quot;</td><td>&quot;115,157,490,414&quot;</td><td>&quot;11,914,784&quot;</td><td>&quot;11,914,784&quot;</td><td>&quot;2,367&quot;</td><td>&quot;364,955&quot;</td><td>&quot;한국&quot;</td><td>&quot;한국&quot;</td><td>&quot;(주)쇼박스&quot;</td><td>&quot;(주)쇼박스&quot;</td><td>&quot;15세이상관람가&quot;</td><td>&quot;미스터리,공포(호러)&quot;</td><td>&quot;장재현&quot;</td><td>&quot;최민식,김고은,유해진,이도현,김재철,김민준,김병오,전진…</td></tr><tr><td>2</td><td>&quot;범죄도시4&quot;</td><td>2024-04-24</td><td>&quot;110,050,000,734&quot;</td><td>&quot;9.2%&quot;</td><td>&quot;110,050,000,734&quot;</td><td>&quot;11,502,779&quot;</td><td>&quot;11,502,779&quot;</td><td>&quot;2,980&quot;</td><td>&quot;375,434&quot;</td><td>&quot;한국&quot;</td><td>&quot;한국&quot;</td><td>&quot;주식회사 빅펀치픽쳐스,(주)홍필름,(주)비에이엔터테인먼…</td><td>&quot;주식회사 에이비오엔터테인먼트,플러스엠 엔터테인먼트&quot;</td><td>&quot;15세이상관람가&quot;</td><td>&quot;액션,범죄&quot;</td><td>&quot;허명행&quot;</td><td>&quot;김무열,박지환,이동휘,마동석,곽자형,이범수,김민재,이지…</td></tr><tr><td>3</td><td>&quot;인사이드 아웃 2&quot;</td><td>2024-06-12</td><td>&quot;84,509,284,036&quot;</td><td>&quot;7.1%&quot;</td><td>&quot;84,509,284,036&quot;</td><td>&quot;8,799,013&quot;</td><td>&quot;8,799,013&quot;</td><td>&quot;2,619&quot;</td><td>&quot;331,341&quot;</td><td>&quot;미국&quot;</td><td>&quot;미국&quot;</td><td>&quot;월트 디즈니 픽쳐스,픽사 애니메이션 스튜디오&quot;</td><td>&quot;월트디즈니컴퍼니코리아 유한책임회사&quot;</td><td>&quot;전체관람가&quot;</td><td>&quot;애니메이션&quot;</td><td>&quot;켈시 만&quot;</td><td>&quot;에이미 포엘러,토니 헤일&quot;</td></tr><tr><td>4</td><td>&quot;베테랑2&quot;</td><td>2024-09-13</td><td>&quot;72,474,035,814&quot;</td><td>&quot;6.1%&quot;</td><td>&quot;72,474,035,814&quot;</td><td>&quot;7,525,339&quot;</td><td>&quot;7,525,339&quot;</td><td>&quot;2,691&quot;</td><td>&quot;279,673&quot;</td><td>&quot;한국&quot;</td><td>&quot;한국&quot;</td><td>&quot;(주)외유내강&quot;</td><td>&quot;(주)씨제이이엔엠&quot;</td><td>&quot;15세이상관람가&quot;</td><td>&quot;액션,범죄&quot;</td><td>&quot;류승완&quot;</td><td>&quot;황정민,정해인,장윤주,정만식,신승환,오달수,오대환,김시…</td></tr><tr><td>&hellip;</td><td>&hellip;</td><td>&hellip;</td><td>&hellip;</td><td>&hellip;</td><td>&hellip;</td><td>&hellip;</td><td>&hellip;</td><td>&hellip;</td><td>&hellip;</td><td>&hellip;</td><td>&hellip;</td><td>&hellip;</td><td>&hellip;</td><td>&hellip;</td><td>&hellip;</td><td>&hellip;</td><td>&hellip;</td></tr><tr><td>4124</td><td>&quot;헌팅 파티&quot;</td><td>null</td><td>&quot;0&quot;</td><td>&quot;0.0%&quot;</td><td>&quot;0&quot;</td><td>&quot;0&quot;</td><td>&quot;0&quot;</td><td>&quot;1&quot;</td><td>&quot;1&quot;</td><td>&quot;기타&quot;</td><td>&quot;기타&quot;</td><td>null</td><td>null</td><td>null</td><td>&quot;코미디,멜로/로맨스&quot;</td><td>null</td><td>null</td></tr><tr><td>4124</td><td>&quot;헬리오폴리스&quot;</td><td>null</td><td>&quot;0&quot;</td><td>&quot;0.0%&quot;</td><td>&quot;474,000&quot;</td><td>&quot;0&quot;</td><td>&quot;158&quot;</td><td>&quot;1&quot;</td><td>&quot;1&quot;</td><td>&quot;기타&quot;</td><td>&quot;기타&quot;</td><td>null</td><td>null</td><td>null</td><td>&quot;기타&quot;</td><td>&quot;자파르 가셈&quot;</td><td>null</td></tr><tr><td>4124</td><td>&quot;황산벌&quot;</td><td>2003-10-17</td><td>&quot;0&quot;</td><td>&quot;0.0%&quot;</td><td>&quot;41,867,500&quot;</td><td>&quot;0&quot;</td><td>&quot;5,665&quot;</td><td>&quot;1&quot;</td><td>&quot;2&quot;</td><td>&quot;한국&quot;</td><td>&quot;한국&quot;</td><td>&quot;(주)씨네월드&quot;</td><td>&quot;(주)씨네월드&quot;</td><td>&quot;15세관람가&quot;</td><td>&quot;코미디&quot;</td><td>&quot;이준익&quot;</td><td>&quot;박중훈,정진영,오지명,김병철,김선아,김윤태,이문식,조대…</td></tr><tr><td>4124</td><td>&quot;회오리 바람&quot;</td><td>2010-02-25</td><td>&quot;0&quot;</td><td>&quot;0.0%&quot;</td><td>&quot;16,680,500&quot;</td><td>&quot;0&quot;</td><td>&quot;2,275&quot;</td><td>&quot;1&quot;</td><td>&quot;1&quot;</td><td>&quot;한국&quot;</td><td>&quot;한국&quot;</td><td>&quot;(주)모쿠슈라&quot;</td><td>&quot;(주)영화사 진진&quot;</td><td>&quot;15세이상관람가&quot;</td><td>&quot;드라마,멜로/로맨스&quot;</td><td>&quot;장건재&quot;</td><td>&quot;서준영,권혁풍,한나,김호,신동주,조용선,김한나,최현성,…</td></tr><tr><td>4124</td><td>&quot;휘파람의 노래: 시벨&quot;</td><td>null</td><td>&quot;0&quot;</td><td>&quot;0.0%&quot;</td><td>&quot;0&quot;</td><td>&quot;0&quot;</td><td>&quot;0&quot;</td><td>&quot;1&quot;</td><td>&quot;1&quot;</td><td>&quot;터키&quot;</td><td>&quot;터키&quot;</td><td>null</td><td>null</td><td>null</td><td>&quot;드라마&quot;</td><td>&quot;기욤 조바네티&quot;</td><td>null</td></tr></tbody></table></div>"
      ],
      "text/plain": [
       "shape: (4_319, 18)\n",
       "┌──────┬───────────────┬────────────┬───────────────┬───┬───────────────┬───────────────┬───────────────┬──────────────┐\n",
       "│ 순위 ┆ 영화명        ┆ 개봉일     ┆ 매출액        ┆ … ┆ 등급          ┆ 장르          ┆ 감독          ┆ 배우         │\n",
       "│ ---  ┆ ---           ┆ ---        ┆ ---           ┆   ┆ ---           ┆ ---           ┆ ---           ┆ ---          │\n",
       "│ i64  ┆ str           ┆ date       ┆ str           ┆   ┆ str           ┆ str           ┆ str           ┆ str          │\n",
       "╞══════╪═══════════════╪════════════╪═══════════════╪═══╪═══════════════╪═══════════════╪═══════════════╪══════════════╡\n",
       "│ null ┆ null          ┆ null       ┆ null          ┆ … ┆ null          ┆ null          ┆ null          ┆ null         │\n",
       "│ 1    ┆ 파묘          ┆ 2024-02-22 ┆ 115,157,490,4 ┆ … ┆ 15세이상관람  ┆ 미스터리,공포 ┆ 장재현        ┆ 최민식,김고  │\n",
       "│      ┆               ┆            ┆ 14            ┆   ┆ 가            ┆ (호러)        ┆               ┆ 은,유해진,이 │\n",
       "│      ┆               ┆            ┆               ┆   ┆               ┆               ┆               ┆ 도현,김재철, │\n",
       "│      ┆               ┆            ┆               ┆   ┆               ┆               ┆               ┆ 김민준,김병  │\n",
       "│      ┆               ┆            ┆               ┆   ┆               ┆               ┆               ┆ 오,전진…     │\n",
       "│ 2    ┆ 범죄도시4     ┆ 2024-04-24 ┆ 110,050,000,7 ┆ … ┆ 15세이상관람  ┆ 액션,범죄     ┆ 허명행        ┆ 김무열,박지  │\n",
       "│      ┆               ┆            ┆ 34            ┆   ┆ 가            ┆               ┆               ┆ 환,이동휘,마 │\n",
       "│      ┆               ┆            ┆               ┆   ┆               ┆               ┆               ┆ 동석,곽자형, │\n",
       "│      ┆               ┆            ┆               ┆   ┆               ┆               ┆               ┆ 이범수,김민  │\n",
       "│      ┆               ┆            ┆               ┆   ┆               ┆               ┆               ┆ 재,이지…     │\n",
       "│ 3    ┆ 인사이드 아웃 ┆ 2024-06-12 ┆ 84,509,284,03 ┆ … ┆ 전체관람가    ┆ 애니메이션    ┆ 켈시 만       ┆ 에이미       │\n",
       "│      ┆ 2             ┆            ┆ 6             ┆   ┆               ┆               ┆               ┆ 포엘러,토니  │\n",
       "│      ┆               ┆            ┆               ┆   ┆               ┆               ┆               ┆ 헤일         │\n",
       "│ 4    ┆ 베테랑2       ┆ 2024-09-13 ┆ 72,474,035,81 ┆ … ┆ 15세이상관람  ┆ 액션,범죄     ┆ 류승완        ┆ 황정민,정해  │\n",
       "│      ┆               ┆            ┆ 4             ┆   ┆ 가            ┆               ┆               ┆ 인,장윤주,정 │\n",
       "│      ┆               ┆            ┆               ┆   ┆               ┆               ┆               ┆ 만식,신승환, │\n",
       "│      ┆               ┆            ┆               ┆   ┆               ┆               ┆               ┆ 오달수,오대  │\n",
       "│      ┆               ┆            ┆               ┆   ┆               ┆               ┆               ┆ 환,김시…     │\n",
       "│ …    ┆ …             ┆ …          ┆ …             ┆ … ┆ …             ┆ …             ┆ …             ┆ …            │\n",
       "│ 4124 ┆ 헌팅 파티     ┆ null       ┆ 0             ┆ … ┆ null          ┆ 코미디,멜로/  ┆ null          ┆ null         │\n",
       "│      ┆               ┆            ┆               ┆   ┆               ┆ 로맨스        ┆               ┆              │\n",
       "│ 4124 ┆ 헬리오폴리스  ┆ null       ┆ 0             ┆ … ┆ null          ┆ 기타          ┆ 자파르 가셈   ┆ null         │\n",
       "│ 4124 ┆ 황산벌        ┆ 2003-10-17 ┆ 0             ┆ … ┆ 15세관람가    ┆ 코미디        ┆ 이준익        ┆ 박중훈,정진  │\n",
       "│      ┆               ┆            ┆               ┆   ┆               ┆               ┆               ┆ 영,오지명,김 │\n",
       "│      ┆               ┆            ┆               ┆   ┆               ┆               ┆               ┆ 병철,김선아, │\n",
       "│      ┆               ┆            ┆               ┆   ┆               ┆               ┆               ┆ 김윤태,이문  │\n",
       "│      ┆               ┆            ┆               ┆   ┆               ┆               ┆               ┆ 식,조대…     │\n",
       "│ 4124 ┆ 회오리 바람   ┆ 2010-02-25 ┆ 0             ┆ … ┆ 15세이상관람  ┆ 드라마,멜로/  ┆ 장건재        ┆ 서준영,권혁  │\n",
       "│      ┆               ┆            ┆               ┆   ┆ 가            ┆ 로맨스        ┆               ┆ 풍,한나,김호 │\n",
       "│      ┆               ┆            ┆               ┆   ┆               ┆               ┆               ┆ ,신동주,조용 │\n",
       "│      ┆               ┆            ┆               ┆   ┆               ┆               ┆               ┆ 선,김한나,최 │\n",
       "│      ┆               ┆            ┆               ┆   ┆               ┆               ┆               ┆ 현성,…       │\n",
       "│ 4124 ┆ 휘파람의      ┆ null       ┆ 0             ┆ … ┆ null          ┆ 드라마        ┆ 기욤 조바네티 ┆ null         │\n",
       "│      ┆ 노래: 시벨    ┆            ┆               ┆   ┆               ┆               ┆               ┆              │\n",
       "└──────┴───────────────┴────────────┴───────────────┴───┴───────────────┴───────────────┴───────────────┴──────────────┘"
      ]
     },
     "execution_count": 2,
     "metadata": {},
     "output_type": "execute_result"
    }
   ],
   "source": [
    "df_boxoffice = pl.read_csv(\"./KOBIS_기간별박스오피스.csv\", skip_rows = 4, try_parse_dates = True)\n",
    "df_boxoffice"
   ]
  },
  {
   "cell_type": "code",
   "execution_count": 3,
   "id": "5de0d2f0-a9bf-44bd-8daf-bca536487253",
   "metadata": {},
   "outputs": [
    {
     "data": {
      "text/html": [
       "<i>naive plan: (run <b>LazyFrame.explain(optimized=True)</b> to see the optimized plan)</i>\n",
       "    <p></p>\n",
       "    <div>Csv SCAN [./KOBIS_기간별박스오피스.csv]<p></p>PROJECT */18 COLUMNS</div>"
      ],
      "text/plain": [
       "<LazyFrame at 0x149C462CB30>"
      ]
     },
     "execution_count": 3,
     "metadata": {},
     "output_type": "execute_result"
    }
   ],
   "source": [
    "df_boxoffice_lazy = pl.scan_csv(\"./KOBIS_기간별박스오피스.csv\", skip_rows = 4, try_parse_dates = True)\n",
    "df_boxoffice_lazy"
   ]
  },
  {
   "cell_type": "code",
   "execution_count": 4,
   "id": "be7bac73-ca58-4ada-98d3-b60f3ef2decb",
   "metadata": {},
   "outputs": [
    {
     "data": {
      "text/html": [
       "<div><style>\n",
       ".dataframe > thead > tr,\n",
       ".dataframe > tbody > tr {\n",
       "  text-align: right;\n",
       "  white-space: pre-wrap;\n",
       "}\n",
       "</style>\n",
       "<small>shape: (4_319, 18)</small><table border=\"1\" class=\"dataframe\"><thead><tr><th>순위</th><th>영화명</th><th>개봉일</th><th>매출액 </th><th>매출액</th><th>누적매출액 </th><th>관객수 </th><th>누적관객수 </th><th>스크린수 </th><th>상영횟수 </th><th>대표국적 </th><th>국적 </th><th>제작사 </th><th>배급사 </th><th>등급 </th><th>장르 </th><th>감독 </th><th>배우 </th></tr><tr><td>i64</td><td>str</td><td>date</td><td>str</td><td>str</td><td>str</td><td>str</td><td>str</td><td>str</td><td>str</td><td>str</td><td>str</td><td>str</td><td>str</td><td>str</td><td>str</td><td>str</td><td>str</td></tr></thead><tbody><tr><td>null</td><td>null</td><td>null</td><td>null</td><td>&quot;점유율 &quot;</td><td>null</td><td>null</td><td>null</td><td>null</td><td>null</td><td>null</td><td>null</td><td>null</td><td>null</td><td>null</td><td>null</td><td>null</td><td>null</td></tr><tr><td>1</td><td>&quot;파묘&quot;</td><td>2024-02-22</td><td>&quot;115,157,490,414&quot;</td><td>&quot;9.6%&quot;</td><td>&quot;115,157,490,414&quot;</td><td>&quot;11,914,784&quot;</td><td>&quot;11,914,784&quot;</td><td>&quot;2,367&quot;</td><td>&quot;364,955&quot;</td><td>&quot;한국&quot;</td><td>&quot;한국&quot;</td><td>&quot;(주)쇼박스&quot;</td><td>&quot;(주)쇼박스&quot;</td><td>&quot;15세이상관람가&quot;</td><td>&quot;미스터리,공포(호러)&quot;</td><td>&quot;장재현&quot;</td><td>&quot;최민식,김고은,유해진,이도현,김재철,김민준,김병오,전진…</td></tr><tr><td>2</td><td>&quot;범죄도시4&quot;</td><td>2024-04-24</td><td>&quot;110,050,000,734&quot;</td><td>&quot;9.2%&quot;</td><td>&quot;110,050,000,734&quot;</td><td>&quot;11,502,779&quot;</td><td>&quot;11,502,779&quot;</td><td>&quot;2,980&quot;</td><td>&quot;375,434&quot;</td><td>&quot;한국&quot;</td><td>&quot;한국&quot;</td><td>&quot;주식회사 빅펀치픽쳐스,(주)홍필름,(주)비에이엔터테인먼…</td><td>&quot;주식회사 에이비오엔터테인먼트,플러스엠 엔터테인먼트&quot;</td><td>&quot;15세이상관람가&quot;</td><td>&quot;액션,범죄&quot;</td><td>&quot;허명행&quot;</td><td>&quot;김무열,박지환,이동휘,마동석,곽자형,이범수,김민재,이지…</td></tr><tr><td>3</td><td>&quot;인사이드 아웃 2&quot;</td><td>2024-06-12</td><td>&quot;84,509,284,036&quot;</td><td>&quot;7.1%&quot;</td><td>&quot;84,509,284,036&quot;</td><td>&quot;8,799,013&quot;</td><td>&quot;8,799,013&quot;</td><td>&quot;2,619&quot;</td><td>&quot;331,341&quot;</td><td>&quot;미국&quot;</td><td>&quot;미국&quot;</td><td>&quot;월트 디즈니 픽쳐스,픽사 애니메이션 스튜디오&quot;</td><td>&quot;월트디즈니컴퍼니코리아 유한책임회사&quot;</td><td>&quot;전체관람가&quot;</td><td>&quot;애니메이션&quot;</td><td>&quot;켈시 만&quot;</td><td>&quot;에이미 포엘러,토니 헤일&quot;</td></tr><tr><td>4</td><td>&quot;베테랑2&quot;</td><td>2024-09-13</td><td>&quot;72,474,035,814&quot;</td><td>&quot;6.1%&quot;</td><td>&quot;72,474,035,814&quot;</td><td>&quot;7,525,339&quot;</td><td>&quot;7,525,339&quot;</td><td>&quot;2,691&quot;</td><td>&quot;279,673&quot;</td><td>&quot;한국&quot;</td><td>&quot;한국&quot;</td><td>&quot;(주)외유내강&quot;</td><td>&quot;(주)씨제이이엔엠&quot;</td><td>&quot;15세이상관람가&quot;</td><td>&quot;액션,범죄&quot;</td><td>&quot;류승완&quot;</td><td>&quot;황정민,정해인,장윤주,정만식,신승환,오달수,오대환,김시…</td></tr><tr><td>&hellip;</td><td>&hellip;</td><td>&hellip;</td><td>&hellip;</td><td>&hellip;</td><td>&hellip;</td><td>&hellip;</td><td>&hellip;</td><td>&hellip;</td><td>&hellip;</td><td>&hellip;</td><td>&hellip;</td><td>&hellip;</td><td>&hellip;</td><td>&hellip;</td><td>&hellip;</td><td>&hellip;</td><td>&hellip;</td></tr><tr><td>4124</td><td>&quot;헌팅 파티&quot;</td><td>null</td><td>&quot;0&quot;</td><td>&quot;0.0%&quot;</td><td>&quot;0&quot;</td><td>&quot;0&quot;</td><td>&quot;0&quot;</td><td>&quot;1&quot;</td><td>&quot;1&quot;</td><td>&quot;기타&quot;</td><td>&quot;기타&quot;</td><td>null</td><td>null</td><td>null</td><td>&quot;코미디,멜로/로맨스&quot;</td><td>null</td><td>null</td></tr><tr><td>4124</td><td>&quot;헬리오폴리스&quot;</td><td>null</td><td>&quot;0&quot;</td><td>&quot;0.0%&quot;</td><td>&quot;474,000&quot;</td><td>&quot;0&quot;</td><td>&quot;158&quot;</td><td>&quot;1&quot;</td><td>&quot;1&quot;</td><td>&quot;기타&quot;</td><td>&quot;기타&quot;</td><td>null</td><td>null</td><td>null</td><td>&quot;기타&quot;</td><td>&quot;자파르 가셈&quot;</td><td>null</td></tr><tr><td>4124</td><td>&quot;황산벌&quot;</td><td>2003-10-17</td><td>&quot;0&quot;</td><td>&quot;0.0%&quot;</td><td>&quot;41,867,500&quot;</td><td>&quot;0&quot;</td><td>&quot;5,665&quot;</td><td>&quot;1&quot;</td><td>&quot;2&quot;</td><td>&quot;한국&quot;</td><td>&quot;한국&quot;</td><td>&quot;(주)씨네월드&quot;</td><td>&quot;(주)씨네월드&quot;</td><td>&quot;15세관람가&quot;</td><td>&quot;코미디&quot;</td><td>&quot;이준익&quot;</td><td>&quot;박중훈,정진영,오지명,김병철,김선아,김윤태,이문식,조대…</td></tr><tr><td>4124</td><td>&quot;회오리 바람&quot;</td><td>2010-02-25</td><td>&quot;0&quot;</td><td>&quot;0.0%&quot;</td><td>&quot;16,680,500&quot;</td><td>&quot;0&quot;</td><td>&quot;2,275&quot;</td><td>&quot;1&quot;</td><td>&quot;1&quot;</td><td>&quot;한국&quot;</td><td>&quot;한국&quot;</td><td>&quot;(주)모쿠슈라&quot;</td><td>&quot;(주)영화사 진진&quot;</td><td>&quot;15세이상관람가&quot;</td><td>&quot;드라마,멜로/로맨스&quot;</td><td>&quot;장건재&quot;</td><td>&quot;서준영,권혁풍,한나,김호,신동주,조용선,김한나,최현성,…</td></tr><tr><td>4124</td><td>&quot;휘파람의 노래: 시벨&quot;</td><td>null</td><td>&quot;0&quot;</td><td>&quot;0.0%&quot;</td><td>&quot;0&quot;</td><td>&quot;0&quot;</td><td>&quot;0&quot;</td><td>&quot;1&quot;</td><td>&quot;1&quot;</td><td>&quot;터키&quot;</td><td>&quot;터키&quot;</td><td>null</td><td>null</td><td>null</td><td>&quot;드라마&quot;</td><td>&quot;기욤 조바네티&quot;</td><td>null</td></tr></tbody></table></div>"
      ],
      "text/plain": [
       "shape: (4_319, 18)\n",
       "┌──────┬───────────────┬────────────┬───────────────┬───┬───────────────┬───────────────┬───────────────┬──────────────┐\n",
       "│ 순위 ┆ 영화명        ┆ 개봉일     ┆ 매출액        ┆ … ┆ 등급          ┆ 장르          ┆ 감독          ┆ 배우         │\n",
       "│ ---  ┆ ---           ┆ ---        ┆ ---           ┆   ┆ ---           ┆ ---           ┆ ---           ┆ ---          │\n",
       "│ i64  ┆ str           ┆ date       ┆ str           ┆   ┆ str           ┆ str           ┆ str           ┆ str          │\n",
       "╞══════╪═══════════════╪════════════╪═══════════════╪═══╪═══════════════╪═══════════════╪═══════════════╪══════════════╡\n",
       "│ null ┆ null          ┆ null       ┆ null          ┆ … ┆ null          ┆ null          ┆ null          ┆ null         │\n",
       "│ 1    ┆ 파묘          ┆ 2024-02-22 ┆ 115,157,490,4 ┆ … ┆ 15세이상관람  ┆ 미스터리,공포 ┆ 장재현        ┆ 최민식,김고  │\n",
       "│      ┆               ┆            ┆ 14            ┆   ┆ 가            ┆ (호러)        ┆               ┆ 은,유해진,이 │\n",
       "│      ┆               ┆            ┆               ┆   ┆               ┆               ┆               ┆ 도현,김재철, │\n",
       "│      ┆               ┆            ┆               ┆   ┆               ┆               ┆               ┆ 김민준,김병  │\n",
       "│      ┆               ┆            ┆               ┆   ┆               ┆               ┆               ┆ 오,전진…     │\n",
       "│ 2    ┆ 범죄도시4     ┆ 2024-04-24 ┆ 110,050,000,7 ┆ … ┆ 15세이상관람  ┆ 액션,범죄     ┆ 허명행        ┆ 김무열,박지  │\n",
       "│      ┆               ┆            ┆ 34            ┆   ┆ 가            ┆               ┆               ┆ 환,이동휘,마 │\n",
       "│      ┆               ┆            ┆               ┆   ┆               ┆               ┆               ┆ 동석,곽자형, │\n",
       "│      ┆               ┆            ┆               ┆   ┆               ┆               ┆               ┆ 이범수,김민  │\n",
       "│      ┆               ┆            ┆               ┆   ┆               ┆               ┆               ┆ 재,이지…     │\n",
       "│ 3    ┆ 인사이드 아웃 ┆ 2024-06-12 ┆ 84,509,284,03 ┆ … ┆ 전체관람가    ┆ 애니메이션    ┆ 켈시 만       ┆ 에이미       │\n",
       "│      ┆ 2             ┆            ┆ 6             ┆   ┆               ┆               ┆               ┆ 포엘러,토니  │\n",
       "│      ┆               ┆            ┆               ┆   ┆               ┆               ┆               ┆ 헤일         │\n",
       "│ 4    ┆ 베테랑2       ┆ 2024-09-13 ┆ 72,474,035,81 ┆ … ┆ 15세이상관람  ┆ 액션,범죄     ┆ 류승완        ┆ 황정민,정해  │\n",
       "│      ┆               ┆            ┆ 4             ┆   ┆ 가            ┆               ┆               ┆ 인,장윤주,정 │\n",
       "│      ┆               ┆            ┆               ┆   ┆               ┆               ┆               ┆ 만식,신승환, │\n",
       "│      ┆               ┆            ┆               ┆   ┆               ┆               ┆               ┆ 오달수,오대  │\n",
       "│      ┆               ┆            ┆               ┆   ┆               ┆               ┆               ┆ 환,김시…     │\n",
       "│ …    ┆ …             ┆ …          ┆ …             ┆ … ┆ …             ┆ …             ┆ …             ┆ …            │\n",
       "│ 4124 ┆ 헌팅 파티     ┆ null       ┆ 0             ┆ … ┆ null          ┆ 코미디,멜로/  ┆ null          ┆ null         │\n",
       "│      ┆               ┆            ┆               ┆   ┆               ┆ 로맨스        ┆               ┆              │\n",
       "│ 4124 ┆ 헬리오폴리스  ┆ null       ┆ 0             ┆ … ┆ null          ┆ 기타          ┆ 자파르 가셈   ┆ null         │\n",
       "│ 4124 ┆ 황산벌        ┆ 2003-10-17 ┆ 0             ┆ … ┆ 15세관람가    ┆ 코미디        ┆ 이준익        ┆ 박중훈,정진  │\n",
       "│      ┆               ┆            ┆               ┆   ┆               ┆               ┆               ┆ 영,오지명,김 │\n",
       "│      ┆               ┆            ┆               ┆   ┆               ┆               ┆               ┆ 병철,김선아, │\n",
       "│      ┆               ┆            ┆               ┆   ┆               ┆               ┆               ┆ 김윤태,이문  │\n",
       "│      ┆               ┆            ┆               ┆   ┆               ┆               ┆               ┆ 식,조대…     │\n",
       "│ 4124 ┆ 회오리 바람   ┆ 2010-02-25 ┆ 0             ┆ … ┆ 15세이상관람  ┆ 드라마,멜로/  ┆ 장건재        ┆ 서준영,권혁  │\n",
       "│      ┆               ┆            ┆               ┆   ┆ 가            ┆ 로맨스        ┆               ┆ 풍,한나,김호 │\n",
       "│      ┆               ┆            ┆               ┆   ┆               ┆               ┆               ┆ ,신동주,조용 │\n",
       "│      ┆               ┆            ┆               ┆   ┆               ┆               ┆               ┆ 선,김한나,최 │\n",
       "│      ┆               ┆            ┆               ┆   ┆               ┆               ┆               ┆ 현성,…       │\n",
       "│ 4124 ┆ 휘파람의      ┆ null       ┆ 0             ┆ … ┆ null          ┆ 드라마        ┆ 기욤 조바네티 ┆ null         │\n",
       "│      ┆ 노래: 시벨    ┆            ┆               ┆   ┆               ┆               ┆               ┆              │\n",
       "└──────┴───────────────┴────────────┴───────────────┴───┴───────────────┴───────────────┴───────────────┴──────────────┘"
      ]
     },
     "execution_count": 4,
     "metadata": {},
     "output_type": "execute_result"
    }
   ],
   "source": [
    "df_boxoffice_lazy.collect()"
   ]
  },
  {
   "cell_type": "code",
   "execution_count": 5,
   "id": "ea037a44-a5ba-493d-873f-930300d705a3",
   "metadata": {},
   "outputs": [],
   "source": [
    "df_boxoffice.write_csv(\"./write_csv.csv\", include_bom = True)"
   ]
  },
  {
   "cell_type": "code",
   "execution_count": 6,
   "id": "30ec19e2-4e8b-4726-ad23-8a7cc706baf0",
   "metadata": {},
   "outputs": [
    {
     "data": {
      "text/html": [
       "<div><style>\n",
       ".dataframe > thead > tr,\n",
       ".dataframe > tbody > tr {\n",
       "  text-align: right;\n",
       "  white-space: pre-wrap;\n",
       "}\n",
       "</style>\n",
       "<small>shape: (4_320, 18)</small><table border=\"1\" class=\"dataframe\"><thead><tr><th>순위</th><th>영화명</th><th>개봉일</th><th>매출액 </th><th>매출액</th><th>누적매출액 </th><th>관객수 </th><th>누적관객수 </th><th>스크린수 </th><th>상영횟수 </th><th>대표국적 </th><th>국적 </th><th>제작사 </th><th>배급사 </th><th>등급 </th><th>장르 </th><th>감독 </th><th>배우 </th></tr><tr><td>i64</td><td>str</td><td>date</td><td>i64</td><td>str</td><td>i64</td><td>i64</td><td>i64</td><td>i64</td><td>i64</td><td>str</td><td>str</td><td>str</td><td>str</td><td>str</td><td>str</td><td>str</td><td>str</td></tr></thead><tbody><tr><td>null</td><td>null</td><td>null</td><td>null</td><td>&quot;점유율 &quot;</td><td>null</td><td>null</td><td>null</td><td>null</td><td>null</td><td>null</td><td>null</td><td>null</td><td>null</td><td>null</td><td>null</td><td>null</td><td>null</td></tr><tr><td>1</td><td>&quot;파묘&quot;</td><td>2024-02-22</td><td>115157490414</td><td>&quot;0.096&quot;</td><td>115157490414</td><td>11914784</td><td>11914784</td><td>2367</td><td>364955</td><td>&quot;한국&quot;</td><td>&quot;한국&quot;</td><td>&quot;(주)쇼박스&quot;</td><td>&quot;(주)쇼박스&quot;</td><td>&quot;15세이상관람가&quot;</td><td>&quot;미스터리,공포(호러)&quot;</td><td>&quot;장재현&quot;</td><td>&quot;최민식,김고은,유해진,이도현,김재철,김민준,김병오,전진…</td></tr><tr><td>2</td><td>&quot;범죄도시4&quot;</td><td>2024-04-24</td><td>110050000734</td><td>&quot;0.092&quot;</td><td>110050000734</td><td>11502779</td><td>11502779</td><td>2980</td><td>375434</td><td>&quot;한국&quot;</td><td>&quot;한국&quot;</td><td>&quot;주식회사 빅펀치픽쳐스,(주)홍필름,(주)비에이엔터테인먼…</td><td>&quot;주식회사 에이비오엔터테인먼트,플러스엠 엔터테인먼트&quot;</td><td>&quot;15세이상관람가&quot;</td><td>&quot;액션,범죄&quot;</td><td>&quot;허명행&quot;</td><td>&quot;김무열,박지환,이동휘,마동석,곽자형,이범수,김민재,이지…</td></tr><tr><td>3</td><td>&quot;인사이드 아웃 2&quot;</td><td>2024-06-12</td><td>84509284036</td><td>&quot;0.071&quot;</td><td>84509284036</td><td>8799013</td><td>8799013</td><td>2619</td><td>331341</td><td>&quot;미국&quot;</td><td>&quot;미국&quot;</td><td>&quot;월트 디즈니 픽쳐스,픽사 애니메이션 스튜디오&quot;</td><td>&quot;월트디즈니컴퍼니코리아 유한책임회사&quot;</td><td>&quot;전체관람가&quot;</td><td>&quot;애니메이션&quot;</td><td>&quot;켈시 만&quot;</td><td>&quot;에이미 포엘러,토니 헤일&quot;</td></tr><tr><td>4</td><td>&quot;베테랑2&quot;</td><td>2024-09-13</td><td>72474035814</td><td>&quot;0.061&quot;</td><td>72474035814</td><td>7525339</td><td>7525339</td><td>2691</td><td>279673</td><td>&quot;한국&quot;</td><td>&quot;한국&quot;</td><td>&quot;(주)외유내강&quot;</td><td>&quot;(주)씨제이이엔엠&quot;</td><td>&quot;15세이상관람가&quot;</td><td>&quot;액션,범죄&quot;</td><td>&quot;류승완&quot;</td><td>&quot;황정민,정해인,장윤주,정만식,신승환,오달수,오대환,김시…</td></tr><tr><td>&hellip;</td><td>&hellip;</td><td>&hellip;</td><td>&hellip;</td><td>&hellip;</td><td>&hellip;</td><td>&hellip;</td><td>&hellip;</td><td>&hellip;</td><td>&hellip;</td><td>&hellip;</td><td>&hellip;</td><td>&hellip;</td><td>&hellip;</td><td>&hellip;</td><td>&hellip;</td><td>&hellip;</td><td>&hellip;</td></tr><tr><td>4124</td><td>&quot;헬리오폴리스&quot;</td><td>null</td><td>0</td><td>&quot;0&quot;</td><td>474000</td><td>0</td><td>158</td><td>1</td><td>1</td><td>&quot;기타&quot;</td><td>&quot;기타&quot;</td><td>null</td><td>null</td><td>null</td><td>&quot;기타&quot;</td><td>&quot;자파르 가셈&quot;</td><td>null</td></tr><tr><td>4124</td><td>&quot;황산벌&quot;</td><td>2003-10-17</td><td>0</td><td>&quot;0&quot;</td><td>41867500</td><td>0</td><td>5665</td><td>1</td><td>2</td><td>&quot;한국&quot;</td><td>&quot;한국&quot;</td><td>&quot;(주)씨네월드&quot;</td><td>&quot;(주)씨네월드&quot;</td><td>&quot;15세관람가&quot;</td><td>&quot;코미디&quot;</td><td>&quot;이준익&quot;</td><td>&quot;박중훈,정진영,오지명,김병철,김선아,김윤태,이문식,조대…</td></tr><tr><td>4124</td><td>&quot;회오리 바람&quot;</td><td>2010-02-25</td><td>0</td><td>&quot;0&quot;</td><td>16680500</td><td>0</td><td>2275</td><td>1</td><td>1</td><td>&quot;한국&quot;</td><td>&quot;한국&quot;</td><td>&quot;(주)모쿠슈라&quot;</td><td>&quot;(주)영화사 진진&quot;</td><td>&quot;15세이상관람가&quot;</td><td>&quot;드라마,멜로/로맨스&quot;</td><td>&quot;장건재&quot;</td><td>&quot;서준영,권혁풍,한나,김호,신동주,조용선,김한나,최현성,…</td></tr><tr><td>4124</td><td>&quot;휘파람의 노래: 시벨&quot;</td><td>null</td><td>0</td><td>&quot;0&quot;</td><td>0</td><td>0</td><td>0</td><td>1</td><td>1</td><td>&quot;터키&quot;</td><td>&quot;터키&quot;</td><td>null</td><td>null</td><td>null</td><td>&quot;드라마&quot;</td><td>&quot;기욤 조바네티&quot;</td><td>null</td></tr><tr><td>null</td><td>null</td><td>null</td><td>1194536397163</td><td>null</td><td>5392329582955</td><td>123125468</td><td>624692310</td><td>164698</td><td>6306317</td><td>null</td><td>null</td><td>null</td><td>null</td><td>null</td><td>null</td><td>null</td><td>null</td></tr></tbody></table></div>"
      ],
      "text/plain": [
       "shape: (4_320, 18)\n",
       "┌──────┬───────────────┬────────────┬───────────────┬───┬───────────────┬───────────────┬───────────────┬──────────────┐\n",
       "│ 순위 ┆ 영화명        ┆ 개봉일     ┆ 매출액        ┆ … ┆ 등급          ┆ 장르          ┆ 감독          ┆ 배우         │\n",
       "│ ---  ┆ ---           ┆ ---        ┆ ---           ┆   ┆ ---           ┆ ---           ┆ ---           ┆ ---          │\n",
       "│ i64  ┆ str           ┆ date       ┆ i64           ┆   ┆ str           ┆ str           ┆ str           ┆ str          │\n",
       "╞══════╪═══════════════╪════════════╪═══════════════╪═══╪═══════════════╪═══════════════╪═══════════════╪══════════════╡\n",
       "│ null ┆ null          ┆ null       ┆ null          ┆ … ┆ null          ┆ null          ┆ null          ┆ null         │\n",
       "│ 1    ┆ 파묘          ┆ 2024-02-22 ┆ 115157490414  ┆ … ┆ 15세이상관람  ┆ 미스터리,공포 ┆ 장재현        ┆ 최민식,김고  │\n",
       "│      ┆               ┆            ┆               ┆   ┆ 가            ┆ (호러)        ┆               ┆ 은,유해진,이 │\n",
       "│      ┆               ┆            ┆               ┆   ┆               ┆               ┆               ┆ 도현,김재철, │\n",
       "│      ┆               ┆            ┆               ┆   ┆               ┆               ┆               ┆ 김민준,김병  │\n",
       "│      ┆               ┆            ┆               ┆   ┆               ┆               ┆               ┆ 오,전진…     │\n",
       "│ 2    ┆ 범죄도시4     ┆ 2024-04-24 ┆ 110050000734  ┆ … ┆ 15세이상관람  ┆ 액션,범죄     ┆ 허명행        ┆ 김무열,박지  │\n",
       "│      ┆               ┆            ┆               ┆   ┆ 가            ┆               ┆               ┆ 환,이동휘,마 │\n",
       "│      ┆               ┆            ┆               ┆   ┆               ┆               ┆               ┆ 동석,곽자형, │\n",
       "│      ┆               ┆            ┆               ┆   ┆               ┆               ┆               ┆ 이범수,김민  │\n",
       "│      ┆               ┆            ┆               ┆   ┆               ┆               ┆               ┆ 재,이지…     │\n",
       "│ 3    ┆ 인사이드 아웃 ┆ 2024-06-12 ┆ 84509284036   ┆ … ┆ 전체관람가    ┆ 애니메이션    ┆ 켈시 만       ┆ 에이미       │\n",
       "│      ┆ 2             ┆            ┆               ┆   ┆               ┆               ┆               ┆ 포엘러,토니  │\n",
       "│      ┆               ┆            ┆               ┆   ┆               ┆               ┆               ┆ 헤일         │\n",
       "│ 4    ┆ 베테랑2       ┆ 2024-09-13 ┆ 72474035814   ┆ … ┆ 15세이상관람  ┆ 액션,범죄     ┆ 류승완        ┆ 황정민,정해  │\n",
       "│      ┆               ┆            ┆               ┆   ┆ 가            ┆               ┆               ┆ 인,장윤주,정 │\n",
       "│      ┆               ┆            ┆               ┆   ┆               ┆               ┆               ┆ 만식,신승환, │\n",
       "│      ┆               ┆            ┆               ┆   ┆               ┆               ┆               ┆ 오달수,오대  │\n",
       "│      ┆               ┆            ┆               ┆   ┆               ┆               ┆               ┆ 환,김시…     │\n",
       "│ …    ┆ …             ┆ …          ┆ …             ┆ … ┆ …             ┆ …             ┆ …             ┆ …            │\n",
       "│ 4124 ┆ 헬리오폴리스  ┆ null       ┆ 0             ┆ … ┆ null          ┆ 기타          ┆ 자파르 가셈   ┆ null         │\n",
       "│ 4124 ┆ 황산벌        ┆ 2003-10-17 ┆ 0             ┆ … ┆ 15세관람가    ┆ 코미디        ┆ 이준익        ┆ 박중훈,정진  │\n",
       "│      ┆               ┆            ┆               ┆   ┆               ┆               ┆               ┆ 영,오지명,김 │\n",
       "│      ┆               ┆            ┆               ┆   ┆               ┆               ┆               ┆ 병철,김선아, │\n",
       "│      ┆               ┆            ┆               ┆   ┆               ┆               ┆               ┆ 김윤태,이문  │\n",
       "│      ┆               ┆            ┆               ┆   ┆               ┆               ┆               ┆ 식,조대…     │\n",
       "│ 4124 ┆ 회오리 바람   ┆ 2010-02-25 ┆ 0             ┆ … ┆ 15세이상관람  ┆ 드라마,멜로/  ┆ 장건재        ┆ 서준영,권혁  │\n",
       "│      ┆               ┆            ┆               ┆   ┆ 가            ┆ 로맨스        ┆               ┆ 풍,한나,김호 │\n",
       "│      ┆               ┆            ┆               ┆   ┆               ┆               ┆               ┆ ,신동주,조용 │\n",
       "│      ┆               ┆            ┆               ┆   ┆               ┆               ┆               ┆ 선,김한나,최 │\n",
       "│      ┆               ┆            ┆               ┆   ┆               ┆               ┆               ┆ 현성,…       │\n",
       "│ 4124 ┆ 휘파람의      ┆ null       ┆ 0             ┆ … ┆ null          ┆ 드라마        ┆ 기욤 조바네티 ┆ null         │\n",
       "│      ┆ 노래: 시벨    ┆            ┆               ┆   ┆               ┆               ┆               ┆              │\n",
       "│ null ┆ null          ┆ null       ┆ 1194536397163 ┆ … ┆ null          ┆ null          ┆ null          ┆ null         │\n",
       "└──────┴───────────────┴────────────┴───────────────┴───┴───────────────┴───────────────┴───────────────┴──────────────┘"
      ]
     },
     "execution_count": 6,
     "metadata": {},
     "output_type": "execute_result"
    }
   ],
   "source": [
    "df_boxoffice_excel = pl.read_excel(\"./KOBIS_기간별박스오피스.xlsx\")\n",
    "df_boxoffice_excel"
   ]
  },
  {
   "cell_type": "code",
   "execution_count": 7,
   "id": "c4e42897-c979-4e5d-8ce8-7b4f28038471",
   "metadata": {},
   "outputs": [
    {
     "data": {
      "text/plain": [
       "<xlsxwriter.workbook.Workbook at 0x149c5fc9490>"
      ]
     },
     "execution_count": 7,
     "metadata": {},
     "output_type": "execute_result"
    }
   ],
   "source": [
    "df_boxoffice.write_excel(\"./write_csv.xlsx\")"
   ]
  },
  {
   "cell_type": "code",
   "execution_count": 8,
   "id": "5dc9880b-a3cf-4930-aa67-d6b2ed7f7611",
   "metadata": {},
   "outputs": [],
   "source": [
    "df_boxoffice.write_parquet(\"./write_boxoffice.parquet\") "
   ]
  },
  {
   "cell_type": "code",
   "execution_count": 9,
   "id": "ee7c5b6e-0a3f-409b-b1ff-fa340665a31d",
   "metadata": {},
   "outputs": [
    {
     "data": {
      "text/html": [
       "<div><style>\n",
       ".dataframe > thead > tr,\n",
       ".dataframe > tbody > tr {\n",
       "  text-align: right;\n",
       "  white-space: pre-wrap;\n",
       "}\n",
       "</style>\n",
       "<small>shape: (4_319, 18)</small><table border=\"1\" class=\"dataframe\"><thead><tr><th>순위</th><th>영화명</th><th>개봉일</th><th>매출액 </th><th>매출액</th><th>누적매출액 </th><th>관객수 </th><th>누적관객수 </th><th>스크린수 </th><th>상영횟수 </th><th>대표국적 </th><th>국적 </th><th>제작사 </th><th>배급사 </th><th>등급 </th><th>장르 </th><th>감독 </th><th>배우 </th></tr><tr><td>i64</td><td>str</td><td>date</td><td>str</td><td>str</td><td>str</td><td>str</td><td>str</td><td>str</td><td>str</td><td>str</td><td>str</td><td>str</td><td>str</td><td>str</td><td>str</td><td>str</td><td>str</td></tr></thead><tbody><tr><td>null</td><td>null</td><td>null</td><td>null</td><td>&quot;점유율 &quot;</td><td>null</td><td>null</td><td>null</td><td>null</td><td>null</td><td>null</td><td>null</td><td>null</td><td>null</td><td>null</td><td>null</td><td>null</td><td>null</td></tr><tr><td>1</td><td>&quot;파묘&quot;</td><td>2024-02-22</td><td>&quot;115,157,490,414&quot;</td><td>&quot;9.6%&quot;</td><td>&quot;115,157,490,414&quot;</td><td>&quot;11,914,784&quot;</td><td>&quot;11,914,784&quot;</td><td>&quot;2,367&quot;</td><td>&quot;364,955&quot;</td><td>&quot;한국&quot;</td><td>&quot;한국&quot;</td><td>&quot;(주)쇼박스&quot;</td><td>&quot;(주)쇼박스&quot;</td><td>&quot;15세이상관람가&quot;</td><td>&quot;미스터리,공포(호러)&quot;</td><td>&quot;장재현&quot;</td><td>&quot;최민식,김고은,유해진,이도현,김재철,김민준,김병오,전진…</td></tr><tr><td>2</td><td>&quot;범죄도시4&quot;</td><td>2024-04-24</td><td>&quot;110,050,000,734&quot;</td><td>&quot;9.2%&quot;</td><td>&quot;110,050,000,734&quot;</td><td>&quot;11,502,779&quot;</td><td>&quot;11,502,779&quot;</td><td>&quot;2,980&quot;</td><td>&quot;375,434&quot;</td><td>&quot;한국&quot;</td><td>&quot;한국&quot;</td><td>&quot;주식회사 빅펀치픽쳐스,(주)홍필름,(주)비에이엔터테인먼…</td><td>&quot;주식회사 에이비오엔터테인먼트,플러스엠 엔터테인먼트&quot;</td><td>&quot;15세이상관람가&quot;</td><td>&quot;액션,범죄&quot;</td><td>&quot;허명행&quot;</td><td>&quot;김무열,박지환,이동휘,마동석,곽자형,이범수,김민재,이지…</td></tr><tr><td>3</td><td>&quot;인사이드 아웃 2&quot;</td><td>2024-06-12</td><td>&quot;84,509,284,036&quot;</td><td>&quot;7.1%&quot;</td><td>&quot;84,509,284,036&quot;</td><td>&quot;8,799,013&quot;</td><td>&quot;8,799,013&quot;</td><td>&quot;2,619&quot;</td><td>&quot;331,341&quot;</td><td>&quot;미국&quot;</td><td>&quot;미국&quot;</td><td>&quot;월트 디즈니 픽쳐스,픽사 애니메이션 스튜디오&quot;</td><td>&quot;월트디즈니컴퍼니코리아 유한책임회사&quot;</td><td>&quot;전체관람가&quot;</td><td>&quot;애니메이션&quot;</td><td>&quot;켈시 만&quot;</td><td>&quot;에이미 포엘러,토니 헤일&quot;</td></tr><tr><td>4</td><td>&quot;베테랑2&quot;</td><td>2024-09-13</td><td>&quot;72,474,035,814&quot;</td><td>&quot;6.1%&quot;</td><td>&quot;72,474,035,814&quot;</td><td>&quot;7,525,339&quot;</td><td>&quot;7,525,339&quot;</td><td>&quot;2,691&quot;</td><td>&quot;279,673&quot;</td><td>&quot;한국&quot;</td><td>&quot;한국&quot;</td><td>&quot;(주)외유내강&quot;</td><td>&quot;(주)씨제이이엔엠&quot;</td><td>&quot;15세이상관람가&quot;</td><td>&quot;액션,범죄&quot;</td><td>&quot;류승완&quot;</td><td>&quot;황정민,정해인,장윤주,정만식,신승환,오달수,오대환,김시…</td></tr><tr><td>&hellip;</td><td>&hellip;</td><td>&hellip;</td><td>&hellip;</td><td>&hellip;</td><td>&hellip;</td><td>&hellip;</td><td>&hellip;</td><td>&hellip;</td><td>&hellip;</td><td>&hellip;</td><td>&hellip;</td><td>&hellip;</td><td>&hellip;</td><td>&hellip;</td><td>&hellip;</td><td>&hellip;</td><td>&hellip;</td></tr><tr><td>4124</td><td>&quot;헌팅 파티&quot;</td><td>null</td><td>&quot;0&quot;</td><td>&quot;0.0%&quot;</td><td>&quot;0&quot;</td><td>&quot;0&quot;</td><td>&quot;0&quot;</td><td>&quot;1&quot;</td><td>&quot;1&quot;</td><td>&quot;기타&quot;</td><td>&quot;기타&quot;</td><td>null</td><td>null</td><td>null</td><td>&quot;코미디,멜로/로맨스&quot;</td><td>null</td><td>null</td></tr><tr><td>4124</td><td>&quot;헬리오폴리스&quot;</td><td>null</td><td>&quot;0&quot;</td><td>&quot;0.0%&quot;</td><td>&quot;474,000&quot;</td><td>&quot;0&quot;</td><td>&quot;158&quot;</td><td>&quot;1&quot;</td><td>&quot;1&quot;</td><td>&quot;기타&quot;</td><td>&quot;기타&quot;</td><td>null</td><td>null</td><td>null</td><td>&quot;기타&quot;</td><td>&quot;자파르 가셈&quot;</td><td>null</td></tr><tr><td>4124</td><td>&quot;황산벌&quot;</td><td>2003-10-17</td><td>&quot;0&quot;</td><td>&quot;0.0%&quot;</td><td>&quot;41,867,500&quot;</td><td>&quot;0&quot;</td><td>&quot;5,665&quot;</td><td>&quot;1&quot;</td><td>&quot;2&quot;</td><td>&quot;한국&quot;</td><td>&quot;한국&quot;</td><td>&quot;(주)씨네월드&quot;</td><td>&quot;(주)씨네월드&quot;</td><td>&quot;15세관람가&quot;</td><td>&quot;코미디&quot;</td><td>&quot;이준익&quot;</td><td>&quot;박중훈,정진영,오지명,김병철,김선아,김윤태,이문식,조대…</td></tr><tr><td>4124</td><td>&quot;회오리 바람&quot;</td><td>2010-02-25</td><td>&quot;0&quot;</td><td>&quot;0.0%&quot;</td><td>&quot;16,680,500&quot;</td><td>&quot;0&quot;</td><td>&quot;2,275&quot;</td><td>&quot;1&quot;</td><td>&quot;1&quot;</td><td>&quot;한국&quot;</td><td>&quot;한국&quot;</td><td>&quot;(주)모쿠슈라&quot;</td><td>&quot;(주)영화사 진진&quot;</td><td>&quot;15세이상관람가&quot;</td><td>&quot;드라마,멜로/로맨스&quot;</td><td>&quot;장건재&quot;</td><td>&quot;서준영,권혁풍,한나,김호,신동주,조용선,김한나,최현성,…</td></tr><tr><td>4124</td><td>&quot;휘파람의 노래: 시벨&quot;</td><td>null</td><td>&quot;0&quot;</td><td>&quot;0.0%&quot;</td><td>&quot;0&quot;</td><td>&quot;0&quot;</td><td>&quot;0&quot;</td><td>&quot;1&quot;</td><td>&quot;1&quot;</td><td>&quot;터키&quot;</td><td>&quot;터키&quot;</td><td>null</td><td>null</td><td>null</td><td>&quot;드라마&quot;</td><td>&quot;기욤 조바네티&quot;</td><td>null</td></tr></tbody></table></div>"
      ],
      "text/plain": [
       "shape: (4_319, 18)\n",
       "┌──────┬───────────────┬────────────┬───────────────┬───┬───────────────┬───────────────┬───────────────┬──────────────┐\n",
       "│ 순위 ┆ 영화명        ┆ 개봉일     ┆ 매출액        ┆ … ┆ 등급          ┆ 장르          ┆ 감독          ┆ 배우         │\n",
       "│ ---  ┆ ---           ┆ ---        ┆ ---           ┆   ┆ ---           ┆ ---           ┆ ---           ┆ ---          │\n",
       "│ i64  ┆ str           ┆ date       ┆ str           ┆   ┆ str           ┆ str           ┆ str           ┆ str          │\n",
       "╞══════╪═══════════════╪════════════╪═══════════════╪═══╪═══════════════╪═══════════════╪═══════════════╪══════════════╡\n",
       "│ null ┆ null          ┆ null       ┆ null          ┆ … ┆ null          ┆ null          ┆ null          ┆ null         │\n",
       "│ 1    ┆ 파묘          ┆ 2024-02-22 ┆ 115,157,490,4 ┆ … ┆ 15세이상관람  ┆ 미스터리,공포 ┆ 장재현        ┆ 최민식,김고  │\n",
       "│      ┆               ┆            ┆ 14            ┆   ┆ 가            ┆ (호러)        ┆               ┆ 은,유해진,이 │\n",
       "│      ┆               ┆            ┆               ┆   ┆               ┆               ┆               ┆ 도현,김재철, │\n",
       "│      ┆               ┆            ┆               ┆   ┆               ┆               ┆               ┆ 김민준,김병  │\n",
       "│      ┆               ┆            ┆               ┆   ┆               ┆               ┆               ┆ 오,전진…     │\n",
       "│ 2    ┆ 범죄도시4     ┆ 2024-04-24 ┆ 110,050,000,7 ┆ … ┆ 15세이상관람  ┆ 액션,범죄     ┆ 허명행        ┆ 김무열,박지  │\n",
       "│      ┆               ┆            ┆ 34            ┆   ┆ 가            ┆               ┆               ┆ 환,이동휘,마 │\n",
       "│      ┆               ┆            ┆               ┆   ┆               ┆               ┆               ┆ 동석,곽자형, │\n",
       "│      ┆               ┆            ┆               ┆   ┆               ┆               ┆               ┆ 이범수,김민  │\n",
       "│      ┆               ┆            ┆               ┆   ┆               ┆               ┆               ┆ 재,이지…     │\n",
       "│ 3    ┆ 인사이드 아웃 ┆ 2024-06-12 ┆ 84,509,284,03 ┆ … ┆ 전체관람가    ┆ 애니메이션    ┆ 켈시 만       ┆ 에이미       │\n",
       "│      ┆ 2             ┆            ┆ 6             ┆   ┆               ┆               ┆               ┆ 포엘러,토니  │\n",
       "│      ┆               ┆            ┆               ┆   ┆               ┆               ┆               ┆ 헤일         │\n",
       "│ 4    ┆ 베테랑2       ┆ 2024-09-13 ┆ 72,474,035,81 ┆ … ┆ 15세이상관람  ┆ 액션,범죄     ┆ 류승완        ┆ 황정민,정해  │\n",
       "│      ┆               ┆            ┆ 4             ┆   ┆ 가            ┆               ┆               ┆ 인,장윤주,정 │\n",
       "│      ┆               ┆            ┆               ┆   ┆               ┆               ┆               ┆ 만식,신승환, │\n",
       "│      ┆               ┆            ┆               ┆   ┆               ┆               ┆               ┆ 오달수,오대  │\n",
       "│      ┆               ┆            ┆               ┆   ┆               ┆               ┆               ┆ 환,김시…     │\n",
       "│ …    ┆ …             ┆ …          ┆ …             ┆ … ┆ …             ┆ …             ┆ …             ┆ …            │\n",
       "│ 4124 ┆ 헌팅 파티     ┆ null       ┆ 0             ┆ … ┆ null          ┆ 코미디,멜로/  ┆ null          ┆ null         │\n",
       "│      ┆               ┆            ┆               ┆   ┆               ┆ 로맨스        ┆               ┆              │\n",
       "│ 4124 ┆ 헬리오폴리스  ┆ null       ┆ 0             ┆ … ┆ null          ┆ 기타          ┆ 자파르 가셈   ┆ null         │\n",
       "│ 4124 ┆ 황산벌        ┆ 2003-10-17 ┆ 0             ┆ … ┆ 15세관람가    ┆ 코미디        ┆ 이준익        ┆ 박중훈,정진  │\n",
       "│      ┆               ┆            ┆               ┆   ┆               ┆               ┆               ┆ 영,오지명,김 │\n",
       "│      ┆               ┆            ┆               ┆   ┆               ┆               ┆               ┆ 병철,김선아, │\n",
       "│      ┆               ┆            ┆               ┆   ┆               ┆               ┆               ┆ 김윤태,이문  │\n",
       "│      ┆               ┆            ┆               ┆   ┆               ┆               ┆               ┆ 식,조대…     │\n",
       "│ 4124 ┆ 회오리 바람   ┆ 2010-02-25 ┆ 0             ┆ … ┆ 15세이상관람  ┆ 드라마,멜로/  ┆ 장건재        ┆ 서준영,권혁  │\n",
       "│      ┆               ┆            ┆               ┆   ┆ 가            ┆ 로맨스        ┆               ┆ 풍,한나,김호 │\n",
       "│      ┆               ┆            ┆               ┆   ┆               ┆               ┆               ┆ ,신동주,조용 │\n",
       "│      ┆               ┆            ┆               ┆   ┆               ┆               ┆               ┆ 선,김한나,최 │\n",
       "│      ┆               ┆            ┆               ┆   ┆               ┆               ┆               ┆ 현성,…       │\n",
       "│ 4124 ┆ 휘파람의      ┆ null       ┆ 0             ┆ … ┆ null          ┆ 드라마        ┆ 기욤 조바네티 ┆ null         │\n",
       "│      ┆ 노래: 시벨    ┆            ┆               ┆   ┆               ┆               ┆               ┆              │\n",
       "└──────┴───────────────┴────────────┴───────────────┴───┴───────────────┴───────────────┴───────────────┴──────────────┘"
      ]
     },
     "execution_count": 9,
     "metadata": {},
     "output_type": "execute_result"
    }
   ],
   "source": [
    "pl.read_parquet(\"./write_boxoffice.parquet\")"
   ]
  },
  {
   "cell_type": "code",
   "execution_count": 10,
   "id": "ff5195b3-5f1a-456b-a396-8d5363f47437",
   "metadata": {},
   "outputs": [],
   "source": [
    "for i in range(5):\n",
    "\tdf_boxoffice.write_csv(f\"./write_multi{i}.csv\")"
   ]
  },
  {
   "cell_type": "code",
   "execution_count": 11,
   "id": "3d85b402-3e19-4cc9-bb9e-3b1a23ca00aa",
   "metadata": {},
   "outputs": [
    {
     "data": {
      "text/html": [
       "<div><style>\n",
       ".dataframe > thead > tr,\n",
       ".dataframe > tbody > tr {\n",
       "  text-align: right;\n",
       "  white-space: pre-wrap;\n",
       "}\n",
       "</style>\n",
       "<small>shape: (21_595, 18)</small><table border=\"1\" class=\"dataframe\"><thead><tr><th>순위</th><th>영화명</th><th>개봉일</th><th>매출액 </th><th>매출액</th><th>누적매출액 </th><th>관객수 </th><th>누적관객수 </th><th>스크린수 </th><th>상영횟수 </th><th>대표국적 </th><th>국적 </th><th>제작사 </th><th>배급사 </th><th>등급 </th><th>장르 </th><th>감독 </th><th>배우 </th></tr><tr><td>i64</td><td>str</td><td>str</td><td>str</td><td>str</td><td>str</td><td>str</td><td>str</td><td>str</td><td>str</td><td>str</td><td>str</td><td>str</td><td>str</td><td>str</td><td>str</td><td>str</td><td>str</td></tr></thead><tbody><tr><td>null</td><td>null</td><td>null</td><td>null</td><td>&quot;점유율 &quot;</td><td>null</td><td>null</td><td>null</td><td>null</td><td>null</td><td>null</td><td>null</td><td>null</td><td>null</td><td>null</td><td>null</td><td>null</td><td>null</td></tr><tr><td>1</td><td>&quot;파묘&quot;</td><td>&quot;2024-02-22&quot;</td><td>&quot;115,157,490,414&quot;</td><td>&quot;9.6%&quot;</td><td>&quot;115,157,490,414&quot;</td><td>&quot;11,914,784&quot;</td><td>&quot;11,914,784&quot;</td><td>&quot;2,367&quot;</td><td>&quot;364,955&quot;</td><td>&quot;한국&quot;</td><td>&quot;한국&quot;</td><td>&quot;(주)쇼박스&quot;</td><td>&quot;(주)쇼박스&quot;</td><td>&quot;15세이상관람가&quot;</td><td>&quot;미스터리,공포(호러)&quot;</td><td>&quot;장재현&quot;</td><td>&quot;최민식,김고은,유해진,이도현,김재철,김민준,김병오,전진…</td></tr><tr><td>2</td><td>&quot;범죄도시4&quot;</td><td>&quot;2024-04-24&quot;</td><td>&quot;110,050,000,734&quot;</td><td>&quot;9.2%&quot;</td><td>&quot;110,050,000,734&quot;</td><td>&quot;11,502,779&quot;</td><td>&quot;11,502,779&quot;</td><td>&quot;2,980&quot;</td><td>&quot;375,434&quot;</td><td>&quot;한국&quot;</td><td>&quot;한국&quot;</td><td>&quot;주식회사 빅펀치픽쳐스,(주)홍필름,(주)비에이엔터테인먼…</td><td>&quot;주식회사 에이비오엔터테인먼트,플러스엠 엔터테인먼트&quot;</td><td>&quot;15세이상관람가&quot;</td><td>&quot;액션,범죄&quot;</td><td>&quot;허명행&quot;</td><td>&quot;김무열,박지환,이동휘,마동석,곽자형,이범수,김민재,이지…</td></tr><tr><td>3</td><td>&quot;인사이드 아웃 2&quot;</td><td>&quot;2024-06-12&quot;</td><td>&quot;84,509,284,036&quot;</td><td>&quot;7.1%&quot;</td><td>&quot;84,509,284,036&quot;</td><td>&quot;8,799,013&quot;</td><td>&quot;8,799,013&quot;</td><td>&quot;2,619&quot;</td><td>&quot;331,341&quot;</td><td>&quot;미국&quot;</td><td>&quot;미국&quot;</td><td>&quot;월트 디즈니 픽쳐스,픽사 애니메이션 스튜디오&quot;</td><td>&quot;월트디즈니컴퍼니코리아 유한책임회사&quot;</td><td>&quot;전체관람가&quot;</td><td>&quot;애니메이션&quot;</td><td>&quot;켈시 만&quot;</td><td>&quot;에이미 포엘러,토니 헤일&quot;</td></tr><tr><td>4</td><td>&quot;베테랑2&quot;</td><td>&quot;2024-09-13&quot;</td><td>&quot;72,474,035,814&quot;</td><td>&quot;6.1%&quot;</td><td>&quot;72,474,035,814&quot;</td><td>&quot;7,525,339&quot;</td><td>&quot;7,525,339&quot;</td><td>&quot;2,691&quot;</td><td>&quot;279,673&quot;</td><td>&quot;한국&quot;</td><td>&quot;한국&quot;</td><td>&quot;(주)외유내강&quot;</td><td>&quot;(주)씨제이이엔엠&quot;</td><td>&quot;15세이상관람가&quot;</td><td>&quot;액션,범죄&quot;</td><td>&quot;류승완&quot;</td><td>&quot;황정민,정해인,장윤주,정만식,신승환,오달수,오대환,김시…</td></tr><tr><td>&hellip;</td><td>&hellip;</td><td>&hellip;</td><td>&hellip;</td><td>&hellip;</td><td>&hellip;</td><td>&hellip;</td><td>&hellip;</td><td>&hellip;</td><td>&hellip;</td><td>&hellip;</td><td>&hellip;</td><td>&hellip;</td><td>&hellip;</td><td>&hellip;</td><td>&hellip;</td><td>&hellip;</td><td>&hellip;</td></tr><tr><td>4124</td><td>&quot;헌팅 파티&quot;</td><td>null</td><td>&quot;0&quot;</td><td>&quot;0.0%&quot;</td><td>&quot;0&quot;</td><td>&quot;0&quot;</td><td>&quot;0&quot;</td><td>&quot;1&quot;</td><td>&quot;1&quot;</td><td>&quot;기타&quot;</td><td>&quot;기타&quot;</td><td>null</td><td>null</td><td>null</td><td>&quot;코미디,멜로/로맨스&quot;</td><td>null</td><td>null</td></tr><tr><td>4124</td><td>&quot;헬리오폴리스&quot;</td><td>null</td><td>&quot;0&quot;</td><td>&quot;0.0%&quot;</td><td>&quot;474,000&quot;</td><td>&quot;0&quot;</td><td>&quot;158&quot;</td><td>&quot;1&quot;</td><td>&quot;1&quot;</td><td>&quot;기타&quot;</td><td>&quot;기타&quot;</td><td>null</td><td>null</td><td>null</td><td>&quot;기타&quot;</td><td>&quot;자파르 가셈&quot;</td><td>null</td></tr><tr><td>4124</td><td>&quot;황산벌&quot;</td><td>&quot;2003-10-17&quot;</td><td>&quot;0&quot;</td><td>&quot;0.0%&quot;</td><td>&quot;41,867,500&quot;</td><td>&quot;0&quot;</td><td>&quot;5,665&quot;</td><td>&quot;1&quot;</td><td>&quot;2&quot;</td><td>&quot;한국&quot;</td><td>&quot;한국&quot;</td><td>&quot;(주)씨네월드&quot;</td><td>&quot;(주)씨네월드&quot;</td><td>&quot;15세관람가&quot;</td><td>&quot;코미디&quot;</td><td>&quot;이준익&quot;</td><td>&quot;박중훈,정진영,오지명,김병철,김선아,김윤태,이문식,조대…</td></tr><tr><td>4124</td><td>&quot;회오리 바람&quot;</td><td>&quot;2010-02-25&quot;</td><td>&quot;0&quot;</td><td>&quot;0.0%&quot;</td><td>&quot;16,680,500&quot;</td><td>&quot;0&quot;</td><td>&quot;2,275&quot;</td><td>&quot;1&quot;</td><td>&quot;1&quot;</td><td>&quot;한국&quot;</td><td>&quot;한국&quot;</td><td>&quot;(주)모쿠슈라&quot;</td><td>&quot;(주)영화사 진진&quot;</td><td>&quot;15세이상관람가&quot;</td><td>&quot;드라마,멜로/로맨스&quot;</td><td>&quot;장건재&quot;</td><td>&quot;서준영,권혁풍,한나,김호,신동주,조용선,김한나,최현성,…</td></tr><tr><td>4124</td><td>&quot;휘파람의 노래: 시벨&quot;</td><td>null</td><td>&quot;0&quot;</td><td>&quot;0.0%&quot;</td><td>&quot;0&quot;</td><td>&quot;0&quot;</td><td>&quot;0&quot;</td><td>&quot;1&quot;</td><td>&quot;1&quot;</td><td>&quot;터키&quot;</td><td>&quot;터키&quot;</td><td>null</td><td>null</td><td>null</td><td>&quot;드라마&quot;</td><td>&quot;기욤 조바네티&quot;</td><td>null</td></tr></tbody></table></div>"
      ],
      "text/plain": [
       "shape: (21_595, 18)\n",
       "┌──────┬───────────────┬────────────┬───────────────┬───┬───────────────┬───────────────┬───────────────┬──────────────┐\n",
       "│ 순위 ┆ 영화명        ┆ 개봉일     ┆ 매출액        ┆ … ┆ 등급          ┆ 장르          ┆ 감독          ┆ 배우         │\n",
       "│ ---  ┆ ---           ┆ ---        ┆ ---           ┆   ┆ ---           ┆ ---           ┆ ---           ┆ ---          │\n",
       "│ i64  ┆ str           ┆ str        ┆ str           ┆   ┆ str           ┆ str           ┆ str           ┆ str          │\n",
       "╞══════╪═══════════════╪════════════╪═══════════════╪═══╪═══════════════╪═══════════════╪═══════════════╪══════════════╡\n",
       "│ null ┆ null          ┆ null       ┆ null          ┆ … ┆ null          ┆ null          ┆ null          ┆ null         │\n",
       "│ 1    ┆ 파묘          ┆ 2024-02-22 ┆ 115,157,490,4 ┆ … ┆ 15세이상관람  ┆ 미스터리,공포 ┆ 장재현        ┆ 최민식,김고  │\n",
       "│      ┆               ┆            ┆ 14            ┆   ┆ 가            ┆ (호러)        ┆               ┆ 은,유해진,이 │\n",
       "│      ┆               ┆            ┆               ┆   ┆               ┆               ┆               ┆ 도현,김재철, │\n",
       "│      ┆               ┆            ┆               ┆   ┆               ┆               ┆               ┆ 김민준,김병  │\n",
       "│      ┆               ┆            ┆               ┆   ┆               ┆               ┆               ┆ 오,전진…     │\n",
       "│ 2    ┆ 범죄도시4     ┆ 2024-04-24 ┆ 110,050,000,7 ┆ … ┆ 15세이상관람  ┆ 액션,범죄     ┆ 허명행        ┆ 김무열,박지  │\n",
       "│      ┆               ┆            ┆ 34            ┆   ┆ 가            ┆               ┆               ┆ 환,이동휘,마 │\n",
       "│      ┆               ┆            ┆               ┆   ┆               ┆               ┆               ┆ 동석,곽자형, │\n",
       "│      ┆               ┆            ┆               ┆   ┆               ┆               ┆               ┆ 이범수,김민  │\n",
       "│      ┆               ┆            ┆               ┆   ┆               ┆               ┆               ┆ 재,이지…     │\n",
       "│ 3    ┆ 인사이드 아웃 ┆ 2024-06-12 ┆ 84,509,284,03 ┆ … ┆ 전체관람가    ┆ 애니메이션    ┆ 켈시 만       ┆ 에이미       │\n",
       "│      ┆ 2             ┆            ┆ 6             ┆   ┆               ┆               ┆               ┆ 포엘러,토니  │\n",
       "│      ┆               ┆            ┆               ┆   ┆               ┆               ┆               ┆ 헤일         │\n",
       "│ 4    ┆ 베테랑2       ┆ 2024-09-13 ┆ 72,474,035,81 ┆ … ┆ 15세이상관람  ┆ 액션,범죄     ┆ 류승완        ┆ 황정민,정해  │\n",
       "│      ┆               ┆            ┆ 4             ┆   ┆ 가            ┆               ┆               ┆ 인,장윤주,정 │\n",
       "│      ┆               ┆            ┆               ┆   ┆               ┆               ┆               ┆ 만식,신승환, │\n",
       "│      ┆               ┆            ┆               ┆   ┆               ┆               ┆               ┆ 오달수,오대  │\n",
       "│      ┆               ┆            ┆               ┆   ┆               ┆               ┆               ┆ 환,김시…     │\n",
       "│ …    ┆ …             ┆ …          ┆ …             ┆ … ┆ …             ┆ …             ┆ …             ┆ …            │\n",
       "│ 4124 ┆ 헌팅 파티     ┆ null       ┆ 0             ┆ … ┆ null          ┆ 코미디,멜로/  ┆ null          ┆ null         │\n",
       "│      ┆               ┆            ┆               ┆   ┆               ┆ 로맨스        ┆               ┆              │\n",
       "│ 4124 ┆ 헬리오폴리스  ┆ null       ┆ 0             ┆ … ┆ null          ┆ 기타          ┆ 자파르 가셈   ┆ null         │\n",
       "│ 4124 ┆ 황산벌        ┆ 2003-10-17 ┆ 0             ┆ … ┆ 15세관람가    ┆ 코미디        ┆ 이준익        ┆ 박중훈,정진  │\n",
       "│      ┆               ┆            ┆               ┆   ┆               ┆               ┆               ┆ 영,오지명,김 │\n",
       "│      ┆               ┆            ┆               ┆   ┆               ┆               ┆               ┆ 병철,김선아, │\n",
       "│      ┆               ┆            ┆               ┆   ┆               ┆               ┆               ┆ 김윤태,이문  │\n",
       "│      ┆               ┆            ┆               ┆   ┆               ┆               ┆               ┆ 식,조대…     │\n",
       "│ 4124 ┆ 회오리 바람   ┆ 2010-02-25 ┆ 0             ┆ … ┆ 15세이상관람  ┆ 드라마,멜로/  ┆ 장건재        ┆ 서준영,권혁  │\n",
       "│      ┆               ┆            ┆               ┆   ┆ 가            ┆ 로맨스        ┆               ┆ 풍,한나,김호 │\n",
       "│      ┆               ┆            ┆               ┆   ┆               ┆               ┆               ┆ ,신동주,조용 │\n",
       "│      ┆               ┆            ┆               ┆   ┆               ┆               ┆               ┆ 선,김한나,최 │\n",
       "│      ┆               ┆            ┆               ┆   ┆               ┆               ┆               ┆ 현성,…       │\n",
       "│ 4124 ┆ 휘파람의      ┆ null       ┆ 0             ┆ … ┆ null          ┆ 드라마        ┆ 기욤 조바네티 ┆ null         │\n",
       "│      ┆ 노래: 시벨    ┆            ┆               ┆   ┆               ┆               ┆               ┆              │\n",
       "└──────┴───────────────┴────────────┴───────────────┴───┴───────────────┴───────────────┴───────────────┴──────────────┘"
      ]
     },
     "execution_count": 11,
     "metadata": {},
     "output_type": "execute_result"
    }
   ],
   "source": [
    "pl.read_csv(\"./write_multi*.csv\")"
   ]
  },
  {
   "cell_type": "code",
   "execution_count": 12,
   "id": "5fd55837-80d1-4a4c-aadf-3e3f807c6a7d",
   "metadata": {},
   "outputs": [],
   "source": [
    "df_iris = pl.read_csv(\"./iris.csv\")"
   ]
  },
  {
   "cell_type": "code",
   "execution_count": 13,
   "id": "ee07e9ec-5c47-465d-b3a3-0aefbe802f7f",
   "metadata": {},
   "outputs": [],
   "source": [
    "df_iris.write_parquet(\"./specis\", partition_by = [\"Species\"])"
   ]
  },
  {
   "cell_type": "code",
   "execution_count": 14,
   "id": "dd4761ae-ab6f-47c8-a380-882bdda2a7f4",
   "metadata": {},
   "outputs": [
    {
     "data": {
      "text/html": [
       "<div><style>\n",
       ".dataframe > thead > tr,\n",
       ".dataframe > tbody > tr {\n",
       "  text-align: right;\n",
       "  white-space: pre-wrap;\n",
       "}\n",
       "</style>\n",
       "<small>shape: (150, 6)</small><table border=\"1\" class=\"dataframe\"><thead><tr><th>Id</th><th>SepalLengthCm</th><th>SepalWidthCm</th><th>PetalLengthCm</th><th>PetalWidthCm</th><th>Species</th></tr><tr><td>i64</td><td>f64</td><td>f64</td><td>f64</td><td>f64</td><td>str</td></tr></thead><tbody><tr><td>1</td><td>5.1</td><td>3.5</td><td>1.4</td><td>0.2</td><td>&quot;Iris-setosa&quot;</td></tr><tr><td>2</td><td>4.9</td><td>3.0</td><td>1.4</td><td>0.2</td><td>&quot;Iris-setosa&quot;</td></tr><tr><td>3</td><td>4.7</td><td>3.2</td><td>1.3</td><td>0.2</td><td>&quot;Iris-setosa&quot;</td></tr><tr><td>4</td><td>4.6</td><td>3.1</td><td>1.5</td><td>0.2</td><td>&quot;Iris-setosa&quot;</td></tr><tr><td>5</td><td>5.0</td><td>3.6</td><td>1.4</td><td>0.2</td><td>&quot;Iris-setosa&quot;</td></tr><tr><td>&hellip;</td><td>&hellip;</td><td>&hellip;</td><td>&hellip;</td><td>&hellip;</td><td>&hellip;</td></tr><tr><td>146</td><td>6.7</td><td>3.0</td><td>5.2</td><td>2.3</td><td>&quot;Iris-virginica&quot;</td></tr><tr><td>147</td><td>6.3</td><td>2.5</td><td>5.0</td><td>1.9</td><td>&quot;Iris-virginica&quot;</td></tr><tr><td>148</td><td>6.5</td><td>3.0</td><td>5.2</td><td>2.0</td><td>&quot;Iris-virginica&quot;</td></tr><tr><td>149</td><td>6.2</td><td>3.4</td><td>5.4</td><td>2.3</td><td>&quot;Iris-virginica&quot;</td></tr><tr><td>150</td><td>5.9</td><td>3.0</td><td>5.1</td><td>1.8</td><td>&quot;Iris-virginica&quot;</td></tr></tbody></table></div>"
      ],
      "text/plain": [
       "shape: (150, 6)\n",
       "┌─────┬───────────────┬──────────────┬───────────────┬──────────────┬────────────────┐\n",
       "│ Id  ┆ SepalLengthCm ┆ SepalWidthCm ┆ PetalLengthCm ┆ PetalWidthCm ┆ Species        │\n",
       "│ --- ┆ ---           ┆ ---          ┆ ---           ┆ ---          ┆ ---            │\n",
       "│ i64 ┆ f64           ┆ f64          ┆ f64           ┆ f64          ┆ str            │\n",
       "╞═════╪═══════════════╪══════════════╪═══════════════╪══════════════╪════════════════╡\n",
       "│ 1   ┆ 5.1           ┆ 3.5          ┆ 1.4           ┆ 0.2          ┆ Iris-setosa    │\n",
       "│ 2   ┆ 4.9           ┆ 3.0          ┆ 1.4           ┆ 0.2          ┆ Iris-setosa    │\n",
       "│ 3   ┆ 4.7           ┆ 3.2          ┆ 1.3           ┆ 0.2          ┆ Iris-setosa    │\n",
       "│ 4   ┆ 4.6           ┆ 3.1          ┆ 1.5           ┆ 0.2          ┆ Iris-setosa    │\n",
       "│ 5   ┆ 5.0           ┆ 3.6          ┆ 1.4           ┆ 0.2          ┆ Iris-setosa    │\n",
       "│ …   ┆ …             ┆ …            ┆ …             ┆ …            ┆ …              │\n",
       "│ 146 ┆ 6.7           ┆ 3.0          ┆ 5.2           ┆ 2.3          ┆ Iris-virginica │\n",
       "│ 147 ┆ 6.3           ┆ 2.5          ┆ 5.0           ┆ 1.9          ┆ Iris-virginica │\n",
       "│ 148 ┆ 6.5           ┆ 3.0          ┆ 5.2           ┆ 2.0          ┆ Iris-virginica │\n",
       "│ 149 ┆ 6.2           ┆ 3.4          ┆ 5.4           ┆ 2.3          ┆ Iris-virginica │\n",
       "│ 150 ┆ 5.9           ┆ 3.0          ┆ 5.1           ┆ 1.8          ┆ Iris-virginica │\n",
       "└─────┴───────────────┴──────────────┴───────────────┴──────────────┴────────────────┘"
      ]
     },
     "execution_count": 14,
     "metadata": {},
     "output_type": "execute_result"
    }
   ],
   "source": [
    "pl.read_parquet('./specis')"
   ]
  },
  {
   "cell_type": "code",
   "execution_count": 15,
   "id": "b306dde9-ef51-45be-9c26-a25d7f75cbac",
   "metadata": {},
   "outputs": [
    {
     "data": {
      "text/html": [
       "<div><style>\n",
       ".dataframe > thead > tr,\n",
       ".dataframe > tbody > tr {\n",
       "  text-align: right;\n",
       "  white-space: pre-wrap;\n",
       "}\n",
       "</style>\n",
       "<small>shape: (150, 5)</small><table border=\"1\" class=\"dataframe\"><thead><tr><th>sepal_length</th><th>sepal_width</th><th>petal_length</th><th>petal_width</th><th>species</th></tr><tr><td>f64</td><td>f64</td><td>f64</td><td>f64</td><td>str</td></tr></thead><tbody><tr><td>5.1</td><td>3.5</td><td>1.4</td><td>0.2</td><td>&quot;setosa&quot;</td></tr><tr><td>4.9</td><td>3.0</td><td>1.4</td><td>0.2</td><td>&quot;setosa&quot;</td></tr><tr><td>4.7</td><td>3.2</td><td>1.3</td><td>0.2</td><td>&quot;setosa&quot;</td></tr><tr><td>4.6</td><td>3.1</td><td>1.5</td><td>0.2</td><td>&quot;setosa&quot;</td></tr><tr><td>5.0</td><td>3.6</td><td>1.4</td><td>0.2</td><td>&quot;setosa&quot;</td></tr><tr><td>&hellip;</td><td>&hellip;</td><td>&hellip;</td><td>&hellip;</td><td>&hellip;</td></tr><tr><td>6.7</td><td>3.0</td><td>5.2</td><td>2.3</td><td>&quot;virginica&quot;</td></tr><tr><td>6.3</td><td>2.5</td><td>5.0</td><td>1.9</td><td>&quot;virginica&quot;</td></tr><tr><td>6.5</td><td>3.0</td><td>5.2</td><td>2.0</td><td>&quot;virginica&quot;</td></tr><tr><td>6.2</td><td>3.4</td><td>5.4</td><td>2.3</td><td>&quot;virginica&quot;</td></tr><tr><td>5.9</td><td>3.0</td><td>5.1</td><td>1.8</td><td>&quot;virginica&quot;</td></tr></tbody></table></div>"
      ],
      "text/plain": [
       "shape: (150, 5)\n",
       "┌──────────────┬─────────────┬──────────────┬─────────────┬───────────┐\n",
       "│ sepal_length ┆ sepal_width ┆ petal_length ┆ petal_width ┆ species   │\n",
       "│ ---          ┆ ---         ┆ ---          ┆ ---         ┆ ---       │\n",
       "│ f64          ┆ f64         ┆ f64          ┆ f64         ┆ str       │\n",
       "╞══════════════╪═════════════╪══════════════╪═════════════╪═══════════╡\n",
       "│ 5.1          ┆ 3.5         ┆ 1.4          ┆ 0.2         ┆ setosa    │\n",
       "│ 4.9          ┆ 3.0         ┆ 1.4          ┆ 0.2         ┆ setosa    │\n",
       "│ 4.7          ┆ 3.2         ┆ 1.3          ┆ 0.2         ┆ setosa    │\n",
       "│ 4.6          ┆ 3.1         ┆ 1.5          ┆ 0.2         ┆ setosa    │\n",
       "│ 5.0          ┆ 3.6         ┆ 1.4          ┆ 0.2         ┆ setosa    │\n",
       "│ …            ┆ …           ┆ …            ┆ …           ┆ …         │\n",
       "│ 6.7          ┆ 3.0         ┆ 5.2          ┆ 2.3         ┆ virginica │\n",
       "│ 6.3          ┆ 2.5         ┆ 5.0          ┆ 1.9         ┆ virginica │\n",
       "│ 6.5          ┆ 3.0         ┆ 5.2          ┆ 2.0         ┆ virginica │\n",
       "│ 6.2          ┆ 3.4         ┆ 5.4          ┆ 2.3         ┆ virginica │\n",
       "│ 5.9          ┆ 3.0         ┆ 5.1          ┆ 1.8         ┆ virginica │\n",
       "└──────────────┴─────────────┴──────────────┴─────────────┴───────────┘"
      ]
     },
     "execution_count": 15,
     "metadata": {},
     "output_type": "execute_result"
    }
   ],
   "source": [
    "pl.read_csv(\"hf://datasets/nameexhaustion/polars-docs/iris.csv\")"
   ]
  },
  {
   "cell_type": "markdown",
   "id": "7c031929-65cf-498f-bc68-3c0746229380",
   "metadata": {},
   "source": [
    "## 5.3\t다양한 형식으로 영화 데이터프레임 바꿔보기"
   ]
  },
  {
   "cell_type": "code",
   "execution_count": null,
   "id": "de4cdd4e-b87e-41c3-b039-eadd1397164d",
   "metadata": {
    "scrolled": true
   },
   "outputs": [],
   "source": [
    "df_boxoffice.to_dict()"
   ]
  },
  {
   "cell_type": "code",
   "execution_count": null,
   "id": "c9d3bb9e-e4b5-4c9c-85b5-3d3680ed7b3a",
   "metadata": {},
   "outputs": [],
   "source": [
    "df_boxoffice.to_dict()['영화명']"
   ]
  },
  {
   "cell_type": "code",
   "execution_count": null,
   "id": "76796636-a65f-4c05-97cd-54026b699bb4",
   "metadata": {
    "scrolled": true
   },
   "outputs": [],
   "source": [
    "df_boxoffice.to_dict(as_series = False)['영화명']"
   ]
  },
  {
   "cell_type": "code",
   "execution_count": null,
   "id": "491d7774-2d7c-456b-be05-da99e7202bdd",
   "metadata": {
    "scrolled": true
   },
   "outputs": [],
   "source": [
    "df_boxoffice.to_dicts()"
   ]
  },
  {
   "cell_type": "code",
   "execution_count": 16,
   "id": "c5866061-d7bd-44bd-a349-26de8c1841cf",
   "metadata": {},
   "outputs": [
    {
     "data": {
      "text/html": [
       "<div>\n",
       "<style scoped>\n",
       "    .dataframe tbody tr th:only-of-type {\n",
       "        vertical-align: middle;\n",
       "    }\n",
       "\n",
       "    .dataframe tbody tr th {\n",
       "        vertical-align: top;\n",
       "    }\n",
       "\n",
       "    .dataframe thead th {\n",
       "        text-align: right;\n",
       "    }\n",
       "</style>\n",
       "<table border=\"1\" class=\"dataframe\">\n",
       "  <thead>\n",
       "    <tr style=\"text-align: right;\">\n",
       "      <th></th>\n",
       "      <th>순위</th>\n",
       "      <th>영화명</th>\n",
       "      <th>개봉일</th>\n",
       "      <th>매출액</th>\n",
       "      <th>매출액</th>\n",
       "      <th>누적매출액</th>\n",
       "      <th>관객수</th>\n",
       "      <th>누적관객수</th>\n",
       "      <th>스크린수</th>\n",
       "      <th>상영횟수</th>\n",
       "      <th>대표국적</th>\n",
       "      <th>국적</th>\n",
       "      <th>제작사</th>\n",
       "      <th>배급사</th>\n",
       "      <th>등급</th>\n",
       "      <th>장르</th>\n",
       "      <th>감독</th>\n",
       "      <th>배우</th>\n",
       "    </tr>\n",
       "  </thead>\n",
       "  <tbody>\n",
       "    <tr>\n",
       "      <th>0</th>\n",
       "      <td>NaN</td>\n",
       "      <td>None</td>\n",
       "      <td>NaT</td>\n",
       "      <td>None</td>\n",
       "      <td>점유율</td>\n",
       "      <td>None</td>\n",
       "      <td>None</td>\n",
       "      <td>None</td>\n",
       "      <td>None</td>\n",
       "      <td>None</td>\n",
       "      <td>None</td>\n",
       "      <td>None</td>\n",
       "      <td>None</td>\n",
       "      <td>None</td>\n",
       "      <td>None</td>\n",
       "      <td>None</td>\n",
       "      <td>None</td>\n",
       "      <td>None</td>\n",
       "    </tr>\n",
       "    <tr>\n",
       "      <th>1</th>\n",
       "      <td>1.0</td>\n",
       "      <td>파묘</td>\n",
       "      <td>2024-02-22</td>\n",
       "      <td>115,157,490,414</td>\n",
       "      <td>9.6%</td>\n",
       "      <td>115,157,490,414</td>\n",
       "      <td>11,914,784</td>\n",
       "      <td>11,914,784</td>\n",
       "      <td>2,367</td>\n",
       "      <td>364,955</td>\n",
       "      <td>한국</td>\n",
       "      <td>한국</td>\n",
       "      <td>(주)쇼박스</td>\n",
       "      <td>(주)쇼박스</td>\n",
       "      <td>15세이상관람가</td>\n",
       "      <td>미스터리,공포(호러)</td>\n",
       "      <td>장재현</td>\n",
       "      <td>최민식,김고은,유해진,이도현,김재철,김민준,김병오,전진기,박정자,박지일,이종구,이영...</td>\n",
       "    </tr>\n",
       "    <tr>\n",
       "      <th>2</th>\n",
       "      <td>2.0</td>\n",
       "      <td>범죄도시4</td>\n",
       "      <td>2024-04-24</td>\n",
       "      <td>110,050,000,734</td>\n",
       "      <td>9.2%</td>\n",
       "      <td>110,050,000,734</td>\n",
       "      <td>11,502,779</td>\n",
       "      <td>11,502,779</td>\n",
       "      <td>2,980</td>\n",
       "      <td>375,434</td>\n",
       "      <td>한국</td>\n",
       "      <td>한국</td>\n",
       "      <td>주식회사 빅펀치픽쳐스,(주)홍필름,(주)비에이엔터테인먼트</td>\n",
       "      <td>주식회사 에이비오엔터테인먼트,플러스엠 엔터테인먼트</td>\n",
       "      <td>15세이상관람가</td>\n",
       "      <td>액션,범죄</td>\n",
       "      <td>허명행</td>\n",
       "      <td>김무열,박지환,이동휘,마동석,곽자형,이범수,김민재,이지훈,이주빈,김도건,김지훈,현봉...</td>\n",
       "    </tr>\n",
       "    <tr>\n",
       "      <th>3</th>\n",
       "      <td>3.0</td>\n",
       "      <td>인사이드 아웃 2</td>\n",
       "      <td>2024-06-12</td>\n",
       "      <td>84,509,284,036</td>\n",
       "      <td>7.1%</td>\n",
       "      <td>84,509,284,036</td>\n",
       "      <td>8,799,013</td>\n",
       "      <td>8,799,013</td>\n",
       "      <td>2,619</td>\n",
       "      <td>331,341</td>\n",
       "      <td>미국</td>\n",
       "      <td>미국</td>\n",
       "      <td>월트 디즈니 픽쳐스,픽사 애니메이션 스튜디오</td>\n",
       "      <td>월트디즈니컴퍼니코리아 유한책임회사</td>\n",
       "      <td>전체관람가</td>\n",
       "      <td>애니메이션</td>\n",
       "      <td>켈시 만</td>\n",
       "      <td>에이미 포엘러,토니 헤일</td>\n",
       "    </tr>\n",
       "    <tr>\n",
       "      <th>4</th>\n",
       "      <td>4.0</td>\n",
       "      <td>베테랑2</td>\n",
       "      <td>2024-09-13</td>\n",
       "      <td>72,474,035,814</td>\n",
       "      <td>6.1%</td>\n",
       "      <td>72,474,035,814</td>\n",
       "      <td>7,525,339</td>\n",
       "      <td>7,525,339</td>\n",
       "      <td>2,691</td>\n",
       "      <td>279,673</td>\n",
       "      <td>한국</td>\n",
       "      <td>한국</td>\n",
       "      <td>(주)외유내강</td>\n",
       "      <td>(주)씨제이이엔엠</td>\n",
       "      <td>15세이상관람가</td>\n",
       "      <td>액션,범죄</td>\n",
       "      <td>류승완</td>\n",
       "      <td>황정민,정해인,장윤주,정만식,신승환,오달수,오대환,김시후,안보현,진경,권해효,변홍준...</td>\n",
       "    </tr>\n",
       "    <tr>\n",
       "      <th>...</th>\n",
       "      <td>...</td>\n",
       "      <td>...</td>\n",
       "      <td>...</td>\n",
       "      <td>...</td>\n",
       "      <td>...</td>\n",
       "      <td>...</td>\n",
       "      <td>...</td>\n",
       "      <td>...</td>\n",
       "      <td>...</td>\n",
       "      <td>...</td>\n",
       "      <td>...</td>\n",
       "      <td>...</td>\n",
       "      <td>...</td>\n",
       "      <td>...</td>\n",
       "      <td>...</td>\n",
       "      <td>...</td>\n",
       "      <td>...</td>\n",
       "      <td>...</td>\n",
       "    </tr>\n",
       "    <tr>\n",
       "      <th>4314</th>\n",
       "      <td>4124.0</td>\n",
       "      <td>헌팅 파티</td>\n",
       "      <td>NaT</td>\n",
       "      <td>0</td>\n",
       "      <td>0.0%</td>\n",
       "      <td>0</td>\n",
       "      <td>0</td>\n",
       "      <td>0</td>\n",
       "      <td>1</td>\n",
       "      <td>1</td>\n",
       "      <td>기타</td>\n",
       "      <td>기타</td>\n",
       "      <td>None</td>\n",
       "      <td>None</td>\n",
       "      <td>None</td>\n",
       "      <td>코미디,멜로/로맨스</td>\n",
       "      <td>None</td>\n",
       "      <td>None</td>\n",
       "    </tr>\n",
       "    <tr>\n",
       "      <th>4315</th>\n",
       "      <td>4124.0</td>\n",
       "      <td>헬리오폴리스</td>\n",
       "      <td>NaT</td>\n",
       "      <td>0</td>\n",
       "      <td>0.0%</td>\n",
       "      <td>474,000</td>\n",
       "      <td>0</td>\n",
       "      <td>158</td>\n",
       "      <td>1</td>\n",
       "      <td>1</td>\n",
       "      <td>기타</td>\n",
       "      <td>기타</td>\n",
       "      <td>None</td>\n",
       "      <td>None</td>\n",
       "      <td>None</td>\n",
       "      <td>기타</td>\n",
       "      <td>자파르 가셈</td>\n",
       "      <td>None</td>\n",
       "    </tr>\n",
       "    <tr>\n",
       "      <th>4316</th>\n",
       "      <td>4124.0</td>\n",
       "      <td>황산벌</td>\n",
       "      <td>2003-10-17</td>\n",
       "      <td>0</td>\n",
       "      <td>0.0%</td>\n",
       "      <td>41,867,500</td>\n",
       "      <td>0</td>\n",
       "      <td>5,665</td>\n",
       "      <td>1</td>\n",
       "      <td>2</td>\n",
       "      <td>한국</td>\n",
       "      <td>한국</td>\n",
       "      <td>(주)씨네월드</td>\n",
       "      <td>(주)씨네월드</td>\n",
       "      <td>15세관람가</td>\n",
       "      <td>코미디</td>\n",
       "      <td>이준익</td>\n",
       "      <td>박중훈,정진영,오지명,김병철,김선아,김윤태,이문식,조대은,김만수,김현두,나수원,조철...</td>\n",
       "    </tr>\n",
       "    <tr>\n",
       "      <th>4317</th>\n",
       "      <td>4124.0</td>\n",
       "      <td>회오리 바람</td>\n",
       "      <td>2010-02-25</td>\n",
       "      <td>0</td>\n",
       "      <td>0.0%</td>\n",
       "      <td>16,680,500</td>\n",
       "      <td>0</td>\n",
       "      <td>2,275</td>\n",
       "      <td>1</td>\n",
       "      <td>1</td>\n",
       "      <td>한국</td>\n",
       "      <td>한국</td>\n",
       "      <td>(주)모쿠슈라</td>\n",
       "      <td>(주)영화사 진진</td>\n",
       "      <td>15세이상관람가</td>\n",
       "      <td>드라마,멜로/로맨스</td>\n",
       "      <td>장건재</td>\n",
       "      <td>서준영,권혁풍,한나,김호,신동주,조용선,김한나,최현성,박지완,안석범,하현수,백승진,...</td>\n",
       "    </tr>\n",
       "    <tr>\n",
       "      <th>4318</th>\n",
       "      <td>4124.0</td>\n",
       "      <td>휘파람의 노래: 시벨</td>\n",
       "      <td>NaT</td>\n",
       "      <td>0</td>\n",
       "      <td>0.0%</td>\n",
       "      <td>0</td>\n",
       "      <td>0</td>\n",
       "      <td>0</td>\n",
       "      <td>1</td>\n",
       "      <td>1</td>\n",
       "      <td>터키</td>\n",
       "      <td>터키</td>\n",
       "      <td>None</td>\n",
       "      <td>None</td>\n",
       "      <td>None</td>\n",
       "      <td>드라마</td>\n",
       "      <td>기욤 조바네티</td>\n",
       "      <td>None</td>\n",
       "    </tr>\n",
       "  </tbody>\n",
       "</table>\n",
       "<p>4319 rows × 18 columns</p>\n",
       "</div>"
      ],
      "text/plain": [
       "          순위          영화명        개봉일             매출액    매출액           누적매출액   \\\n",
       "0        NaN         None        NaT             None  점유율              None   \n",
       "1        1.0           파묘 2024-02-22  115,157,490,414  9.6%  115,157,490,414   \n",
       "2        2.0        범죄도시4 2024-04-24  110,050,000,734  9.2%  110,050,000,734   \n",
       "3        3.0    인사이드 아웃 2 2024-06-12   84,509,284,036  7.1%   84,509,284,036   \n",
       "4        4.0         베테랑2 2024-09-13   72,474,035,814  6.1%   72,474,035,814   \n",
       "...      ...          ...        ...              ...   ...              ...   \n",
       "4314  4124.0        헌팅 파티        NaT                0  0.0%                0   \n",
       "4315  4124.0       헬리오폴리스        NaT                0  0.0%          474,000   \n",
       "4316  4124.0          황산벌 2003-10-17                0  0.0%       41,867,500   \n",
       "4317  4124.0       회오리 바람 2010-02-25                0  0.0%       16,680,500   \n",
       "4318  4124.0  휘파람의 노래: 시벨        NaT                0  0.0%                0   \n",
       "\n",
       "            관객수       누적관객수   스크린수     상영횟수  대표국적    국적   \\\n",
       "0           None        None   None     None  None  None   \n",
       "1     11,914,784  11,914,784  2,367  364,955    한국    한국   \n",
       "2     11,502,779  11,502,779  2,980  375,434    한국    한국   \n",
       "3      8,799,013   8,799,013  2,619  331,341    미국    미국   \n",
       "4      7,525,339   7,525,339  2,691  279,673    한국    한국   \n",
       "...          ...         ...    ...      ...   ...   ...   \n",
       "4314           0           0      1        1    기타    기타   \n",
       "4315           0         158      1        1    기타    기타   \n",
       "4316           0       5,665      1        2    한국    한국   \n",
       "4317           0       2,275      1        1    한국    한국   \n",
       "4318           0           0      1        1    터키    터키   \n",
       "\n",
       "                                 제작사                          배급사        등급   \\\n",
       "0                                None                         None      None   \n",
       "1                              (주)쇼박스                       (주)쇼박스  15세이상관람가   \n",
       "2     주식회사 빅펀치픽쳐스,(주)홍필름,(주)비에이엔터테인먼트  주식회사 에이비오엔터테인먼트,플러스엠 엔터테인먼트  15세이상관람가   \n",
       "3            월트 디즈니 픽쳐스,픽사 애니메이션 스튜디오           월트디즈니컴퍼니코리아 유한책임회사     전체관람가   \n",
       "4                             (주)외유내강                    (주)씨제이이엔엠  15세이상관람가   \n",
       "...                               ...                          ...       ...   \n",
       "4314                             None                         None      None   \n",
       "4315                             None                         None      None   \n",
       "4316                          (주)씨네월드                      (주)씨네월드    15세관람가   \n",
       "4317                          (주)모쿠슈라                    (주)영화사 진진  15세이상관람가   \n",
       "4318                             None                         None      None   \n",
       "\n",
       "              장르       감독                                                 배우   \n",
       "0            None     None                                               None  \n",
       "1     미스터리,공포(호러)      장재현  최민식,김고은,유해진,이도현,김재철,김민준,김병오,전진기,박정자,박지일,이종구,이영...  \n",
       "2           액션,범죄      허명행  김무열,박지환,이동휘,마동석,곽자형,이범수,김민재,이지훈,이주빈,김도건,김지훈,현봉...  \n",
       "3           애니메이션     켈시 만                                      에이미 포엘러,토니 헤일  \n",
       "4           액션,범죄      류승완  황정민,정해인,장윤주,정만식,신승환,오달수,오대환,김시후,안보현,진경,권해효,변홍준...  \n",
       "...           ...      ...                                                ...  \n",
       "4314   코미디,멜로/로맨스     None                                               None  \n",
       "4315           기타   자파르 가셈                                               None  \n",
       "4316          코미디      이준익  박중훈,정진영,오지명,김병철,김선아,김윤태,이문식,조대은,김만수,김현두,나수원,조철...  \n",
       "4317   드라마,멜로/로맨스      장건재  서준영,권혁풍,한나,김호,신동주,조용선,김한나,최현성,박지완,안석범,하현수,백승진,...  \n",
       "4318          드라마  기욤 조바네티                                               None  \n",
       "\n",
       "[4319 rows x 18 columns]"
      ]
     },
     "execution_count": 16,
     "metadata": {},
     "output_type": "execute_result"
    }
   ],
   "source": [
    "df_boxoffice.to_pandas()"
   ]
  },
  {
   "cell_type": "code",
   "execution_count": null,
   "id": "65b8ad38-6d31-4d21-8613-6216bd8a7586",
   "metadata": {},
   "outputs": [],
   "source": [
    "df_boxoffice.to_numpy()"
   ]
  },
  {
   "cell_type": "markdown",
   "id": "fa1298fd-7580-4b55-82af-7d81b2c37a1f",
   "metadata": {},
   "source": [
    "## 5.4\t영화 데이터로 데이터프레임 구조 들여다보기"
   ]
  },
  {
   "cell_type": "code",
   "execution_count": 17,
   "id": "e74d1afb-b2c7-4c53-a59b-edcc3d0c0aa3",
   "metadata": {},
   "outputs": [
    {
     "name": "stdout",
     "output_type": "stream",
     "text": [
      "Shape:  (4319, 18)\n",
      "Height:  4319\n",
      "Width:  18\n"
     ]
    }
   ],
   "source": [
    "print(\"Shape: \", df_boxoffice.shape)\n",
    "print(\"Height: \", df_boxoffice.height)\n",
    "print(\"Width: \", df_boxoffice.width)"
   ]
  },
  {
   "cell_type": "code",
   "execution_count": 18,
   "id": "c4619953-e0ef-45ff-8036-295775ea82ef",
   "metadata": {},
   "outputs": [
    {
     "name": "stdout",
     "output_type": "stream",
     "text": [
      "['순위', '영화명', '개봉일', '매출액 ', '매출액', '누적매출액 ', '관객수 ', '누적관객수 ', '스크린수 ', '상영횟수 ', '대표국적 ', '국적 ', '제작사 ', '배급사 ', '등급 ', '장르 ', '감독 ', '배우 ']\n"
     ]
    }
   ],
   "source": [
    "print(df_boxoffice.columns)"
   ]
  },
  {
   "cell_type": "code",
   "execution_count": 19,
   "id": "4b198336-ee06-477c-a6a2-eaf4ae9146d7",
   "metadata": {},
   "outputs": [
    {
     "name": "stdout",
     "output_type": "stream",
     "text": [
      "['순위', '영화명', '개봉일', '매출액', '매출액점유율', '누적매출액', '관객수', '누적관객수', '스크린수', '상영횟수', '대표국적', '국적', '제작사', '배급사', '등급', '장르', '감독', '배우']\n"
     ]
    }
   ],
   "source": [
    "boxoffice_cols = df_boxoffice.columns\n",
    "boxoffice_cols[4] = '매출액점유율'\n",
    "df_boxoffice.columns = [i.replace(' ', '') for i in boxoffice_cols]\n",
    "print(df_boxoffice.columns)"
   ]
  },
  {
   "cell_type": "code",
   "execution_count": 20,
   "id": "de922881-e445-467a-a165-69c12f413784",
   "metadata": {},
   "outputs": [
    {
     "data": {
      "text/plain": [
       "Schema([('순위', Int64),\n",
       "        ('영화명', String),\n",
       "        ('개봉일', Date),\n",
       "        ('매출액', String),\n",
       "        ('매출액점유율', String),\n",
       "        ('누적매출액', String),\n",
       "        ('관객수', String),\n",
       "        ('누적관객수', String),\n",
       "        ('스크린수', String),\n",
       "        ('상영횟수', String),\n",
       "        ('대표국적', String),\n",
       "        ('국적', String),\n",
       "        ('제작사', String),\n",
       "        ('배급사', String),\n",
       "        ('등급', String),\n",
       "        ('장르', String),\n",
       "        ('감독', String),\n",
       "        ('배우', String)])"
      ]
     },
     "execution_count": 20,
     "metadata": {},
     "output_type": "execute_result"
    }
   ],
   "source": [
    "df_boxoffice.schema"
   ]
  },
  {
   "cell_type": "code",
   "execution_count": 21,
   "id": "1d78c88f-3ec0-4bb9-86f7-f6ae510c7cdb",
   "metadata": {},
   "outputs": [
    {
     "name": "stdout",
     "output_type": "stream",
     "text": [
      "Rows: 4319\n",
      "Columns: 18\n",
      "$ 순위      <i64> None, 1, 2, 3, 4, 5, 6, 7, 8, 9\n",
      "$ 영화명     <str> None, '파묘', '범죄도시4', '인사이드 아웃 2', '베테랑2', '파일럿', '웡카', '모아나 2', '소방관', '하얼빈'\n",
      "$ 개봉일    <date> None, 2024-02-22, 2024-04-24, 2024-06-12, 2024-09-13, 2024-07-31, 2024-01-31, 2024-11-27, 2024-12-04, 2024-12-24\n",
      "$ 매출액     <str> None, '115,157,490,414', '110,050,000,734', '84,509,284,036', '72,474,035,814', '43,204,079,201', '33,958,821,189', '31,120,328,070', '31,161,634,690', '26,249,320,820'\n",
      "$ 매출액점유율  <str> '점유율 ', '9.6%', '9.2%', '7.1%', '6.1%', '3.6%', '2.8%', '2.6%', '2.6%', '2.2%'\n",
      "$ 누적매출액   <str> None, '115,157,490,414', '110,050,000,734', '84,509,284,036', '72,474,035,814', '43,204,079,201', '33,958,821,189', '31,120,328,070', '31,161,634,690', '26,249,320,820'\n",
      "$ 관객수     <str> None, '11,914,784', '11,502,779', '8,799,013', '7,525,339', '4,718,036', '3,531,717', '3,373,139', '3,317,319', '2,755,265'\n",
      "$ 누적관객수   <str> None, '11,914,784', '11,502,779', '8,799,013', '7,525,339', '4,718,036', '3,531,717', '3,373,139', '3,317,319', '2,755,265'\n",
      "$ 스크린수    <str> None, '2,367', '2,980', '2,619', '2,691', '1,956', '1,753', '1,985', '1,594', '2,125'\n",
      "$ 상영횟수    <str> None, '364,955', '375,434', '331,341', '279,673', '203,283', '152,290', '126,584', '119,780', '72,494'\n",
      "$ 대표국적    <str> None, '한국', '한국', '미국', '한국', '한국', '미국', '미국', '한국', '한국'\n",
      "$ 국적      <str> None, '한국', '한국', '미국', '한국', '한국', '미국', '미국,캐나다', '한국', '한국'\n",
      "$ 제작사     <str> None, '(주)쇼박스', '주식회사 빅펀치픽쳐스,(주)홍필름,(주)비에이엔터테인먼트', '월트 디즈니 픽쳐스,픽사 애니메이션 스튜디오', '(주)외유내강', '쇼트케이크(주),(주)무비락', None, None, '주식회사 에스크로드,(주)아센디오', '(주)하이브미디어코프'\n",
      "$ 배급사     <str> None, '(주)쇼박스', '주식회사 에이비오엔터테인먼트,플러스엠 엔터테인먼트', '월트디즈니컴퍼니코리아 유한책임회사', '(주)씨제이이엔엠', '롯데컬처웍스(주)롯데엔터테인먼트', '워너브러더스 코리아(주)', '월트디즈니컴퍼니코리아 유한책임회사', '(주)바이포엠스튜디오', '(주)씨제이이엔엠'\n",
      "$ 등급      <str> None, '15세이상관람가', '15세이상관람가', '전체관람가', '15세이상관람가', '12세이상관람가', '전체관람가', '전체관람가', '12세이상관람가', '15세이상관람가'\n",
      "$ 장르      <str> None, '미스터리,공포(호러)', '액션,범죄', '애니메이션', '액션,범죄', '코미디', '판타지,드라마', '애니메이션', '드라마', '드라마'\n",
      "$ 감독      <str> None, '장재현', '허명행', '켈시 만', '류승완', '김한결', '폴 킹', '데이브 데릭 주니어', '곽경택', '우민호'\n",
      "$ 배우      <str> None, '최민식,김고은,유해진,이도현,김재철,김민준,김병오,전진기,박정자,박지일,이종구,이영란,정상철,김지안,김태준,김서현,송광자,최문경,김선영,이다윗,김소숙,정윤하,설승혜,홍서준,안태영,최정화,이아연,심소연,한미자,현지인,이경민,한동희,이정현,설창희,황유나,윤재인,김희상,선인호,백승철,윤종구,박종원,임호준,김진욱,류한선,박태양,이은경,박진영,홍석빈,한혜지,박재완,윤정훈,최교식,이지현,정예서,이은주,은수,장의돈,주광현,박용,신무호,김이석,김선동,한동균,박예빈,윤수진,정승기,강일웅,김영주,오보혜,고영규,선인호,전형규,이태운,임예은,최낙윤,정무성,진대연,송나영,유한솔,김하영', '김무열,박지환,이동휘,마동석,곽자형,이범수,김민재,이지훈,이주빈,김도건,김지훈,현봉식,김신비,김영웅,류지훈,백승환,배재원,안성봉,김호준,정인기,권일용,박보경,김수진,배해선,조진결,최현도,강준석,정유겸,김선문,김모범,박근정,이상진,최순진,강전영,정지영,고서정,조현식,정기욱,김근혁,장태민,임서아,강신철,김형범,김형국,홍상우,주미진,서원준,이가회,김시영,민효경,박현진,강지연,지지안,우지영,김예소리,이한솔,조석인', '에이미 포엘러,토니 헤일', '황정민,정해인,장윤주,정만식,신승환,오달수,오대환,김시후,안보현,진경,권해효,변홍준,조관우,허준호,김재화,김가을,박준면,박경혜,주보비,신민재,현봉식,남진복,이다일,인선호,정호진,유창한,홍은철,이서아,고동옥,전석찬,이봉련,심규식,조성현,김용학,이상하,황영윤,강길우,오윤홍,김서원,정명진,김한솔,진희규,박찬별,정혜자,유민석,오현석,백종환,임승준,김명연,선종구,유하람,강희제,유태근,유재연,최가은,김미지,유민주,허남준,이진희,황인무,김원해,김경록,전현숙,김병만,황인기,곽자형,박명신,안상태,우정원,신우희,윤준열,오충근,이상협', '조정석,이주명,한선화,신승호,오민애,김지현,서재희,박다온,현봉식,서현철,유재석,조세호,강하늘,문상훈,이시언,차희,최필상,서명찬,은정완,유인혜,남현우,임세인,이수미,조주경,오태은,유형준,윤수혁,김사랑,조승구,김문희,김태훈,나현우,한사명,송훈,천윤경,민영,김승비,한주아,진한서,박제린,김대근,김영수,이시안,최혁,김민수,강경우,김관혁,성충모,박미라,백성욱,한지혁', '티모시 샬라메,칼라 레인,올리비아 콜맨,톰 데이비스,휴 그랜트,샐리 호킨스', '아우이 크라발호,드웨인 존슨', '권영민,주원,곽도원,유재명,이유영,김민재,오대환,이준혁,장영남', '이창근,신우철,현빈,박정민,조우진,전여빈,박훈,유재명,릴리 프랭키,이동욱,윤여원,박제현,서민제,왕승목,김성광,정승민'\n",
      "\n"
     ]
    }
   ],
   "source": [
    "df_boxoffice.glimpse()"
   ]
  },
  {
   "cell_type": "code",
   "execution_count": 22,
   "id": "c379b1ff-d764-426c-a5e7-9b48d0babd5a",
   "metadata": {},
   "outputs": [
    {
     "data": {
      "text/html": [
       "<div><style>\n",
       ".dataframe > thead > tr,\n",
       ".dataframe > tbody > tr {\n",
       "  text-align: right;\n",
       "  white-space: pre-wrap;\n",
       "}\n",
       "</style>\n",
       "<small>shape: (9, 19)</small><table border=\"1\" class=\"dataframe\"><thead><tr><th>statistic</th><th>순위</th><th>영화명</th><th>개봉일</th><th>매출액</th><th>매출액점유율</th><th>누적매출액</th><th>관객수</th><th>누적관객수</th><th>스크린수</th><th>상영횟수</th><th>대표국적</th><th>국적</th><th>제작사</th><th>배급사</th><th>등급</th><th>장르</th><th>감독</th><th>배우</th></tr><tr><td>str</td><td>f64</td><td>str</td><td>str</td><td>str</td><td>str</td><td>str</td><td>str</td><td>str</td><td>str</td><td>str</td><td>str</td><td>str</td><td>str</td><td>str</td><td>str</td><td>str</td><td>str</td><td>str</td></tr></thead><tbody><tr><td>&quot;count&quot;</td><td>4318.0</td><td>&quot;4318&quot;</td><td>&quot;2421&quot;</td><td>&quot;4318&quot;</td><td>&quot;4319&quot;</td><td>&quot;4318&quot;</td><td>&quot;4318&quot;</td><td>&quot;4318&quot;</td><td>&quot;4318&quot;</td><td>&quot;4318&quot;</td><td>&quot;4294&quot;</td><td>&quot;4294&quot;</td><td>&quot;1127&quot;</td><td>&quot;2444&quot;</td><td>&quot;2499&quot;</td><td>&quot;4284&quot;</td><td>&quot;2626&quot;</td><td>&quot;2020&quot;</td></tr><tr><td>&quot;null_count&quot;</td><td>1.0</td><td>&quot;1&quot;</td><td>&quot;1898&quot;</td><td>&quot;1&quot;</td><td>&quot;0&quot;</td><td>&quot;1&quot;</td><td>&quot;1&quot;</td><td>&quot;1&quot;</td><td>&quot;1&quot;</td><td>&quot;1&quot;</td><td>&quot;25&quot;</td><td>&quot;25&quot;</td><td>&quot;3192&quot;</td><td>&quot;1875&quot;</td><td>&quot;1820&quot;</td><td>&quot;35&quot;</td><td>&quot;1693&quot;</td><td>&quot;2299&quot;</td></tr><tr><td>&quot;mean&quot;</td><td>2083.994442</td><td>null</td><td>&quot;2019-01-03 09:22:04.907000&quot;</td><td>null</td><td>null</td><td>null</td><td>null</td><td>null</td><td>null</td><td>null</td><td>null</td><td>null</td><td>null</td><td>null</td><td>null</td><td>null</td><td>null</td><td>null</td></tr><tr><td>&quot;std&quot;</td><td>1154.086023</td><td>null</td><td>null</td><td>null</td><td>null</td><td>null</td><td>null</td><td>null</td><td>null</td><td>null</td><td>null</td><td>null</td><td>null</td><td>null</td><td>null</td><td>null</td><td>null</td><td>null</td></tr><tr><td>&quot;min&quot;</td><td>1.0</td><td>&quot;(로컬 픽: 시간과 빛) 기록자들&quot;</td><td>&quot;1934-09-21&quot;</td><td>&quot;0&quot;</td><td>&quot;0.0%&quot;</td><td>&quot;0&quot;</td><td>&quot;0&quot;</td><td>&quot;0&quot;</td><td>&quot;1&quot;</td><td>&quot;1&quot;</td><td>&quot;그리스&quot;</td><td>&quot;그리스&quot;</td><td>&quot;(유)박열문화전문회사&quot;</td><td>&quot;(유)조이앤시네마&quot;</td><td>&quot;12세 미만인 자는 관람할 수 없는 등급&quot;</td><td>&quot;SF&quot;</td><td>&quot;DK 웰치먼,휴 웰치맨&quot;</td><td>&quot;가가연,허광한,시백우&quot;</td></tr><tr><td>&quot;25%&quot;</td><td>1079.0</td><td>null</td><td>&quot;2019-12-25&quot;</td><td>null</td><td>null</td><td>null</td><td>null</td><td>null</td><td>null</td><td>null</td><td>null</td><td>null</td><td>null</td><td>null</td><td>null</td><td>null</td><td>null</td><td>null</td></tr><tr><td>&quot;50%&quot;</td><td>2152.0</td><td>null</td><td>&quot;2024-02-22&quot;</td><td>null</td><td>null</td><td>null</td><td>null</td><td>null</td><td>null</td><td>null</td><td>null</td><td>null</td><td>null</td><td>null</td><td>null</td><td>null</td><td>null</td><td>null</td></tr><tr><td>&quot;75%&quot;</td><td>3235.0</td><td>null</td><td>&quot;2024-07-22&quot;</td><td>null</td><td>null</td><td>null</td><td>null</td><td>null</td><td>null</td><td>null</td><td>null</td><td>null</td><td>null</td><td>null</td><td>null</td><td>null</td><td>null</td><td>null</td></tr><tr><td>&quot;max&quot;</td><td>4124.0</td><td>&quot;힙노시스: LP 커버의 전설&quot;</td><td>&quot;2025-01-22&quot;</td><td>&quot;996,000&quot;</td><td>&quot;점유율 &quot;</td><td>&quot;997,000&quot;</td><td>&quot;998&quot;</td><td>&quot;995&quot;</td><td>&quot;995&quot;</td><td>&quot;997&quot;</td><td>&quot;홍콩&quot;</td><td>&quot;홍콩,프랑스&quot;</td><td>&quot;히스토리 디앤피,(주)디에이치미디어,굿픽처스&quot;</td><td>&quot;홀리가든,주식회사 온 피크&quot;</td><td>&quot;청소년관람불가,전체관람가&quot;</td><td>&quot;판타지,코미디&quot;</td><td>&quot;히시다 마사카즈&quot;</td><td>&quot;힐마 아프 클린트,에른스트 페터 피셔,율리아 포스&quot;</td></tr></tbody></table></div>"
      ],
      "text/plain": [
       "shape: (9, 19)\n",
       "┌────────────┬─────────────┬──────────────┬──────────────┬───┬──────────────┬──────────────┬─────────────┬─────────────┐\n",
       "│ statistic  ┆ 순위        ┆ 영화명       ┆ 개봉일       ┆ … ┆ 등급         ┆ 장르         ┆ 감독        ┆ 배우        │\n",
       "│ ---        ┆ ---         ┆ ---          ┆ ---          ┆   ┆ ---          ┆ ---          ┆ ---         ┆ ---         │\n",
       "│ str        ┆ f64         ┆ str          ┆ str          ┆   ┆ str          ┆ str          ┆ str         ┆ str         │\n",
       "╞════════════╪═════════════╪══════════════╪══════════════╪═══╪══════════════╪══════════════╪═════════════╪═════════════╡\n",
       "│ count      ┆ 4318.0      ┆ 4318         ┆ 2421         ┆ … ┆ 2499         ┆ 4284         ┆ 2626        ┆ 2020        │\n",
       "│ null_count ┆ 1.0         ┆ 1            ┆ 1898         ┆ … ┆ 1820         ┆ 35           ┆ 1693        ┆ 2299        │\n",
       "│ mean       ┆ 2083.994442 ┆ null         ┆ 2019-01-03   ┆ … ┆ null         ┆ null         ┆ null        ┆ null        │\n",
       "│            ┆             ┆              ┆ 09:22:04.907 ┆   ┆              ┆              ┆             ┆             │\n",
       "│            ┆             ┆              ┆ 000          ┆   ┆              ┆              ┆             ┆             │\n",
       "│ std        ┆ 1154.086023 ┆ null         ┆ null         ┆ … ┆ null         ┆ null         ┆ null        ┆ null        │\n",
       "│ min        ┆ 1.0         ┆ (로컬 픽:    ┆ 1934-09-21   ┆ … ┆ 12세 미만인  ┆ SF           ┆ DK          ┆ 가가연,허광 │\n",
       "│            ┆             ┆ 시간과 빛)   ┆              ┆   ┆ 자는 관람할  ┆              ┆ 웰치먼,휴   ┆ 한,시백우   │\n",
       "│            ┆             ┆ 기록자들     ┆              ┆   ┆ 수 없는 등급 ┆              ┆ 웰치맨      ┆             │\n",
       "│ 25%        ┆ 1079.0      ┆ null         ┆ 2019-12-25   ┆ … ┆ null         ┆ null         ┆ null        ┆ null        │\n",
       "│ 50%        ┆ 2152.0      ┆ null         ┆ 2024-02-22   ┆ … ┆ null         ┆ null         ┆ null        ┆ null        │\n",
       "│ 75%        ┆ 3235.0      ┆ null         ┆ 2024-07-22   ┆ … ┆ null         ┆ null         ┆ null        ┆ null        │\n",
       "│ max        ┆ 4124.0      ┆ 힙노시스: LP ┆ 2025-01-22   ┆ … ┆ 청소년관람불 ┆ 판타지,코미  ┆ 히시다      ┆ 힐마 아프   │\n",
       "│            ┆             ┆ 커버의 전설  ┆              ┆   ┆ 가,전체관람  ┆ 디           ┆ 마사카즈    ┆ 클린트,에른 │\n",
       "│            ┆             ┆              ┆              ┆   ┆ 가           ┆              ┆             ┆ 스트 페터   │\n",
       "│            ┆             ┆              ┆              ┆   ┆              ┆              ┆             ┆ 피셔,율리아 │\n",
       "│            ┆             ┆              ┆              ┆   ┆              ┆              ┆             ┆ 포스        │\n",
       "└────────────┴─────────────┴──────────────┴──────────────┴───┴──────────────┴──────────────┴─────────────┴─────────────┘"
      ]
     },
     "execution_count": 22,
     "metadata": {},
     "output_type": "execute_result"
    }
   ],
   "source": [
    "df_boxoffice.describe()"
   ]
  },
  {
   "cell_type": "code",
   "execution_count": 23,
   "id": "b3761ecf-b1de-44aa-8ea3-0c1d6d268a5a",
   "metadata": {},
   "outputs": [
    {
     "name": "stdout",
     "output_type": "stream",
     "text": [
      "박스오피스 데이터의 중복값 수:  0\n"
     ]
    }
   ],
   "source": [
    "print(\"박스오피스 데이터의 중복값 수: \", df_boxoffice.is_duplicated().sum())"
   ]
  },
  {
   "cell_type": "markdown",
   "id": "379b6ed6-db39-4091-a9b8-72e767a416cc",
   "metadata": {},
   "source": [
    "## 5.5\t데이터를 이루는 열 정보 확인하기"
   ]
  },
  {
   "cell_type": "code",
   "execution_count": 24,
   "id": "22ad3a1f-4549-4bd7-b543-5e63bc211381",
   "metadata": {},
   "outputs": [
    {
     "data": {
      "text/html": [
       "<div><style>\n",
       ".dataframe > thead > tr,\n",
       ".dataframe > tbody > tr {\n",
       "  text-align: right;\n",
       "  white-space: pre-wrap;\n",
       "}\n",
       "</style>\n",
       "<small>shape: (61, 1)</small><table border=\"1\" class=\"dataframe\"><thead><tr><th>대표국적</th></tr><tr><td>str</td></tr></thead><tbody><tr><td>null</td></tr><tr><td>&quot;한국&quot;</td></tr><tr><td>&quot;미국&quot;</td></tr><tr><td>&quot;일본&quot;</td></tr><tr><td>&quot;중국&quot;</td></tr><tr><td>&hellip;</td></tr><tr><td>&quot;카타르&quot;</td></tr><tr><td>&quot;우루과이&quot;</td></tr><tr><td>&quot;이집트&quot;</td></tr><tr><td>&quot;이스라엘&quot;</td></tr><tr><td>&quot;말레이시아&quot;</td></tr></tbody></table></div>"
      ],
      "text/plain": [
       "shape: (61, 1)\n",
       "┌────────────┐\n",
       "│ 대표국적   │\n",
       "│ ---        │\n",
       "│ str        │\n",
       "╞════════════╡\n",
       "│ null       │\n",
       "│ 한국       │\n",
       "│ 미국       │\n",
       "│ 일본       │\n",
       "│ 중국       │\n",
       "│ …          │\n",
       "│ 카타르     │\n",
       "│ 우루과이   │\n",
       "│ 이집트     │\n",
       "│ 이스라엘   │\n",
       "│ 말레이시아 │\n",
       "└────────────┘"
      ]
     },
     "execution_count": 24,
     "metadata": {},
     "output_type": "execute_result"
    }
   ],
   "source": [
    "df_boxoffice.select(pl.col('대표국적').unique(maintain_order = True))"
   ]
  },
  {
   "cell_type": "code",
   "execution_count": 25,
   "id": "c22c85af-f058-42ee-bfed-eaf72794ef5b",
   "metadata": {},
   "outputs": [
    {
     "data": {
      "text/html": [
       "<div><style>\n",
       ".dataframe > thead > tr,\n",
       ".dataframe > tbody > tr {\n",
       "  text-align: right;\n",
       "  white-space: pre-wrap;\n",
       "}\n",
       "</style>\n",
       "<small>shape: (61, 1)</small><table border=\"1\" class=\"dataframe\"><thead><tr><th>대표국적</th></tr><tr><td>struct[2]</td></tr></thead><tbody><tr><td>{&quot;한국&quot;,1611}</td></tr><tr><td>{&quot;일본&quot;,808}</td></tr><tr><td>{&quot;미국&quot;,763}</td></tr><tr><td>{&quot;프랑스&quot;,206}</td></tr><tr><td>{&quot;기타&quot;,152}</td></tr><tr><td>&hellip;</td></tr><tr><td>{&quot;카타르&quot;,1}</td></tr><tr><td>{&quot;우루과이&quot;,1}</td></tr><tr><td>{&quot;이집트&quot;,1}</td></tr><tr><td>{&quot;이스라엘&quot;,1}</td></tr><tr><td>{&quot;말레이시아&quot;,1}</td></tr></tbody></table></div>"
      ],
      "text/plain": [
       "shape: (61, 1)\n",
       "┌──────────────────┐\n",
       "│ 대표국적         │\n",
       "│ ---              │\n",
       "│ struct[2]        │\n",
       "╞══════════════════╡\n",
       "│ {\"한국\",1611}    │\n",
       "│ {\"일본\",808}     │\n",
       "│ {\"미국\",763}     │\n",
       "│ {\"프랑스\",206}   │\n",
       "│ {\"기타\",152}     │\n",
       "│ …                │\n",
       "│ {\"카타르\",1}     │\n",
       "│ {\"우루과이\",1}   │\n",
       "│ {\"이집트\",1}     │\n",
       "│ {\"이스라엘\",1}   │\n",
       "│ {\"말레이시아\",1} │\n",
       "└──────────────────┘"
      ]
     },
     "execution_count": 25,
     "metadata": {},
     "output_type": "execute_result"
    }
   ],
   "source": [
    "df_boxoffice.select(pl.col('대표국적').value_counts(sort = True, name = 'n'))"
   ]
  },
  {
   "cell_type": "code",
   "execution_count": 26,
   "id": "1515ad4a-4c88-47bc-866b-306a8dcc61c6",
   "metadata": {},
   "outputs": [
    {
     "data": {
      "text/html": [
       "<div><style>\n",
       ".dataframe > thead > tr,\n",
       ".dataframe > tbody > tr {\n",
       "  text-align: right;\n",
       "  white-space: pre-wrap;\n",
       "}\n",
       "</style>\n",
       "<small>shape: (61, 2)</small><table border=\"1\" class=\"dataframe\"><thead><tr><th>대표국적</th><th>n</th></tr><tr><td>str</td><td>u32</td></tr></thead><tbody><tr><td>&quot;한국&quot;</td><td>1611</td></tr><tr><td>&quot;일본&quot;</td><td>808</td></tr><tr><td>&quot;미국&quot;</td><td>763</td></tr><tr><td>&quot;프랑스&quot;</td><td>206</td></tr><tr><td>&quot;기타&quot;</td><td>152</td></tr><tr><td>&hellip;</td><td>&hellip;</td></tr><tr><td>&quot;카타르&quot;</td><td>1</td></tr><tr><td>&quot;우루과이&quot;</td><td>1</td></tr><tr><td>&quot;이집트&quot;</td><td>1</td></tr><tr><td>&quot;이스라엘&quot;</td><td>1</td></tr><tr><td>&quot;말레이시아&quot;</td><td>1</td></tr></tbody></table></div>"
      ],
      "text/plain": [
       "shape: (61, 2)\n",
       "┌────────────┬──────┐\n",
       "│ 대표국적   ┆ n    │\n",
       "│ ---        ┆ ---  │\n",
       "│ str        ┆ u32  │\n",
       "╞════════════╪══════╡\n",
       "│ 한국       ┆ 1611 │\n",
       "│ 일본       ┆ 808  │\n",
       "│ 미국       ┆ 763  │\n",
       "│ 프랑스     ┆ 206  │\n",
       "│ 기타       ┆ 152  │\n",
       "│ …          ┆ …    │\n",
       "│ 카타르     ┆ 1    │\n",
       "│ 우루과이   ┆ 1    │\n",
       "│ 이집트     ┆ 1    │\n",
       "│ 이스라엘   ┆ 1    │\n",
       "│ 말레이시아 ┆ 1    │\n",
       "└────────────┴──────┘"
      ]
     },
     "execution_count": 26,
     "metadata": {},
     "output_type": "execute_result"
    }
   ],
   "source": [
    "(df_boxoffice.select(pl.col('대표국적').value_counts(sort = True, name = 'n')).unnest('대표국적'))"
   ]
  },
  {
   "cell_type": "code",
   "execution_count": 27,
   "id": "c5a7d0fa-56cf-48a6-832a-ef45e332e6f2",
   "metadata": {},
   "outputs": [
    {
     "data": {
      "text/html": [
       "<div><style>\n",
       ".dataframe > thead > tr,\n",
       ".dataframe > tbody > tr {\n",
       "  text-align: right;\n",
       "  white-space: pre-wrap;\n",
       "}\n",
       "</style>\n",
       "<small>shape: (1, 1)</small><table border=\"1\" class=\"dataframe\"><thead><tr><th>대표국적</th></tr><tr><td>u32</td></tr></thead><tbody><tr><td>25</td></tr></tbody></table></div>"
      ],
      "text/plain": [
       "shape: (1, 1)\n",
       "┌──────────┐\n",
       "│ 대표국적 │\n",
       "│ ---      │\n",
       "│ u32      │\n",
       "╞══════════╡\n",
       "│ 25       │\n",
       "└──────────┘"
      ]
     },
     "execution_count": 27,
     "metadata": {},
     "output_type": "execute_result"
    }
   ],
   "source": [
    "df_boxoffice.select(pl.col('대표국적').null_count())"
   ]
  }
 ],
 "metadata": {
  "kernelspec": {
   "display_name": "venv_polars_book_deploy",
   "language": "python",
   "name": "venv_polars_book_deploy"
  },
  "language_info": {
   "codemirror_mode": {
    "name": "ipython",
    "version": 3
   },
   "file_extension": ".py",
   "mimetype": "text/x-python",
   "name": "python",
   "nbconvert_exporter": "python",
   "pygments_lexer": "ipython3",
   "version": "3.12.7"
  }
 },
 "nbformat": 4,
 "nbformat_minor": 5
}
