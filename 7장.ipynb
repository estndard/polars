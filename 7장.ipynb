{
 "cells": [
  {
   "cell_type": "code",
   "execution_count": 1,
   "id": "6f5bb5f2-d9d1-4f90-b1e5-da0c0b07a3db",
   "metadata": {},
   "outputs": [],
   "source": [
    "## 사전 실행 코드\n",
    "import polars as pl\n",
    "df_boxoffice = pl.read_csv(\"D:/book/polars/data/movie/KOBIS_기간별박스오피스.csv\", skip_rows = 4, try_parse_dates=True)\n",
    "boxoffice_cols = df_boxoffice.columns\n",
    "boxoffice_cols[4] = '매출액점유율'\n",
    "df_boxoffice.columns = [i.replace(' ', '') for i in boxoffice_cols]\n",
    "df_boxoffice = df_boxoffice.with_columns(\n",
    "    pl.col('매출액', '누적매출액').str.replace_all(',', '').cast(pl.Int64),\n",
    "    pl.col('관객수', '누적관객수', '스크린수', '상영횟수').str.replace_all(',', '').cast(pl.Int64)    \n",
    ")\n",
    "df_boxoffice = df_boxoffice.with_columns(\n",
    "    pl.col('장르').str.split(','), \n",
    "    pl.col('배우').str.split(','), \n",
    ")\n",
    "df_boxoffice = (df_boxoffice.filter(\n",
    "    pl.col('순위').is_not_null()).\n",
    "                filter(~(pl.col('장르').list.contains('성인물(에로)'))).\n",
    "                filter(pl.col('매출액') != 0).\n",
    "                filter(~((pl.col('관객수') <= 1) & (pl.col('누적관객수') <= 1) & \n",
    "                         (pl.col('스크린수') <= 1) & (pl.col('상영횟수') <= 1)))\n",
    "                )"
   ]
  },
  {
   "cell_type": "markdown",
   "id": "03abe977-78f1-4d25-82f0-01d592cc28c3",
   "metadata": {},
   "source": [
    "# 7장\t폴라스 데이터프레임으로 영화 데이터 구조 바꾸기"
   ]
  },
  {
   "cell_type": "markdown",
   "id": "31b00c7b-437b-4dc7-b65e-1ef3d1ca946c",
   "metadata": {},
   "source": [
    "## 7.1\t데이터프레임 조인으로 분리된 영화 데이터 연결하기"
   ]
  },
  {
   "cell_type": "code",
   "execution_count": 2,
   "id": "17c08f03-f39d-4c0f-985d-db760150459f",
   "metadata": {},
   "outputs": [
    {
     "data": {
      "text/html": [
       "<div><style>\n",
       ".dataframe > thead > tr,\n",
       ".dataframe > tbody > tr {\n",
       "  text-align: right;\n",
       "  white-space: pre-wrap;\n",
       "}\n",
       "</style>\n",
       "<small>shape: (1_467, 10)</small><table border=\"1\" class=\"dataframe\"><thead><tr><th>순위</th><th>영화명</th><th>개봉일</th><th>좌석판매율</th><th>좌석점유율</th><th>좌석수</th><th>매출액</th><th>누적매출액</th><th>관객수</th><th>누적관객수</th></tr><tr><td>i64</td><td>str</td><td>date</td><td>str</td><td>str</td><td>str</td><td>str</td><td>str</td><td>str</td><td>str</td></tr></thead><tbody><tr><td>1</td><td>&quot;파묘&quot;</td><td>2024-02-22</td><td>&quot;22.2%&quot;</td><td>&quot;6.1%&quot;</td><td>&quot;53,450,628&quot;</td><td>&quot;115,157,490,414&quot;</td><td>&quot;115,157,490,414&quot;</td><td>&quot;11,914,784&quot;</td><td>&quot;11,914,784&quot;</td></tr><tr><td>2</td><td>&quot;범죄도시4&quot;</td><td>2024-04-24</td><td>&quot;21.5%&quot;</td><td>&quot;6.0%&quot;</td><td>&quot;53,350,464&quot;</td><td>&quot;110,050,000,734&quot;</td><td>&quot;110,050,000,734&quot;</td><td>&quot;11,502,779&quot;</td><td>&quot;11,502,779&quot;</td></tr><tr><td>3</td><td>&quot;인사이드 아웃 2&quot;</td><td>2024-06-12</td><td>&quot;17.5%&quot;</td><td>&quot;5.7%&quot;</td><td>&quot;50,018,740&quot;</td><td>&quot;84,509,284,036&quot;</td><td>&quot;84,509,284,036&quot;</td><td>&quot;8,799,013&quot;</td><td>&quot;8,799,013&quot;</td></tr><tr><td>4</td><td>&quot;베테랑2&quot;</td><td>2024-09-13</td><td>&quot;18.3%&quot;</td><td>&quot;4.6%&quot;</td><td>&quot;40,990,441&quot;</td><td>&quot;72,474,035,814&quot;</td><td>&quot;72,474,035,814&quot;</td><td>&quot;7,525,339&quot;</td><td>&quot;7,525,339&quot;</td></tr><tr><td>5</td><td>&quot;파일럿&quot;</td><td>2024-07-31</td><td>&quot;15.7%&quot;</td><td>&quot;3.4%&quot;</td><td>&quot;30,046,075&quot;</td><td>&quot;43,204,079,201&quot;</td><td>&quot;43,204,079,201&quot;</td><td>&quot;4,718,036&quot;</td><td>&quot;4,718,036&quot;</td></tr><tr><td>&hellip;</td><td>&hellip;</td><td>&hellip;</td><td>&hellip;</td><td>&hellip;</td><td>&hellip;</td><td>&hellip;</td><td>&hellip;</td><td>&hellip;</td><td>&hellip;</td></tr><tr><td>1438</td><td>&quot;파이란&quot;</td><td>2001-04-28</td><td>&quot;0.0%&quot;</td><td>&quot;0.0%&quot;</td><td>&quot;424&quot;</td><td>&quot;0&quot;</td><td>&quot;13,402,270&quot;</td><td>&quot;0&quot;</td><td>&quot;1,380&quot;</td></tr><tr><td>1438</td><td>&quot;퍼펙트 게임&quot;</td><td>2011-12-21</td><td>&quot;0.0%&quot;</td><td>&quot;0.0%&quot;</td><td>&quot;212&quot;</td><td>&quot;0&quot;</td><td>&quot;11,220,412,500&quot;</td><td>&quot;0&quot;</td><td>&quot;1,507,085&quot;</td></tr><tr><td>1438</td><td>&quot;해가 서쪽에서 뜬다면&quot;</td><td>1998-12-19</td><td>&quot;0.0%&quot;</td><td>&quot;0.0%&quot;</td><td>&quot;212&quot;</td><td>&quot;0&quot;</td><td>&quot;0&quot;</td><td>&quot;0&quot;</td><td>&quot;0&quot;</td></tr><tr><td>1438</td><td>&quot;헌트&quot;</td><td>2022-08-10</td><td>&quot;0.0%&quot;</td><td>&quot;0.0%&quot;</td><td>&quot;142&quot;</td><td>&quot;0&quot;</td><td>&quot;44,602,463,153&quot;</td><td>&quot;0&quot;</td><td>&quot;4,352,513&quot;</td></tr><tr><td>1438</td><td>&quot;황산벌&quot;</td><td>2003-10-17</td><td>&quot;0.0%&quot;</td><td>&quot;0.0%&quot;</td><td>&quot;424&quot;</td><td>&quot;0&quot;</td><td>&quot;41,867,500&quot;</td><td>&quot;0&quot;</td><td>&quot;5,665&quot;</td></tr></tbody></table></div>"
      ],
      "text/plain": [
       "shape: (1_467, 10)\n",
       "┌──────┬───────────────────┬────────────┬────────────┬───┬─────────────────┬─────────────────┬────────────┬────────────┐\n",
       "│ 순위 ┆ 영화명            ┆ 개봉일     ┆ 좌석판매율 ┆ … ┆ 매출액          ┆ 누적매출액      ┆ 관객수     ┆ 누적관객수 │\n",
       "│ ---  ┆ ---               ┆ ---        ┆ ---        ┆   ┆ ---             ┆ ---             ┆ ---        ┆ ---        │\n",
       "│ i64  ┆ str               ┆ date       ┆ str        ┆   ┆ str             ┆ str             ┆ str        ┆ str        │\n",
       "╞══════╪═══════════════════╪════════════╪════════════╪═══╪═════════════════╪═════════════════╪════════════╪════════════╡\n",
       "│ 1    ┆ 파묘              ┆ 2024-02-22 ┆ 22.2%      ┆ … ┆ 115,157,490,414 ┆ 115,157,490,414 ┆ 11,914,784 ┆ 11,914,784 │\n",
       "│ 2    ┆ 범죄도시4         ┆ 2024-04-24 ┆ 21.5%      ┆ … ┆ 110,050,000,734 ┆ 110,050,000,734 ┆ 11,502,779 ┆ 11,502,779 │\n",
       "│ 3    ┆ 인사이드 아웃 2   ┆ 2024-06-12 ┆ 17.5%      ┆ … ┆ 84,509,284,036  ┆ 84,509,284,036  ┆ 8,799,013  ┆ 8,799,013  │\n",
       "│ 4    ┆ 베테랑2           ┆ 2024-09-13 ┆ 18.3%      ┆ … ┆ 72,474,035,814  ┆ 72,474,035,814  ┆ 7,525,339  ┆ 7,525,339  │\n",
       "│ 5    ┆ 파일럿            ┆ 2024-07-31 ┆ 15.7%      ┆ … ┆ 43,204,079,201  ┆ 43,204,079,201  ┆ 4,718,036  ┆ 4,718,036  │\n",
       "│ …    ┆ …                 ┆ …          ┆ …          ┆ … ┆ …               ┆ …               ┆ …          ┆ …          │\n",
       "│ 1438 ┆ 파이란            ┆ 2001-04-28 ┆ 0.0%       ┆ … ┆ 0               ┆ 13,402,270      ┆ 0          ┆ 1,380      │\n",
       "│ 1438 ┆ 퍼펙트 게임       ┆ 2011-12-21 ┆ 0.0%       ┆ … ┆ 0               ┆ 11,220,412,500  ┆ 0          ┆ 1,507,085  │\n",
       "│ 1438 ┆ 해가 서쪽에서     ┆ 1998-12-19 ┆ 0.0%       ┆ … ┆ 0               ┆ 0               ┆ 0          ┆ 0          │\n",
       "│      ┆ 뜬다면            ┆            ┆            ┆   ┆                 ┆                 ┆            ┆            │\n",
       "│ 1438 ┆ 헌트              ┆ 2022-08-10 ┆ 0.0%       ┆ … ┆ 0               ┆ 44,602,463,153  ┆ 0          ┆ 4,352,513  │\n",
       "│ 1438 ┆ 황산벌            ┆ 2003-10-17 ┆ 0.0%       ┆ … ┆ 0               ┆ 41,867,500      ┆ 0          ┆ 5,665      │\n",
       "└──────┴───────────────────┴────────────┴────────────┴───┴─────────────────┴─────────────────┴────────────┴────────────┘"
      ]
     },
     "execution_count": 2,
     "metadata": {},
     "output_type": "execute_result"
    }
   ],
   "source": [
    "df_seat_rate = pl.read_csv(\"./KOBIS_기간별좌석점유율.csv\", skip_rows = 4, try_parse_dates = True)\n",
    "df_seat_rate"
   ]
  },
  {
   "cell_type": "code",
   "execution_count": 3,
   "id": "19c9d3f8-7d26-4ac5-962b-dbb17436a3d0",
   "metadata": {},
   "outputs": [
    {
     "data": {
      "text/html": [
       "<div><style>\n",
       ".dataframe > thead > tr,\n",
       ".dataframe > tbody > tr {\n",
       "  text-align: right;\n",
       "  white-space: pre-wrap;\n",
       "}\n",
       "</style>\n",
       "<small>shape: (1_467, 6)</small><table border=\"1\" class=\"dataframe\"><thead><tr><th>순위</th><th>영화명</th><th>개봉일</th><th>좌석판매율</th><th>좌석점유율</th><th>좌석수</th></tr><tr><td>i64</td><td>str</td><td>date</td><td>f64</td><td>f64</td><td>i64</td></tr></thead><tbody><tr><td>1</td><td>&quot;파묘&quot;</td><td>2024-02-22</td><td>22.2</td><td>6.1</td><td>53450628</td></tr><tr><td>2</td><td>&quot;범죄도시4&quot;</td><td>2024-04-24</td><td>21.5</td><td>6.0</td><td>53350464</td></tr><tr><td>3</td><td>&quot;인사이드 아웃 2&quot;</td><td>2024-06-12</td><td>17.5</td><td>5.7</td><td>50018740</td></tr><tr><td>4</td><td>&quot;베테랑2&quot;</td><td>2024-09-13</td><td>18.3</td><td>4.6</td><td>40990441</td></tr><tr><td>5</td><td>&quot;파일럿&quot;</td><td>2024-07-31</td><td>15.7</td><td>3.4</td><td>30046075</td></tr><tr><td>&hellip;</td><td>&hellip;</td><td>&hellip;</td><td>&hellip;</td><td>&hellip;</td><td>&hellip;</td></tr><tr><td>1438</td><td>&quot;파이란&quot;</td><td>2001-04-28</td><td>0.0</td><td>0.0</td><td>424</td></tr><tr><td>1438</td><td>&quot;퍼펙트 게임&quot;</td><td>2011-12-21</td><td>0.0</td><td>0.0</td><td>212</td></tr><tr><td>1438</td><td>&quot;해가 서쪽에서 뜬다면&quot;</td><td>1998-12-19</td><td>0.0</td><td>0.0</td><td>212</td></tr><tr><td>1438</td><td>&quot;헌트&quot;</td><td>2022-08-10</td><td>0.0</td><td>0.0</td><td>142</td></tr><tr><td>1438</td><td>&quot;황산벌&quot;</td><td>2003-10-17</td><td>0.0</td><td>0.0</td><td>424</td></tr></tbody></table></div>"
      ],
      "text/plain": [
       "shape: (1_467, 6)\n",
       "┌──────┬──────────────────────┬────────────┬────────────┬────────────┬──────────┐\n",
       "│ 순위 ┆ 영화명               ┆ 개봉일     ┆ 좌석판매율 ┆ 좌석점유율 ┆ 좌석수   │\n",
       "│ ---  ┆ ---                  ┆ ---        ┆ ---        ┆ ---        ┆ ---      │\n",
       "│ i64  ┆ str                  ┆ date       ┆ f64        ┆ f64        ┆ i64      │\n",
       "╞══════╪══════════════════════╪════════════╪════════════╪════════════╪══════════╡\n",
       "│ 1    ┆ 파묘                 ┆ 2024-02-22 ┆ 22.2       ┆ 6.1        ┆ 53450628 │\n",
       "│ 2    ┆ 범죄도시4            ┆ 2024-04-24 ┆ 21.5       ┆ 6.0        ┆ 53350464 │\n",
       "│ 3    ┆ 인사이드 아웃 2      ┆ 2024-06-12 ┆ 17.5       ┆ 5.7        ┆ 50018740 │\n",
       "│ 4    ┆ 베테랑2              ┆ 2024-09-13 ┆ 18.3       ┆ 4.6        ┆ 40990441 │\n",
       "│ 5    ┆ 파일럿               ┆ 2024-07-31 ┆ 15.7       ┆ 3.4        ┆ 30046075 │\n",
       "│ …    ┆ …                    ┆ …          ┆ …          ┆ …          ┆ …        │\n",
       "│ 1438 ┆ 파이란               ┆ 2001-04-28 ┆ 0.0        ┆ 0.0        ┆ 424      │\n",
       "│ 1438 ┆ 퍼펙트 게임          ┆ 2011-12-21 ┆ 0.0        ┆ 0.0        ┆ 212      │\n",
       "│ 1438 ┆ 해가 서쪽에서 뜬다면 ┆ 1998-12-19 ┆ 0.0        ┆ 0.0        ┆ 212      │\n",
       "│ 1438 ┆ 헌트                 ┆ 2022-08-10 ┆ 0.0        ┆ 0.0        ┆ 142      │\n",
       "│ 1438 ┆ 황산벌               ┆ 2003-10-17 ┆ 0.0        ┆ 0.0        ┆ 424      │\n",
       "└──────┴──────────────────────┴────────────┴────────────┴────────────┴──────────┘"
      ]
     },
     "execution_count": 3,
     "metadata": {},
     "output_type": "execute_result"
    }
   ],
   "source": [
    "df_seat_rate = (df_seat_rate.with_columns(pl.col('좌석수').str.replace_all(',', '').cast(pl.Int64),\n",
    "        pl.col('좌석판매율', '좌석점유율').str.replace_all(\"%\", \"\").cast(pl.Float64))\n",
    "    .select(pl.exclude(['매출액', '누적매출액', '관객수', '누적관객수'])))\n",
    "df_seat_rate"
   ]
  },
  {
   "cell_type": "code",
   "execution_count": 4,
   "id": "a40d957b-d006-4c8c-b417-19fef822b180",
   "metadata": {},
   "outputs": [
    {
     "data": {
      "text/html": [
       "<div><style>\n",
       ".dataframe > thead > tr,\n",
       ".dataframe > tbody > tr {\n",
       "  text-align: right;\n",
       "  white-space: pre-wrap;\n",
       "}\n",
       "</style>\n",
       "<small>shape: (597, 22)</small><table border=\"1\" class=\"dataframe\"><thead><tr><th>순위</th><th>영화명</th><th>개봉일</th><th>매출액</th><th>매출액점유율</th><th>누적매출액</th><th>관객수</th><th>누적관객수</th><th>스크린수</th><th>상영횟수</th><th>대표국적</th><th>국적</th><th>제작사</th><th>배급사</th><th>등급</th><th>장르</th><th>감독</th><th>배우</th><th>순위_좌석</th><th>좌석판매율</th><th>좌석점유율</th><th>좌석수</th></tr><tr><td>i64</td><td>str</td><td>date</td><td>i64</td><td>str</td><td>i64</td><td>i64</td><td>i64</td><td>i64</td><td>i64</td><td>str</td><td>str</td><td>str</td><td>str</td><td>str</td><td>list[str]</td><td>str</td><td>list[str]</td><td>i64</td><td>f64</td><td>f64</td><td>i64</td></tr></thead><tbody><tr><td>1</td><td>&quot;파묘&quot;</td><td>2024-02-22</td><td>115157490414</td><td>&quot;9.6%&quot;</td><td>115157490414</td><td>11914784</td><td>11914784</td><td>2367</td><td>364955</td><td>&quot;한국&quot;</td><td>&quot;한국&quot;</td><td>&quot;(주)쇼박스&quot;</td><td>&quot;(주)쇼박스&quot;</td><td>&quot;15세이상관람가&quot;</td><td>[&quot;미스터리&quot;, &quot;공포(호러)&quot;]</td><td>&quot;장재현&quot;</td><td>[&quot;최민식&quot;, &quot;김고은&quot;, … &quot;김하영&quot;]</td><td>1</td><td>22.2</td><td>6.1</td><td>53450628</td></tr><tr><td>2</td><td>&quot;범죄도시4&quot;</td><td>2024-04-24</td><td>110050000734</td><td>&quot;9.2%&quot;</td><td>110050000734</td><td>11502779</td><td>11502779</td><td>2980</td><td>375434</td><td>&quot;한국&quot;</td><td>&quot;한국&quot;</td><td>&quot;주식회사 빅펀치픽쳐스,(주)홍필름,(주)비에이엔터테인먼…</td><td>&quot;주식회사 에이비오엔터테인먼트,플러스엠 엔터테인먼트&quot;</td><td>&quot;15세이상관람가&quot;</td><td>[&quot;액션&quot;, &quot;범죄&quot;]</td><td>&quot;허명행&quot;</td><td>[&quot;김무열&quot;, &quot;박지환&quot;, … &quot;조석인&quot;]</td><td>2</td><td>21.5</td><td>6.0</td><td>53350464</td></tr><tr><td>3</td><td>&quot;인사이드 아웃 2&quot;</td><td>2024-06-12</td><td>84509284036</td><td>&quot;7.1%&quot;</td><td>84509284036</td><td>8799013</td><td>8799013</td><td>2619</td><td>331341</td><td>&quot;미국&quot;</td><td>&quot;미국&quot;</td><td>&quot;월트 디즈니 픽쳐스,픽사 애니메이션 스튜디오&quot;</td><td>&quot;월트디즈니컴퍼니코리아 유한책임회사&quot;</td><td>&quot;전체관람가&quot;</td><td>[&quot;애니메이션&quot;]</td><td>&quot;켈시 만&quot;</td><td>[&quot;에이미 포엘러&quot;, &quot;토니 헤일&quot;]</td><td>3</td><td>17.5</td><td>5.7</td><td>50018740</td></tr><tr><td>4</td><td>&quot;베테랑2&quot;</td><td>2024-09-13</td><td>72474035814</td><td>&quot;6.1%&quot;</td><td>72474035814</td><td>7525339</td><td>7525339</td><td>2691</td><td>279673</td><td>&quot;한국&quot;</td><td>&quot;한국&quot;</td><td>&quot;(주)외유내강&quot;</td><td>&quot;(주)씨제이이엔엠&quot;</td><td>&quot;15세이상관람가&quot;</td><td>[&quot;액션&quot;, &quot;범죄&quot;]</td><td>&quot;류승완&quot;</td><td>[&quot;황정민&quot;, &quot;정해인&quot;, … &quot;이상협&quot;]</td><td>4</td><td>18.3</td><td>4.6</td><td>40990441</td></tr><tr><td>5</td><td>&quot;파일럿&quot;</td><td>2024-07-31</td><td>43204079201</td><td>&quot;3.6%&quot;</td><td>43204079201</td><td>4718036</td><td>4718036</td><td>1956</td><td>203283</td><td>&quot;한국&quot;</td><td>&quot;한국&quot;</td><td>&quot;쇼트케이크(주),(주)무비락&quot;</td><td>&quot;롯데컬처웍스(주)롯데엔터테인먼트&quot;</td><td>&quot;12세이상관람가&quot;</td><td>[&quot;코미디&quot;]</td><td>&quot;김한결&quot;</td><td>[&quot;조정석&quot;, &quot;이주명&quot;, … &quot;한지혁&quot;]</td><td>5</td><td>15.7</td><td>3.4</td><td>30046075</td></tr><tr><td>&hellip;</td><td>&hellip;</td><td>&hellip;</td><td>&hellip;</td><td>&hellip;</td><td>&hellip;</td><td>&hellip;</td><td>&hellip;</td><td>&hellip;</td><td>&hellip;</td><td>&hellip;</td><td>&hellip;</td><td>&hellip;</td><td>&hellip;</td><td>&hellip;</td><td>&hellip;</td><td>&hellip;</td><td>&hellip;</td><td>&hellip;</td><td>&hellip;</td><td>&hellip;</td><td>&hellip;</td></tr><tr><td>3345</td><td>&quot;귀멸의 칼날: 주합회의·나비저택 편&quot;</td><td>2021-12-01</td><td>14000</td><td>&quot;0.0%&quot;</td><td>263633000</td><td>2</td><td>27688</td><td>1</td><td>1</td><td>&quot;일본&quot;</td><td>&quot;일본&quot;</td><td>null</td><td>&quot;(주)박수엔터테인먼트&quot;</td><td>&quot;15세이상관람가&quot;</td><td>[&quot;애니메이션&quot;]</td><td>&quot;소토자키 하루오&quot;</td><td>[&quot;하나에 나츠키&quot;, &quot;키토 아카리&quot;, … &quot;마츠오카 요시츠구&quot;]</td><td>703</td><td>1.5</td><td>0.0</td><td>130</td></tr><tr><td>3365</td><td>&quot;귀멸의 칼날: 남매의 연&quot;</td><td>2021-11-10</td><td>7000</td><td>&quot;0.0%&quot;</td><td>645556440</td><td>1</td><td>65537</td><td>1</td><td>1</td><td>&quot;일본&quot;</td><td>&quot;일본&quot;</td><td>null</td><td>&quot;(주)박수엔터테인먼트&quot;</td><td>&quot;15세이상관람가&quot;</td><td>[&quot;애니메이션&quot;]</td><td>&quot;소토자키 하루오&quot;</td><td>[&quot;하나에 나츠키&quot;, &quot;키토 아카리&quot;, … &quot;마츠오카 요시츠구&quot;]</td><td>706</td><td>0.7</td><td>0.0</td><td>130</td></tr><tr><td>3365</td><td>&quot;귀멸의 칼날: 아사쿠사 편&quot;</td><td>2022-08-25</td><td>7000</td><td>&quot;0.0%&quot;</td><td>231539500</td><td>1</td><td>22389</td><td>1</td><td>1</td><td>&quot;일본&quot;</td><td>&quot;일본&quot;</td><td>null</td><td>&quot;(주)박수엔터테인먼트&quot;</td><td>&quot;15세이상관람가&quot;</td><td>[&quot;애니메이션&quot;]</td><td>&quot;소토자키 하루오&quot;</td><td>null</td><td>706</td><td>0.7</td><td>0.0</td><td>130</td></tr><tr><td>3365</td><td>&quot;미미와 철수의 청춘스케치&quot;</td><td>1987-07-04</td><td>6000</td><td>&quot;0.0%&quot;</td><td>1067100</td><td>1</td><td>185</td><td>1</td><td>1</td><td>&quot;한국&quot;</td><td>&quot;한국&quot;</td><td>&quot;㈜단성시네마&quot;</td><td>null</td><td>&quot;중학생이상관람가&quot;</td><td>[&quot;드라마&quot;]</td><td>&quot;이규형&quot;</td><td>[&quot;강수연&quot;, &quot;최양락&quot;, … &quot;김세준&quot;]</td><td>706</td><td>1.6</td><td>0.0</td><td>59</td></tr><tr><td>3365</td><td>&quot;사채소년&quot;</td><td>2023-11-22</td><td>8000</td><td>&quot;0.0%&quot;</td><td>193797300</td><td>1</td><td>26149</td><td>1</td><td>2</td><td>&quot;한국&quot;</td><td>&quot;한국&quot;</td><td>&quot;(주)26컴퍼니&quot;</td><td>&quot;영화사빅&quot;</td><td>&quot;15세이상관람가&quot;</td><td>[&quot;액션&quot;, &quot;드라마&quot;]</td><td>&quot;황동석&quot;</td><td>[&quot;유선호&quot;, &quot;강미나&quot;, … &quot;양성준&quot;]</td><td>706</td><td>0.3</td><td>0.0</td><td>332</td></tr></tbody></table></div>"
      ],
      "text/plain": [
       "shape: (597, 22)\n",
       "┌──────┬──────────────────────────┬────────────┬──────────────┬───┬───────────┬────────────┬────────────┬──────────┐\n",
       "│ 순위 ┆ 영화명                   ┆ 개봉일     ┆ 매출액       ┆ … ┆ 순위_좌석 ┆ 좌석판매율 ┆ 좌석점유율 ┆ 좌석수   │\n",
       "│ ---  ┆ ---                      ┆ ---        ┆ ---          ┆   ┆ ---       ┆ ---        ┆ ---        ┆ ---      │\n",
       "│ i64  ┆ str                      ┆ date       ┆ i64          ┆   ┆ i64       ┆ f64        ┆ f64        ┆ i64      │\n",
       "╞══════╪══════════════════════════╪════════════╪══════════════╪═══╪═══════════╪════════════╪════════════╪══════════╡\n",
       "│ 1    ┆ 파묘                     ┆ 2024-02-22 ┆ 115157490414 ┆ … ┆ 1         ┆ 22.2       ┆ 6.1        ┆ 53450628 │\n",
       "│ 2    ┆ 범죄도시4                ┆ 2024-04-24 ┆ 110050000734 ┆ … ┆ 2         ┆ 21.5       ┆ 6.0        ┆ 53350464 │\n",
       "│ 3    ┆ 인사이드 아웃 2          ┆ 2024-06-12 ┆ 84509284036  ┆ … ┆ 3         ┆ 17.5       ┆ 5.7        ┆ 50018740 │\n",
       "│ 4    ┆ 베테랑2                  ┆ 2024-09-13 ┆ 72474035814  ┆ … ┆ 4         ┆ 18.3       ┆ 4.6        ┆ 40990441 │\n",
       "│ 5    ┆ 파일럿                   ┆ 2024-07-31 ┆ 43204079201  ┆ … ┆ 5         ┆ 15.7       ┆ 3.4        ┆ 30046075 │\n",
       "│ …    ┆ …                        ┆ …          ┆ …            ┆ … ┆ …         ┆ …          ┆ …          ┆ …        │\n",
       "│ 3345 ┆ 귀멸의 칼날:             ┆ 2021-12-01 ┆ 14000        ┆ … ┆ 703       ┆ 1.5        ┆ 0.0        ┆ 130      │\n",
       "│      ┆ 주합회의·나비저택 편     ┆            ┆              ┆   ┆           ┆            ┆            ┆          │\n",
       "│ 3365 ┆ 귀멸의 칼날: 남매의 연   ┆ 2021-11-10 ┆ 7000         ┆ … ┆ 706       ┆ 0.7        ┆ 0.0        ┆ 130      │\n",
       "│ 3365 ┆ 귀멸의 칼날: 아사쿠사 편 ┆ 2022-08-25 ┆ 7000         ┆ … ┆ 706       ┆ 0.7        ┆ 0.0        ┆ 130      │\n",
       "│ 3365 ┆ 미미와 철수의 청춘스케치 ┆ 1987-07-04 ┆ 6000         ┆ … ┆ 706       ┆ 1.6        ┆ 0.0        ┆ 59       │\n",
       "│ 3365 ┆ 사채소년                 ┆ 2023-11-22 ┆ 8000         ┆ … ┆ 706       ┆ 0.3        ┆ 0.0        ┆ 332      │\n",
       "└──────┴──────────────────────────┴────────────┴──────────────┴───┴───────────┴────────────┴────────────┴──────────┘"
      ]
     },
     "execution_count": 4,
     "metadata": {},
     "output_type": "execute_result"
    }
   ],
   "source": [
    "df_boxoffice.join(df_seat_rate, on = (['영화명', '개봉일']), how = \"inner\", suffix = \"_좌석\")"
   ]
  },
  {
   "cell_type": "code",
   "execution_count": 5,
   "id": "c27fba57-a669-4f6e-a318-dbce3eb2c8cf",
   "metadata": {},
   "outputs": [
    {
     "data": {
      "text/plain": [
       "(3268, 22)"
      ]
     },
     "execution_count": 5,
     "metadata": {},
     "output_type": "execute_result"
    }
   ],
   "source": [
    "df_left_join = (df_boxoffice.join(df_seat_rate, on = (['영화명', '개봉일']), how = \"left\", suffix = \"_좌석\"))\n",
    "df_left_join.shape"
   ]
  },
  {
   "cell_type": "code",
   "execution_count": 6,
   "id": "035a7f3c-b93a-4c8b-8afa-3a7358a6f8eb",
   "metadata": {},
   "outputs": [
    {
     "data": {
      "text/html": [
       "<div><style>\n",
       ".dataframe > thead > tr,\n",
       ".dataframe > tbody > tr {\n",
       "  text-align: right;\n",
       "  white-space: pre-wrap;\n",
       "}\n",
       "</style>\n",
       "<small>shape: (5, 22)</small><table border=\"1\" class=\"dataframe\"><thead><tr><th>순위</th><th>영화명</th><th>개봉일</th><th>매출액</th><th>매출액점유율</th><th>누적매출액</th><th>관객수</th><th>누적관객수</th><th>스크린수</th><th>상영횟수</th><th>대표국적</th><th>국적</th><th>제작사</th><th>배급사</th><th>등급</th><th>장르</th><th>감독</th><th>배우</th><th>순위_좌석</th><th>좌석판매율</th><th>좌석점유율</th><th>좌석수</th></tr><tr><td>i64</td><td>str</td><td>date</td><td>i64</td><td>str</td><td>i64</td><td>i64</td><td>i64</td><td>i64</td><td>i64</td><td>str</td><td>str</td><td>str</td><td>str</td><td>str</td><td>list[str]</td><td>str</td><td>list[str]</td><td>i64</td><td>f64</td><td>f64</td><td>i64</td></tr></thead><tbody><tr><td>3365</td><td>&quot;평평남녀&quot;</td><td>2022-04-28</td><td>8000</td><td>&quot;0.0%&quot;</td><td>11582200</td><td>1</td><td>1317</td><td>1</td><td>1</td><td>&quot;한국&quot;</td><td>&quot;한국&quot;</td><td>&quot;브릿지 프로덕션,냉이영화&quot;</td><td>&quot;영화배급협동조합 씨네소파&quot;</td><td>&quot;12세이상관람가&quot;</td><td>[&quot;드라마&quot;, &quot;멜로/로맨스&quot;]</td><td>&quot;김수정&quot;</td><td>[&quot;이태경&quot;, &quot;이한주&quot;, … &quot;박종환&quot;]</td><td>null</td><td>null</td><td>null</td><td>null</td></tr><tr><td>3365</td><td>&quot;한 남자&quot;</td><td>2023-08-30</td><td>10000</td><td>&quot;0.0%&quot;</td><td>139270250</td><td>1</td><td>15939</td><td>1</td><td>1</td><td>&quot;일본&quot;</td><td>&quot;일본&quot;</td><td>null</td><td>&quot;트윈플러스파트너스(주)&quot;</td><td>&quot;12세이상관람가&quot;</td><td>[&quot;범죄&quot;, &quot;멜로/로맨스&quot;, &quot;스릴러&quot;]</td><td>&quot;이시카와 케이&quot;</td><td>[&quot;츠마부키 사토시&quot;, &quot;안도 사쿠라&quot;]</td><td>null</td><td>null</td><td>null</td><td>null</td></tr><tr><td>3365</td><td>&quot;헝거&quot;</td><td>2022-04-21</td><td>3000</td><td>&quot;0.0%&quot;</td><td>6007060</td><td>1</td><td>778</td><td>1</td><td>1</td><td>&quot;한국&quot;</td><td>&quot;한국&quot;</td><td>&quot;영화사 케디필름&quot;</td><td>&quot;(주)디오시네마,(주)태양미디어그룹&quot;</td><td>&quot;12세이상관람가&quot;</td><td>[&quot;SF&quot;, &quot;드라마&quot;]</td><td>&quot;강다연&quot;</td><td>[&quot;김유나&quot;, &quot;최윤우&quot;, … &quot;조은강&quot;]</td><td>null</td><td>null</td><td>null</td><td>null</td></tr><tr><td>3365</td><td>&quot;호피와 차돌바위&quot;</td><td>null</td><td>8000</td><td>&quot;0.0%&quot;</td><td>28000</td><td>1</td><td>4</td><td>1</td><td>1</td><td>&quot;한국&quot;</td><td>&quot;한국&quot;</td><td>null</td><td>null</td><td>null</td><td>[&quot;애니메이션&quot;]</td><td>&quot;신동헌&quot;</td><td>null</td><td>null</td><td>null</td><td>null</td><td>null</td></tr><tr><td>3365</td><td>&quot;희수&quot;</td><td>2022-12-15</td><td>5000</td><td>&quot;0.0%&quot;</td><td>4795500</td><td>1</td><td>617</td><td>1</td><td>1</td><td>&quot;한국&quot;</td><td>&quot;한국&quot;</td><td>&quot;영화사 정원&quot;</td><td>&quot;영화사 정원&quot;</td><td>&quot;12세이상관람가&quot;</td><td>[&quot;드라마&quot;]</td><td>&quot;감정원&quot;</td><td>[&quot;공민정&quot;]</td><td>null</td><td>null</td><td>null</td><td>null</td></tr></tbody></table></div>"
      ],
      "text/plain": [
       "shape: (5, 22)\n",
       "┌──────┬─────────────────┬────────────┬────────┬───┬───────────┬────────────┬────────────┬────────┐\n",
       "│ 순위 ┆ 영화명          ┆ 개봉일     ┆ 매출액 ┆ … ┆ 순위_좌석 ┆ 좌석판매율 ┆ 좌석점유율 ┆ 좌석수 │\n",
       "│ ---  ┆ ---             ┆ ---        ┆ ---    ┆   ┆ ---       ┆ ---        ┆ ---        ┆ ---    │\n",
       "│ i64  ┆ str             ┆ date       ┆ i64    ┆   ┆ i64       ┆ f64        ┆ f64        ┆ i64    │\n",
       "╞══════╪═════════════════╪════════════╪════════╪═══╪═══════════╪════════════╪════════════╪════════╡\n",
       "│ 3365 ┆ 평평남녀        ┆ 2022-04-28 ┆ 8000   ┆ … ┆ null      ┆ null       ┆ null       ┆ null   │\n",
       "│ 3365 ┆ 한 남자         ┆ 2023-08-30 ┆ 10000  ┆ … ┆ null      ┆ null       ┆ null       ┆ null   │\n",
       "│ 3365 ┆ 헝거            ┆ 2022-04-21 ┆ 3000   ┆ … ┆ null      ┆ null       ┆ null       ┆ null   │\n",
       "│ 3365 ┆ 호피와 차돌바위 ┆ null       ┆ 8000   ┆ … ┆ null      ┆ null       ┆ null       ┆ null   │\n",
       "│ 3365 ┆ 희수            ┆ 2022-12-15 ┆ 5000   ┆ … ┆ null      ┆ null       ┆ null       ┆ null   │\n",
       "└──────┴─────────────────┴────────────┴────────┴───┴───────────┴────────────┴────────────┴────────┘"
      ]
     },
     "execution_count": 6,
     "metadata": {},
     "output_type": "execute_result"
    }
   ],
   "source": [
    "df_left_join.tail()"
   ]
  },
  {
   "cell_type": "code",
   "execution_count": 7,
   "id": "9fd39a4c-7be5-4f7f-8282-76cbce18c534",
   "metadata": {},
   "outputs": [
    {
     "data": {
      "text/plain": [
       "(1467, 22)"
      ]
     },
     "execution_count": 7,
     "metadata": {},
     "output_type": "execute_result"
    }
   ],
   "source": [
    "df_right_join = (df_boxoffice.join(df_seat_rate, on = (['영화명', '개봉일']), how = \"right\", suffix = \"_좌석\"))\n",
    "df_right_join.shape"
   ]
  },
  {
   "cell_type": "code",
   "execution_count": 8,
   "id": "0eea3705-839e-4933-80ae-473c21c56048",
   "metadata": {},
   "outputs": [
    {
     "data": {
      "text/html": [
       "<div><style>\n",
       ".dataframe > thead > tr,\n",
       ".dataframe > tbody > tr {\n",
       "  text-align: right;\n",
       "  white-space: pre-wrap;\n",
       "}\n",
       "</style>\n",
       "<small>shape: (5, 22)</small><table border=\"1\" class=\"dataframe\"><thead><tr><th>순위</th><th>매출액</th><th>매출액점유율</th><th>누적매출액</th><th>관객수</th><th>누적관객수</th><th>스크린수</th><th>상영횟수</th><th>대표국적</th><th>국적</th><th>제작사</th><th>배급사</th><th>등급</th><th>장르</th><th>감독</th><th>배우</th><th>순위_좌석</th><th>영화명</th><th>개봉일</th><th>좌석판매율</th><th>좌석점유율</th><th>좌석수</th></tr><tr><td>i64</td><td>i64</td><td>str</td><td>i64</td><td>i64</td><td>i64</td><td>i64</td><td>i64</td><td>str</td><td>str</td><td>str</td><td>str</td><td>str</td><td>list[str]</td><td>str</td><td>list[str]</td><td>i64</td><td>str</td><td>date</td><td>f64</td><td>f64</td><td>i64</td></tr></thead><tbody><tr><td>null</td><td>null</td><td>null</td><td>null</td><td>null</td><td>null</td><td>null</td><td>null</td><td>null</td><td>null</td><td>null</td><td>null</td><td>null</td><td>null</td><td>null</td><td>null</td><td>1438</td><td>&quot;파이란&quot;</td><td>2001-04-28</td><td>0.0</td><td>0.0</td><td>424</td></tr><tr><td>null</td><td>null</td><td>null</td><td>null</td><td>null</td><td>null</td><td>null</td><td>null</td><td>null</td><td>null</td><td>null</td><td>null</td><td>null</td><td>null</td><td>null</td><td>null</td><td>1438</td><td>&quot;퍼펙트 게임&quot;</td><td>2011-12-21</td><td>0.0</td><td>0.0</td><td>212</td></tr><tr><td>null</td><td>null</td><td>null</td><td>null</td><td>null</td><td>null</td><td>null</td><td>null</td><td>null</td><td>null</td><td>null</td><td>null</td><td>null</td><td>null</td><td>null</td><td>null</td><td>1438</td><td>&quot;해가 서쪽에서 뜬다면&quot;</td><td>1998-12-19</td><td>0.0</td><td>0.0</td><td>212</td></tr><tr><td>null</td><td>null</td><td>null</td><td>null</td><td>null</td><td>null</td><td>null</td><td>null</td><td>null</td><td>null</td><td>null</td><td>null</td><td>null</td><td>null</td><td>null</td><td>null</td><td>1438</td><td>&quot;헌트&quot;</td><td>2022-08-10</td><td>0.0</td><td>0.0</td><td>142</td></tr><tr><td>null</td><td>null</td><td>null</td><td>null</td><td>null</td><td>null</td><td>null</td><td>null</td><td>null</td><td>null</td><td>null</td><td>null</td><td>null</td><td>null</td><td>null</td><td>null</td><td>1438</td><td>&quot;황산벌&quot;</td><td>2003-10-17</td><td>0.0</td><td>0.0</td><td>424</td></tr></tbody></table></div>"
      ],
      "text/plain": [
       "shape: (5, 22)\n",
       "┌──────┬────────┬──────────────┬────────────┬───┬────────────┬────────────┬────────────┬────────┐\n",
       "│ 순위 ┆ 매출액 ┆ 매출액점유율 ┆ 누적매출액 ┆ … ┆ 개봉일     ┆ 좌석판매율 ┆ 좌석점유율 ┆ 좌석수 │\n",
       "│ ---  ┆ ---    ┆ ---          ┆ ---        ┆   ┆ ---        ┆ ---        ┆ ---        ┆ ---    │\n",
       "│ i64  ┆ i64    ┆ str          ┆ i64        ┆   ┆ date       ┆ f64        ┆ f64        ┆ i64    │\n",
       "╞══════╪════════╪══════════════╪════════════╪═══╪════════════╪════════════╪════════════╪════════╡\n",
       "│ null ┆ null   ┆ null         ┆ null       ┆ … ┆ 2001-04-28 ┆ 0.0        ┆ 0.0        ┆ 424    │\n",
       "│ null ┆ null   ┆ null         ┆ null       ┆ … ┆ 2011-12-21 ┆ 0.0        ┆ 0.0        ┆ 212    │\n",
       "│ null ┆ null   ┆ null         ┆ null       ┆ … ┆ 1998-12-19 ┆ 0.0        ┆ 0.0        ┆ 212    │\n",
       "│ null ┆ null   ┆ null         ┆ null       ┆ … ┆ 2022-08-10 ┆ 0.0        ┆ 0.0        ┆ 142    │\n",
       "│ null ┆ null   ┆ null         ┆ null       ┆ … ┆ 2003-10-17 ┆ 0.0        ┆ 0.0        ┆ 424    │\n",
       "└──────┴────────┴──────────────┴────────────┴───┴────────────┴────────────┴────────────┴────────┘"
      ]
     },
     "execution_count": 8,
     "metadata": {},
     "output_type": "execute_result"
    }
   ],
   "source": [
    "df_right_join.tail()"
   ]
  },
  {
   "cell_type": "code",
   "execution_count": 9,
   "id": "8f7f14a2-a310-45f6-b8f8-a697f8729919",
   "metadata": {},
   "outputs": [
    {
     "data": {
      "text/html": [
       "<div><style>\n",
       ".dataframe > thead > tr,\n",
       ".dataframe > tbody > tr {\n",
       "  text-align: right;\n",
       "  white-space: pre-wrap;\n",
       "}\n",
       "</style>\n",
       "<small>shape: (4_138, 24)</small><table border=\"1\" class=\"dataframe\"><thead><tr><th>순위</th><th>영화명</th><th>개봉일</th><th>매출액</th><th>매출액점유율</th><th>누적매출액</th><th>관객수</th><th>누적관객수</th><th>스크린수</th><th>상영횟수</th><th>대표국적</th><th>국적</th><th>제작사</th><th>배급사</th><th>등급</th><th>장르</th><th>감독</th><th>배우</th><th>순위_좌석</th><th>영화명_좌석</th><th>개봉일_좌석</th><th>좌석판매율</th><th>좌석점유율</th><th>좌석수</th></tr><tr><td>i64</td><td>str</td><td>date</td><td>i64</td><td>str</td><td>i64</td><td>i64</td><td>i64</td><td>i64</td><td>i64</td><td>str</td><td>str</td><td>str</td><td>str</td><td>str</td><td>list[str]</td><td>str</td><td>list[str]</td><td>i64</td><td>str</td><td>date</td><td>f64</td><td>f64</td><td>i64</td></tr></thead><tbody><tr><td>1</td><td>&quot;파묘&quot;</td><td>2024-02-22</td><td>115157490414</td><td>&quot;9.6%&quot;</td><td>115157490414</td><td>11914784</td><td>11914784</td><td>2367</td><td>364955</td><td>&quot;한국&quot;</td><td>&quot;한국&quot;</td><td>&quot;(주)쇼박스&quot;</td><td>&quot;(주)쇼박스&quot;</td><td>&quot;15세이상관람가&quot;</td><td>[&quot;미스터리&quot;, &quot;공포(호러)&quot;]</td><td>&quot;장재현&quot;</td><td>[&quot;최민식&quot;, &quot;김고은&quot;, … &quot;김하영&quot;]</td><td>1</td><td>&quot;파묘&quot;</td><td>2024-02-22</td><td>22.2</td><td>6.1</td><td>53450628</td></tr><tr><td>2</td><td>&quot;범죄도시4&quot;</td><td>2024-04-24</td><td>110050000734</td><td>&quot;9.2%&quot;</td><td>110050000734</td><td>11502779</td><td>11502779</td><td>2980</td><td>375434</td><td>&quot;한국&quot;</td><td>&quot;한국&quot;</td><td>&quot;주식회사 빅펀치픽쳐스,(주)홍필름,(주)비에이엔터테인먼…</td><td>&quot;주식회사 에이비오엔터테인먼트,플러스엠 엔터테인먼트&quot;</td><td>&quot;15세이상관람가&quot;</td><td>[&quot;액션&quot;, &quot;범죄&quot;]</td><td>&quot;허명행&quot;</td><td>[&quot;김무열&quot;, &quot;박지환&quot;, … &quot;조석인&quot;]</td><td>2</td><td>&quot;범죄도시4&quot;</td><td>2024-04-24</td><td>21.5</td><td>6.0</td><td>53350464</td></tr><tr><td>3</td><td>&quot;인사이드 아웃 2&quot;</td><td>2024-06-12</td><td>84509284036</td><td>&quot;7.1%&quot;</td><td>84509284036</td><td>8799013</td><td>8799013</td><td>2619</td><td>331341</td><td>&quot;미국&quot;</td><td>&quot;미국&quot;</td><td>&quot;월트 디즈니 픽쳐스,픽사 애니메이션 스튜디오&quot;</td><td>&quot;월트디즈니컴퍼니코리아 유한책임회사&quot;</td><td>&quot;전체관람가&quot;</td><td>[&quot;애니메이션&quot;]</td><td>&quot;켈시 만&quot;</td><td>[&quot;에이미 포엘러&quot;, &quot;토니 헤일&quot;]</td><td>3</td><td>&quot;인사이드 아웃 2&quot;</td><td>2024-06-12</td><td>17.5</td><td>5.7</td><td>50018740</td></tr><tr><td>4</td><td>&quot;베테랑2&quot;</td><td>2024-09-13</td><td>72474035814</td><td>&quot;6.1%&quot;</td><td>72474035814</td><td>7525339</td><td>7525339</td><td>2691</td><td>279673</td><td>&quot;한국&quot;</td><td>&quot;한국&quot;</td><td>&quot;(주)외유내강&quot;</td><td>&quot;(주)씨제이이엔엠&quot;</td><td>&quot;15세이상관람가&quot;</td><td>[&quot;액션&quot;, &quot;범죄&quot;]</td><td>&quot;류승완&quot;</td><td>[&quot;황정민&quot;, &quot;정해인&quot;, … &quot;이상협&quot;]</td><td>4</td><td>&quot;베테랑2&quot;</td><td>2024-09-13</td><td>18.3</td><td>4.6</td><td>40990441</td></tr><tr><td>5</td><td>&quot;파일럿&quot;</td><td>2024-07-31</td><td>43204079201</td><td>&quot;3.6%&quot;</td><td>43204079201</td><td>4718036</td><td>4718036</td><td>1956</td><td>203283</td><td>&quot;한국&quot;</td><td>&quot;한국&quot;</td><td>&quot;쇼트케이크(주),(주)무비락&quot;</td><td>&quot;롯데컬처웍스(주)롯데엔터테인먼트&quot;</td><td>&quot;12세이상관람가&quot;</td><td>[&quot;코미디&quot;]</td><td>&quot;김한결&quot;</td><td>[&quot;조정석&quot;, &quot;이주명&quot;, … &quot;한지혁&quot;]</td><td>5</td><td>&quot;파일럿&quot;</td><td>2024-07-31</td><td>15.7</td><td>3.4</td><td>30046075</td></tr><tr><td>&hellip;</td><td>&hellip;</td><td>&hellip;</td><td>&hellip;</td><td>&hellip;</td><td>&hellip;</td><td>&hellip;</td><td>&hellip;</td><td>&hellip;</td><td>&hellip;</td><td>&hellip;</td><td>&hellip;</td><td>&hellip;</td><td>&hellip;</td><td>&hellip;</td><td>&hellip;</td><td>&hellip;</td><td>&hellip;</td><td>&hellip;</td><td>&hellip;</td><td>&hellip;</td><td>&hellip;</td><td>&hellip;</td><td>&hellip;</td></tr><tr><td>null</td><td>null</td><td>null</td><td>null</td><td>null</td><td>null</td><td>null</td><td>null</td><td>null</td><td>null</td><td>null</td><td>null</td><td>null</td><td>null</td><td>null</td><td>null</td><td>null</td><td>null</td><td>706</td><td>&quot;MBTI E 정열섹스녀연주의첫경험&quot;</td><td>2024-01-29</td><td>0.7</td><td>0.0</td><td>140</td></tr><tr><td>null</td><td>null</td><td>null</td><td>null</td><td>null</td><td>null</td><td>null</td><td>null</td><td>null</td><td>null</td><td>null</td><td>null</td><td>null</td><td>null</td><td>null</td><td>null</td><td>null</td><td>null</td><td>706</td><td>&quot;새아들의 아이가 내 안에 자라고 있습니다&quot;</td><td>2024-05-04</td><td>1.2</td><td>0.0</td><td>83</td></tr><tr><td>null</td><td>null</td><td>null</td><td>null</td><td>null</td><td>null</td><td>null</td><td>null</td><td>null</td><td>null</td><td>null</td><td>null</td><td>null</td><td>null</td><td>null</td><td>null</td><td>null</td><td>null</td><td>706</td><td>&quot;기억상실증 각성시켜준 그놈 물건&quot;</td><td>2024-06-28</td><td>1.2</td><td>0.0</td><td>83</td></tr><tr><td>null</td><td>null</td><td>null</td><td>null</td><td>null</td><td>null</td><td>null</td><td>null</td><td>null</td><td>null</td><td>null</td><td>null</td><td>null</td><td>null</td><td>null</td><td>null</td><td>null</td><td>null</td><td>706</td><td>&quot;나는 시아버지의 아내가 되었다&quot;</td><td>2024-09-14</td><td>1.2</td><td>0.0</td><td>83</td></tr><tr><td>null</td><td>null</td><td>null</td><td>null</td><td>null</td><td>null</td><td>null</td><td>null</td><td>null</td><td>null</td><td>null</td><td>null</td><td>null</td><td>null</td><td>null</td><td>null</td><td>null</td><td>null</td><td>706</td><td>&quot;욕정 여상사의 회사생활&quot;</td><td>2024-01-09</td><td>1.2</td><td>0.0</td><td>83</td></tr></tbody></table></div>"
      ],
      "text/plain": [
       "shape: (4_138, 24)\n",
       "┌──────┬─────────────────┬────────────┬──────────────┬───┬─────────────┬────────────┬────────────┬──────────┐\n",
       "│ 순위 ┆ 영화명          ┆ 개봉일     ┆ 매출액       ┆ … ┆ 개봉일_좌석 ┆ 좌석판매율 ┆ 좌석점유율 ┆ 좌석수   │\n",
       "│ ---  ┆ ---             ┆ ---        ┆ ---          ┆   ┆ ---         ┆ ---        ┆ ---        ┆ ---      │\n",
       "│ i64  ┆ str             ┆ date       ┆ i64          ┆   ┆ date        ┆ f64        ┆ f64        ┆ i64      │\n",
       "╞══════╪═════════════════╪════════════╪══════════════╪═══╪═════════════╪════════════╪════════════╪══════════╡\n",
       "│ 1    ┆ 파묘            ┆ 2024-02-22 ┆ 115157490414 ┆ … ┆ 2024-02-22  ┆ 22.2       ┆ 6.1        ┆ 53450628 │\n",
       "│ 2    ┆ 범죄도시4       ┆ 2024-04-24 ┆ 110050000734 ┆ … ┆ 2024-04-24  ┆ 21.5       ┆ 6.0        ┆ 53350464 │\n",
       "│ 3    ┆ 인사이드 아웃 2 ┆ 2024-06-12 ┆ 84509284036  ┆ … ┆ 2024-06-12  ┆ 17.5       ┆ 5.7        ┆ 50018740 │\n",
       "│ 4    ┆ 베테랑2         ┆ 2024-09-13 ┆ 72474035814  ┆ … ┆ 2024-09-13  ┆ 18.3       ┆ 4.6        ┆ 40990441 │\n",
       "│ 5    ┆ 파일럿          ┆ 2024-07-31 ┆ 43204079201  ┆ … ┆ 2024-07-31  ┆ 15.7       ┆ 3.4        ┆ 30046075 │\n",
       "│ …    ┆ …               ┆ …          ┆ …            ┆ … ┆ …           ┆ …          ┆ …          ┆ …        │\n",
       "│ null ┆ null            ┆ null       ┆ null         ┆ … ┆ 2024-01-29  ┆ 0.7        ┆ 0.0        ┆ 140      │\n",
       "│ null ┆ null            ┆ null       ┆ null         ┆ … ┆ 2024-05-04  ┆ 1.2        ┆ 0.0        ┆ 83       │\n",
       "│ null ┆ null            ┆ null       ┆ null         ┆ … ┆ 2024-06-28  ┆ 1.2        ┆ 0.0        ┆ 83       │\n",
       "│ null ┆ null            ┆ null       ┆ null         ┆ … ┆ 2024-09-14  ┆ 1.2        ┆ 0.0        ┆ 83       │\n",
       "│ null ┆ null            ┆ null       ┆ null         ┆ … ┆ 2024-01-09  ┆ 1.2        ┆ 0.0        ┆ 83       │\n",
       "└──────┴─────────────────┴────────────┴──────────────┴───┴─────────────┴────────────┴────────────┴──────────┘"
      ]
     },
     "execution_count": 9,
     "metadata": {},
     "output_type": "execute_result"
    }
   ],
   "source": [
    "df_boxoffice.join(df_seat_rate, on = (['영화명', '개봉일']), how = \"full\", suffix = \"_좌석\")"
   ]
  },
  {
   "cell_type": "code",
   "execution_count": 10,
   "id": "229f15d0-32a4-4eb8-a621-2d001e4910ae",
   "metadata": {},
   "outputs": [
    {
     "data": {
      "text/html": [
       "<div><style>\n",
       ".dataframe > thead > tr,\n",
       ".dataframe > tbody > tr {\n",
       "  text-align: right;\n",
       "  white-space: pre-wrap;\n",
       "}\n",
       "</style>\n",
       "<small>shape: (597, 18)</small><table border=\"1\" class=\"dataframe\"><thead><tr><th>순위</th><th>영화명</th><th>개봉일</th><th>매출액</th><th>매출액점유율</th><th>누적매출액</th><th>관객수</th><th>누적관객수</th><th>스크린수</th><th>상영횟수</th><th>대표국적</th><th>국적</th><th>제작사</th><th>배급사</th><th>등급</th><th>장르</th><th>감독</th><th>배우</th></tr><tr><td>i64</td><td>str</td><td>date</td><td>i64</td><td>str</td><td>i64</td><td>i64</td><td>i64</td><td>i64</td><td>i64</td><td>str</td><td>str</td><td>str</td><td>str</td><td>str</td><td>list[str]</td><td>str</td><td>list[str]</td></tr></thead><tbody><tr><td>1</td><td>&quot;파묘&quot;</td><td>2024-02-22</td><td>115157490414</td><td>&quot;9.6%&quot;</td><td>115157490414</td><td>11914784</td><td>11914784</td><td>2367</td><td>364955</td><td>&quot;한국&quot;</td><td>&quot;한국&quot;</td><td>&quot;(주)쇼박스&quot;</td><td>&quot;(주)쇼박스&quot;</td><td>&quot;15세이상관람가&quot;</td><td>[&quot;미스터리&quot;, &quot;공포(호러)&quot;]</td><td>&quot;장재현&quot;</td><td>[&quot;최민식&quot;, &quot;김고은&quot;, … &quot;김하영&quot;]</td></tr><tr><td>2</td><td>&quot;범죄도시4&quot;</td><td>2024-04-24</td><td>110050000734</td><td>&quot;9.2%&quot;</td><td>110050000734</td><td>11502779</td><td>11502779</td><td>2980</td><td>375434</td><td>&quot;한국&quot;</td><td>&quot;한국&quot;</td><td>&quot;주식회사 빅펀치픽쳐스,(주)홍필름,(주)비에이엔터테인먼…</td><td>&quot;주식회사 에이비오엔터테인먼트,플러스엠 엔터테인먼트&quot;</td><td>&quot;15세이상관람가&quot;</td><td>[&quot;액션&quot;, &quot;범죄&quot;]</td><td>&quot;허명행&quot;</td><td>[&quot;김무열&quot;, &quot;박지환&quot;, … &quot;조석인&quot;]</td></tr><tr><td>3</td><td>&quot;인사이드 아웃 2&quot;</td><td>2024-06-12</td><td>84509284036</td><td>&quot;7.1%&quot;</td><td>84509284036</td><td>8799013</td><td>8799013</td><td>2619</td><td>331341</td><td>&quot;미국&quot;</td><td>&quot;미국&quot;</td><td>&quot;월트 디즈니 픽쳐스,픽사 애니메이션 스튜디오&quot;</td><td>&quot;월트디즈니컴퍼니코리아 유한책임회사&quot;</td><td>&quot;전체관람가&quot;</td><td>[&quot;애니메이션&quot;]</td><td>&quot;켈시 만&quot;</td><td>[&quot;에이미 포엘러&quot;, &quot;토니 헤일&quot;]</td></tr><tr><td>4</td><td>&quot;베테랑2&quot;</td><td>2024-09-13</td><td>72474035814</td><td>&quot;6.1%&quot;</td><td>72474035814</td><td>7525339</td><td>7525339</td><td>2691</td><td>279673</td><td>&quot;한국&quot;</td><td>&quot;한국&quot;</td><td>&quot;(주)외유내강&quot;</td><td>&quot;(주)씨제이이엔엠&quot;</td><td>&quot;15세이상관람가&quot;</td><td>[&quot;액션&quot;, &quot;범죄&quot;]</td><td>&quot;류승완&quot;</td><td>[&quot;황정민&quot;, &quot;정해인&quot;, … &quot;이상협&quot;]</td></tr><tr><td>5</td><td>&quot;파일럿&quot;</td><td>2024-07-31</td><td>43204079201</td><td>&quot;3.6%&quot;</td><td>43204079201</td><td>4718036</td><td>4718036</td><td>1956</td><td>203283</td><td>&quot;한국&quot;</td><td>&quot;한국&quot;</td><td>&quot;쇼트케이크(주),(주)무비락&quot;</td><td>&quot;롯데컬처웍스(주)롯데엔터테인먼트&quot;</td><td>&quot;12세이상관람가&quot;</td><td>[&quot;코미디&quot;]</td><td>&quot;김한결&quot;</td><td>[&quot;조정석&quot;, &quot;이주명&quot;, … &quot;한지혁&quot;]</td></tr><tr><td>&hellip;</td><td>&hellip;</td><td>&hellip;</td><td>&hellip;</td><td>&hellip;</td><td>&hellip;</td><td>&hellip;</td><td>&hellip;</td><td>&hellip;</td><td>&hellip;</td><td>&hellip;</td><td>&hellip;</td><td>&hellip;</td><td>&hellip;</td><td>&hellip;</td><td>&hellip;</td><td>&hellip;</td><td>&hellip;</td></tr><tr><td>3345</td><td>&quot;귀멸의 칼날: 주합회의·나비저택 편&quot;</td><td>2021-12-01</td><td>14000</td><td>&quot;0.0%&quot;</td><td>263633000</td><td>2</td><td>27688</td><td>1</td><td>1</td><td>&quot;일본&quot;</td><td>&quot;일본&quot;</td><td>null</td><td>&quot;(주)박수엔터테인먼트&quot;</td><td>&quot;15세이상관람가&quot;</td><td>[&quot;애니메이션&quot;]</td><td>&quot;소토자키 하루오&quot;</td><td>[&quot;하나에 나츠키&quot;, &quot;키토 아카리&quot;, … &quot;마츠오카 요시츠구&quot;]</td></tr><tr><td>3365</td><td>&quot;귀멸의 칼날: 남매의 연&quot;</td><td>2021-11-10</td><td>7000</td><td>&quot;0.0%&quot;</td><td>645556440</td><td>1</td><td>65537</td><td>1</td><td>1</td><td>&quot;일본&quot;</td><td>&quot;일본&quot;</td><td>null</td><td>&quot;(주)박수엔터테인먼트&quot;</td><td>&quot;15세이상관람가&quot;</td><td>[&quot;애니메이션&quot;]</td><td>&quot;소토자키 하루오&quot;</td><td>[&quot;하나에 나츠키&quot;, &quot;키토 아카리&quot;, … &quot;마츠오카 요시츠구&quot;]</td></tr><tr><td>3365</td><td>&quot;귀멸의 칼날: 아사쿠사 편&quot;</td><td>2022-08-25</td><td>7000</td><td>&quot;0.0%&quot;</td><td>231539500</td><td>1</td><td>22389</td><td>1</td><td>1</td><td>&quot;일본&quot;</td><td>&quot;일본&quot;</td><td>null</td><td>&quot;(주)박수엔터테인먼트&quot;</td><td>&quot;15세이상관람가&quot;</td><td>[&quot;애니메이션&quot;]</td><td>&quot;소토자키 하루오&quot;</td><td>null</td></tr><tr><td>3365</td><td>&quot;미미와 철수의 청춘스케치&quot;</td><td>1987-07-04</td><td>6000</td><td>&quot;0.0%&quot;</td><td>1067100</td><td>1</td><td>185</td><td>1</td><td>1</td><td>&quot;한국&quot;</td><td>&quot;한국&quot;</td><td>&quot;㈜단성시네마&quot;</td><td>null</td><td>&quot;중학생이상관람가&quot;</td><td>[&quot;드라마&quot;]</td><td>&quot;이규형&quot;</td><td>[&quot;강수연&quot;, &quot;최양락&quot;, … &quot;김세준&quot;]</td></tr><tr><td>3365</td><td>&quot;사채소년&quot;</td><td>2023-11-22</td><td>8000</td><td>&quot;0.0%&quot;</td><td>193797300</td><td>1</td><td>26149</td><td>1</td><td>2</td><td>&quot;한국&quot;</td><td>&quot;한국&quot;</td><td>&quot;(주)26컴퍼니&quot;</td><td>&quot;영화사빅&quot;</td><td>&quot;15세이상관람가&quot;</td><td>[&quot;액션&quot;, &quot;드라마&quot;]</td><td>&quot;황동석&quot;</td><td>[&quot;유선호&quot;, &quot;강미나&quot;, … &quot;양성준&quot;]</td></tr></tbody></table></div>"
      ],
      "text/plain": [
       "shape: (597, 18)\n",
       "┌──────┬─────────────────┬────────────┬──────────────┬───┬────────────────┬────────────────┬──────────┬────────────────┐\n",
       "│ 순위 ┆ 영화명          ┆ 개봉일     ┆ 매출액       ┆ … ┆ 등급           ┆ 장르           ┆ 감독     ┆ 배우           │\n",
       "│ ---  ┆ ---             ┆ ---        ┆ ---          ┆   ┆ ---            ┆ ---            ┆ ---      ┆ ---            │\n",
       "│ i64  ┆ str             ┆ date       ┆ i64          ┆   ┆ str            ┆ list[str]      ┆ str      ┆ list[str]      │\n",
       "╞══════╪═════════════════╪════════════╪══════════════╪═══╪════════════════╪════════════════╪══════════╪════════════════╡\n",
       "│ 1    ┆ 파묘            ┆ 2024-02-22 ┆ 115157490414 ┆ … ┆ 15세이상관람가 ┆ [\"미스터리\",   ┆ 장재현   ┆ [\"최민식\",     │\n",
       "│      ┆                 ┆            ┆              ┆   ┆                ┆ \"공포(호러)\"]  ┆          ┆ \"김고은\", …    │\n",
       "│      ┆                 ┆            ┆              ┆   ┆                ┆                ┆          ┆ \"김하영\"]      │\n",
       "│ 2    ┆ 범죄도시4       ┆ 2024-04-24 ┆ 110050000734 ┆ … ┆ 15세이상관람가 ┆ [\"액션\",       ┆ 허명행   ┆ [\"김무열\",     │\n",
       "│      ┆                 ┆            ┆              ┆   ┆                ┆ \"범죄\"]        ┆          ┆ \"박지환\", …    │\n",
       "│      ┆                 ┆            ┆              ┆   ┆                ┆                ┆          ┆ \"조석인\"]      │\n",
       "│ 3    ┆ 인사이드 아웃 2 ┆ 2024-06-12 ┆ 84509284036  ┆ … ┆ 전체관람가     ┆ [\"애니메이션\"] ┆ 켈시 만  ┆ [\"에이미       │\n",
       "│      ┆                 ┆            ┆              ┆   ┆                ┆                ┆          ┆ 포엘러\", \"토니 │\n",
       "│      ┆                 ┆            ┆              ┆   ┆                ┆                ┆          ┆ 헤일\"]         │\n",
       "│ 4    ┆ 베테랑2         ┆ 2024-09-13 ┆ 72474035814  ┆ … ┆ 15세이상관람가 ┆ [\"액션\",       ┆ 류승완   ┆ [\"황정민\",     │\n",
       "│      ┆                 ┆            ┆              ┆   ┆                ┆ \"범죄\"]        ┆          ┆ \"정해인\", …    │\n",
       "│      ┆                 ┆            ┆              ┆   ┆                ┆                ┆          ┆ \"이상협\"]      │\n",
       "│ 5    ┆ 파일럿          ┆ 2024-07-31 ┆ 43204079201  ┆ … ┆ 12세이상관람가 ┆ [\"코미디\"]     ┆ 김한결   ┆ [\"조정석\",     │\n",
       "│      ┆                 ┆            ┆              ┆   ┆                ┆                ┆          ┆ \"이주명\", …    │\n",
       "│      ┆                 ┆            ┆              ┆   ┆                ┆                ┆          ┆ \"한지혁\"]      │\n",
       "│ …    ┆ …               ┆ …          ┆ …            ┆ … ┆ …              ┆ …              ┆ …        ┆ …              │\n",
       "│ 3345 ┆ 귀멸의 칼날:    ┆ 2021-12-01 ┆ 14000        ┆ … ┆ 15세이상관람가 ┆ [\"애니메이션\"] ┆ 소토자키 ┆ [\"하나에       │\n",
       "│      ┆ 주합회의·나비저 ┆            ┆              ┆   ┆                ┆                ┆ 하루오   ┆ 나츠키\", \"키토 │\n",
       "│      ┆ 택 편           ┆            ┆              ┆   ┆                ┆                ┆          ┆ 아카리\", …     │\n",
       "│      ┆                 ┆            ┆              ┆   ┆                ┆                ┆          ┆ \"마츠오카 …    │\n",
       "│ 3365 ┆ 귀멸의 칼날:    ┆ 2021-11-10 ┆ 7000         ┆ … ┆ 15세이상관람가 ┆ [\"애니메이션\"] ┆ 소토자키 ┆ [\"하나에       │\n",
       "│      ┆ 남매의 연       ┆            ┆              ┆   ┆                ┆                ┆ 하루오   ┆ 나츠키\", \"키토 │\n",
       "│      ┆                 ┆            ┆              ┆   ┆                ┆                ┆          ┆ 아카리\", …     │\n",
       "│      ┆                 ┆            ┆              ┆   ┆                ┆                ┆          ┆ \"마츠오카 …    │\n",
       "│ 3365 ┆ 귀멸의 칼날:    ┆ 2022-08-25 ┆ 7000         ┆ … ┆ 15세이상관람가 ┆ [\"애니메이션\"] ┆ 소토자키 ┆ null           │\n",
       "│      ┆ 아사쿠사 편     ┆            ┆              ┆   ┆                ┆                ┆ 하루오   ┆                │\n",
       "│ 3365 ┆ 미미와 철수의   ┆ 1987-07-04 ┆ 6000         ┆ … ┆ 중학생이상관람 ┆ [\"드라마\"]     ┆ 이규형   ┆ [\"강수연\",     │\n",
       "│      ┆ 청춘스케치      ┆            ┆              ┆   ┆ 가             ┆                ┆          ┆ \"최양락\", …    │\n",
       "│      ┆                 ┆            ┆              ┆   ┆                ┆                ┆          ┆ \"김세준\"]      │\n",
       "│ 3365 ┆ 사채소년        ┆ 2023-11-22 ┆ 8000         ┆ … ┆ 15세이상관람가 ┆ [\"액션\",       ┆ 황동석   ┆ [\"유선호\",     │\n",
       "│      ┆                 ┆            ┆              ┆   ┆                ┆ \"드라마\"]      ┆          ┆ \"강미나\", …    │\n",
       "│      ┆                 ┆            ┆              ┆   ┆                ┆                ┆          ┆ \"양성준\"]      │\n",
       "└──────┴─────────────────┴────────────┴──────────────┴───┴────────────────┴────────────────┴──────────┴────────────────┘"
      ]
     },
     "execution_count": 10,
     "metadata": {},
     "output_type": "execute_result"
    }
   ],
   "source": [
    "df_boxoffice.join(df_seat_rate, on = (['영화명', '개봉일']), how = \"semi\")"
   ]
  },
  {
   "cell_type": "code",
   "execution_count": 11,
   "id": "75bfdcb3-ea68-489c-9253-a935ccd3cbd7",
   "metadata": {},
   "outputs": [
    {
     "data": {
      "text/html": [
       "<div><style>\n",
       ".dataframe > thead > tr,\n",
       ".dataframe > tbody > tr {\n",
       "  text-align: right;\n",
       "  white-space: pre-wrap;\n",
       "}\n",
       "</style>\n",
       "<small>shape: (2_671, 18)</small><table border=\"1\" class=\"dataframe\"><thead><tr><th>순위</th><th>영화명</th><th>개봉일</th><th>매출액</th><th>매출액점유율</th><th>누적매출액</th><th>관객수</th><th>누적관객수</th><th>스크린수</th><th>상영횟수</th><th>대표국적</th><th>국적</th><th>제작사</th><th>배급사</th><th>등급</th><th>장르</th><th>감독</th><th>배우</th></tr><tr><td>i64</td><td>str</td><td>date</td><td>i64</td><td>str</td><td>i64</td><td>i64</td><td>i64</td><td>i64</td><td>i64</td><td>str</td><td>str</td><td>str</td><td>str</td><td>str</td><td>list[str]</td><td>str</td><td>list[str]</td></tr></thead><tbody><tr><td>27</td><td>&quot;건국전쟁&quot;</td><td>2024-02-01</td><td>10906368514</td><td>&quot;0.9%&quot;</td><td>10906368514</td><td>1173927</td><td>1173927</td><td>956</td><td>49180</td><td>&quot;한국&quot;</td><td>&quot;한국&quot;</td><td>&quot;다큐스토리&quot;</td><td>&quot;다큐스토리&quot;</td><td>&quot;12세이상관람가&quot;</td><td>[&quot;다큐멘터리&quot;]</td><td>&quot;김덕영&quot;</td><td>null</td></tr><tr><td>52</td><td>&quot;남은 인생 10년&quot;</td><td>2023-05-24</td><td>4252407808</td><td>&quot;0.4%&quot;</td><td>5721326408</td><td>425196</td><td>562828</td><td>529</td><td>25826</td><td>&quot;일본&quot;</td><td>&quot;일본&quot;</td><td>null</td><td>&quot;(주)바이포엠스튜디오,(주)디스테이션&quot;</td><td>&quot;12세이상관람가&quot;</td><td>[&quot;멜로/로맨스&quot;]</td><td>&quot;후지이 미치히토&quot;</td><td>[&quot;고마츠 나나&quot;, &quot;사카구치 켄타로&quot;, … &quot;릴리 프랭키&quot;]</td></tr><tr><td>56</td><td>&quot;소풍&quot;</td><td>2024-02-07</td><td>3207715943</td><td>&quot;0.3%&quot;</td><td>3207715943</td><td>363932</td><td>363932</td><td>729</td><td>24674</td><td>&quot;한국&quot;</td><td>&quot;한국&quot;</td><td>&quot;(주)로케트필름&quot;</td><td>&quot;롯데컬처웍스(주)롯데엔터테인먼트&quot;</td><td>&quot;12세이상관람가&quot;</td><td>[&quot;드라마&quot;]</td><td>&quot;김용균&quot;</td><td>[&quot;나문희&quot;, &quot;김영옥&quot;, … &quot;성병숙&quot;]</td></tr><tr><td>69</td><td>&quot;비긴 어게인&quot;</td><td>2014-08-13</td><td>2125870640</td><td>&quot;0.2%&quot;</td><td>29573469671</td><td>231811</td><td>3712315</td><td>475</td><td>16506</td><td>&quot;미국&quot;</td><td>&quot;미국&quot;</td><td>null</td><td>&quot;판씨네마(주)&quot;</td><td>&quot;15세이상관람가&quot;</td><td>[&quot;멜로/로맨스&quot;]</td><td>&quot;존 카니&quot;</td><td>[&quot;키이라 나이틀리&quot;, &quot;마크 러팔로&quot;, … &quot;캐서린 키너&quot;]</td></tr><tr><td>71</td><td>&quot;소년시절의 너&quot;</td><td>2020-07-09</td><td>2027736150</td><td>&quot;0.2%&quot;</td><td>2704847980</td><td>212185</td><td>292798</td><td>467</td><td>14450</td><td>&quot;중국&quot;</td><td>&quot;중국&quot;</td><td>null</td><td>&quot;(주)바이포엠스튜디오,(주)영화특별시에스엠씨,(주)콘텐…</td><td>&quot;15세이상관람가&quot;</td><td>[&quot;멜로/로맨스&quot;, &quot;드라마&quot;, … &quot;가족&quot;]</td><td>&quot;증국상&quot;</td><td>[&quot;주동우&quot;]</td></tr><tr><td>&hellip;</td><td>&hellip;</td><td>&hellip;</td><td>&hellip;</td><td>&hellip;</td><td>&hellip;</td><td>&hellip;</td><td>&hellip;</td><td>&hellip;</td><td>&hellip;</td><td>&hellip;</td><td>&hellip;</td><td>&hellip;</td><td>&hellip;</td><td>&hellip;</td><td>&hellip;</td><td>&hellip;</td><td>&hellip;</td></tr><tr><td>3365</td><td>&quot;평평남녀&quot;</td><td>2022-04-28</td><td>8000</td><td>&quot;0.0%&quot;</td><td>11582200</td><td>1</td><td>1317</td><td>1</td><td>1</td><td>&quot;한국&quot;</td><td>&quot;한국&quot;</td><td>&quot;브릿지 프로덕션,냉이영화&quot;</td><td>&quot;영화배급협동조합 씨네소파&quot;</td><td>&quot;12세이상관람가&quot;</td><td>[&quot;드라마&quot;, &quot;멜로/로맨스&quot;]</td><td>&quot;김수정&quot;</td><td>[&quot;이태경&quot;, &quot;이한주&quot;, … &quot;박종환&quot;]</td></tr><tr><td>3365</td><td>&quot;한 남자&quot;</td><td>2023-08-30</td><td>10000</td><td>&quot;0.0%&quot;</td><td>139270250</td><td>1</td><td>15939</td><td>1</td><td>1</td><td>&quot;일본&quot;</td><td>&quot;일본&quot;</td><td>null</td><td>&quot;트윈플러스파트너스(주)&quot;</td><td>&quot;12세이상관람가&quot;</td><td>[&quot;범죄&quot;, &quot;멜로/로맨스&quot;, &quot;스릴러&quot;]</td><td>&quot;이시카와 케이&quot;</td><td>[&quot;츠마부키 사토시&quot;, &quot;안도 사쿠라&quot;]</td></tr><tr><td>3365</td><td>&quot;헝거&quot;</td><td>2022-04-21</td><td>3000</td><td>&quot;0.0%&quot;</td><td>6007060</td><td>1</td><td>778</td><td>1</td><td>1</td><td>&quot;한국&quot;</td><td>&quot;한국&quot;</td><td>&quot;영화사 케디필름&quot;</td><td>&quot;(주)디오시네마,(주)태양미디어그룹&quot;</td><td>&quot;12세이상관람가&quot;</td><td>[&quot;SF&quot;, &quot;드라마&quot;]</td><td>&quot;강다연&quot;</td><td>[&quot;김유나&quot;, &quot;최윤우&quot;, … &quot;조은강&quot;]</td></tr><tr><td>3365</td><td>&quot;호피와 차돌바위&quot;</td><td>null</td><td>8000</td><td>&quot;0.0%&quot;</td><td>28000</td><td>1</td><td>4</td><td>1</td><td>1</td><td>&quot;한국&quot;</td><td>&quot;한국&quot;</td><td>null</td><td>null</td><td>null</td><td>[&quot;애니메이션&quot;]</td><td>&quot;신동헌&quot;</td><td>null</td></tr><tr><td>3365</td><td>&quot;희수&quot;</td><td>2022-12-15</td><td>5000</td><td>&quot;0.0%&quot;</td><td>4795500</td><td>1</td><td>617</td><td>1</td><td>1</td><td>&quot;한국&quot;</td><td>&quot;한국&quot;</td><td>&quot;영화사 정원&quot;</td><td>&quot;영화사 정원&quot;</td><td>&quot;12세이상관람가&quot;</td><td>[&quot;드라마&quot;]</td><td>&quot;감정원&quot;</td><td>[&quot;공민정&quot;]</td></tr></tbody></table></div>"
      ],
      "text/plain": [
       "shape: (2_671, 18)\n",
       "┌──────┬────────────────┬────────────┬─────────────┬───┬───────────────┬───────────────┬───────────────┬───────────────┐\n",
       "│ 순위 ┆ 영화명         ┆ 개봉일     ┆ 매출액      ┆ … ┆ 등급          ┆ 장르          ┆ 감독          ┆ 배우          │\n",
       "│ ---  ┆ ---            ┆ ---        ┆ ---         ┆   ┆ ---           ┆ ---           ┆ ---           ┆ ---           │\n",
       "│ i64  ┆ str            ┆ date       ┆ i64         ┆   ┆ str           ┆ list[str]     ┆ str           ┆ list[str]     │\n",
       "╞══════╪════════════════╪════════════╪═════════════╪═══╪═══════════════╪═══════════════╪═══════════════╪═══════════════╡\n",
       "│ 27   ┆ 건국전쟁       ┆ 2024-02-01 ┆ 10906368514 ┆ … ┆ 12세이상관람  ┆ [\"다큐멘터리\" ┆ 김덕영        ┆ null          │\n",
       "│      ┆                ┆            ┆             ┆   ┆ 가            ┆ ]             ┆               ┆               │\n",
       "│ 52   ┆ 남은 인생 10년 ┆ 2023-05-24 ┆ 4252407808  ┆ … ┆ 12세이상관람  ┆ [\"멜로/로맨스 ┆ 후지이        ┆ [\"고마츠      │\n",
       "│      ┆                ┆            ┆             ┆   ┆ 가            ┆ \"]            ┆ 미치히토      ┆ 나나\",        │\n",
       "│      ┆                ┆            ┆             ┆   ┆               ┆               ┆               ┆ \"사카구치     │\n",
       "│      ┆                ┆            ┆             ┆   ┆               ┆               ┆               ┆ 켄타로\", …    │\n",
       "│      ┆                ┆            ┆             ┆   ┆               ┆               ┆               ┆ \"릴리 프…     │\n",
       "│ 56   ┆ 소풍           ┆ 2024-02-07 ┆ 3207715943  ┆ … ┆ 12세이상관람  ┆ [\"드라마\"]    ┆ 김용균        ┆ [\"나문희\",    │\n",
       "│      ┆                ┆            ┆             ┆   ┆ 가            ┆               ┆               ┆ \"김영옥\", …   │\n",
       "│      ┆                ┆            ┆             ┆   ┆               ┆               ┆               ┆ \"성병숙\"]     │\n",
       "│ 69   ┆ 비긴 어게인    ┆ 2014-08-13 ┆ 2125870640  ┆ … ┆ 15세이상관람  ┆ [\"멜로/로맨스 ┆ 존 카니       ┆ [\"키이라      │\n",
       "│      ┆                ┆            ┆             ┆   ┆ 가            ┆ \"]            ┆               ┆ 나이틀리\",    │\n",
       "│      ┆                ┆            ┆             ┆   ┆               ┆               ┆               ┆ \"마크         │\n",
       "│      ┆                ┆            ┆             ┆   ┆               ┆               ┆               ┆ 러팔로\", …    │\n",
       "│      ┆                ┆            ┆             ┆   ┆               ┆               ┆               ┆ \"캐서린 …     │\n",
       "│ 71   ┆ 소년시절의 너  ┆ 2020-07-09 ┆ 2027736150  ┆ … ┆ 15세이상관람  ┆ [\"멜로/로맨스 ┆ 증국상        ┆ [\"주동우\"]    │\n",
       "│      ┆                ┆            ┆             ┆   ┆ 가            ┆ \", \"드라마\",  ┆               ┆               │\n",
       "│      ┆                ┆            ┆             ┆   ┆               ┆ … \"가족\"]     ┆               ┆               │\n",
       "│ …    ┆ …              ┆ …          ┆ …           ┆ … ┆ …             ┆ …             ┆ …             ┆ …             │\n",
       "│ 3365 ┆ 평평남녀       ┆ 2022-04-28 ┆ 8000        ┆ … ┆ 12세이상관람  ┆ [\"드라마\",    ┆ 김수정        ┆ [\"이태경\",    │\n",
       "│      ┆                ┆            ┆             ┆   ┆ 가            ┆ \"멜로/로맨스\" ┆               ┆ \"이한주\", …   │\n",
       "│      ┆                ┆            ┆             ┆   ┆               ┆ ]             ┆               ┆ \"박종환\"]     │\n",
       "│ 3365 ┆ 한 남자        ┆ 2023-08-30 ┆ 10000       ┆ … ┆ 12세이상관람  ┆ [\"범죄\", \"멜  ┆ 이시카와 케이 ┆ [\"츠마부키    │\n",
       "│      ┆                ┆            ┆             ┆   ┆ 가            ┆ 로/로맨스\",   ┆               ┆ 사토시\",      │\n",
       "│      ┆                ┆            ┆             ┆   ┆               ┆ \"스릴러\"]     ┆               ┆ \"안도         │\n",
       "│      ┆                ┆            ┆             ┆   ┆               ┆               ┆               ┆ 사쿠라\"]      │\n",
       "│ 3365 ┆ 헝거           ┆ 2022-04-21 ┆ 3000        ┆ … ┆ 12세이상관람  ┆ [\"SF\",        ┆ 강다연        ┆ [\"김유나\",    │\n",
       "│      ┆                ┆            ┆             ┆   ┆ 가            ┆ \"드라마\"]     ┆               ┆ \"최윤우\", …   │\n",
       "│      ┆                ┆            ┆             ┆   ┆               ┆               ┆               ┆ \"조은강\"]     │\n",
       "│ 3365 ┆ 호피와         ┆ null       ┆ 8000        ┆ … ┆ null          ┆ [\"애니메이션\" ┆ 신동헌        ┆ null          │\n",
       "│      ┆ 차돌바위       ┆            ┆             ┆   ┆               ┆ ]             ┆               ┆               │\n",
       "│ 3365 ┆ 희수           ┆ 2022-12-15 ┆ 5000        ┆ … ┆ 12세이상관람  ┆ [\"드라마\"]    ┆ 감정원        ┆ [\"공민정\"]    │\n",
       "│      ┆                ┆            ┆             ┆   ┆ 가            ┆               ┆               ┆               │\n",
       "└──────┴────────────────┴────────────┴─────────────┴───┴───────────────┴───────────────┴───────────────┴───────────────┘"
      ]
     },
     "execution_count": 11,
     "metadata": {},
     "output_type": "execute_result"
    }
   ],
   "source": [
    "df_boxoffice.join(df_seat_rate, on = (['영화명', '개봉일']), how = \"anti\")"
   ]
  },
  {
   "cell_type": "code",
   "execution_count": 12,
   "id": "f73a5231-1085-4a8a-8215-1e8d2f25edc0",
   "metadata": {},
   "outputs": [
    {
     "data": {
      "text/html": [
       "<div><style>\n",
       ".dataframe > thead > tr,\n",
       ".dataframe > tbody > tr {\n",
       "  text-align: right;\n",
       "  white-space: pre-wrap;\n",
       "}\n",
       "</style>\n",
       "<small>shape: (4_794_156, 24)</small><table border=\"1\" class=\"dataframe\"><thead><tr><th>순위</th><th>영화명</th><th>개봉일</th><th>매출액</th><th>매출액점유율</th><th>누적매출액</th><th>관객수</th><th>누적관객수</th><th>스크린수</th><th>상영횟수</th><th>대표국적</th><th>국적</th><th>제작사</th><th>배급사</th><th>등급</th><th>장르</th><th>감독</th><th>배우</th><th>순위_좌석</th><th>영화명_좌석</th><th>개봉일_좌석</th><th>좌석판매율</th><th>좌석점유율</th><th>좌석수</th></tr><tr><td>i64</td><td>str</td><td>date</td><td>i64</td><td>str</td><td>i64</td><td>i64</td><td>i64</td><td>i64</td><td>i64</td><td>str</td><td>str</td><td>str</td><td>str</td><td>str</td><td>list[str]</td><td>str</td><td>list[str]</td><td>i64</td><td>str</td><td>date</td><td>f64</td><td>f64</td><td>i64</td></tr></thead><tbody><tr><td>1</td><td>&quot;파묘&quot;</td><td>2024-02-22</td><td>115157490414</td><td>&quot;9.6%&quot;</td><td>115157490414</td><td>11914784</td><td>11914784</td><td>2367</td><td>364955</td><td>&quot;한국&quot;</td><td>&quot;한국&quot;</td><td>&quot;(주)쇼박스&quot;</td><td>&quot;(주)쇼박스&quot;</td><td>&quot;15세이상관람가&quot;</td><td>[&quot;미스터리&quot;, &quot;공포(호러)&quot;]</td><td>&quot;장재현&quot;</td><td>[&quot;최민식&quot;, &quot;김고은&quot;, … &quot;김하영&quot;]</td><td>1</td><td>&quot;파묘&quot;</td><td>2024-02-22</td><td>22.2</td><td>6.1</td><td>53450628</td></tr><tr><td>1</td><td>&quot;파묘&quot;</td><td>2024-02-22</td><td>115157490414</td><td>&quot;9.6%&quot;</td><td>115157490414</td><td>11914784</td><td>11914784</td><td>2367</td><td>364955</td><td>&quot;한국&quot;</td><td>&quot;한국&quot;</td><td>&quot;(주)쇼박스&quot;</td><td>&quot;(주)쇼박스&quot;</td><td>&quot;15세이상관람가&quot;</td><td>[&quot;미스터리&quot;, &quot;공포(호러)&quot;]</td><td>&quot;장재현&quot;</td><td>[&quot;최민식&quot;, &quot;김고은&quot;, … &quot;김하영&quot;]</td><td>2</td><td>&quot;범죄도시4&quot;</td><td>2024-04-24</td><td>21.5</td><td>6.0</td><td>53350464</td></tr><tr><td>1</td><td>&quot;파묘&quot;</td><td>2024-02-22</td><td>115157490414</td><td>&quot;9.6%&quot;</td><td>115157490414</td><td>11914784</td><td>11914784</td><td>2367</td><td>364955</td><td>&quot;한국&quot;</td><td>&quot;한국&quot;</td><td>&quot;(주)쇼박스&quot;</td><td>&quot;(주)쇼박스&quot;</td><td>&quot;15세이상관람가&quot;</td><td>[&quot;미스터리&quot;, &quot;공포(호러)&quot;]</td><td>&quot;장재현&quot;</td><td>[&quot;최민식&quot;, &quot;김고은&quot;, … &quot;김하영&quot;]</td><td>3</td><td>&quot;인사이드 아웃 2&quot;</td><td>2024-06-12</td><td>17.5</td><td>5.7</td><td>50018740</td></tr><tr><td>1</td><td>&quot;파묘&quot;</td><td>2024-02-22</td><td>115157490414</td><td>&quot;9.6%&quot;</td><td>115157490414</td><td>11914784</td><td>11914784</td><td>2367</td><td>364955</td><td>&quot;한국&quot;</td><td>&quot;한국&quot;</td><td>&quot;(주)쇼박스&quot;</td><td>&quot;(주)쇼박스&quot;</td><td>&quot;15세이상관람가&quot;</td><td>[&quot;미스터리&quot;, &quot;공포(호러)&quot;]</td><td>&quot;장재현&quot;</td><td>[&quot;최민식&quot;, &quot;김고은&quot;, … &quot;김하영&quot;]</td><td>4</td><td>&quot;베테랑2&quot;</td><td>2024-09-13</td><td>18.3</td><td>4.6</td><td>40990441</td></tr><tr><td>1</td><td>&quot;파묘&quot;</td><td>2024-02-22</td><td>115157490414</td><td>&quot;9.6%&quot;</td><td>115157490414</td><td>11914784</td><td>11914784</td><td>2367</td><td>364955</td><td>&quot;한국&quot;</td><td>&quot;한국&quot;</td><td>&quot;(주)쇼박스&quot;</td><td>&quot;(주)쇼박스&quot;</td><td>&quot;15세이상관람가&quot;</td><td>[&quot;미스터리&quot;, &quot;공포(호러)&quot;]</td><td>&quot;장재현&quot;</td><td>[&quot;최민식&quot;, &quot;김고은&quot;, … &quot;김하영&quot;]</td><td>5</td><td>&quot;파일럿&quot;</td><td>2024-07-31</td><td>15.7</td><td>3.4</td><td>30046075</td></tr><tr><td>&hellip;</td><td>&hellip;</td><td>&hellip;</td><td>&hellip;</td><td>&hellip;</td><td>&hellip;</td><td>&hellip;</td><td>&hellip;</td><td>&hellip;</td><td>&hellip;</td><td>&hellip;</td><td>&hellip;</td><td>&hellip;</td><td>&hellip;</td><td>&hellip;</td><td>&hellip;</td><td>&hellip;</td><td>&hellip;</td><td>&hellip;</td><td>&hellip;</td><td>&hellip;</td><td>&hellip;</td><td>&hellip;</td><td>&hellip;</td></tr><tr><td>3365</td><td>&quot;희수&quot;</td><td>2022-12-15</td><td>5000</td><td>&quot;0.0%&quot;</td><td>4795500</td><td>1</td><td>617</td><td>1</td><td>1</td><td>&quot;한국&quot;</td><td>&quot;한국&quot;</td><td>&quot;영화사 정원&quot;</td><td>&quot;영화사 정원&quot;</td><td>&quot;12세이상관람가&quot;</td><td>[&quot;드라마&quot;]</td><td>&quot;감정원&quot;</td><td>[&quot;공민정&quot;]</td><td>1438</td><td>&quot;파이란&quot;</td><td>2001-04-28</td><td>0.0</td><td>0.0</td><td>424</td></tr><tr><td>3365</td><td>&quot;희수&quot;</td><td>2022-12-15</td><td>5000</td><td>&quot;0.0%&quot;</td><td>4795500</td><td>1</td><td>617</td><td>1</td><td>1</td><td>&quot;한국&quot;</td><td>&quot;한국&quot;</td><td>&quot;영화사 정원&quot;</td><td>&quot;영화사 정원&quot;</td><td>&quot;12세이상관람가&quot;</td><td>[&quot;드라마&quot;]</td><td>&quot;감정원&quot;</td><td>[&quot;공민정&quot;]</td><td>1438</td><td>&quot;퍼펙트 게임&quot;</td><td>2011-12-21</td><td>0.0</td><td>0.0</td><td>212</td></tr><tr><td>3365</td><td>&quot;희수&quot;</td><td>2022-12-15</td><td>5000</td><td>&quot;0.0%&quot;</td><td>4795500</td><td>1</td><td>617</td><td>1</td><td>1</td><td>&quot;한국&quot;</td><td>&quot;한국&quot;</td><td>&quot;영화사 정원&quot;</td><td>&quot;영화사 정원&quot;</td><td>&quot;12세이상관람가&quot;</td><td>[&quot;드라마&quot;]</td><td>&quot;감정원&quot;</td><td>[&quot;공민정&quot;]</td><td>1438</td><td>&quot;해가 서쪽에서 뜬다면&quot;</td><td>1998-12-19</td><td>0.0</td><td>0.0</td><td>212</td></tr><tr><td>3365</td><td>&quot;희수&quot;</td><td>2022-12-15</td><td>5000</td><td>&quot;0.0%&quot;</td><td>4795500</td><td>1</td><td>617</td><td>1</td><td>1</td><td>&quot;한국&quot;</td><td>&quot;한국&quot;</td><td>&quot;영화사 정원&quot;</td><td>&quot;영화사 정원&quot;</td><td>&quot;12세이상관람가&quot;</td><td>[&quot;드라마&quot;]</td><td>&quot;감정원&quot;</td><td>[&quot;공민정&quot;]</td><td>1438</td><td>&quot;헌트&quot;</td><td>2022-08-10</td><td>0.0</td><td>0.0</td><td>142</td></tr><tr><td>3365</td><td>&quot;희수&quot;</td><td>2022-12-15</td><td>5000</td><td>&quot;0.0%&quot;</td><td>4795500</td><td>1</td><td>617</td><td>1</td><td>1</td><td>&quot;한국&quot;</td><td>&quot;한국&quot;</td><td>&quot;영화사 정원&quot;</td><td>&quot;영화사 정원&quot;</td><td>&quot;12세이상관람가&quot;</td><td>[&quot;드라마&quot;]</td><td>&quot;감정원&quot;</td><td>[&quot;공민정&quot;]</td><td>1438</td><td>&quot;황산벌&quot;</td><td>2003-10-17</td><td>0.0</td><td>0.0</td><td>424</td></tr></tbody></table></div>"
      ],
      "text/plain": [
       "shape: (4_794_156, 24)\n",
       "┌──────┬────────┬────────────┬──────────────┬───┬─────────────┬────────────┬────────────┬──────────┐\n",
       "│ 순위 ┆ 영화명 ┆ 개봉일     ┆ 매출액       ┆ … ┆ 개봉일_좌석 ┆ 좌석판매율 ┆ 좌석점유율 ┆ 좌석수   │\n",
       "│ ---  ┆ ---    ┆ ---        ┆ ---          ┆   ┆ ---         ┆ ---        ┆ ---        ┆ ---      │\n",
       "│ i64  ┆ str    ┆ date       ┆ i64          ┆   ┆ date        ┆ f64        ┆ f64        ┆ i64      │\n",
       "╞══════╪════════╪════════════╪══════════════╪═══╪═════════════╪════════════╪════════════╪══════════╡\n",
       "│ 1    ┆ 파묘   ┆ 2024-02-22 ┆ 115157490414 ┆ … ┆ 2024-02-22  ┆ 22.2       ┆ 6.1        ┆ 53450628 │\n",
       "│ 1    ┆ 파묘   ┆ 2024-02-22 ┆ 115157490414 ┆ … ┆ 2024-04-24  ┆ 21.5       ┆ 6.0        ┆ 53350464 │\n",
       "│ 1    ┆ 파묘   ┆ 2024-02-22 ┆ 115157490414 ┆ … ┆ 2024-06-12  ┆ 17.5       ┆ 5.7        ┆ 50018740 │\n",
       "│ 1    ┆ 파묘   ┆ 2024-02-22 ┆ 115157490414 ┆ … ┆ 2024-09-13  ┆ 18.3       ┆ 4.6        ┆ 40990441 │\n",
       "│ 1    ┆ 파묘   ┆ 2024-02-22 ┆ 115157490414 ┆ … ┆ 2024-07-31  ┆ 15.7       ┆ 3.4        ┆ 30046075 │\n",
       "│ …    ┆ …      ┆ …          ┆ …            ┆ … ┆ …           ┆ …          ┆ …          ┆ …        │\n",
       "│ 3365 ┆ 희수   ┆ 2022-12-15 ┆ 5000         ┆ … ┆ 2001-04-28  ┆ 0.0        ┆ 0.0        ┆ 424      │\n",
       "│ 3365 ┆ 희수   ┆ 2022-12-15 ┆ 5000         ┆ … ┆ 2011-12-21  ┆ 0.0        ┆ 0.0        ┆ 212      │\n",
       "│ 3365 ┆ 희수   ┆ 2022-12-15 ┆ 5000         ┆ … ┆ 1998-12-19  ┆ 0.0        ┆ 0.0        ┆ 212      │\n",
       "│ 3365 ┆ 희수   ┆ 2022-12-15 ┆ 5000         ┆ … ┆ 2022-08-10  ┆ 0.0        ┆ 0.0        ┆ 142      │\n",
       "│ 3365 ┆ 희수   ┆ 2022-12-15 ┆ 5000         ┆ … ┆ 2003-10-17  ┆ 0.0        ┆ 0.0        ┆ 424      │\n",
       "└──────┴────────┴────────────┴──────────────┴───┴─────────────┴────────────┴────────────┴──────────┘"
      ]
     },
     "execution_count": 12,
     "metadata": {},
     "output_type": "execute_result"
    }
   ],
   "source": [
    "df_boxoffice.join(df_seat_rate, how = \"cross\", suffix = \"_좌석\")"
   ]
  },
  {
   "cell_type": "code",
   "execution_count": 13,
   "id": "89a42802-4f81-47b7-ad01-e3d47e03931e",
   "metadata": {},
   "outputs": [
    {
     "data": {
      "text/html": [
       "<div><style>\n",
       ".dataframe > thead > tr,\n",
       ".dataframe > tbody > tr {\n",
       "  text-align: right;\n",
       "  white-space: pre-wrap;\n",
       "}\n",
       "</style>\n",
       "<small>shape: (803_366, 24)</small><table border=\"1\" class=\"dataframe\"><thead><tr><th>순위</th><th>영화명</th><th>개봉일</th><th>매출액</th><th>매출액점유율</th><th>누적매출액</th><th>관객수</th><th>누적관객수</th><th>스크린수</th><th>상영횟수</th><th>대표국적</th><th>국적</th><th>제작사</th><th>배급사</th><th>등급</th><th>장르</th><th>감독</th><th>배우</th><th>순위_좌석</th><th>영화명_좌석</th><th>개봉일_좌석</th><th>좌석판매율</th><th>좌석점유율</th><th>좌석수</th></tr><tr><td>i64</td><td>str</td><td>date</td><td>i64</td><td>str</td><td>i64</td><td>i64</td><td>i64</td><td>i64</td><td>i64</td><td>str</td><td>str</td><td>str</td><td>str</td><td>str</td><td>list[str]</td><td>str</td><td>list[str]</td><td>i64</td><td>str</td><td>date</td><td>f64</td><td>f64</td><td>i64</td></tr></thead><tbody><tr><td>1</td><td>&quot;파묘&quot;</td><td>2024-02-22</td><td>115157490414</td><td>&quot;9.6%&quot;</td><td>115157490414</td><td>11914784</td><td>11914784</td><td>2367</td><td>364955</td><td>&quot;한국&quot;</td><td>&quot;한국&quot;</td><td>&quot;(주)쇼박스&quot;</td><td>&quot;(주)쇼박스&quot;</td><td>&quot;15세이상관람가&quot;</td><td>[&quot;미스터리&quot;, &quot;공포(호러)&quot;]</td><td>&quot;장재현&quot;</td><td>[&quot;최민식&quot;, &quot;김고은&quot;, … &quot;김하영&quot;]</td><td>2</td><td>&quot;범죄도시4&quot;</td><td>2024-04-24</td><td>21.5</td><td>6.0</td><td>53350464</td></tr><tr><td>1</td><td>&quot;파묘&quot;</td><td>2024-02-22</td><td>115157490414</td><td>&quot;9.6%&quot;</td><td>115157490414</td><td>11914784</td><td>11914784</td><td>2367</td><td>364955</td><td>&quot;한국&quot;</td><td>&quot;한국&quot;</td><td>&quot;(주)쇼박스&quot;</td><td>&quot;(주)쇼박스&quot;</td><td>&quot;15세이상관람가&quot;</td><td>[&quot;미스터리&quot;, &quot;공포(호러)&quot;]</td><td>&quot;장재현&quot;</td><td>[&quot;최민식&quot;, &quot;김고은&quot;, … &quot;김하영&quot;]</td><td>3</td><td>&quot;인사이드 아웃 2&quot;</td><td>2024-06-12</td><td>17.5</td><td>5.7</td><td>50018740</td></tr><tr><td>1</td><td>&quot;파묘&quot;</td><td>2024-02-22</td><td>115157490414</td><td>&quot;9.6%&quot;</td><td>115157490414</td><td>11914784</td><td>11914784</td><td>2367</td><td>364955</td><td>&quot;한국&quot;</td><td>&quot;한국&quot;</td><td>&quot;(주)쇼박스&quot;</td><td>&quot;(주)쇼박스&quot;</td><td>&quot;15세이상관람가&quot;</td><td>[&quot;미스터리&quot;, &quot;공포(호러)&quot;]</td><td>&quot;장재현&quot;</td><td>[&quot;최민식&quot;, &quot;김고은&quot;, … &quot;김하영&quot;]</td><td>4</td><td>&quot;베테랑2&quot;</td><td>2024-09-13</td><td>18.3</td><td>4.6</td><td>40990441</td></tr><tr><td>1</td><td>&quot;파묘&quot;</td><td>2024-02-22</td><td>115157490414</td><td>&quot;9.6%&quot;</td><td>115157490414</td><td>11914784</td><td>11914784</td><td>2367</td><td>364955</td><td>&quot;한국&quot;</td><td>&quot;한국&quot;</td><td>&quot;(주)쇼박스&quot;</td><td>&quot;(주)쇼박스&quot;</td><td>&quot;15세이상관람가&quot;</td><td>[&quot;미스터리&quot;, &quot;공포(호러)&quot;]</td><td>&quot;장재현&quot;</td><td>[&quot;최민식&quot;, &quot;김고은&quot;, … &quot;김하영&quot;]</td><td>5</td><td>&quot;파일럿&quot;</td><td>2024-07-31</td><td>15.7</td><td>3.4</td><td>30046075</td></tr><tr><td>1</td><td>&quot;파묘&quot;</td><td>2024-02-22</td><td>115157490414</td><td>&quot;9.6%&quot;</td><td>115157490414</td><td>11914784</td><td>11914784</td><td>2367</td><td>364955</td><td>&quot;한국&quot;</td><td>&quot;한국&quot;</td><td>&quot;(주)쇼박스&quot;</td><td>&quot;(주)쇼박스&quot;</td><td>&quot;15세이상관람가&quot;</td><td>[&quot;미스터리&quot;, &quot;공포(호러)&quot;]</td><td>&quot;장재현&quot;</td><td>[&quot;최민식&quot;, &quot;김고은&quot;, … &quot;김하영&quot;]</td><td>6</td><td>&quot;웡카&quot;</td><td>2024-01-31</td><td>15.2</td><td>2.6</td><td>23091829</td></tr><tr><td>&hellip;</td><td>&hellip;</td><td>&hellip;</td><td>&hellip;</td><td>&hellip;</td><td>&hellip;</td><td>&hellip;</td><td>&hellip;</td><td>&hellip;</td><td>&hellip;</td><td>&hellip;</td><td>&hellip;</td><td>&hellip;</td><td>&hellip;</td><td>&hellip;</td><td>&hellip;</td><td>&hellip;</td><td>&hellip;</td><td>&hellip;</td><td>&hellip;</td><td>&hellip;</td><td>&hellip;</td><td>&hellip;</td><td>&hellip;</td></tr><tr><td>1433</td><td>&quot;퍼펙트슛&quot;</td><td>null</td><td>910000</td><td>&quot;0.0%&quot;</td><td>910000</td><td>182</td><td>182</td><td>1</td><td>2</td><td>&quot;한국&quot;</td><td>&quot;한국&quot;</td><td>null</td><td>null</td><td>null</td><td>[&quot;기타&quot;]</td><td>null</td><td>null</td><td>1438</td><td>&quot;파이란&quot;</td><td>2001-04-28</td><td>0.0</td><td>0.0</td><td>424</td></tr><tr><td>1433</td><td>&quot;퍼펙트슛&quot;</td><td>null</td><td>910000</td><td>&quot;0.0%&quot;</td><td>910000</td><td>182</td><td>182</td><td>1</td><td>2</td><td>&quot;한국&quot;</td><td>&quot;한국&quot;</td><td>null</td><td>null</td><td>null</td><td>[&quot;기타&quot;]</td><td>null</td><td>null</td><td>1438</td><td>&quot;퍼펙트 게임&quot;</td><td>2011-12-21</td><td>0.0</td><td>0.0</td><td>212</td></tr><tr><td>1433</td><td>&quot;퍼펙트슛&quot;</td><td>null</td><td>910000</td><td>&quot;0.0%&quot;</td><td>910000</td><td>182</td><td>182</td><td>1</td><td>2</td><td>&quot;한국&quot;</td><td>&quot;한국&quot;</td><td>null</td><td>null</td><td>null</td><td>[&quot;기타&quot;]</td><td>null</td><td>null</td><td>1438</td><td>&quot;해가 서쪽에서 뜬다면&quot;</td><td>1998-12-19</td><td>0.0</td><td>0.0</td><td>212</td></tr><tr><td>1433</td><td>&quot;퍼펙트슛&quot;</td><td>null</td><td>910000</td><td>&quot;0.0%&quot;</td><td>910000</td><td>182</td><td>182</td><td>1</td><td>2</td><td>&quot;한국&quot;</td><td>&quot;한국&quot;</td><td>null</td><td>null</td><td>null</td><td>[&quot;기타&quot;]</td><td>null</td><td>null</td><td>1438</td><td>&quot;헌트&quot;</td><td>2022-08-10</td><td>0.0</td><td>0.0</td><td>142</td></tr><tr><td>1433</td><td>&quot;퍼펙트슛&quot;</td><td>null</td><td>910000</td><td>&quot;0.0%&quot;</td><td>910000</td><td>182</td><td>182</td><td>1</td><td>2</td><td>&quot;한국&quot;</td><td>&quot;한국&quot;</td><td>null</td><td>null</td><td>null</td><td>[&quot;기타&quot;]</td><td>null</td><td>null</td><td>1438</td><td>&quot;황산벌&quot;</td><td>2003-10-17</td><td>0.0</td><td>0.0</td><td>424</td></tr></tbody></table></div>"
      ],
      "text/plain": [
       "shape: (803_366, 24)\n",
       "┌──────┬──────────┬────────────┬──────────────┬───┬─────────────┬────────────┬────────────┬──────────┐\n",
       "│ 순위 ┆ 영화명   ┆ 개봉일     ┆ 매출액       ┆ … ┆ 개봉일_좌석 ┆ 좌석판매율 ┆ 좌석점유율 ┆ 좌석수   │\n",
       "│ ---  ┆ ---      ┆ ---        ┆ ---          ┆   ┆ ---         ┆ ---        ┆ ---        ┆ ---      │\n",
       "│ i64  ┆ str      ┆ date       ┆ i64          ┆   ┆ date        ┆ f64        ┆ f64        ┆ i64      │\n",
       "╞══════╪══════════╪════════════╪══════════════╪═══╪═════════════╪════════════╪════════════╪══════════╡\n",
       "│ 1    ┆ 파묘     ┆ 2024-02-22 ┆ 115157490414 ┆ … ┆ 2024-04-24  ┆ 21.5       ┆ 6.0        ┆ 53350464 │\n",
       "│ 1    ┆ 파묘     ┆ 2024-02-22 ┆ 115157490414 ┆ … ┆ 2024-06-12  ┆ 17.5       ┆ 5.7        ┆ 50018740 │\n",
       "│ 1    ┆ 파묘     ┆ 2024-02-22 ┆ 115157490414 ┆ … ┆ 2024-09-13  ┆ 18.3       ┆ 4.6        ┆ 40990441 │\n",
       "│ 1    ┆ 파묘     ┆ 2024-02-22 ┆ 115157490414 ┆ … ┆ 2024-07-31  ┆ 15.7       ┆ 3.4        ┆ 30046075 │\n",
       "│ 1    ┆ 파묘     ┆ 2024-02-22 ┆ 115157490414 ┆ … ┆ 2024-01-31  ┆ 15.2       ┆ 2.6        ┆ 23091829 │\n",
       "│ …    ┆ …        ┆ …          ┆ …            ┆ … ┆ …           ┆ …          ┆ …          ┆ …        │\n",
       "│ 1433 ┆ 퍼펙트슛 ┆ null       ┆ 910000       ┆ … ┆ 2001-04-28  ┆ 0.0        ┆ 0.0        ┆ 424      │\n",
       "│ 1433 ┆ 퍼펙트슛 ┆ null       ┆ 910000       ┆ … ┆ 2011-12-21  ┆ 0.0        ┆ 0.0        ┆ 212      │\n",
       "│ 1433 ┆ 퍼펙트슛 ┆ null       ┆ 910000       ┆ … ┆ 1998-12-19  ┆ 0.0        ┆ 0.0        ┆ 212      │\n",
       "│ 1433 ┆ 퍼펙트슛 ┆ null       ┆ 910000       ┆ … ┆ 2022-08-10  ┆ 0.0        ┆ 0.0        ┆ 142      │\n",
       "│ 1433 ┆ 퍼펙트슛 ┆ null       ┆ 910000       ┆ … ┆ 2003-10-17  ┆ 0.0        ┆ 0.0        ┆ 424      │\n",
       "└──────┴──────────┴────────────┴──────────────┴───┴─────────────┴────────────┴────────────┴──────────┘"
      ]
     },
     "execution_count": 13,
     "metadata": {},
     "output_type": "execute_result"
    }
   ],
   "source": [
    "df_boxoffice.join_where(df_seat_rate, pl.col('순위') < pl.col('순위_좌석'), suffix = \"_좌석\")"
   ]
  },
  {
   "cell_type": "markdown",
   "id": "92bd72bc-11f9-47bb-8cfe-d3f8c659f2a2",
   "metadata": {},
   "source": [
    "## 7.2\t데이터프레임 연결로 영화 데이터 이어 붙이기"
   ]
  },
  {
   "cell_type": "code",
   "execution_count": 14,
   "id": "5267fa06-5ec1-4576-9d79-89efd2395b6d",
   "metadata": {},
   "outputs": [
    {
     "data": {
      "text/html": [
       "<div><style>\n",
       ".dataframe > thead > tr,\n",
       ".dataframe > tbody > tr {\n",
       "  text-align: right;\n",
       "  white-space: pre-wrap;\n",
       "}\n",
       "</style>\n",
       "<small>shape: (10, 18)</small><table border=\"1\" class=\"dataframe\"><thead><tr><th>순위</th><th>영화명</th><th>개봉일</th><th>매출액</th><th>매출액점유율</th><th>누적매출액</th><th>관객수</th><th>누적관객수</th><th>스크린수</th><th>상영횟수</th><th>대표국적</th><th>국적</th><th>제작사</th><th>배급사</th><th>등급</th><th>장르</th><th>감독</th><th>배우</th></tr><tr><td>i64</td><td>str</td><td>date</td><td>i64</td><td>str</td><td>i64</td><td>i64</td><td>i64</td><td>i64</td><td>i64</td><td>str</td><td>str</td><td>str</td><td>str</td><td>str</td><td>list[str]</td><td>str</td><td>list[str]</td></tr></thead><tbody><tr><td>1</td><td>&quot;파묘&quot;</td><td>2024-02-22</td><td>115157490414</td><td>&quot;9.6%&quot;</td><td>115157490414</td><td>11914784</td><td>11914784</td><td>2367</td><td>364955</td><td>&quot;한국&quot;</td><td>&quot;한국&quot;</td><td>&quot;(주)쇼박스&quot;</td><td>&quot;(주)쇼박스&quot;</td><td>&quot;15세이상관람가&quot;</td><td>[&quot;미스터리&quot;, &quot;공포(호러)&quot;]</td><td>&quot;장재현&quot;</td><td>[&quot;최민식&quot;, &quot;김고은&quot;, … &quot;김하영&quot;]</td></tr><tr><td>2</td><td>&quot;범죄도시4&quot;</td><td>2024-04-24</td><td>110050000734</td><td>&quot;9.2%&quot;</td><td>110050000734</td><td>11502779</td><td>11502779</td><td>2980</td><td>375434</td><td>&quot;한국&quot;</td><td>&quot;한국&quot;</td><td>&quot;주식회사 빅펀치픽쳐스,(주)홍필름,(주)비에이엔터테인먼…</td><td>&quot;주식회사 에이비오엔터테인먼트,플러스엠 엔터테인먼트&quot;</td><td>&quot;15세이상관람가&quot;</td><td>[&quot;액션&quot;, &quot;범죄&quot;]</td><td>&quot;허명행&quot;</td><td>[&quot;김무열&quot;, &quot;박지환&quot;, … &quot;조석인&quot;]</td></tr><tr><td>3</td><td>&quot;인사이드 아웃 2&quot;</td><td>2024-06-12</td><td>84509284036</td><td>&quot;7.1%&quot;</td><td>84509284036</td><td>8799013</td><td>8799013</td><td>2619</td><td>331341</td><td>&quot;미국&quot;</td><td>&quot;미국&quot;</td><td>&quot;월트 디즈니 픽쳐스,픽사 애니메이션 스튜디오&quot;</td><td>&quot;월트디즈니컴퍼니코리아 유한책임회사&quot;</td><td>&quot;전체관람가&quot;</td><td>[&quot;애니메이션&quot;]</td><td>&quot;켈시 만&quot;</td><td>[&quot;에이미 포엘러&quot;, &quot;토니 헤일&quot;]</td></tr><tr><td>4</td><td>&quot;베테랑2&quot;</td><td>2024-09-13</td><td>72474035814</td><td>&quot;6.1%&quot;</td><td>72474035814</td><td>7525339</td><td>7525339</td><td>2691</td><td>279673</td><td>&quot;한국&quot;</td><td>&quot;한국&quot;</td><td>&quot;(주)외유내강&quot;</td><td>&quot;(주)씨제이이엔엠&quot;</td><td>&quot;15세이상관람가&quot;</td><td>[&quot;액션&quot;, &quot;범죄&quot;]</td><td>&quot;류승완&quot;</td><td>[&quot;황정민&quot;, &quot;정해인&quot;, … &quot;이상협&quot;]</td></tr><tr><td>5</td><td>&quot;파일럿&quot;</td><td>2024-07-31</td><td>43204079201</td><td>&quot;3.6%&quot;</td><td>43204079201</td><td>4718036</td><td>4718036</td><td>1956</td><td>203283</td><td>&quot;한국&quot;</td><td>&quot;한국&quot;</td><td>&quot;쇼트케이크(주),(주)무비락&quot;</td><td>&quot;롯데컬처웍스(주)롯데엔터테인먼트&quot;</td><td>&quot;12세이상관람가&quot;</td><td>[&quot;코미디&quot;]</td><td>&quot;김한결&quot;</td><td>[&quot;조정석&quot;, &quot;이주명&quot;, … &quot;한지혁&quot;]</td></tr><tr><td>3365</td><td>&quot;평평남녀&quot;</td><td>2022-04-28</td><td>8000</td><td>&quot;0.0%&quot;</td><td>11582200</td><td>1</td><td>1317</td><td>1</td><td>1</td><td>&quot;한국&quot;</td><td>&quot;한국&quot;</td><td>&quot;브릿지 프로덕션,냉이영화&quot;</td><td>&quot;영화배급협동조합 씨네소파&quot;</td><td>&quot;12세이상관람가&quot;</td><td>[&quot;드라마&quot;, &quot;멜로/로맨스&quot;]</td><td>&quot;김수정&quot;</td><td>[&quot;이태경&quot;, &quot;이한주&quot;, … &quot;박종환&quot;]</td></tr><tr><td>3365</td><td>&quot;한 남자&quot;</td><td>2023-08-30</td><td>10000</td><td>&quot;0.0%&quot;</td><td>139270250</td><td>1</td><td>15939</td><td>1</td><td>1</td><td>&quot;일본&quot;</td><td>&quot;일본&quot;</td><td>null</td><td>&quot;트윈플러스파트너스(주)&quot;</td><td>&quot;12세이상관람가&quot;</td><td>[&quot;범죄&quot;, &quot;멜로/로맨스&quot;, &quot;스릴러&quot;]</td><td>&quot;이시카와 케이&quot;</td><td>[&quot;츠마부키 사토시&quot;, &quot;안도 사쿠라&quot;]</td></tr><tr><td>3365</td><td>&quot;헝거&quot;</td><td>2022-04-21</td><td>3000</td><td>&quot;0.0%&quot;</td><td>6007060</td><td>1</td><td>778</td><td>1</td><td>1</td><td>&quot;한국&quot;</td><td>&quot;한국&quot;</td><td>&quot;영화사 케디필름&quot;</td><td>&quot;(주)디오시네마,(주)태양미디어그룹&quot;</td><td>&quot;12세이상관람가&quot;</td><td>[&quot;SF&quot;, &quot;드라마&quot;]</td><td>&quot;강다연&quot;</td><td>[&quot;김유나&quot;, &quot;최윤우&quot;, … &quot;조은강&quot;]</td></tr><tr><td>3365</td><td>&quot;호피와 차돌바위&quot;</td><td>null</td><td>8000</td><td>&quot;0.0%&quot;</td><td>28000</td><td>1</td><td>4</td><td>1</td><td>1</td><td>&quot;한국&quot;</td><td>&quot;한국&quot;</td><td>null</td><td>null</td><td>null</td><td>[&quot;애니메이션&quot;]</td><td>&quot;신동헌&quot;</td><td>null</td></tr><tr><td>3365</td><td>&quot;희수&quot;</td><td>2022-12-15</td><td>5000</td><td>&quot;0.0%&quot;</td><td>4795500</td><td>1</td><td>617</td><td>1</td><td>1</td><td>&quot;한국&quot;</td><td>&quot;한국&quot;</td><td>&quot;영화사 정원&quot;</td><td>&quot;영화사 정원&quot;</td><td>&quot;12세이상관람가&quot;</td><td>[&quot;드라마&quot;]</td><td>&quot;감정원&quot;</td><td>[&quot;공민정&quot;]</td></tr></tbody></table></div>"
      ],
      "text/plain": [
       "shape: (10, 18)\n",
       "┌──────┬───────────────┬────────────┬──────────────┬───┬───────────────┬───────────────┬───────────────┬───────────────┐\n",
       "│ 순위 ┆ 영화명        ┆ 개봉일     ┆ 매출액       ┆ … ┆ 등급          ┆ 장르          ┆ 감독          ┆ 배우          │\n",
       "│ ---  ┆ ---           ┆ ---        ┆ ---          ┆   ┆ ---           ┆ ---           ┆ ---           ┆ ---           │\n",
       "│ i64  ┆ str           ┆ date       ┆ i64          ┆   ┆ str           ┆ list[str]     ┆ str           ┆ list[str]     │\n",
       "╞══════╪═══════════════╪════════════╪══════════════╪═══╪═══════════════╪═══════════════╪═══════════════╪═══════════════╡\n",
       "│ 1    ┆ 파묘          ┆ 2024-02-22 ┆ 115157490414 ┆ … ┆ 15세이상관람  ┆ [\"미스터리\",  ┆ 장재현        ┆ [\"최민식\",    │\n",
       "│      ┆               ┆            ┆              ┆   ┆ 가            ┆ \"공포(호러)\"] ┆               ┆ \"김고은\", …   │\n",
       "│      ┆               ┆            ┆              ┆   ┆               ┆               ┆               ┆ \"김하영\"]     │\n",
       "│ 2    ┆ 범죄도시4     ┆ 2024-04-24 ┆ 110050000734 ┆ … ┆ 15세이상관람  ┆ [\"액션\",      ┆ 허명행        ┆ [\"김무열\",    │\n",
       "│      ┆               ┆            ┆              ┆   ┆ 가            ┆ \"범죄\"]       ┆               ┆ \"박지환\", …   │\n",
       "│      ┆               ┆            ┆              ┆   ┆               ┆               ┆               ┆ \"조석인\"]     │\n",
       "│ 3    ┆ 인사이드 아웃 ┆ 2024-06-12 ┆ 84509284036  ┆ … ┆ 전체관람가    ┆ [\"애니메이션\" ┆ 켈시 만       ┆ [\"에이미      │\n",
       "│      ┆ 2             ┆            ┆              ┆   ┆               ┆ ]             ┆               ┆ 포엘러\",      │\n",
       "│      ┆               ┆            ┆              ┆   ┆               ┆               ┆               ┆ \"토니 헤일\"]  │\n",
       "│ 4    ┆ 베테랑2       ┆ 2024-09-13 ┆ 72474035814  ┆ … ┆ 15세이상관람  ┆ [\"액션\",      ┆ 류승완        ┆ [\"황정민\",    │\n",
       "│      ┆               ┆            ┆              ┆   ┆ 가            ┆ \"범죄\"]       ┆               ┆ \"정해인\", …   │\n",
       "│      ┆               ┆            ┆              ┆   ┆               ┆               ┆               ┆ \"이상협\"]     │\n",
       "│ 5    ┆ 파일럿        ┆ 2024-07-31 ┆ 43204079201  ┆ … ┆ 12세이상관람  ┆ [\"코미디\"]    ┆ 김한결        ┆ [\"조정석\",    │\n",
       "│      ┆               ┆            ┆              ┆   ┆ 가            ┆               ┆               ┆ \"이주명\", …   │\n",
       "│      ┆               ┆            ┆              ┆   ┆               ┆               ┆               ┆ \"한지혁\"]     │\n",
       "│ 3365 ┆ 평평남녀      ┆ 2022-04-28 ┆ 8000         ┆ … ┆ 12세이상관람  ┆ [\"드라마\",    ┆ 김수정        ┆ [\"이태경\",    │\n",
       "│      ┆               ┆            ┆              ┆   ┆ 가            ┆ \"멜로/로맨스\" ┆               ┆ \"이한주\", …   │\n",
       "│      ┆               ┆            ┆              ┆   ┆               ┆ ]             ┆               ┆ \"박종환\"]     │\n",
       "│ 3365 ┆ 한 남자       ┆ 2023-08-30 ┆ 10000        ┆ … ┆ 12세이상관람  ┆ [\"범죄\", \"멜  ┆ 이시카와 케이 ┆ [\"츠마부키    │\n",
       "│      ┆               ┆            ┆              ┆   ┆ 가            ┆ 로/로맨스\",   ┆               ┆ 사토시\",      │\n",
       "│      ┆               ┆            ┆              ┆   ┆               ┆ \"스릴러\"]     ┆               ┆ \"안도         │\n",
       "│      ┆               ┆            ┆              ┆   ┆               ┆               ┆               ┆ 사쿠라\"]      │\n",
       "│ 3365 ┆ 헝거          ┆ 2022-04-21 ┆ 3000         ┆ … ┆ 12세이상관람  ┆ [\"SF\",        ┆ 강다연        ┆ [\"김유나\",    │\n",
       "│      ┆               ┆            ┆              ┆   ┆ 가            ┆ \"드라마\"]     ┆               ┆ \"최윤우\", …   │\n",
       "│      ┆               ┆            ┆              ┆   ┆               ┆               ┆               ┆ \"조은강\"]     │\n",
       "│ 3365 ┆ 호피와        ┆ null       ┆ 8000         ┆ … ┆ null          ┆ [\"애니메이션\" ┆ 신동헌        ┆ null          │\n",
       "│      ┆ 차돌바위      ┆            ┆              ┆   ┆               ┆ ]             ┆               ┆               │\n",
       "│ 3365 ┆ 희수          ┆ 2022-12-15 ┆ 5000         ┆ … ┆ 12세이상관람  ┆ [\"드라마\"]    ┆ 감정원        ┆ [\"공민정\"]    │\n",
       "│      ┆               ┆            ┆              ┆   ┆ 가            ┆               ┆               ┆               │\n",
       "└──────┴───────────────┴────────────┴──────────────┴───┴───────────────┴───────────────┴───────────────┴───────────────┘"
      ]
     },
     "execution_count": 14,
     "metadata": {},
     "output_type": "execute_result"
    }
   ],
   "source": [
    "pl.concat([df_boxoffice.head(5), df_boxoffice.tail(5)], how = \"vertical\")"
   ]
  },
  {
   "cell_type": "code",
   "execution_count": 15,
   "id": "f68a04f8-4c08-4e77-8816-6f018a7a8668",
   "metadata": {},
   "outputs": [
    {
     "data": {
      "text/html": [
       "<div><style>\n",
       ".dataframe > thead > tr,\n",
       ".dataframe > tbody > tr {\n",
       "  text-align: right;\n",
       "  white-space: pre-wrap;\n",
       "}\n",
       "</style>\n",
       "<small>shape: (5, 7)</small><table border=\"1\" class=\"dataframe\"><thead><tr><th>순위</th><th>영화명</th><th>개봉일</th><th>영화명_좌석</th><th>좌석판매율</th><th>좌석점유율</th><th>좌석수</th></tr><tr><td>i64</td><td>str</td><td>date</td><td>str</td><td>f64</td><td>f64</td><td>i64</td></tr></thead><tbody><tr><td>3365</td><td>&quot;평평남녀&quot;</td><td>2022-04-28</td><td>&quot;파묘&quot;</td><td>22.2</td><td>6.1</td><td>53450628</td></tr><tr><td>3365</td><td>&quot;한 남자&quot;</td><td>2023-08-30</td><td>&quot;범죄도시4&quot;</td><td>21.5</td><td>6.0</td><td>53350464</td></tr><tr><td>3365</td><td>&quot;헝거&quot;</td><td>2022-04-21</td><td>&quot;인사이드 아웃 2&quot;</td><td>17.5</td><td>5.7</td><td>50018740</td></tr><tr><td>3365</td><td>&quot;호피와 차돌바위&quot;</td><td>null</td><td>null</td><td>null</td><td>null</td><td>null</td></tr><tr><td>3365</td><td>&quot;희수&quot;</td><td>2022-12-15</td><td>null</td><td>null</td><td>null</td><td>null</td></tr></tbody></table></div>"
      ],
      "text/plain": [
       "shape: (5, 7)\n",
       "┌──────┬─────────────────┬────────────┬─────────────────┬────────────┬────────────┬──────────┐\n",
       "│ 순위 ┆ 영화명          ┆ 개봉일     ┆ 영화명_좌석     ┆ 좌석판매율 ┆ 좌석점유율 ┆ 좌석수   │\n",
       "│ ---  ┆ ---             ┆ ---        ┆ ---             ┆ ---        ┆ ---        ┆ ---      │\n",
       "│ i64  ┆ str             ┆ date       ┆ str             ┆ f64        ┆ f64        ┆ i64      │\n",
       "╞══════╪═════════════════╪════════════╪═════════════════╪════════════╪════════════╪══════════╡\n",
       "│ 3365 ┆ 평평남녀        ┆ 2022-04-28 ┆ 파묘            ┆ 22.2       ┆ 6.1        ┆ 53450628 │\n",
       "│ 3365 ┆ 한 남자         ┆ 2023-08-30 ┆ 범죄도시4       ┆ 21.5       ┆ 6.0        ┆ 53350464 │\n",
       "│ 3365 ┆ 헝거            ┆ 2022-04-21 ┆ 인사이드 아웃 2 ┆ 17.5       ┆ 5.7        ┆ 50018740 │\n",
       "│ 3365 ┆ 호피와 차돌바위 ┆ null       ┆ null            ┆ null       ┆ null       ┆ null     │\n",
       "│ 3365 ┆ 희수            ┆ 2022-12-15 ┆ null            ┆ null       ┆ null       ┆ null     │\n",
       "└──────┴─────────────────┴────────────┴─────────────────┴────────────┴────────────┴──────────┘"
      ]
     },
     "execution_count": 15,
     "metadata": {},
     "output_type": "execute_result"
    }
   ],
   "source": [
    "pl.concat([df_boxoffice.select(['순위', '영화명', '개봉일']).tail(5), \n",
    "    df_seat_rate.select([pl.col('영화명').alias('영화명_좌석'), '좌석판매율', '좌석점유율', '좌석수']).head(3)], \n",
    "    how = \"horizontal\")"
   ]
  },
  {
   "cell_type": "code",
   "execution_count": 16,
   "id": "bd3c38f7-d53c-43d0-b9d1-57dc497ffe78",
   "metadata": {},
   "outputs": [
    {
     "data": {
      "text/html": [
       "<div><style>\n",
       ".dataframe > thead > tr,\n",
       ".dataframe > tbody > tr {\n",
       "  text-align: right;\n",
       "  white-space: pre-wrap;\n",
       "}\n",
       "</style>\n",
       "<small>shape: (10, 21)</small><table border=\"1\" class=\"dataframe\"><thead><tr><th>순위</th><th>영화명</th><th>개봉일</th><th>매출액</th><th>매출액점유율</th><th>누적매출액</th><th>관객수</th><th>누적관객수</th><th>스크린수</th><th>상영횟수</th><th>대표국적</th><th>국적</th><th>제작사</th><th>배급사</th><th>등급</th><th>장르</th><th>감독</th><th>배우</th><th>좌석판매율</th><th>좌석점유율</th><th>좌석수</th></tr><tr><td>i64</td><td>str</td><td>date</td><td>i64</td><td>str</td><td>i64</td><td>i64</td><td>i64</td><td>i64</td><td>i64</td><td>str</td><td>str</td><td>str</td><td>str</td><td>str</td><td>list[str]</td><td>str</td><td>list[str]</td><td>f64</td><td>f64</td><td>i64</td></tr></thead><tbody><tr><td>1</td><td>&quot;파묘&quot;</td><td>2024-02-22</td><td>115157490414</td><td>&quot;9.6%&quot;</td><td>115157490414</td><td>11914784</td><td>11914784</td><td>2367</td><td>364955</td><td>&quot;한국&quot;</td><td>&quot;한국&quot;</td><td>&quot;(주)쇼박스&quot;</td><td>&quot;(주)쇼박스&quot;</td><td>&quot;15세이상관람가&quot;</td><td>[&quot;미스터리&quot;, &quot;공포(호러)&quot;]</td><td>&quot;장재현&quot;</td><td>[&quot;최민식&quot;, &quot;김고은&quot;, … &quot;김하영&quot;]</td><td>null</td><td>null</td><td>null</td></tr><tr><td>2</td><td>&quot;범죄도시4&quot;</td><td>2024-04-24</td><td>110050000734</td><td>&quot;9.2%&quot;</td><td>110050000734</td><td>11502779</td><td>11502779</td><td>2980</td><td>375434</td><td>&quot;한국&quot;</td><td>&quot;한국&quot;</td><td>&quot;주식회사 빅펀치픽쳐스,(주)홍필름,(주)비에이엔터테인먼…</td><td>&quot;주식회사 에이비오엔터테인먼트,플러스엠 엔터테인먼트&quot;</td><td>&quot;15세이상관람가&quot;</td><td>[&quot;액션&quot;, &quot;범죄&quot;]</td><td>&quot;허명행&quot;</td><td>[&quot;김무열&quot;, &quot;박지환&quot;, … &quot;조석인&quot;]</td><td>null</td><td>null</td><td>null</td></tr><tr><td>3</td><td>&quot;인사이드 아웃 2&quot;</td><td>2024-06-12</td><td>84509284036</td><td>&quot;7.1%&quot;</td><td>84509284036</td><td>8799013</td><td>8799013</td><td>2619</td><td>331341</td><td>&quot;미국&quot;</td><td>&quot;미국&quot;</td><td>&quot;월트 디즈니 픽쳐스,픽사 애니메이션 스튜디오&quot;</td><td>&quot;월트디즈니컴퍼니코리아 유한책임회사&quot;</td><td>&quot;전체관람가&quot;</td><td>[&quot;애니메이션&quot;]</td><td>&quot;켈시 만&quot;</td><td>[&quot;에이미 포엘러&quot;, &quot;토니 헤일&quot;]</td><td>null</td><td>null</td><td>null</td></tr><tr><td>4</td><td>&quot;베테랑2&quot;</td><td>2024-09-13</td><td>72474035814</td><td>&quot;6.1%&quot;</td><td>72474035814</td><td>7525339</td><td>7525339</td><td>2691</td><td>279673</td><td>&quot;한국&quot;</td><td>&quot;한국&quot;</td><td>&quot;(주)외유내강&quot;</td><td>&quot;(주)씨제이이엔엠&quot;</td><td>&quot;15세이상관람가&quot;</td><td>[&quot;액션&quot;, &quot;범죄&quot;]</td><td>&quot;류승완&quot;</td><td>[&quot;황정민&quot;, &quot;정해인&quot;, … &quot;이상협&quot;]</td><td>null</td><td>null</td><td>null</td></tr><tr><td>5</td><td>&quot;파일럿&quot;</td><td>2024-07-31</td><td>43204079201</td><td>&quot;3.6%&quot;</td><td>43204079201</td><td>4718036</td><td>4718036</td><td>1956</td><td>203283</td><td>&quot;한국&quot;</td><td>&quot;한국&quot;</td><td>&quot;쇼트케이크(주),(주)무비락&quot;</td><td>&quot;롯데컬처웍스(주)롯데엔터테인먼트&quot;</td><td>&quot;12세이상관람가&quot;</td><td>[&quot;코미디&quot;]</td><td>&quot;김한결&quot;</td><td>[&quot;조정석&quot;, &quot;이주명&quot;, … &quot;한지혁&quot;]</td><td>null</td><td>null</td><td>null</td></tr><tr><td>1</td><td>&quot;파묘&quot;</td><td>2024-02-22</td><td>null</td><td>null</td><td>null</td><td>null</td><td>null</td><td>null</td><td>null</td><td>null</td><td>null</td><td>null</td><td>null</td><td>null</td><td>null</td><td>null</td><td>null</td><td>22.2</td><td>6.1</td><td>53450628</td></tr><tr><td>2</td><td>&quot;범죄도시4&quot;</td><td>2024-04-24</td><td>null</td><td>null</td><td>null</td><td>null</td><td>null</td><td>null</td><td>null</td><td>null</td><td>null</td><td>null</td><td>null</td><td>null</td><td>null</td><td>null</td><td>null</td><td>21.5</td><td>6.0</td><td>53350464</td></tr><tr><td>3</td><td>&quot;인사이드 아웃 2&quot;</td><td>2024-06-12</td><td>null</td><td>null</td><td>null</td><td>null</td><td>null</td><td>null</td><td>null</td><td>null</td><td>null</td><td>null</td><td>null</td><td>null</td><td>null</td><td>null</td><td>null</td><td>17.5</td><td>5.7</td><td>50018740</td></tr><tr><td>4</td><td>&quot;베테랑2&quot;</td><td>2024-09-13</td><td>null</td><td>null</td><td>null</td><td>null</td><td>null</td><td>null</td><td>null</td><td>null</td><td>null</td><td>null</td><td>null</td><td>null</td><td>null</td><td>null</td><td>null</td><td>18.3</td><td>4.6</td><td>40990441</td></tr><tr><td>5</td><td>&quot;파일럿&quot;</td><td>2024-07-31</td><td>null</td><td>null</td><td>null</td><td>null</td><td>null</td><td>null</td><td>null</td><td>null</td><td>null</td><td>null</td><td>null</td><td>null</td><td>null</td><td>null</td><td>null</td><td>15.7</td><td>3.4</td><td>30046075</td></tr></tbody></table></div>"
      ],
      "text/plain": [
       "shape: (10, 21)\n",
       "┌──────┬─────────────────┬────────────┬──────────────┬───┬────────────────────────┬────────────┬────────────┬──────────┐\n",
       "│ 순위 ┆ 영화명          ┆ 개봉일     ┆ 매출액       ┆ … ┆ 배우                   ┆ 좌석판매율 ┆ 좌석점유율 ┆ 좌석수   │\n",
       "│ ---  ┆ ---             ┆ ---        ┆ ---          ┆   ┆ ---                    ┆ ---        ┆ ---        ┆ ---      │\n",
       "│ i64  ┆ str             ┆ date       ┆ i64          ┆   ┆ list[str]              ┆ f64        ┆ f64        ┆ i64      │\n",
       "╞══════╪═════════════════╪════════════╪══════════════╪═══╪════════════════════════╪════════════╪════════════╪══════════╡\n",
       "│ 1    ┆ 파묘            ┆ 2024-02-22 ┆ 115157490414 ┆ … ┆ [\"최민식\", \"김고은\", … ┆ null       ┆ null       ┆ null     │\n",
       "│      ┆                 ┆            ┆              ┆   ┆ \"김하영\"]              ┆            ┆            ┆          │\n",
       "│ 2    ┆ 범죄도시4       ┆ 2024-04-24 ┆ 110050000734 ┆ … ┆ [\"김무열\", \"박지환\", … ┆ null       ┆ null       ┆ null     │\n",
       "│      ┆                 ┆            ┆              ┆   ┆ \"조석인\"]              ┆            ┆            ┆          │\n",
       "│ 3    ┆ 인사이드 아웃 2 ┆ 2024-06-12 ┆ 84509284036  ┆ … ┆ [\"에이미 포엘러\",      ┆ null       ┆ null       ┆ null     │\n",
       "│      ┆                 ┆            ┆              ┆   ┆ \"토니 헤일\"]           ┆            ┆            ┆          │\n",
       "│ 4    ┆ 베테랑2         ┆ 2024-09-13 ┆ 72474035814  ┆ … ┆ [\"황정민\", \"정해인\", … ┆ null       ┆ null       ┆ null     │\n",
       "│      ┆                 ┆            ┆              ┆   ┆ \"이상협\"]              ┆            ┆            ┆          │\n",
       "│ 5    ┆ 파일럿          ┆ 2024-07-31 ┆ 43204079201  ┆ … ┆ [\"조정석\", \"이주명\", … ┆ null       ┆ null       ┆ null     │\n",
       "│      ┆                 ┆            ┆              ┆   ┆ \"한지혁\"]              ┆            ┆            ┆          │\n",
       "│ 1    ┆ 파묘            ┆ 2024-02-22 ┆ null         ┆ … ┆ null                   ┆ 22.2       ┆ 6.1        ┆ 53450628 │\n",
       "│ 2    ┆ 범죄도시4       ┆ 2024-04-24 ┆ null         ┆ … ┆ null                   ┆ 21.5       ┆ 6.0        ┆ 53350464 │\n",
       "│ 3    ┆ 인사이드 아웃 2 ┆ 2024-06-12 ┆ null         ┆ … ┆ null                   ┆ 17.5       ┆ 5.7        ┆ 50018740 │\n",
       "│ 4    ┆ 베테랑2         ┆ 2024-09-13 ┆ null         ┆ … ┆ null                   ┆ 18.3       ┆ 4.6        ┆ 40990441 │\n",
       "│ 5    ┆ 파일럿          ┆ 2024-07-31 ┆ null         ┆ … ┆ null                   ┆ 15.7       ┆ 3.4        ┆ 30046075 │\n",
       "└──────┴─────────────────┴────────────┴──────────────┴───┴────────────────────────┴────────────┴────────────┴──────────┘"
      ]
     },
     "execution_count": 16,
     "metadata": {},
     "output_type": "execute_result"
    }
   ],
   "source": [
    "pl.concat([df_boxoffice.head(5), df_seat_rate.head(5)], how = \"diagonal\")"
   ]
  },
  {
   "cell_type": "markdown",
   "id": "9687c583-bca4-4982-89ef-5f17be1639cf",
   "metadata": {},
   "source": [
    "## 7.3\t데이터프레임 피벗과 언피벗으로 영화 데이터 구조 바꾸기"
   ]
  },
  {
   "cell_type": "code",
   "execution_count": 17,
   "id": "cad1a5c2-ff69-4e41-b7ea-5e56243e19fb",
   "metadata": {},
   "outputs": [
    {
     "data": {
      "text/html": [
       "<div><style>\n",
       ".dataframe > thead > tr,\n",
       ".dataframe > tbody > tr {\n",
       "  text-align: right;\n",
       "  white-space: pre-wrap;\n",
       "}\n",
       "</style>\n",
       "<small>shape: (38, 11)</small><table border=\"1\" class=\"dataframe\"><thead><tr><th>등급</th><th>한국</th><th>미국</th><th>일본</th><th>중국</th><th>영국</th><th>프랑스</th><th>독일</th><th>캐나다</th><th>이탈리아</th><th>기타</th></tr><tr><td>str</td><td>i64</td><td>i64</td><td>i64</td><td>i64</td><td>i64</td><td>i64</td><td>i64</td><td>i64</td><td>i64</td><td>i64</td></tr></thead><tbody><tr><td>&quot;15세이상관람가&quot;</td><td>43891467</td><td>8035572</td><td>819819</td><td>253934</td><td>49881</td><td>201424</td><td>14589</td><td>5122</td><td>10167</td><td>2954</td></tr><tr><td>&quot;전체관람가&quot;</td><td>4182644</td><td>25509345</td><td>2838453</td><td>85575</td><td>165202</td><td>65871</td><td>127979</td><td>24104</td><td>17387</td><td>1714</td></tr><tr><td>&quot;12세이상관람가&quot;</td><td>22229389</td><td>5281355</td><td>2765070</td><td>47338</td><td>56613</td><td>80340</td><td>4647</td><td>1900</td><td>32622</td><td>123</td></tr><tr><td>&quot;청소년관람불가&quot;</td><td>1073348</td><td>3370813</td><td>47180</td><td>null</td><td>156215</td><td>29146</td><td>1094</td><td>12606</td><td>11708</td><td>261</td></tr><tr><td>&quot;15세관람가,15세이상관람가&quot;</td><td>null</td><td>193018</td><td>929</td><td>null</td><td>null</td><td>null</td><td>null</td><td>null</td><td>null</td><td>null</td></tr><tr><td>&hellip;</td><td>&hellip;</td><td>&hellip;</td><td>&hellip;</td><td>&hellip;</td><td>&hellip;</td><td>&hellip;</td><td>&hellip;</td><td>&hellip;</td><td>&hellip;</td><td>&hellip;</td></tr><tr><td>&quot;기타&quot;</td><td>191</td><td>null</td><td>null</td><td>null</td><td>null</td><td>null</td><td>null</td><td>null</td><td>null</td><td>null</td></tr><tr><td>&quot;15세이상관람가,전체관람가&quot;</td><td>null</td><td>null</td><td>null</td><td>null</td><td>null</td><td>183</td><td>null</td><td>null</td><td>null</td><td>null</td></tr><tr><td>&quot;18세관람가,15세이상관람가&quot;</td><td>null</td><td>null</td><td>null</td><td>null</td><td>null</td><td>86</td><td>null</td><td>null</td><td>null</td><td>null</td></tr><tr><td>&quot;18세관람가&quot;</td><td>88</td><td>null</td><td>81</td><td>null</td><td>null</td><td>22</td><td>null</td><td>null</td><td>null</td><td>null</td></tr><tr><td>&quot;미성년자관람불가&quot;</td><td>null</td><td>null</td><td>null</td><td>null</td><td>null</td><td>46</td><td>null</td><td>null</td><td>null</td><td>null</td></tr></tbody></table></div>"
      ],
      "text/plain": [
       "shape: (38, 11)\n",
       "┌───────────────────────────┬──────────┬──────────┬─────────┬───┬────────┬────────┬──────────┬──────┐\n",
       "│ 등급                      ┆ 한국     ┆ 미국     ┆ 일본    ┆ … ┆ 독일   ┆ 캐나다 ┆ 이탈리아 ┆ 기타 │\n",
       "│ ---                       ┆ ---      ┆ ---      ┆ ---     ┆   ┆ ---    ┆ ---    ┆ ---      ┆ ---  │\n",
       "│ str                       ┆ i64      ┆ i64      ┆ i64     ┆   ┆ i64    ┆ i64    ┆ i64      ┆ i64  │\n",
       "╞═══════════════════════════╪══════════╪══════════╪═════════╪═══╪════════╪════════╪══════════╪══════╡\n",
       "│ 15세이상관람가            ┆ 43891467 ┆ 8035572  ┆ 819819  ┆ … ┆ 14589  ┆ 5122   ┆ 10167    ┆ 2954 │\n",
       "│ 전체관람가                ┆ 4182644  ┆ 25509345 ┆ 2838453 ┆ … ┆ 127979 ┆ 24104  ┆ 17387    ┆ 1714 │\n",
       "│ 12세이상관람가            ┆ 22229389 ┆ 5281355  ┆ 2765070 ┆ … ┆ 4647   ┆ 1900   ┆ 32622    ┆ 123  │\n",
       "│ 청소년관람불가            ┆ 1073348  ┆ 3370813  ┆ 47180   ┆ … ┆ 1094   ┆ 12606  ┆ 11708    ┆ 261  │\n",
       "│ 15세관람가,15세이상관람가 ┆ null     ┆ 193018   ┆ 929     ┆ … ┆ null   ┆ null   ┆ null     ┆ null │\n",
       "│ …                         ┆ …        ┆ …        ┆ …       ┆ … ┆ …      ┆ …      ┆ …        ┆ …    │\n",
       "│ 기타                      ┆ 191      ┆ null     ┆ null    ┆ … ┆ null   ┆ null   ┆ null     ┆ null │\n",
       "│ 15세이상관람가,전체관람가 ┆ null     ┆ null     ┆ null    ┆ … ┆ null   ┆ null   ┆ null     ┆ null │\n",
       "│ 18세관람가,15세이상관람가 ┆ null     ┆ null     ┆ null    ┆ … ┆ null   ┆ null   ┆ null     ┆ null │\n",
       "│ 18세관람가                ┆ 88       ┆ null     ┆ 81      ┆ … ┆ null   ┆ null   ┆ null     ┆ null │\n",
       "│ 미성년자관람불가          ┆ null     ┆ null     ┆ null    ┆ … ┆ null   ┆ null   ┆ null     ┆ null │\n",
       "└───────────────────────────┴──────────┴──────────┴─────────┴───┴────────┴────────┴──────────┴──────┘"
      ]
     },
     "execution_count": 17,
     "metadata": {},
     "output_type": "execute_result"
    }
   ],
   "source": [
    "df_pivot = (df_boxoffice.select(['영화명', '등급', '대표국적', '관객수', '매출액'])\n",
    "    .filter(pl.col('대표국적').is_in([\"한국\", \"미국\", \"일본\", \"프랑스\", \"기타\", \n",
    "        \"영국\", \"이탈리아\", \"독일\", \"중국\", \"캐나다\"]))\n",
    "    .pivot(on = '대표국적', index = '등급', values = '관객수', aggregate_function = 'sum'))\n",
    "df_pivot"
   ]
  },
  {
   "cell_type": "code",
   "execution_count": 18,
   "id": "5116ea3d-ddfb-432f-880c-c0bf63407c19",
   "metadata": {},
   "outputs": [
    {
     "data": {
      "text/html": [
       "<div><style>\n",
       ".dataframe > thead > tr,\n",
       ".dataframe > tbody > tr {\n",
       "  text-align: right;\n",
       "  white-space: pre-wrap;\n",
       "}\n",
       "</style>\n",
       "<small>shape: (304, 3)</small><table border=\"1\" class=\"dataframe\"><thead><tr><th>등급</th><th>대표국적</th><th>value</th></tr><tr><td>str</td><td>str</td><td>i64</td></tr></thead><tbody><tr><td>&quot;15세이상관람가&quot;</td><td>&quot;한국&quot;</td><td>43891467</td></tr><tr><td>&quot;전체관람가&quot;</td><td>&quot;한국&quot;</td><td>4182644</td></tr><tr><td>&quot;12세이상관람가&quot;</td><td>&quot;한국&quot;</td><td>22229389</td></tr><tr><td>&quot;청소년관람불가&quot;</td><td>&quot;한국&quot;</td><td>1073348</td></tr><tr><td>&quot;15세관람가,15세이상관람가&quot;</td><td>&quot;한국&quot;</td><td>null</td></tr><tr><td>&hellip;</td><td>&hellip;</td><td>&hellip;</td></tr><tr><td>&quot;기타&quot;</td><td>&quot;기타&quot;</td><td>null</td></tr><tr><td>&quot;15세이상관람가,전체관람가&quot;</td><td>&quot;기타&quot;</td><td>null</td></tr><tr><td>&quot;18세관람가,15세이상관람가&quot;</td><td>&quot;기타&quot;</td><td>null</td></tr><tr><td>&quot;18세관람가&quot;</td><td>&quot;기타&quot;</td><td>null</td></tr><tr><td>&quot;미성년자관람불가&quot;</td><td>&quot;기타&quot;</td><td>null</td></tr></tbody></table></div>"
      ],
      "text/plain": [
       "shape: (304, 3)\n",
       "┌───────────────────────────┬──────────┬──────────┐\n",
       "│ 등급                      ┆ 대표국적 ┆ value    │\n",
       "│ ---                       ┆ ---      ┆ ---      │\n",
       "│ str                       ┆ str      ┆ i64      │\n",
       "╞═══════════════════════════╪══════════╪══════════╡\n",
       "│ 15세이상관람가            ┆ 한국     ┆ 43891467 │\n",
       "│ 전체관람가                ┆ 한국     ┆ 4182644  │\n",
       "│ 12세이상관람가            ┆ 한국     ┆ 22229389 │\n",
       "│ 청소년관람불가            ┆ 한국     ┆ 1073348  │\n",
       "│ 15세관람가,15세이상관람가 ┆ 한국     ┆ null     │\n",
       "│ …                         ┆ …        ┆ …        │\n",
       "│ 기타                      ┆ 기타     ┆ null     │\n",
       "│ 15세이상관람가,전체관람가 ┆ 기타     ┆ null     │\n",
       "│ 18세관람가,15세이상관람가 ┆ 기타     ┆ null     │\n",
       "│ 18세관람가                ┆ 기타     ┆ null     │\n",
       "│ 미성년자관람불가          ┆ 기타     ┆ null     │\n",
       "└───────────────────────────┴──────────┴──────────┘"
      ]
     },
     "execution_count": 18,
     "metadata": {},
     "output_type": "execute_result"
    }
   ],
   "source": [
    "df_pivot.unpivot(on = [\"한국\", \"미국\", \"일본\", \"영국\", \"프랑스\", \"캐나다\", \"이탈리아\", \"기타\"], \n",
    "    index = '등급', variable_name = '대표국적')"
   ]
  }
 ],
 "metadata": {
  "kernelspec": {
   "display_name": "venv_polars_book_deploy",
   "language": "python",
   "name": "venv_polars_book_deploy"
  },
  "language_info": {
   "codemirror_mode": {
    "name": "ipython",
    "version": 3
   },
   "file_extension": ".py",
   "mimetype": "text/x-python",
   "name": "python",
   "nbconvert_exporter": "python",
   "pygments_lexer": "ipython3",
   "version": "3.12.7"
  }
 },
 "nbformat": 4,
 "nbformat_minor": 5
}
