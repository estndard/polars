{
 "cells": [
  {
   "cell_type": "code",
   "execution_count": null,
   "id": "444a246f-a2f3-4232-8a47-d03523cdd8af",
   "metadata": {},
   "outputs": [],
   "source": [
    "## 사전 실행 코드\n",
    "import polars as pl\n",
    "df_boxoffice = pl.read_csv(\"D:/book/polars/data/movie/KOBIS_기간별박스오피스.csv\", skip_rows = 4, try_parse_dates=True)\n",
    "boxoffice_cols = df_boxoffice.columns\n",
    "boxoffice_cols[4] = '매출액점유율'\n",
    "df_boxoffice.columns = [i.replace(' ', '') for i in boxoffice_cols]\n",
    "df_boxoffice = df_boxoffice.with_columns(\n",
    "    pl.col('매출액', '누적매출액').str.replace_all(',', '').cast(pl.Int64),\n",
    "    pl.col('관객수', '누적관객수', '스크린수', '상영횟수').str.replace_all(',', '').cast(pl.Int64)    \n",
    ")\n",
    "df_boxoffice = df_boxoffice.with_columns(\n",
    "    pl.col('장르').str.split(','), \n",
    "    pl.col('배우').str.split(','), \n",
    ")\n",
    "df_boxoffice = (df_boxoffice.filter(\n",
    "    pl.col('순위').is_not_null()).\n",
    "                filter(~(pl.col('장르').list.contains('성인물(에로)'))).\n",
    "                filter(pl.col('매출액') != 0).\n",
    "                filter(~((pl.col('관객수') <= 1) & (pl.col('누적관객수') <= 1) & \n",
    "                         (pl.col('스크린수') <= 1) & (pl.col('상영횟수') <= 1)))\n",
    "                )\n",
    "import altair as alt\n",
    "import plotly.express as px"
   ]
  },
  {
   "cell_type": "markdown",
   "id": "cca06351-08ed-40f3-acbd-69b2325d1f0f",
   "metadata": {},
   "source": [
    "# 8장 폴라스로 영화 데이터 생생하게 그리기"
   ]
  },
  {
   "cell_type": "markdown",
   "id": "a608541c-552b-4988-8d5a-3abce4445473",
   "metadata": {},
   "source": [
    "## 8.1\t폴라스 시각화의 특징 알아보기"
   ]
  },
  {
   "cell_type": "markdown",
   "id": "224a1431-9743-4479-8d12-eadff3c6db6d",
   "metadata": {},
   "source": [
    "## 8.2\t폴라스로 손쉽게 데이터 시각화하기"
   ]
  },
  {
   "cell_type": "markdown",
   "id": "9bc669ee-80b1-4c64-a030-bdafaad41bb1",
   "metadata": {},
   "source": [
    "## 8.3\t영화 데이터를 시각적으로 풍부하게 표현하기"
   ]
  },
  {
   "cell_type": "markdown",
   "id": "a385376e-18a2-4ecf-8de7-d74433d5ee76",
   "metadata": {},
   "source": [
    "[8.3.1 결과확인: https://estndard.github.io/polars/8.3.1.html](https://estndard.github.io/polars/8.3.1.html)"
   ]
  },
  {
   "cell_type": "markdown",
   "id": "f4db4b67-1630-4da4-a4b3-8f8b7a8cde65",
   "metadata": {},
   "source": [
    "### 8.3.1\t히스토그램으로 살펴보는 관객 수와 개봉 경향"
   ]
  },
  {
   "cell_type": "code",
   "execution_count": null,
   "id": "55abe2ef-e353-4bae-8131-3b744886acd5",
   "metadata": {},
   "outputs": [],
   "source": [
    "df_boxoffice.filter(pl.col('순위') <= 100).select('스크린수').to_series().plot.hist()"
   ]
  },
  {
   "cell_type": "code",
   "execution_count": null,
   "id": "8f4733f3-af04-4bd2-bae8-d0b92880fe1f",
   "metadata": {},
   "outputs": [],
   "source": [
    "import altair as alt\n",
    "(df_boxoffice.filter(pl.col('순위') <= 100).select('관객수')\n",
    "\t.plot.bar(x = alt.X('관객수', title = '관객수').bin(maxbins = 30), y = alt.Y('count()', title='영화편수')))"
   ]
  },
  {
   "cell_type": "code",
   "execution_count": null,
   "id": "aceb48ce-3808-4e81-a727-aaf67279fd32",
   "metadata": {},
   "outputs": [],
   "source": [
    "import plotly.express as px"
   ]
  },
  {
   "cell_type": "code",
   "execution_count": null,
   "id": "735ce152-d940-435b-ba88-7cd58bfe031e",
   "metadata": {},
   "outputs": [],
   "source": [
    "fig = px.histogram(  ## plotly.express의 히스토그램 함수\n",
    "    ## 폴라스 데이터프레임에서 순위 100위 이하 필터링하고, \n",
    "    ## X축에 상영횟수 열을 매핑하고 bin의 수를 20개로 설정\n",
    "\tdf_boxoffice.filter(pl.col('순위') <= 100), x = '상영횟수', nbins = 20)  \n",
    "fig.show()"
   ]
  },
  {
   "cell_type": "code",
   "execution_count": null,
   "id": "d40e96be-b829-4738-9610-293ede1b39ee",
   "metadata": {},
   "outputs": [],
   "source": [
    "fig = px.histogram(  ## plotly.express의 히스토그램 함수\n",
    "\t(df_boxoffice.filter(pl.col('순위') <= 100).with_columns(pl.col('개봉일').dt.weekday().alias('개봉요일'))\t\t.sort('개봉요일')\n",
    "\t.with_columns(pl.when(pl.col('개봉요일') == 1).then(pl.lit('월'))\n",
    "\t\t.when(pl.col('개봉요일') == 2).then(pl.lit('화'))\n",
    "\t\t.when(pl.col('개봉요일') == 3).then(pl.lit('수'))\n",
    "\t\t.when(pl.col('개봉요일') == 4).then(pl.lit('목'))\n",
    "\t.when(pl.col('개봉요일') == 5).then(pl.lit('금'))\n",
    "\t.when(pl.col('개봉요일') == 6).then(pl.lit('토'))\n",
    "\t.otherwise(pl.lit('일')).alias('개봉요일'))),\n",
    "\tx = \"개봉요일\", nbins = 7, text_auto = True)\n",
    "fig.show()"
   ]
  },
  {
   "cell_type": "code",
   "execution_count": null,
   "id": "20617869-b880-487f-a5f8-6443e298207a",
   "metadata": {},
   "outputs": [],
   "source": [
    "fig = px.histogram(  ## plotly.express의 히스토그램 함수\n",
    "\t(df_boxoffice.filter(pl.col('개봉일').dt.year() == 2024, pl.col('순위') <= 100)\n",
    "\t.with_columns(pl.col('개봉일').dt.month().alias('개봉월'))),  ## 순위 100위 이하 필터링\n",
    "    ## X축에 상영횟수 열을 매핑하고 bin의 수를 20개로 설정\n",
    "    x = \"개봉월\", nbins = 12, color = '대표국적', text_auto = True)\n",
    "fig.show()"
   ]
  },
  {
   "cell_type": "markdown",
   "id": "9aef80b7-22aa-482c-9d10-d881068d405a",
   "metadata": {},
   "source": [
    "### 8.3.2\t산점도로 시각화하는 스크린 수와 매출액 관계"
   ]
  },
  {
   "cell_type": "markdown",
   "id": "672af922-1445-4015-adfe-665f8da3376c",
   "metadata": {},
   "source": [
    "[8.3.2 결과확인: https://estndard.github.io/polars/8.3.2.html](https://estndard.github.io/polars/8.3.2.html)"
   ]
  },
  {
   "cell_type": "code",
   "execution_count": null,
   "id": "f4399f7c-d85a-46ed-83bf-974e0c1776c7",
   "metadata": {},
   "outputs": [],
   "source": [
    "(df_boxoffice.filter(pl.col('순위') <= 100)\n",
    "\t.plot.point(x = '스크린수', y = '매출액', color = '대표국적'))"
   ]
  },
  {
   "cell_type": "code",
   "execution_count": null,
   "id": "38f0c566-6729-45d0-b3ff-91495d62bcc6",
   "metadata": {},
   "outputs": [],
   "source": [
    "fig = px.scatter(df_boxoffice.filter(pl.col('순위') <= 100)\n",
    "\t.select(pl.col('스크린수'), pl.col('매출액'), pl.col('대표국적')),\n",
    "\tx = '스크린수', y = '매출액', color = '대표국적', trendline = 'lowess')\n",
    "fig.show()"
   ]
  },
  {
   "cell_type": "markdown",
   "id": "4e49cf48-2f3e-4092-a6f6-92bfe870f5f2",
   "metadata": {},
   "source": [
    "### 8.3.3\t페어 플롯으로 한눈에 비교하는 변수 간 관계"
   ]
  },
  {
   "cell_type": "markdown",
   "id": "664a3ad4-3e71-4e1a-b5bb-7cd627bc2bc4",
   "metadata": {},
   "source": [
    "[8.3.3 결과확인: https://estndard.github.io/polars/8.3.3.html](https://estndard.github.io/polars/8.3.3.html)"
   ]
  },
  {
   "cell_type": "code",
   "execution_count": null,
   "id": "2e22baa1-a2aa-4cc2-bd73-9cc63171ca09",
   "metadata": {},
   "outputs": [],
   "source": [
    "(df_boxoffice.filter(pl.col('순위') <= 100)\n",
    "             \n",
    "\t.select(['매출액', '누적매출액', '관객수', '누적관객수', '스크린수', '상영횟수'])\n",
    "\t\n",
    "             .plot.point(x = alt.X(alt.repeat(\"column\"), type ='quantitative'), \n",
    "\n",
    "\t\t                         y = alt.Y(alt.repeat(\"row\"), type ='quantitative'))\n",
    "\t\t\t             .repeat(row = ['매출액', '스크린수', '누적매출액'], column = [ '관객수', '상영횟수', '누적관객수'])) "
   ]
  },
  {
   "cell_type": "code",
   "execution_count": null,
   "id": "ece298bf-8162-40c1-bea8-88016cd485d2",
   "metadata": {},
   "outputs": [],
   "source": [
    "fig = px.scatter_matrix(\n",
    "    df_boxoffice.select(['매출액', '누적매출액', '관객수', '누적관객수', '스크린수', '상영횟수']).to_pandas())\n",
    "fig.show()"
   ]
  },
  {
   "cell_type": "markdown",
   "id": "6ed1c13e-bc5c-4a7c-b7b9-b3b991c0599f",
   "metadata": {},
   "source": [
    "### 8.3.4\t막대그래프로 비교한 국적별 평균 관객 수와 객단가"
   ]
  },
  {
   "cell_type": "markdown",
   "id": "902035ef-a82f-4ef1-b9ee-b2e4b1c6a1d6",
   "metadata": {},
   "source": [
    "[8.3.4 결과확인: https://estndard.github.io/polars/8.3.4.html](https://estndard.github.io/polars/8.3.4.html)"
   ]
  },
  {
   "cell_type": "code",
   "execution_count": null,
   "id": "47f34c56-2115-4738-975e-309242258b66",
   "metadata": {},
   "outputs": [],
   "source": [
    "(df_boxoffice.filter(pl.col('순위') <= 100)\n",
    "\t.group_by('대표국적').agg(pl.col('관객수').mean().alias('평균관객수'))\n",
    "\t.plot.bar(x = alt.X('대표국적').sort('-y'), y = '평균관객수').properties(width = 300, height = 300))"
   ]
  },
  {
   "cell_type": "code",
   "execution_count": null,
   "id": "c86767bf-42cf-4a29-9439-dd842274db18",
   "metadata": {},
   "outputs": [],
   "source": [
    "fig = px.bar((df_boxoffice.filter(pl.col('순위') <= 100).group_by('대표국적')\n",
    "\t.agg((pl.col('매출액').sum() / pl.col('관객수').sum()).round(1).alias('객단가')) \n",
    "\t.sort('객단가', descending = True)), \n",
    "\tx = '대표국적', y = '객단가', color = '대표국적', text = '객단가',\n",
    "\tcolor_discrete_map = {\"한국\": \"red\", \"일본\": \"gray\", \"프랑스\": \"gray\", \"미국\": \"gray\", \"영국\": \"gray\", \n",
    "\t\t\"호주\": \"gray\", \"대만\": \"gray\", \"중국\": \"gray\"})\n",
    "fig.show()"
   ]
  },
  {
   "cell_type": "code",
   "execution_count": null,
   "id": "6a8cc107-935e-454d-b7f9-f213a3feaa58",
   "metadata": {},
   "outputs": [],
   "source": [
    "fig = px.bar(\n",
    "\t(df_boxoffice.filter(pl.col('순위') <= 100, pl.col('대표국적').is_in([\"한국\", \"미국\", \"일본\"]))\n",
    "\t\t.with_columns(\n",
    "\t\t\tpl.when(pl.col('등급') == \"15세관람가,15세이상관람가\")\n",
    "\t\t\t    .then(pl.lit(\"15세이상관람가\")).otherwise(pl.col('등급')).alias('등급'))\n",
    "\t\t.group_by('등급', '대표국적').agg(pl.col('관객수').mean().round(1).alias('관객수'))), \n",
    "\tx = '등급', y = '관객수', facet_col = '대표국적', text = '관객수', \n",
    "\tcategory_orders = {\"대표국적\": [\"한국\", \"미국\", \"일본\"], \n",
    "\t\t\"등급\": [\"전체관람가\", \"12세이상관람가\", \"15세이상관람가\", \"청소년관람불가\"]})\n",
    "fig.show()"
   ]
  },
  {
   "cell_type": "markdown",
   "id": "c73a76b0-9504-4b90-822a-5b7464cf13e1",
   "metadata": {},
   "source": [
    "### 8.3.5\t선 그래프로 비교하는 〈파묘〉와 〈범죄도시 4〉 관객 추이"
   ]
  },
  {
   "cell_type": "markdown",
   "id": "506df7a1-5d20-4b77-9936-69032a8b3f87",
   "metadata": {},
   "source": [
    "[8.3.5 결과확인: https://estndard.github.io/polars/8.3.5.html](https://estndard.github.io/polars/8.3.5.html)"
   ]
  },
  {
   "cell_type": "code",
   "execution_count": null,
   "id": "6321056f-0d6a-4b55-bbbd-7dff6f2a7092",
   "metadata": {},
   "outputs": [],
   "source": [
    "df_exhuma = (pl.read_csv(\"./KOBIS_일자별_통계정보_파묘.csv\", skip_rows = 3, try_parse_dates = True)\n",
    "\t.with_columns(pl.col('스크린수', '상영횟수', '좌석수', '매출액', '관객수', '누적매출액', '누적관객수')\n",
    "\t\t.str.replace_all(',', '').cast(pl.Int64),\n",
    "\t\tpl.col('스크린점유율', '상영점유율', '좌석점유율', '좌석판매율').str.replace_all('%', '').cast(pl.Float64))\n",
    "\t.with_columns(pl.col('매출액').diff().alias('매출액변화'), pl.col('관객수').diff().alias('관객수변화'))\n",
    "\t.with_columns(pl.lit('파묘').alias('영화명')))"
   ]
  },
  {
   "cell_type": "code",
   "execution_count": null,
   "id": "c1ff7756-0c42-4841-ba3b-6d306df3e965",
   "metadata": {},
   "outputs": [],
   "source": [
    "df_roundup = (pl.read_csv(\"./KOBIS_일자별_통계정보_범죄도시.csv\", skip_rows = 3, try_parse_dates = True)\n",
    "\t.with_columns(pl.col('스크린수', '상영횟수', '좌석수', '매출액', '관객수', '누적매출액', '누적관객수')\n",
    "\t\t.str.replace_all(',', '').cast(pl.Int64),\n",
    "\t\tpl.col('스크린점유율', '상영점유율', '좌석점유율', '좌석판매율').str.replace_all('%', '').cast(pl.Float64))\n",
    "\t.with_columns(pl.col('매출액').diff().alias('매출액변화'), pl.col('관객수').diff().alias('관객수변화'))\n",
    "\t.with_columns(pl.lit('범죄도시4').alias('영화명')))"
   ]
  },
  {
   "cell_type": "code",
   "execution_count": null,
   "id": "96ae1d64-4336-42c9-9c4d-a9624c8aa749",
   "metadata": {},
   "outputs": [],
   "source": [
    "df_merge = pl.concat([df_exhuma, df_roundup], how = \"vertical\")\n",
    "df_merge"
   ]
  },
  {
   "cell_type": "code",
   "execution_count": null,
   "id": "34577a15-11fd-49b2-9378-b38faa5de4e7",
   "metadata": {},
   "outputs": [],
   "source": [
    "df_merge.plot.line(x = '날짜', y = '관객수', color = '영화명').properties(width = 800, height = 350)"
   ]
  },
  {
   "cell_type": "code",
   "execution_count": null,
   "id": "d5f66e51-d11f-4675-b917-96ac1d68ba2f",
   "metadata": {},
   "outputs": [],
   "source": [
    "fig = px.line(df_merge, x = '날짜', y = '누적관객수', color = '영화명')\n",
    "fig.show()"
   ]
  },
  {
   "cell_type": "markdown",
   "id": "3c06cc2e-709d-45f7-9490-51c448bb0cb6",
   "metadata": {},
   "source": [
    "### 8.3.6\t박스 플롯으로 비교하는 등급 및 장르별 관객 수 분포"
   ]
  },
  {
   "cell_type": "markdown",
   "id": "6530b0f9-0e0e-4407-a309-f5fdb9ff3712",
   "metadata": {},
   "source": [
    "[8.3.6 결과확인: https://estndard.github.io/polars/8.3.6.html](https://estndard.github.io/polars/8.3.6.html)"
   ]
  },
  {
   "cell_type": "code",
   "execution_count": null,
   "id": "11a8da6d-4084-4f71-becc-76a0da598f04",
   "metadata": {},
   "outputs": [],
   "source": [
    "(df_boxoffice.filter(pl.col('순위') <= 100)\t\n",
    "\t.with_columns(pl.when(pl.col('등급') == '15세관람가,15세이상관람가')\n",
    "\t\t.then(pl.lit('15세이상관람가')).otherwise(pl.col('등급')).alias('등급'))\n",
    "\t.plot.boxplot(x = '대표국적', y = '매출액'))"
   ]
  },
  {
   "cell_type": "code",
   "execution_count": null,
   "id": "7de57944-da24-430c-b8bf-5de30787a393",
   "metadata": {},
   "outputs": [],
   "source": [
    "fig = px.box((df_boxoffice.filter(pl.col('순위') <= 200).explode('장르')\n",
    "\t.with_columns((pl.col('관객수') / pl.col('상영횟수')).alias('상영횟수별관객수'))), \n",
    "\tx = '장르', y = '상영횟수별관객수', points = \"all\", \t\n",
    "\ttitle = '박스오피스 200위의 장르별 상영횟수당 관객수')\n",
    "fig.show()"
   ]
  },
  {
   "cell_type": "markdown",
   "id": "124edd52-7e3c-4019-8ff6-7ee707c7d1e6",
   "metadata": {},
   "source": [
    "## 8.4\t폴라스 표로 영화 데이터 정확하게 시각화하기"
   ]
  },
  {
   "cell_type": "code",
   "execution_count": null,
   "id": "d0ea38f1-57e7-4b16-bc19-44c9b19abe1b",
   "metadata": {},
   "outputs": [],
   "source": [
    "## 생략된 코드\n",
    "## 인사이드아웃\n",
    "df_insideout = pl.read_csv(\"./KOBIS_일자별_통계정보_인사이드아웃2.csv\", skip_rows = 3, try_parse_dates=True)\n",
    "df_insideout_cols = df_insideout.columns\n",
    "df_insideout.columns = [i.replace(' ', '') for i in df_insideout_cols]\n",
    "df_insideout = df_insideout.with_columns(\n",
    "    pl.col('스크린수', '상영횟수', '좌석수', '매출액', '관객수', '누적매출액', '누적관객수').str.replace_all(',', '').cast(pl.Int64),\n",
    "    pl.col('스크린점유율', '상영점유율', '좌석점유율', '좌석판매율').str.replace_all('%', '').cast(pl.Float64), \n",
    ").with_columns(\n",
    "    pl.col('매출액').diff().alias('매출액변화'), \n",
    "    pl.col('관객수').diff().alias('관객수변화')\n",
    ").with_columns(pl.lit('인사이드 아웃 2').alias('영화명'))\n",
    "\n",
    "## 베테랑\n",
    "df_Executioner = pl.read_csv(\"./KOBIS_일자별_통계정보_베테랑2.csv\", skip_rows = 3, try_parse_dates=True)\n",
    "df_Executioner_cols = df_Executioner.columns\n",
    "df_Executioner.columns = [i.replace(' ', '') for i in df_Executioner_cols]\n",
    "df_Executioner = df_Executioner.with_columns(\n",
    "    pl.col('스크린수', '상영횟수', '좌석수', '매출액', '관객수', '누적매출액', '누적관객수').str.replace_all(',', '').cast(pl.Int64),\n",
    "    pl.col('스크린점유율', '상영점유율', '좌석점유율', '좌석판매율').str.replace_all('%', '').cast(pl.Float64), \n",
    ").with_columns(\n",
    "    pl.col('매출액').diff().alias('매출액변화'), \n",
    "    pl.col('관객수').diff().alias('관객수변화')\n",
    ").with_columns(pl.lit('베테랑2').alias('영화명'))\n",
    "\n",
    "## 파일럿\n",
    "df_Pilot = pl.read_csv(\"./KOBIS_일자별_통계정보_파일럿.csv\", skip_rows = 3, try_parse_dates=True)\n",
    "df_Pilot_cols = df_Pilot.columns\n",
    "df_Pilot.columns = [i.replace(' ', '') for i in df_Pilot_cols]\n",
    "df_Pilot = df_Pilot.with_columns(\n",
    "    pl.col('스크린수', '상영횟수', '좌석수', '매출액', '관객수', '누적매출액', '누적관객수').str.replace_all(',', '').cast(pl.Int64),\n",
    "    pl.col('스크린점유율', '상영점유율', '좌석점유율', '좌석판매율').str.replace_all('%', '').cast(pl.Float64), \n",
    ").with_columns(\n",
    "    pl.col('매출액').diff().alias('매출액변화'), \n",
    "    pl.col('관객수').diff().alias('관객수변화')\n",
    ").with_columns(pl.lit('파일럿').alias('영화명'))\n",
    "\n",
    "## 웡카\n",
    "df_Wonka = pl.read_csv(\"./KOBIS_일자별_통계정보_웡카.csv\", skip_rows = 3, try_parse_dates=True)\n",
    "df_Wonka_cols = df_Wonka.columns\n",
    "df_Wonka.columns = [i.replace(' ', '') for i in df_Wonka_cols]\n",
    "df_Wonka = df_Wonka.with_columns(\n",
    "    pl.col('스크린수', '상영횟수', '좌석수', '매출액', '관객수', '누적매출액', '누적관객수').str.replace_all(',', '').cast(pl.Int64),\n",
    "    pl.col('스크린점유율', '상영점유율', '좌석점유율', '좌석판매율').str.replace_all('%', '').cast(pl.Float64), \n",
    ").with_columns(\n",
    "    pl.col('매출액').diff().alias('매출액변화'), \n",
    "    pl.col('관객수').diff().alias('관객수변화')\n",
    ").with_columns(pl.lit('웡카').alias('영화명'))\n",
    "\n",
    "## 모아나2\n",
    "df_Moana2 = pl.read_csv(\"./KOBIS_일자별_통계정보_모아나2.csv\", skip_rows = 3, try_parse_dates=True)\n",
    "df_Moana2_cols = df_Moana2.columns\n",
    "df_Moana2.columns = [i.replace(' ', '') for i in df_Moana2_cols]\n",
    "df_Moana2 = df_Moana2.with_columns(\n",
    "    pl.col('스크린수', '상영횟수', '좌석수', '매출액', '관객수', '누적매출액', '누적관객수').str.replace_all(',', '').cast(pl.Int64),\n",
    "    pl.col('스크린점유율', '상영점유율', '좌석점유율', '좌석판매율').str.replace_all('%', '').cast(pl.Float64), \n",
    ").with_columns(\n",
    "    pl.col('매출액').diff().alias('매출액변화'), \n",
    "    pl.col('관객수').diff().alias('관객수변화')\n",
    ").with_columns(pl.lit('모아나 2').alias('영화명'))\n",
    "\n",
    "## 소방관관\n",
    "df_Firefighter = pl.read_csv(\"./KOBIS_일자별_통계정보_소방관.csv\", skip_rows = 3, try_parse_dates=True)\n",
    "df_Firefighter_cols = df_Firefighter.columns\n",
    "df_Firefighter.columns = [i.replace(' ', '') for i in df_Firefighter_cols]\n",
    "df_Firefighter = df_Firefighter.with_columns(\n",
    "    pl.col('스크린수', '상영횟수', '좌석수', '매출액', '관객수', '누적매출액', '누적관객수').str.replace_all(',', '').cast(pl.Int64),\n",
    "    pl.col('스크린점유율', '상영점유율', '좌석점유율', '좌석판매율').str.replace_all('%', '').cast(pl.Float64), \n",
    ").with_columns(\n",
    "    pl.col('매출액').diff().alias('매출액변화'), \n",
    "    pl.col('관객수').diff().alias('관객수변화')\n",
    ").with_columns(pl.lit('소방관').alias('영화명'))\n",
    "\n",
    "## 하얼빈\n",
    "df_Harbin = pl.read_csv(\"./KOBIS_일자별_통계정보_하얼빈.csv\", skip_rows = 3, try_parse_dates=True)\n",
    "df_Harbin_cols = df_Harbin.columns\n",
    "df_Harbin.columns = [i.replace(' ', '') for i in df_Harbin_cols]\n",
    "df_Harbin = df_Harbin.with_columns(\n",
    "    pl.col('스크린수', '상영횟수', '좌석수', '매출액', '관객수', '누적매출액', '누적관객수').str.replace_all(',', '').cast(pl.Int64),\n",
    "    pl.col('스크린점유율', '상영점유율', '좌석점유율', '좌석판매율').str.replace_all('%', '').cast(pl.Float64), \n",
    ").with_columns(\n",
    "    pl.col('매출액').diff().alias('매출액변화'), \n",
    "    pl.col('관객수').diff().alias('관객수변화')\n",
    ").with_columns(pl.lit('하얼빈').alias('영화명'))\n",
    "\n",
    "## 탈주\n",
    "df_Escape = pl.read_csv(\"./KOBIS_일자별_통계정보_탈주.csv\", skip_rows = 3, try_parse_dates=True)\n",
    "df_Escape_cols = df_Escape.columns\n",
    "df_Escape.columns = [i.replace(' ', '') for i in df_Escape_cols]\n",
    "df_Escape = df_Escape.with_columns(\n",
    "    pl.col('스크린수', '상영횟수', '좌석수', '매출액', '관객수', '누적매출액', '누적관객수').str.replace_all(',', '').cast(pl.Int64),\n",
    "    pl.col('스크린점유율', '상영점유율', '좌석점유율', '좌석판매율').str.replace_all('%', '').cast(pl.Float64), \n",
    ").with_columns(\n",
    "    pl.col('매출액').diff().alias('매출액변화'), \n",
    "    pl.col('관객수').diff().alias('관객수변화')\n",
    ").with_columns(pl.lit('탈주').alias('영화명'))"
   ]
  },
  {
   "cell_type": "code",
   "execution_count": null,
   "id": "8b228c4d-4b9a-44e0-84e4-3e010f39b674",
   "metadata": {},
   "outputs": [],
   "source": [
    "df_boxoffice_10 = (pl.concat([\n",
    "\t\tdf_exhuma.sort('날짜').head(30), df_roundup.sort('날짜').head(30), df_insideout.sort('날짜').head(30),\n",
    "\t\tdf_Executioner.sort('날짜').head(30), df_Pilot.sort('날짜').head(30), df_Wonka.sort('날짜').head(30), \n",
    "\t\tdf_Moana2.sort('날짜').head(30), df_Firefighter.sort('날짜').head(30), df_Harbin.sort('날짜').head(30),\n",
    "\t\tdf_Escape.sort('날짜').head(30)], \n",
    "\thow = \"vertical\").group_by('영화명').agg(pl.col('관객수').alias('30일관객수')))\n",
    "df_boxoffice_10"
   ]
  },
  {
   "cell_type": "code",
   "execution_count": null,
   "id": "ac735c95-a0ef-4c54-953a-2c4b1ef5bfe7",
   "metadata": {},
   "outputs": [],
   "source": [
    "df_boxoffice_table = (\n",
    "\tdf_boxoffice.with_columns(pl.col('배우').list.head(3), \n",
    "\t\tpl.when(pl.col('대표국적') == \"한국\").then(pl.lit(\"KOR\"))\n",
    "\t\t.when(pl.col('대표국적') == \"미국\").then(pl.lit(\"USA\")).alias('flag'),\n",
    "\t\t(pl.col('매출액') / pl.col('관객수')).round(1).alias('객단가'))\n",
    "\t.select(pl.all().exclude([\"국적\", \"대표국적\", \"배급사\", \"제작사\",  \"누적관객수\", \"누적매출액\", \n",
    "\t\t\"매출액점유율\"])).head(10)\n",
    ".join(df_boxoffice_10, on = '영화명').sort(\"순위\"))\n",
    "\n",
    "posterURL = [\n",
    "    \"https://www.kobis.or.kr/common/mast/movie/2024/02/febb838d186b46878ca5467759930333.jpg\",\n",
    "    \"https://www.kobis.or.kr/common/mast/movie/2024/04/82a5c26f7bdd447093270311a2caa153.jpg\",\n",
    "    \"https://www.kobis.or.kr/common/mast/movie/2024/06/041e1f5d30ad452ea0c31714aadb8734.jpg\",\n",
    "    \"https://www.kobis.or.kr/common/mast/movie/2024/08/886a61eb398d4cedb346d9ffbf3345c3.jpg\",\n",
    "    \"https://www.kobis.or.kr/common/mast/movie/2024/07/a901202adef143bd8cd3a54fd90e3fa8.jpg\",\n",
    "    \"https://www.kobis.or.kr/common/mast/movie/2024/01/909ae4c66c9a439f98f90afe60ec42fb.jpg\",\n",
    "    \"https://www.kobis.or.kr/common/mast/movie/2024/11/b0a0a5ae940443049c18e22e4787b08b.jpg\",\n",
    "    \"https://www.kobis.or.kr/common/mast/movie/2024/12/090f80c0e45d46569852d1e04418f4ed.jpg\",\n",
    "    \"https://www.kobis.or.kr/common/mast/movie/2025/01/a3c89c36722e41068cf0c01308ebef3a.jpg\",\n",
    "    \"https://www.kobis.or.kr/common/mast/movie/2024/07/e7d6eec007b84ed381a4f54d7b33147a.jpg\"]\n",
    "\n",
    "df_boxoffice_table = df_boxoffice_table.with_columns(pl.Series(\"posterURL\", posterURL))\n",
    "df_boxoffice_table"
   ]
  },
  {
   "cell_type": "markdown",
   "id": "8f96d0b9-aa75-4a46-9b7b-2f7521cf7306",
   "metadata": {},
   "source": [
    "### 8.4.2\tGT 객체 생성 방식 비교"
   ]
  },
  {
   "cell_type": "code",
   "execution_count": null,
   "id": "5c40fab9-d1d7-4ed7-8bcc-0934682be2ff",
   "metadata": {},
   "outputs": [],
   "source": [
    "type(df_boxoffice_table.head(10).style)"
   ]
  },
  {
   "cell_type": "code",
   "execution_count": null,
   "id": "365529f0-5c7a-43a1-b9e7-0c8ca52eb8d7",
   "metadata": {},
   "outputs": [],
   "source": [
    "from great_tables import GT, md, html, loc, style\n",
    "gt_boxoffice = GT(df_boxoffice_table.head(10), locale = \"ko\")\n",
    "gt_boxoffice"
   ]
  },
  {
   "cell_type": "markdown",
   "id": "789d796a-462d-4b2c-aa0c-050bf52d2742",
   "metadata": {},
   "source": [
    "### 8.4.3\t표 시각화를 위한 구조 설정"
   ]
  },
  {
   "cell_type": "code",
   "execution_count": null,
   "id": "f89b24b2-e3c3-4a19-b187-af5c700f0428",
   "metadata": {},
   "outputs": [],
   "source": [
    "style_boxoffice = (df_boxoffice_table.head(10)\n",
    "\t.style.tab_header(title = '2024년 박스오피스 Top 10',\n",
    "\t\tsubtitle = md('2024년 상영 영화 중 1,000만 관객이 든 영화는 <strong>파묘</strong>, <strong>범죄도시 4</strong>였고, 미국영화 중 가장 흥행작은 **인사이드아웃 2**였습니다.')))\n",
    "style_boxoffice"
   ]
  },
  {
   "cell_type": "code",
   "execution_count": null,
   "id": "1f117d84-3be7-47f8-9630-39f3c94c8bd1",
   "metadata": {},
   "outputs": [],
   "source": [
    "gt_boxoffice = gt_boxoffice.tab_header(title = '2024년 박스오피스 Top 10',\n",
    "\tsubtitle = md('2024년 상영 영화 중 1,000만 관객이 든 영화는 <strong>파묘</strong>, <strong>범죄도시 4</strong>였고, 미국영화 중 가장 흥행작은 **인사이드아웃 2** 였습니다.'))\n",
    "gt_boxoffice"
   ]
  },
  {
   "cell_type": "code",
   "execution_count": null,
   "id": "7f0b1750-2d78-41c2-bce9-598282eeff10",
   "metadata": {},
   "outputs": [],
   "source": [
    "style_boxoffice1 = (\n",
    "\tstyle_boxoffice.tab_stub(rowname_col = '순위', groupname_col = '등급').tab_stubhead('순위'))\n",
    "style_boxoffice1"
   ]
  },
  {
   "cell_type": "code",
   "execution_count": null,
   "id": "933ce1ba-0643-4bcc-a39f-a948e495faa5",
   "metadata": {},
   "outputs": [],
   "source": [
    "style_boxoffice2 = (style_boxoffice1\n",
    "\t.cols_label(배우 = '대표배우').cols_label(flag = '국가')  ## 배우 열 이름은 대표배우로, flag 열 이름은 국가로 변경\n",
    "\t.cols_move(['감독', '배우', '장르'], '영화명')  ## 영화명 뒤로 감독, 배우, 장르 열 이동 \n",
    "\t.cols_move('flag', '상영횟수')  ## 상영횟수 뒤로 flag 열 이동\n",
    ".cols_move_to_start('posterURL')  ## 맨 앞으로 posterURL 열 이동\n",
    ".cols_align(align = \"center\")  ## 열의 정렬을 중간 정렬로 설정\n",
    ".cols_width(cases = {\"영화명\": \"80px\", \"감독\": \"75px\"})  ## 영화명과 감독 열의 너비 지정\n",
    ".tab_spanner('영화정보', ['감독', '배우', '장르', '개봉일'])  ## 감독, 배우, 장르, 개봉일은 영화정보 스패너로 설정\n",
    "\t.tab_spanner('매출정보', ['매출액', '객단가'])  ## 매출액, 객단가 열은 매출정보 스패너로 설정\n",
    "\t.tab_spanner('관객정보', ['관객수'])  ## 관객수는 관객정보 스패너로 설정\n",
    "\t.tab_spanner('상영정보', ['스크린수', '상영횟수']))  ## 스크린수, 상영횟수는 상영정보 스패너로 설정\n",
    "style_boxoffice2"
   ]
  },
  {
   "cell_type": "markdown",
   "id": "c1a35081-3478-4734-b939-599df6902bec",
   "metadata": {},
   "source": [
    "### 8.4.4\tGT 셀 포매팅과 시각적 조정"
   ]
  },
  {
   "cell_type": "code",
   "execution_count": null,
   "id": "92efa615-d4af-4758-9f06-674a8d75be73",
   "metadata": {},
   "outputs": [],
   "source": [
    "style_boxoffice3 = (style_boxoffice2\n",
    "\t.fmt_currency(columns = ['매출액', '객단가'], currency = \"KRW\")\n",
    "\t.fmt_integer(columns = ['관객수', '스크린수', '상영횟수'])\n",
    "\t.fmt_date(columns = '개봉일', date_style = \"wday_month_day_year\", locale = \"ko\")) \n",
    "style_boxoffice3"
   ]
  },
  {
   "cell_type": "code",
   "execution_count": null,
   "id": "b297a287-c1bb-4330-9bc5-1bd74952e355",
   "metadata": {},
   "outputs": [],
   "source": [
    "style_boxoffice4 = (style_boxoffice3.fmt_flag(columns = \"flag\", height = \"3em\")\n",
    "\t.cols_width(cases = {'posterURL': \"80px\"})\n",
    "\t.fmt_image(columns = 'posterURL', width = \"100%\")\n",
    "\t.cols_label(posterURL = \"\"))\n",
    "style_boxoffice4"
   ]
  },
  {
   "cell_type": "code",
   "execution_count": null,
   "id": "dd8f2268-e484-4137-a5f7-2eeb7e854694",
   "metadata": {},
   "outputs": [],
   "source": [
    "style_boxoffice5 = style_boxoffice4.fmt_nanoplot(columns = \"30일관객수\", reference_line = \"mean\")\n",
    "style_boxoffice5"
   ]
  },
  {
   "cell_type": "markdown",
   "id": "ffea46c2-eaa8-4145-a441-04ac1e2060f0",
   "metadata": {},
   "source": [
    "### 8.4.5\t조건부 서식과 강조를 위한 셀 스타일링"
   ]
  },
  {
   "cell_type": "code",
   "execution_count": null,
   "id": "4111aefe-4626-49d5-adde-01ff10f58aed",
   "metadata": {},
   "outputs": [],
   "source": [
    "style_boxoffice6 = (style_boxoffice5\n",
    "\t.tab_style(style = style.text(weight = \"bold\"), locations = loc.body(columns = '영화명'))\n",
    "\t\t.tab_style(style = style.text(color = \"blue\"), locations = loc.body(columns='영화명', rows = [0, 1]))\n",
    "\t\t.tab_style(style = style.text(weight = \"bold\", size = \"xx-large\"), locations = loc.title()))\n",
    "style_boxoffice6"
   ]
  },
  {
   "cell_type": "code",
   "execution_count": null,
   "id": "be342666-aa75-4b24-9fed-eb0b606d9bad",
   "metadata": {},
   "outputs": [],
   "source": [
    "style_boxoffice7 = (style_boxoffice6\n",
    "    .tab_style(\n",
    "        style = style.text(color = pl.when(pl.col('관객수') > 5_000_000).then(pl.lit(\"red\")).otherwise(pl.lit(\"lightgray\"))),\t\n",
    "\t locations = loc.body(columns = '관객수'))\n",
    "\t.tab_style(\n",
    "\t\tstyle = style.text(weight = \"bold\"), \n",
    "\t\tlocations = loc.body(rows = pl.col('관객수') == pl.col('관객수').max()))\t\n",
    "\t.tab_style(\n",
    "\t\tstyle = style.fill(color = pl.when(pl.col('객단가') > pl.col('객단가').mean()).then(pl.lit(\"yellow\")).otherwise(pl.lit(\"lightgray\"))),\n",
    "\t\tlocations = loc.body(columns = '객단가'))\n",
    "\t.tab_style(\n",
    "\t\tstyle = style.borders(color = \"blue\", weight = \"3px\"),\n",
    "\t\tlocations = loc.body(columns = '매출액', rows = pl.col('매출액') > pl.col('매출액').mean())))\n",
    "style_boxoffice7"
   ]
  },
  {
   "cell_type": "code",
   "execution_count": null,
   "id": "2b3bbd9d-f97c-4b36-9a51-5c568b7ae171",
   "metadata": {},
   "outputs": [],
   "source": [
    "style_boxoffice8 = style_boxoffice7.data_color(\n",
    "\tcolumns = '스크린수', palette = \"Greens\", domain = [1000, 3000])\n",
    "style_boxoffice8"
   ]
  },
  {
   "cell_type": "code",
   "execution_count": null,
   "id": "35e013d8-9e4a-44a5-8b75-5f8df685dd30",
   "metadata": {},
   "outputs": [],
   "source": [
    "style_boxoffice9 = (style_boxoffice8\n",
    "\t.tab_source_note(source_note = html('출처: <img src = \"https://www.kobis.or.kr/kobis/web/comm/images/comm/logo_comm.png\"> (https://www.kobis.or.kr/)'))\n",
    "\t.tab_style(style = style.text(align = \"right\", weight = \"bold\"), locations = loc.source_notes()))\n",
    "style_boxoffice9"
   ]
  }
 ],
 "metadata": {
  "kernelspec": {
   "display_name": "venv_polars_book_deploy",
   "language": "python",
   "name": "venv_polars_book_deploy"
  },
  "language_info": {
   "codemirror_mode": {
    "name": "ipython",
    "version": 3
   },
   "file_extension": ".py",
   "mimetype": "text/x-python",
   "name": "python",
   "nbconvert_exporter": "python",
   "pygments_lexer": "ipython3",
   "version": "3.12.7"
  }
 },
 "nbformat": 4,
 "nbformat_minor": 5
}
