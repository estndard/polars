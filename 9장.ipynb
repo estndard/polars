{
 "cells": [
  {
   "cell_type": "markdown",
   "id": "f874c1aa-de4b-40d7-bfa3-54aa415d7664",
   "metadata": {},
   "source": [
    "# 9장\t스포티파이 음악 데이터를 탐색적으로 분석하기"
   ]
  },
  {
   "cell_type": "code",
   "execution_count": null,
   "id": "fadb4a0f-e639-49cc-a109-d1f45c9c3384",
   "metadata": {},
   "outputs": [],
   "source": [
    "import kagglehub\n",
    "\n",
    "path = kagglehub.dataset_download(\"asaniczka/top-spotify-songs-in-73-countries-daily-updated/versions/463\")\n",
    "print(\"Path to dataset files:\", path)"
   ]
  },
  {
   "cell_type": "markdown",
   "id": "e05b58b9-396d-4582-8a3b-6d51935979d9",
   "metadata": {},
   "source": [
    "## 9.2\tEDA를 위한 데이터 준비하기"
   ]
  },
  {
   "cell_type": "code",
   "execution_count": 1,
   "id": "9a81a2ee-fc68-4406-8661-33cd6642b26f",
   "metadata": {},
   "outputs": [
    {
     "data": {
      "text/html": [
       "<div><style>\n",
       ".dataframe > thead > tr,\n",
       ".dataframe > tbody > tr {\n",
       "  text-align: right;\n",
       "  white-space: pre-wrap;\n",
       "}\n",
       "</style>\n",
       "<small>shape: (1_282_230, 25)</small><table border=\"1\" class=\"dataframe\"><thead><tr><th>spotify_id</th><th>name</th><th>artists</th><th>daily_rank</th><th>daily_movement</th><th>weekly_movement</th><th>country</th><th>snapshot_date</th><th>popularity</th><th>is_explicit</th><th>duration_ms</th><th>album_name</th><th>album_release_date</th><th>danceability</th><th>energy</th><th>key</th><th>loudness</th><th>mode</th><th>speechiness</th><th>acousticness</th><th>instrumentalness</th><th>liveness</th><th>valence</th><th>tempo</th><th>time_signature</th></tr><tr><td>str</td><td>str</td><td>str</td><td>i64</td><td>i64</td><td>i64</td><td>str</td><td>date</td><td>i64</td><td>bool</td><td>i64</td><td>str</td><td>date</td><td>f64</td><td>f64</td><td>i64</td><td>f64</td><td>i64</td><td>f64</td><td>f64</td><td>f64</td><td>f64</td><td>f64</td><td>f64</td><td>i64</td></tr></thead><tbody><tr><td>&quot;3rUGC1vUpkDG9CZFHMur1t&quot;</td><td>&quot;greedy&quot;</td><td>&quot;Tate McRae&quot;</td><td>1</td><td>0</td><td>15</td><td>null</td><td>2024-01-01</td><td>97</td><td>true</td><td>131872</td><td>&quot;greedy&quot;</td><td>2023-09-15</td><td>0.75</td><td>0.733</td><td>6</td><td>-3.18</td><td>0</td><td>0.0319</td><td>0.256</td><td>0.0</td><td>0.114</td><td>0.844</td><td>111.018</td><td>1</td></tr><tr><td>&quot;0R6NfOiLzLj4O5VbYSJAjf&quot;</td><td>&quot;La Diabla&quot;</td><td>&quot;Xavi&quot;</td><td>2</td><td>2</td><td>22</td><td>null</td><td>2024-01-01</td><td>91</td><td>false</td><td>172264</td><td>&quot;La Diabla&quot;</td><td>2023-11-30</td><td>0.751</td><td>0.819</td><td>11</td><td>-4.372</td><td>0</td><td>0.0409</td><td>0.255</td><td>0.0</td><td>0.236</td><td>0.697</td><td>131.842</td><td>3</td></tr><tr><td>&quot;1BxfuPKGuaTgP7aM0Bbdwr&quot;</td><td>&quot;Cruel Summer&quot;</td><td>&quot;Taylor Swift&quot;</td><td>3</td><td>0</td><td>26</td><td>null</td><td>2024-01-01</td><td>96</td><td>false</td><td>178426</td><td>&quot;Lover&quot;</td><td>2019-08-23</td><td>0.552</td><td>0.702</td><td>9</td><td>-5.707</td><td>1</td><td>0.157</td><td>0.117</td><td>0.0000206</td><td>0.105</td><td>0.564</td><td>169.994</td><td>4</td></tr><tr><td>&quot;4xhsWYTOGcal8zt0J161CU&quot;</td><td>&quot;Lovin On Me&quot;</td><td>&quot;Jack Harlow&quot;</td><td>4</td><td>-2</td><td>22</td><td>null</td><td>2024-01-01</td><td>95</td><td>true</td><td>138411</td><td>&quot;Lovin On Me&quot;</td><td>2023-11-10</td><td>0.943</td><td>0.558</td><td>2</td><td>-4.911</td><td>1</td><td>0.0568</td><td>0.0026</td><td>0.000002</td><td>0.0937</td><td>0.606</td><td>104.983</td><td>4</td></tr><tr><td>&quot;2HRgqmZQC0MC7GeNuDIXHN&quot;</td><td>&quot;Seven (feat. Latto) (Explicit …</td><td>&quot;Jung Kook, Latto&quot;</td><td>5</td><td>2</td><td>29</td><td>null</td><td>2024-01-01</td><td>88</td><td>true</td><td>183550</td><td>&quot;GOLDEN&quot;</td><td>2023-11-03</td><td>0.79</td><td>0.831</td><td>11</td><td>-4.185</td><td>1</td><td>0.044</td><td>0.312</td><td>0.0</td><td>0.0797</td><td>0.872</td><td>124.987</td><td>4</td></tr><tr><td>&hellip;</td><td>&hellip;</td><td>&hellip;</td><td>&hellip;</td><td>&hellip;</td><td>&hellip;</td><td>&hellip;</td><td>&hellip;</td><td>&hellip;</td><td>&hellip;</td><td>&hellip;</td><td>&hellip;</td><td>&hellip;</td><td>&hellip;</td><td>&hellip;</td><td>&hellip;</td><td>&hellip;</td><td>&hellip;</td><td>&hellip;</td><td>&hellip;</td><td>&hellip;</td><td>&hellip;</td><td>&hellip;</td><td>&hellip;</td><td>&hellip;</td></tr><tr><td>&quot;7G7mSV4BebkoHWwKTDvXu9&quot;</td><td>&quot;Winter Ahead (with PARK HYO SH…</td><td>&quot;V, Park Hyo Shin&quot;</td><td>46</td><td>-20</td><td>4</td><td>&quot;AE&quot;</td><td>2024-12-31</td><td>88</td><td>false</td><td>234895</td><td>&quot;Winter Ahead (with PARK HYO SH…</td><td>2024-11-29</td><td>0.36</td><td>0.316</td><td>3</td><td>-9.954</td><td>1</td><td>0.0284</td><td>0.858</td><td>0.000212</td><td>0.23</td><td>0.229</td><td>76.844</td><td>3</td></tr><tr><td>&quot;3qhlB30KknSejmIvZZLjOD&quot;</td><td>&quot;End of Beginning&quot;</td><td>&quot;Djo&quot;</td><td>47</td><td>-2</td><td>3</td><td>&quot;AE&quot;</td><td>2024-12-31</td><td>89</td><td>false</td><td>159245</td><td>&quot;DECIDE&quot;</td><td>2022-09-16</td><td>0.689</td><td>0.454</td><td>2</td><td>-7.643</td><td>1</td><td>0.0584</td><td>0.0351</td><td>0.00259</td><td>0.0707</td><td>0.912</td><td>159.982</td><td>4</td></tr><tr><td>&quot;7BqBn9nzAq8spo5e7cZ0dJ&quot;</td><td>&quot;Just the Way You Are&quot;</td><td>&quot;Bruno Mars&quot;</td><td>48</td><td>2</td><td>2</td><td>&quot;AE&quot;</td><td>2024-12-31</td><td>86</td><td>false</td><td>220734</td><td>&quot;Doo-Wops &amp; Hooligans&quot;</td><td>2010-05-11</td><td>0.635</td><td>0.841</td><td>5</td><td>-5.379</td><td>1</td><td>0.0422</td><td>0.0134</td><td>0.0</td><td>0.0622</td><td>0.424</td><td>109.021</td><td>4</td></tr><tr><td>&quot;5e0b9LgOfi3aJSKXFcOWRe&quot;</td><td>&quot;Beanie&quot;</td><td>&quot;Chezile&quot;</td><td>49</td><td>1</td><td>1</td><td>&quot;AE&quot;</td><td>2024-12-31</td><td>86</td><td>false</td><td>132160</td><td>&quot;Beanie&quot;</td><td>2023-11-28</td><td>0.531</td><td>0.556</td><td>5</td><td>-6.245</td><td>1</td><td>0.0252</td><td>0.407</td><td>0.00915</td><td>0.318</td><td>0.156</td><td>138.978</td><td>3</td></tr><tr><td>&quot;4XTgFBxBHN6var1BzAgE1m&quot;</td><td>&quot;Jhol&quot;</td><td>&quot;Maanu, Annural Khalid&quot;</td><td>50</td><td>-2</td><td>0</td><td>&quot;AE&quot;</td><td>2024-12-31</td><td>74</td><td>false</td><td>265817</td><td>&quot;Jhol&quot;</td><td>2024-06-14</td><td>0.485</td><td>0.481</td><td>7</td><td>-8.145</td><td>0</td><td>0.0852</td><td>0.596</td><td>0.0</td><td>0.34</td><td>0.296</td><td>155.368</td><td>4</td></tr></tbody></table></div>"
      ],
      "text/plain": [
       "shape: (1_282_230, 25)\n",
       "┌─────────────────┬─────────────────┬─────────────────┬────────────┬───┬──────────┬─────────┬─────────┬────────────────┐\n",
       "│ spotify_id      ┆ name            ┆ artists         ┆ daily_rank ┆ … ┆ liveness ┆ valence ┆ tempo   ┆ time_signature │\n",
       "│ ---             ┆ ---             ┆ ---             ┆ ---        ┆   ┆ ---      ┆ ---     ┆ ---     ┆ ---            │\n",
       "│ str             ┆ str             ┆ str             ┆ i64        ┆   ┆ f64      ┆ f64     ┆ f64     ┆ i64            │\n",
       "╞═════════════════╪═════════════════╪═════════════════╪════════════╪═══╪══════════╪═════════╪═════════╪════════════════╡\n",
       "│ 3rUGC1vUpkDG9CZ ┆ greedy          ┆ Tate McRae      ┆ 1          ┆ … ┆ 0.114    ┆ 0.844   ┆ 111.018 ┆ 1              │\n",
       "│ FHMur1t         ┆                 ┆                 ┆            ┆   ┆          ┆         ┆         ┆                │\n",
       "│ 0R6NfOiLzLj4O5V ┆ La Diabla       ┆ Xavi            ┆ 2          ┆ … ┆ 0.236    ┆ 0.697   ┆ 131.842 ┆ 3              │\n",
       "│ bYSJAjf         ┆                 ┆                 ┆            ┆   ┆          ┆         ┆         ┆                │\n",
       "│ 1BxfuPKGuaTgP7a ┆ Cruel Summer    ┆ Taylor Swift    ┆ 3          ┆ … ┆ 0.105    ┆ 0.564   ┆ 169.994 ┆ 4              │\n",
       "│ M0Bbdwr         ┆                 ┆                 ┆            ┆   ┆          ┆         ┆         ┆                │\n",
       "│ 4xhsWYTOGcal8zt ┆ Lovin On Me     ┆ Jack Harlow     ┆ 4          ┆ … ┆ 0.0937   ┆ 0.606   ┆ 104.983 ┆ 4              │\n",
       "│ 0J161CU         ┆                 ┆                 ┆            ┆   ┆          ┆         ┆         ┆                │\n",
       "│ 2HRgqmZQC0MC7Ge ┆ Seven (feat.    ┆ Jung Kook,      ┆ 5          ┆ … ┆ 0.0797   ┆ 0.872   ┆ 124.987 ┆ 4              │\n",
       "│ NuDIXHN         ┆ Latto)          ┆ Latto           ┆            ┆   ┆          ┆         ┆         ┆                │\n",
       "│                 ┆ (Explicit …     ┆                 ┆            ┆   ┆          ┆         ┆         ┆                │\n",
       "│ …               ┆ …               ┆ …               ┆ …          ┆ … ┆ …        ┆ …       ┆ …       ┆ …              │\n",
       "│ 7G7mSV4BebkoHWw ┆ Winter Ahead    ┆ V, Park Hyo     ┆ 46         ┆ … ┆ 0.23     ┆ 0.229   ┆ 76.844  ┆ 3              │\n",
       "│ KTDvXu9         ┆ (with PARK HYO  ┆ Shin            ┆            ┆   ┆          ┆         ┆         ┆                │\n",
       "│                 ┆ SH…             ┆                 ┆            ┆   ┆          ┆         ┆         ┆                │\n",
       "│ 3qhlB30KknSejmI ┆ End of          ┆ Djo             ┆ 47         ┆ … ┆ 0.0707   ┆ 0.912   ┆ 159.982 ┆ 4              │\n",
       "│ vZZLjOD         ┆ Beginning       ┆                 ┆            ┆   ┆          ┆         ┆         ┆                │\n",
       "│ 7BqBn9nzAq8spo5 ┆ Just the Way    ┆ Bruno Mars      ┆ 48         ┆ … ┆ 0.0622   ┆ 0.424   ┆ 109.021 ┆ 4              │\n",
       "│ e7cZ0dJ         ┆ You Are         ┆                 ┆            ┆   ┆          ┆         ┆         ┆                │\n",
       "│ 5e0b9LgOfi3aJSK ┆ Beanie          ┆ Chezile         ┆ 49         ┆ … ┆ 0.318    ┆ 0.156   ┆ 138.978 ┆ 3              │\n",
       "│ XFcOWRe         ┆                 ┆                 ┆            ┆   ┆          ┆         ┆         ┆                │\n",
       "│ 4XTgFBxBHN6var1 ┆ Jhol            ┆ Maanu, Annural  ┆ 50         ┆ … ┆ 0.34     ┆ 0.296   ┆ 155.368 ┆ 4              │\n",
       "│ BzAgE1m         ┆                 ┆ Khalid          ┆            ┆   ┆          ┆         ┆         ┆                │\n",
       "└─────────────────┴─────────────────┴─────────────────┴────────────┴───┴──────────┴─────────┴─────────┴────────────────┘"
      ]
     },
     "execution_count": 1,
     "metadata": {},
     "output_type": "execute_result"
    }
   ],
   "source": [
    "import polars as pl\n",
    "df_spotify = (pl.read_csv(\"./universal_top_spotify_songs.csv\", try_parse_dates = True, null_values = [\"\"])\n",
    "\t.filter(pl.col('snapshot_date').dt.year() == 2024).sort('snapshot_date'))\n",
    "df_spotify"
   ]
  },
  {
   "cell_type": "code",
   "execution_count": 2,
   "id": "36e57806-7d0d-47eb-a520-84d6935f2b69",
   "metadata": {},
   "outputs": [
    {
     "data": {
      "text/plain": [
       "(1282230, 25)"
      ]
     },
     "execution_count": 2,
     "metadata": {},
     "output_type": "execute_result"
    }
   ],
   "source": [
    "df_spotify.shape"
   ]
  },
  {
   "cell_type": "code",
   "execution_count": 3,
   "id": "d46cd5af-c1e8-4112-b4e5-dd517fef8d38",
   "metadata": {},
   "outputs": [
    {
     "data": {
      "text/plain": [
       "Schema([('spotify_id', String),\n",
       "        ('name', String),\n",
       "        ('artists', String),\n",
       "        ('daily_rank', Int64),\n",
       "        ('daily_movement', Int64),\n",
       "        ('weekly_movement', Int64),\n",
       "        ('country', String),\n",
       "        ('snapshot_date', Date),\n",
       "        ('popularity', Int64),\n",
       "        ('is_explicit', Boolean),\n",
       "        ('duration_ms', Int64),\n",
       "        ('album_name', String),\n",
       "        ('album_release_date', Date),\n",
       "        ('danceability', Float64),\n",
       "        ('energy', Float64),\n",
       "        ('key', Int64),\n",
       "        ('loudness', Float64),\n",
       "        ('mode', Int64),\n",
       "        ('speechiness', Float64),\n",
       "        ('acousticness', Float64),\n",
       "        ('instrumentalness', Float64),\n",
       "        ('liveness', Float64),\n",
       "        ('valence', Float64),\n",
       "        ('tempo', Float64),\n",
       "        ('time_signature', Int64)])"
      ]
     },
     "execution_count": 3,
     "metadata": {},
     "output_type": "execute_result"
    }
   ],
   "source": [
    "df_spotify.schema"
   ]
  },
  {
   "cell_type": "code",
   "execution_count": 4,
   "id": "2c731217-f8c3-4f6f-85ff-b53b38679742",
   "metadata": {},
   "outputs": [
    {
     "name": "stdout",
     "output_type": "stream",
     "text": [
      "Rows: 1282230\n",
      "Columns: 25\n",
      "$ spotify_id          <str> '3rUGC1vUpkDG9CZFHMur1t', '0R6NfOiLzLj4O5VbYSJAjf', '1BxfuPKGuaTgP7aM0Bbdwr', '4xhsWYTOGcal8zt0J161CU', '2HRgqmZQC0MC7GeNuDIXHN', '3vkCueOmm7xQDoJ17W1Pm3', '7CyPwkp0oE8Ro9Dd5CUDjW', '05WVKTdZhlIMX4qqMLuo0f', '5XVdHRf4CAJ2Jm0uMIy5qY', '56y1jOTK0XSvJzVv9vHQBK'\n",
      "$ name                <str> 'greedy', 'La Diabla', 'Cruel Summer', 'Lovin On Me', 'Seven (feat. Latto) (Explicit Ver.)', 'My Love Mine All Mine', 'One Of The Girls (with JENNIE, Lily Rose Depp)', 'BELLAKEO', 'La Víctima', 'Paint The Town Red'\n",
      "$ artists             <str> 'Tate McRae', 'Xavi', 'Taylor Swift', 'Jack Harlow', 'Jung Kook, Latto', 'Mitski', 'The Weeknd, JENNIE, Lily-Rose Depp', 'Peso Pluma, Anitta', 'Xavi', 'Doja Cat'\n",
      "$ daily_rank          <i64> 1, 2, 3, 4, 5, 6, 7, 8, 9, 10\n",
      "$ daily_movement      <i64> 0, 2, 0, -2, 2, -1, -1, 0, 1, -1\n",
      "$ weekly_movement     <i64> 15, 22, 26, 22, 29, 22, 26, 29, 37, 28\n",
      "$ country             <str> None, None, None, None, None, None, None, None, None, None\n",
      "$ snapshot_date      <date> 2024-01-01, 2024-01-01, 2024-01-01, 2024-01-01, 2024-01-01, 2024-01-01, 2024-01-01, 2024-01-01, 2024-01-01, 2024-01-01\n",
      "$ popularity          <i64> 97, 91, 96, 95, 88, 96, 93, 89, 90, 86\n",
      "$ is_explicit        <bool> True, False, False, True, True, False, False, True, True, True\n",
      "$ duration_ms         <i64> 131872, 172264, 178426, 138411, 183550, 137773, 244684, 197333, 156345, 230480\n",
      "$ album_name          <str> 'greedy', 'La Diabla', 'Lover', 'Lovin On Me', 'GOLDEN', 'The Land Is Inhospitable and So Are We', 'The Idol Episode 4 (Music from the HBO Original Series)', 'BELLAKEO', 'La Víctima', 'Scarlet'\n",
      "$ album_release_date <date> 2023-09-15, 2023-11-30, 2019-08-23, 2023-11-10, 2023-11-03, 2023-09-15, 2023-06-23, 2023-12-07, 2023-08-17, 2023-09-20\n",
      "$ danceability        <f64> 0.75, 0.751, 0.552, 0.943, 0.79, 0.504, 0.522, 0.72, 0.778, 0.864\n",
      "$ energy              <f64> 0.733, 0.819, 0.702, 0.558, 0.831, 0.308, 0.641, 0.88, 0.835, 0.556\n",
      "$ key                 <i64> 6, 11, 9, 2, 11, 9, 8, 9, 11, 2\n",
      "$ loudness            <f64> -3.18, -4.372, -5.707, -4.911, -4.185, -14.958, -6.287, -2.834, -3.598, -7.683\n",
      "$ mode                <i64> 0, 0, 1, 1, 1, 1, 1, 1, 0, 0\n",
      "$ speechiness         <f64> 0.0319, 0.0409, 0.157, 0.0568, 0.044, 0.0321, 0.0318, 0.101, 0.0767, 0.194\n",
      "$ acousticness        <f64> 0.256, 0.255, 0.117, 0.0026, 0.312, 0.868, 0.0545, 0.0562, 0.152, 0.255\n",
      "$ instrumentalness    <f64> 0.0, 0.0, 2.06e-05, 2.19e-06, 0.0, 0.135, 0.0, 0.06, 0.0, 3.85e-06\n",
      "$ liveness            <f64> 0.114, 0.236, 0.105, 0.0937, 0.0797, 0.158, 0.162, 0.153, 0.109, 0.112\n",
      "$ valence             <f64> 0.844, 0.697, 0.564, 0.606, 0.872, 0.121, 0.202, 0.463, 0.666, 0.726\n",
      "$ tempo               <f64> 111.018, 131.842, 169.994, 104.983, 124.987, 113.95, 87.51, 180.011, 140.082, 99.974\n",
      "$ time_signature      <i64> 1, 3, 4, 4, 4, 4, 4, 4, 4, 4\n",
      "\n"
     ]
    }
   ],
   "source": [
    "df_spotify.glimpse()"
   ]
  },
  {
   "cell_type": "code",
   "execution_count": 5,
   "id": "17f1a9a8-b979-48f9-940a-fec5e164c9ff",
   "metadata": {},
   "outputs": [
    {
     "data": {
      "text/html": [
       "<div><style>\n",
       ".dataframe > thead > tr,\n",
       ".dataframe > tbody > tr {\n",
       "  text-align: right;\n",
       "  white-space: pre-wrap;\n",
       "}\n",
       "</style>\n",
       "<small>shape: (25, 10)</small><table border=\"1\" class=\"dataframe\"><thead><tr><th>statistics</th><th>count</th><th>null_count</th><th>mean</th><th>std</th><th>min</th><th>25%</th><th>50%</th><th>75%</th><th>max</th></tr><tr><td>str</td><td>str</td><td>str</td><td>str</td><td>str</td><td>str</td><td>str</td><td>str</td><td>str</td><td>str</td></tr></thead><tbody><tr><td>&quot;spotify_id&quot;</td><td>&quot;1282230&quot;</td><td>&quot;0&quot;</td><td>null</td><td>null</td><td>&quot;003vvx7Niy0yvhvHt4a68B&quot;</td><td>null</td><td>null</td><td>null</td><td>&quot;7zyWm8JihcIiYmfNkbzeHE&quot;</td></tr><tr><td>&quot;name&quot;</td><td>&quot;1282223&quot;</td><td>&quot;7&quot;</td><td>null</td><td>null</td><td>&quot;&quot;Se&quot;&quot;</td><td>null</td><td>null</td><td>null</td><td>&quot;한 페이지가 될 수 있게&quot;</td></tr><tr><td>&quot;artists&quot;</td><td>&quot;1282224&quot;</td><td>&quot;6&quot;</td><td>null</td><td>null</td><td>&quot;$$Double-Dolla$$&quot;</td><td>null</td><td>null</td><td>null</td><td>&quot;高爾宣 OSN, Patrick Brasca&quot;</td></tr><tr><td>&quot;daily_rank&quot;</td><td>&quot;1282230.0&quot;</td><td>&quot;0.0&quot;</td><td>&quot;25.494713896882775&quot;</td><td>&quot;14.429486396343194&quot;</td><td>&quot;1.0&quot;</td><td>&quot;13.0&quot;</td><td>&quot;25.0&quot;</td><td>&quot;38.0&quot;</td><td>&quot;50.0&quot;</td></tr><tr><td>&quot;daily_movement&quot;</td><td>&quot;1282230.0&quot;</td><td>&quot;0.0&quot;</td><td>&quot;0.9527487268274802&quot;</td><td>&quot;7.0488048009053585&quot;</td><td>&quot;-49.0&quot;</td><td>&quot;-1.0&quot;</td><td>&quot;0.0&quot;</td><td>&quot;2.0&quot;</td><td>&quot;49.0&quot;</td></tr><tr><td>&quot;weekly_movement&quot;</td><td>&quot;1282230.0&quot;</td><td>&quot;0.0&quot;</td><td>&quot;2.6439484335883576&quot;</td><td>&quot;11.95778240041859&quot;</td><td>&quot;-49.0&quot;</td><td>&quot;-3.0&quot;</td><td>&quot;0.0&quot;</td><td>&quot;5.0&quot;</td><td>&quot;49.0&quot;</td></tr><tr><td>&quot;country&quot;</td><td>&quot;1264729&quot;</td><td>&quot;17501&quot;</td><td>null</td><td>null</td><td>&quot;AE&quot;</td><td>null</td><td>null</td><td>null</td><td>&quot;ZA&quot;</td></tr><tr><td>&quot;snapshot_date&quot;</td><td>&quot;1282230&quot;</td><td>&quot;0&quot;</td><td>&quot;2024-06-27 16:38:08.178000&quot;</td><td>null</td><td>&quot;2024-01-01&quot;</td><td>&quot;2024-03-30&quot;</td><td>&quot;2024-06-28&quot;</td><td>&quot;2024-09-24&quot;</td><td>&quot;2024-12-31&quot;</td></tr><tr><td>&quot;popularity&quot;</td><td>&quot;1282230.0&quot;</td><td>&quot;0.0&quot;</td><td>&quot;76.00069332335073&quot;</td><td>&quot;15.611206394497358&quot;</td><td>&quot;0.0&quot;</td><td>&quot;65.0&quot;</td><td>&quot;79.0&quot;</td><td>&quot;88.0&quot;</td><td>&quot;100.0&quot;</td></tr><tr><td>&quot;is_explicit&quot;</td><td>&quot;1282230.0&quot;</td><td>&quot;0.0&quot;</td><td>&quot;0.32354023849075436&quot;</td><td>null</td><td>&quot;0.0&quot;</td><td>null</td><td>null</td><td>null</td><td>&quot;1.0&quot;</td></tr><tr><td>&quot;duration_ms&quot;</td><td>&quot;1282230.0&quot;</td><td>&quot;0.0&quot;</td><td>&quot;192138.72696318134&quot;</td><td>&quot;49503.58592457418&quot;</td><td>&quot;0.0&quot;</td><td>&quot;160450.0&quot;</td><td>&quot;184153.0&quot;</td><td>&quot;216327.0&quot;</td><td>&quot;939666.0&quot;</td></tr><tr><td>&quot;album_name&quot;</td><td>&quot;1281585&quot;</td><td>&quot;645&quot;</td><td>null</td><td>null</td><td>&quot;&quot;Cold Sweats&quot;&quot;</td><td>null</td><td>null</td><td>null</td><td>&quot;黑玻璃&quot;</td></tr><tr><td>&quot;album_release_date&quot;</td><td>&quot;1281748&quot;</td><td>&quot;482&quot;</td><td>&quot;2022-06-19 03:18:42.915000&quot;</td><td>null</td><td>&quot;1900-01-01&quot;</td><td>&quot;2023-07-07&quot;</td><td>&quot;2024-01-12&quot;</td><td>&quot;2024-05-17&quot;</td><td>&quot;2024-12-30&quot;</td></tr><tr><td>&quot;danceability&quot;</td><td>&quot;1282230.0&quot;</td><td>&quot;0.0&quot;</td><td>&quot;0.6839352255055646&quot;</td><td>&quot;0.13662608390163702&quot;</td><td>&quot;0.0&quot;</td><td>&quot;0.594&quot;</td><td>&quot;0.703&quot;</td><td>&quot;0.785&quot;</td><td>&quot;0.988&quot;</td></tr><tr><td>&quot;energy&quot;</td><td>&quot;1282230.0&quot;</td><td>&quot;0.0&quot;</td><td>&quot;0.6552218199088307&quot;</td><td>&quot;0.16160605904935874&quot;</td><td>&quot;0.0000201&quot;</td><td>&quot;0.557&quot;</td><td>&quot;0.673&quot;</td><td>&quot;0.768&quot;</td><td>&quot;0.998&quot;</td></tr><tr><td>&quot;key&quot;</td><td>&quot;1282230.0&quot;</td><td>&quot;0.0&quot;</td><td>&quot;5.565326813442206&quot;</td><td>&quot;3.600125606416766&quot;</td><td>&quot;0.0&quot;</td><td>&quot;2.0&quot;</td><td>&quot;6.0&quot;</td><td>&quot;9.0&quot;</td><td>&quot;11.0&quot;</td></tr><tr><td>&quot;loudness&quot;</td><td>&quot;1282230.0&quot;</td><td>&quot;0.0&quot;</td><td>&quot;-6.38491610709467&quot;</td><td>&quot;2.5539415905499885&quot;</td><td>&quot;-37.334&quot;</td><td>&quot;-7.757&quot;</td><td>&quot;-5.953&quot;</td><td>&quot;-4.668&quot;</td><td>&quot;3.233&quot;</td></tr><tr><td>&quot;mode&quot;</td><td>&quot;1282230.0&quot;</td><td>&quot;0.0&quot;</td><td>&quot;0.5400349391294853&quot;</td><td>&quot;0.4983948207715081&quot;</td><td>&quot;0.0&quot;</td><td>&quot;0.0&quot;</td><td>&quot;1.0&quot;</td><td>&quot;1.0&quot;</td><td>&quot;1.0&quot;</td></tr><tr><td>&quot;speechiness&quot;</td><td>&quot;1282230.0&quot;</td><td>&quot;0.0&quot;</td><td>&quot;0.0935097711019084&quot;</td><td>&quot;0.08889206851870689&quot;</td><td>&quot;0.0&quot;</td><td>&quot;0.0391&quot;</td><td>&quot;0.0573&quot;</td><td>&quot;0.108&quot;</td><td>&quot;0.937&quot;</td></tr><tr><td>&quot;acousticness&quot;</td><td>&quot;1282230.0&quot;</td><td>&quot;0.0&quot;</td><td>&quot;0.2665109578709202&quot;</td><td>&quot;0.24597921662274702&quot;</td><td>&quot;3.45e-6&quot;</td><td>&quot;0.0638&quot;</td><td>&quot;0.183&quot;</td><td>&quot;0.431&quot;</td><td>&quot;0.996&quot;</td></tr><tr><td>&quot;instrumentalness&quot;</td><td>&quot;1282230.0&quot;</td><td>&quot;0.0&quot;</td><td>&quot;0.017094200520647626&quot;</td><td>&quot;0.09133310958086348&quot;</td><td>&quot;0.0&quot;</td><td>&quot;0.0&quot;</td><td>&quot;1.2e-6&quot;</td><td>&quot;0.0000754&quot;</td><td>&quot;0.977&quot;</td></tr><tr><td>&quot;liveness&quot;</td><td>&quot;1282230.0&quot;</td><td>&quot;0.0&quot;</td><td>&quot;0.16937880879405412&quot;</td><td>&quot;0.12399772232604792&quot;</td><td>&quot;0.0139&quot;</td><td>&quot;0.0957&quot;</td><td>&quot;0.12&quot;</td><td>&quot;0.201&quot;</td><td>&quot;0.978&quot;</td></tr><tr><td>&quot;valence&quot;</td><td>&quot;1282230.0&quot;</td><td>&quot;0.0&quot;</td><td>&quot;0.5549485451206102&quot;</td><td>&quot;0.22693208333482598&quot;</td><td>&quot;0.0&quot;</td><td>&quot;0.374&quot;</td><td>&quot;0.559&quot;</td><td>&quot;0.739&quot;</td><td>&quot;0.992&quot;</td></tr><tr><td>&quot;tempo&quot;</td><td>&quot;1282230.0&quot;</td><td>&quot;0.0&quot;</td><td>&quot;122.27875528415338&quot;</td><td>&quot;28.03553993460735&quot;</td><td>&quot;0.0&quot;</td><td>&quot;100.019&quot;</td><td>&quot;119.96&quot;</td><td>&quot;140.082&quot;</td><td>&quot;236.089&quot;</td></tr><tr><td>&quot;time_signature&quot;</td><td>&quot;1282230.0&quot;</td><td>&quot;0.0&quot;</td><td>&quot;3.9071258666541886&quot;</td><td>&quot;0.38746909761467035&quot;</td><td>&quot;0.0&quot;</td><td>&quot;4.0&quot;</td><td>&quot;4.0&quot;</td><td>&quot;4.0&quot;</td><td>&quot;5.0&quot;</td></tr></tbody></table></div>"
      ],
      "text/plain": [
       "shape: (25, 10)\n",
       "┌───────────┬───────────┬───────────┬───────────┬───────────┬───────────┬───────────┬───────────┬───────────┬──────────┐\n",
       "│ statistic ┆ count     ┆ null_coun ┆ mean      ┆ std       ┆ min       ┆ 25%       ┆ 50%       ┆ 75%       ┆ max      │\n",
       "│ s         ┆ ---       ┆ t         ┆ ---       ┆ ---       ┆ ---       ┆ ---       ┆ ---       ┆ ---       ┆ ---      │\n",
       "│ ---       ┆ str       ┆ ---       ┆ str       ┆ str       ┆ str       ┆ str       ┆ str       ┆ str       ┆ str      │\n",
       "│ str       ┆           ┆ str       ┆           ┆           ┆           ┆           ┆           ┆           ┆          │\n",
       "╞═══════════╪═══════════╪═══════════╪═══════════╪═══════════╪═══════════╪═══════════╪═══════════╪═══════════╪══════════╡\n",
       "│ spotify_i ┆ 1282230   ┆ 0         ┆ null      ┆ null      ┆ 003vvx7Ni ┆ null      ┆ null      ┆ null      ┆ 7zyWm8Ji │\n",
       "│ d         ┆           ┆           ┆           ┆           ┆ y0yvhvHt4 ┆           ┆           ┆           ┆ hcIiYmfN │\n",
       "│           ┆           ┆           ┆           ┆           ┆ a68B      ┆           ┆           ┆           ┆ kbzeHE   │\n",
       "│ name      ┆ 1282223   ┆ 7         ┆ null      ┆ null      ┆ \"Se\"      ┆ null      ┆ null      ┆ null      ┆ 한       │\n",
       "│           ┆           ┆           ┆           ┆           ┆           ┆           ┆           ┆           ┆ 페이지가 │\n",
       "│           ┆           ┆           ┆           ┆           ┆           ┆           ┆           ┆           ┆ 될 수    │\n",
       "│           ┆           ┆           ┆           ┆           ┆           ┆           ┆           ┆           ┆ 있게     │\n",
       "│ artists   ┆ 1282224   ┆ 6         ┆ null      ┆ null      ┆ $$Double- ┆ null      ┆ null      ┆ null      ┆ 高爾宣   │\n",
       "│           ┆           ┆           ┆           ┆           ┆ Dolla$$   ┆           ┆           ┆           ┆ OSN,     │\n",
       "│           ┆           ┆           ┆           ┆           ┆           ┆           ┆           ┆           ┆ Patrick  │\n",
       "│           ┆           ┆           ┆           ┆           ┆           ┆           ┆           ┆           ┆ Brasca   │\n",
       "│ daily_ran ┆ 1282230.0 ┆ 0.0       ┆ 25.494713 ┆ 14.429486 ┆ 1.0       ┆ 13.0      ┆ 25.0      ┆ 38.0      ┆ 50.0     │\n",
       "│ k         ┆           ┆           ┆ 896882775 ┆ 396343194 ┆           ┆           ┆           ┆           ┆          │\n",
       "│ daily_mov ┆ 1282230.0 ┆ 0.0       ┆ 0.9527487 ┆ 7.0488048 ┆ -49.0     ┆ -1.0      ┆ 0.0       ┆ 2.0       ┆ 49.0     │\n",
       "│ ement     ┆           ┆           ┆ 268274802 ┆ 009053585 ┆           ┆           ┆           ┆           ┆          │\n",
       "│ weekly_mo ┆ 1282230.0 ┆ 0.0       ┆ 2.6439484 ┆ 11.957782 ┆ -49.0     ┆ -3.0      ┆ 0.0       ┆ 5.0       ┆ 49.0     │\n",
       "│ vement    ┆           ┆           ┆ 335883576 ┆ 40041859  ┆           ┆           ┆           ┆           ┆          │\n",
       "│ country   ┆ 1264729   ┆ 17501     ┆ null      ┆ null      ┆ AE        ┆ null      ┆ null      ┆ null      ┆ ZA       │\n",
       "│ snapshot_ ┆ 1282230   ┆ 0         ┆ 2024-06-2 ┆ null      ┆ 2024-01-0 ┆ 2024-03-3 ┆ 2024-06-2 ┆ 2024-09-2 ┆ 2024-12- │\n",
       "│ date      ┆           ┆           ┆ 7 16:38:0 ┆           ┆ 1         ┆ 0         ┆ 8         ┆ 4         ┆ 31       │\n",
       "│           ┆           ┆           ┆ 8.178000  ┆           ┆           ┆           ┆           ┆           ┆          │\n",
       "│ popularit ┆ 1282230.0 ┆ 0.0       ┆ 76.000693 ┆ 15.611206 ┆ 0.0       ┆ 65.0      ┆ 79.0      ┆ 88.0      ┆ 100.0    │\n",
       "│ y         ┆           ┆           ┆ 32335073  ┆ 394497358 ┆           ┆           ┆           ┆           ┆          │\n",
       "│ is_explic ┆ 1282230.0 ┆ 0.0       ┆ 0.3235402 ┆ null      ┆ 0.0       ┆ null      ┆ null      ┆ null      ┆ 1.0      │\n",
       "│ it        ┆           ┆           ┆ 384907543 ┆           ┆           ┆           ┆           ┆           ┆          │\n",
       "│           ┆           ┆           ┆ 6         ┆           ┆           ┆           ┆           ┆           ┆          │\n",
       "│ duration_ ┆ 1282230.0 ┆ 0.0       ┆ 192138.72 ┆ 49503.585 ┆ 0.0       ┆ 160450.0  ┆ 184153.0  ┆ 216327.0  ┆ 939666.0 │\n",
       "│ ms        ┆           ┆           ┆ 696318134 ┆ 92457418  ┆           ┆           ┆           ┆           ┆          │\n",
       "│ album_nam ┆ 1281585   ┆ 645       ┆ null      ┆ null      ┆ \"Cold     ┆ null      ┆ null      ┆ null      ┆ 黑玻璃   │\n",
       "│ e         ┆           ┆           ┆           ┆           ┆ Sweats\"   ┆           ┆           ┆           ┆          │\n",
       "│ album_rel ┆ 1281748   ┆ 482       ┆ 2022-06-1 ┆ null      ┆ 1900-01-0 ┆ 2023-07-0 ┆ 2024-01-1 ┆ 2024-05-1 ┆ 2024-12- │\n",
       "│ ease_date ┆           ┆           ┆ 9 03:18:4 ┆           ┆ 1         ┆ 7         ┆ 2         ┆ 7         ┆ 30       │\n",
       "│           ┆           ┆           ┆ 2.915000  ┆           ┆           ┆           ┆           ┆           ┆          │\n",
       "│ danceabil ┆ 1282230.0 ┆ 0.0       ┆ 0.6839352 ┆ 0.1366260 ┆ 0.0       ┆ 0.594     ┆ 0.703     ┆ 0.785     ┆ 0.988    │\n",
       "│ ity       ┆           ┆           ┆ 255055646 ┆ 839016370 ┆           ┆           ┆           ┆           ┆          │\n",
       "│           ┆           ┆           ┆           ┆ 2         ┆           ┆           ┆           ┆           ┆          │\n",
       "│ energy    ┆ 1282230.0 ┆ 0.0       ┆ 0.6552218 ┆ 0.1616060 ┆ 0.0000201 ┆ 0.557     ┆ 0.673     ┆ 0.768     ┆ 0.998    │\n",
       "│           ┆           ┆           ┆ 199088307 ┆ 590493587 ┆           ┆           ┆           ┆           ┆          │\n",
       "│           ┆           ┆           ┆           ┆ 4         ┆           ┆           ┆           ┆           ┆          │\n",
       "│ key       ┆ 1282230.0 ┆ 0.0       ┆ 5.5653268 ┆ 3.6001256 ┆ 0.0       ┆ 2.0       ┆ 6.0       ┆ 9.0       ┆ 11.0     │\n",
       "│           ┆           ┆           ┆ 13442206  ┆ 06416766  ┆           ┆           ┆           ┆           ┆          │\n",
       "│ loudness  ┆ 1282230.0 ┆ 0.0       ┆ -6.384916 ┆ 2.5539415 ┆ -37.334   ┆ -7.757    ┆ -5.953    ┆ -4.668    ┆ 3.233    │\n",
       "│           ┆           ┆           ┆ 10709467  ┆ 905499885 ┆           ┆           ┆           ┆           ┆          │\n",
       "│ mode      ┆ 1282230.0 ┆ 0.0       ┆ 0.5400349 ┆ 0.4983948 ┆ 0.0       ┆ 0.0       ┆ 1.0       ┆ 1.0       ┆ 1.0      │\n",
       "│           ┆           ┆           ┆ 391294853 ┆ 207715081 ┆           ┆           ┆           ┆           ┆          │\n",
       "│ speechine ┆ 1282230.0 ┆ 0.0       ┆ 0.0935097 ┆ 0.0888920 ┆ 0.0       ┆ 0.0391    ┆ 0.0573    ┆ 0.108     ┆ 0.937    │\n",
       "│ ss        ┆           ┆           ┆ 711019084 ┆ 685187068 ┆           ┆           ┆           ┆           ┆          │\n",
       "│           ┆           ┆           ┆           ┆ 9         ┆           ┆           ┆           ┆           ┆          │\n",
       "│ acousticn ┆ 1282230.0 ┆ 0.0       ┆ 0.2665109 ┆ 0.2459792 ┆ 3.45e-6   ┆ 0.0638    ┆ 0.183     ┆ 0.431     ┆ 0.996    │\n",
       "│ ess       ┆           ┆           ┆ 578709202 ┆ 166227470 ┆           ┆           ┆           ┆           ┆          │\n",
       "│           ┆           ┆           ┆           ┆ 2         ┆           ┆           ┆           ┆           ┆          │\n",
       "│ instrumen ┆ 1282230.0 ┆ 0.0       ┆ 0.0170942 ┆ 0.0913331 ┆ 0.0       ┆ 0.0       ┆ 1.2e-6    ┆ 0.0000754 ┆ 0.977    │\n",
       "│ talness   ┆           ┆           ┆ 005206476 ┆ 095808634 ┆           ┆           ┆           ┆           ┆          │\n",
       "│           ┆           ┆           ┆ 26        ┆ 8         ┆           ┆           ┆           ┆           ┆          │\n",
       "│ liveness  ┆ 1282230.0 ┆ 0.0       ┆ 0.1693788 ┆ 0.1239977 ┆ 0.0139    ┆ 0.0957    ┆ 0.12      ┆ 0.201     ┆ 0.978    │\n",
       "│           ┆           ┆           ┆ 087940541 ┆ 223260479 ┆           ┆           ┆           ┆           ┆          │\n",
       "│           ┆           ┆           ┆ 2         ┆ 2         ┆           ┆           ┆           ┆           ┆          │\n",
       "│ valence   ┆ 1282230.0 ┆ 0.0       ┆ 0.5549485 ┆ 0.2269320 ┆ 0.0       ┆ 0.374     ┆ 0.559     ┆ 0.739     ┆ 0.992    │\n",
       "│           ┆           ┆           ┆ 451206102 ┆ 833348259 ┆           ┆           ┆           ┆           ┆          │\n",
       "│           ┆           ┆           ┆           ┆ 8         ┆           ┆           ┆           ┆           ┆          │\n",
       "│ tempo     ┆ 1282230.0 ┆ 0.0       ┆ 122.27875 ┆ 28.035539 ┆ 0.0       ┆ 100.019   ┆ 119.96    ┆ 140.082   ┆ 236.089  │\n",
       "│           ┆           ┆           ┆ 528415338 ┆ 93460735  ┆           ┆           ┆           ┆           ┆          │\n",
       "│ time_sign ┆ 1282230.0 ┆ 0.0       ┆ 3.9071258 ┆ 0.3874690 ┆ 0.0       ┆ 4.0       ┆ 4.0       ┆ 4.0       ┆ 5.0      │\n",
       "│ ature     ┆           ┆           ┆ 666541886 ┆ 976146703 ┆           ┆           ┆           ┆           ┆          │\n",
       "│           ┆           ┆           ┆           ┆ 5         ┆           ┆           ┆           ┆           ┆          │\n",
       "└───────────┴───────────┴───────────┴───────────┴───────────┴───────────┴───────────┴───────────┴───────────┴──────────┘"
      ]
     },
     "execution_count": 5,
     "metadata": {},
     "output_type": "execute_result"
    }
   ],
   "source": [
    "pl.Config(set_tbl_cols = 10, set_tbl_rows = 25)\n",
    "(df_spotify.describe()\n",
    "\t.transpose(include_header = True, header_name = 'statistics',\n",
    "\t\tcolumn_names = ['count', 'null_count', 'mean', 'std', 'min', '25%', '50%', '75%', 'max'])[1:])"
   ]
  },
  {
   "cell_type": "code",
   "execution_count": 6,
   "id": "f952f362-128f-4119-90ac-72da8946d1f4",
   "metadata": {},
   "outputs": [
    {
     "data": {
      "text/plain": [
       "0"
      ]
     },
     "execution_count": 6,
     "metadata": {},
     "output_type": "execute_result"
    }
   ],
   "source": [
    "df_spotify.is_duplicated().sum()"
   ]
  },
  {
   "cell_type": "code",
   "execution_count": 7,
   "id": "ea3466d8-3eef-4094-bcc2-ec993f96486b",
   "metadata": {},
   "outputs": [
    {
     "data": {
      "text/html": [
       "<div><style>\n",
       ".dataframe > thead > tr,\n",
       ".dataframe > tbody > tr {\n",
       "  text-align: right;\n",
       "  white-space: pre-wrap;\n",
       "}\n",
       "</style>\n",
       "<small>shape: (5, 3)</small><table border=\"1\" class=\"dataframe\"><thead><tr><th>column</th><th>all_rows</th><th>null_counts</th></tr><tr><td>str</td><td>u32</td><td>u32</td></tr></thead><tbody><tr><td>&quot;name&quot;</td><td>1282230</td><td>7</td></tr><tr><td>&quot;artists&quot;</td><td>1282230</td><td>6</td></tr><tr><td>&quot;country&quot;</td><td>1282230</td><td>17501</td></tr><tr><td>&quot;album_name&quot;</td><td>1282230</td><td>645</td></tr><tr><td>&quot;album_release_date&quot;</td><td>1282230</td><td>482</td></tr></tbody></table></div>"
      ],
      "text/plain": [
       "shape: (5, 3)\n",
       "┌────────────────────┬──────────┬─────────────┐\n",
       "│ column             ┆ all_rows ┆ null_counts │\n",
       "│ ---                ┆ ---      ┆ ---         │\n",
       "│ str                ┆ u32      ┆ u32         │\n",
       "╞════════════════════╪══════════╪═════════════╡\n",
       "│ name               ┆ 1282230  ┆ 7           │\n",
       "│ artists            ┆ 1282230  ┆ 6           │\n",
       "│ country            ┆ 1282230  ┆ 17501       │\n",
       "│ album_name         ┆ 1282230  ┆ 645         │\n",
       "│ album_release_date ┆ 1282230  ┆ 482         │\n",
       "└────────────────────┴──────────┴─────────────┘"
      ]
     },
     "execution_count": 7,
     "metadata": {},
     "output_type": "execute_result"
    }
   ],
   "source": [
    "(pl.concat([df_spotify.select(pl.all().len()),              ## 전체 열의 행의 수\n",
    "\t\tdf_spotify.select(pl.all().null_count())],      ## 전체 열의 null 수\n",
    "\t\thow = 'vertical')                                ## 수직 방향으로 연결\n",
    "\t.transpose(include_header = True,                       ## 행과 열을 전치\n",
    "\t\tcolumn_names = ['all_rows', 'null_counts'])  ## 열 이름 설정\n",
    "\t.filter(pl.col('null_counts') != 0))                    ## null이 0이 아닌 행 필터링"
   ]
  },
  {
   "cell_type": "code",
   "execution_count": 8,
   "id": "cf1cccb7-7bb6-4ed5-9f21-bfed17ba887f",
   "metadata": {},
   "outputs": [
    {
     "data": {
      "text/html": [
       "<div><style>\n",
       ".dataframe > thead > tr,\n",
       ".dataframe > tbody > tr {\n",
       "  text-align: right;\n",
       "  white-space: pre-wrap;\n",
       "}\n",
       "</style>\n",
       "<small>shape: (1_281_585, 5)</small><table border=\"1\" class=\"dataframe\"><thead><tr><th>spotify_id</th><th>name</th><th>artists</th><th>country</th><th>album_name</th></tr><tr><td>str</td><td>str</td><td>str</td><td>str</td><td>str</td></tr></thead><tbody><tr><td>&quot;3rUGC1vUpkDG9CZFHMur1t&quot;</td><td>&quot;greedy&quot;</td><td>&quot;Tate McRae&quot;</td><td>&quot;WW&quot;</td><td>&quot;greedy&quot;</td></tr><tr><td>&quot;0R6NfOiLzLj4O5VbYSJAjf&quot;</td><td>&quot;La Diabla&quot;</td><td>&quot;Xavi&quot;</td><td>&quot;WW&quot;</td><td>&quot;La Diabla&quot;</td></tr><tr><td>&quot;1BxfuPKGuaTgP7aM0Bbdwr&quot;</td><td>&quot;Cruel Summer&quot;</td><td>&quot;Taylor Swift&quot;</td><td>&quot;WW&quot;</td><td>&quot;Lover&quot;</td></tr><tr><td>&quot;4xhsWYTOGcal8zt0J161CU&quot;</td><td>&quot;Lovin On Me&quot;</td><td>&quot;Jack Harlow&quot;</td><td>&quot;WW&quot;</td><td>&quot;Lovin On Me&quot;</td></tr><tr><td>&quot;2HRgqmZQC0MC7GeNuDIXHN&quot;</td><td>&quot;Seven (feat. Latto) (Explicit …</td><td>&quot;Jung Kook, Latto&quot;</td><td>&quot;WW&quot;</td><td>&quot;GOLDEN&quot;</td></tr><tr><td>&quot;3vkCueOmm7xQDoJ17W1Pm3&quot;</td><td>&quot;My Love Mine All Mine&quot;</td><td>&quot;Mitski&quot;</td><td>&quot;WW&quot;</td><td>&quot;The Land Is Inhospitable and S…</td></tr><tr><td>&quot;7CyPwkp0oE8Ro9Dd5CUDjW&quot;</td><td>&quot;One Of The Girls (with JENNIE,…</td><td>&quot;The Weeknd, JENNIE, Lily-Rose …</td><td>&quot;WW&quot;</td><td>&quot;The Idol Episode 4 (Music from…</td></tr><tr><td>&quot;05WVKTdZhlIMX4qqMLuo0f&quot;</td><td>&quot;BELLAKEO&quot;</td><td>&quot;Peso Pluma, Anitta&quot;</td><td>&quot;WW&quot;</td><td>&quot;BELLAKEO&quot;</td></tr><tr><td>&quot;5XVdHRf4CAJ2Jm0uMIy5qY&quot;</td><td>&quot;La Víctima&quot;</td><td>&quot;Xavi&quot;</td><td>&quot;WW&quot;</td><td>&quot;La Víctima&quot;</td></tr><tr><td>&quot;56y1jOTK0XSvJzVv9vHQBK&quot;</td><td>&quot;Paint The Town Red&quot;</td><td>&quot;Doja Cat&quot;</td><td>&quot;WW&quot;</td><td>&quot;Scarlet&quot;</td></tr><tr><td>&quot;5RqSsdzTNPX1uzkmlHCFvK&quot;</td><td>&quot;QLONA&quot;</td><td>&quot;KAROL G, Peso Pluma&quot;</td><td>&quot;WW&quot;</td><td>&quot;MAÑANA SERÁ BONITO (BICHOTA SE…</td></tr><tr><td>&quot;7iQXYTyuG13aoeHxGG28Nh&quot;</td><td>&quot;PERRO NEGRO&quot;</td><td>&quot;Bad Bunny, Feid&quot;</td><td>&quot;WW&quot;</td><td>&quot;nadie sabe lo que va a pasar m…</td></tr><tr><td>&quot;0mflMxspEfB0VbI1kyLiAv&quot;</td><td>&quot;Stick Season&quot;</td><td>&quot;Noah Kahan&quot;</td><td>&quot;WW&quot;</td><td>&quot;Stick Season&quot;</td></tr><tr><td>&hellip;</td><td>&hellip;</td><td>&hellip;</td><td>&hellip;</td><td>&hellip;</td></tr><tr><td>&quot;5O2P9iiztwhomNh8xkR9lJ&quot;</td><td>&quot;Night Changes&quot;</td><td>&quot;One Direction&quot;</td><td>&quot;AE&quot;</td><td>&quot;FOUR (Deluxe)&quot;</td></tr><tr><td>&quot;42VsgItocQwOQC3XWZ8JNA&quot;</td><td>&quot;FE!N (feat. Playboi Carti)&quot;</td><td>&quot;Travis Scott, Playboi Carti&quot;</td><td>&quot;AE&quot;</td><td>&quot;UTOPIA&quot;</td></tr><tr><td>&quot;19XpFsce28aByvCC4g89tJ&quot;</td><td>&quot;Too Sweet&quot;</td><td>&quot;Hozier&quot;</td><td>&quot;AE&quot;</td><td>&quot;Unreal Unearth: Unaired&quot;</td></tr><tr><td>&quot;1Qrg8KqiBpW07V7PNxwwwL&quot;</td><td>&quot;Kill Bill&quot;</td><td>&quot;SZA&quot;</td><td>&quot;AE&quot;</td><td>&quot;SOS&quot;</td></tr><tr><td>&quot;3AJwUDP919kvQ9QcozQPxg&quot;</td><td>&quot;Yellow&quot;</td><td>&quot;Coldplay&quot;</td><td>&quot;AE&quot;</td><td>&quot;Parachutes&quot;</td></tr><tr><td>&quot;3siwsiaEoU4Kuuc9WKMUy5&quot;</td><td>&quot;No One Noticed&quot;</td><td>&quot;The Marías&quot;</td><td>&quot;AE&quot;</td><td>&quot;Submarine&quot;</td></tr><tr><td>&quot;0xGQTpN4ESETtl1Sp6rzd2&quot;</td><td>&quot;São Paulo (feat. Anitta)&quot;</td><td>&quot;The Weeknd, Anitta&quot;</td><td>&quot;AE&quot;</td><td>&quot;São Paulo&quot;</td></tr><tr><td>&quot;7G7mSV4BebkoHWwKTDvXu9&quot;</td><td>&quot;Winter Ahead (with PARK HYO SH…</td><td>&quot;V, Park Hyo Shin&quot;</td><td>&quot;AE&quot;</td><td>&quot;Winter Ahead (with PARK HYO SH…</td></tr><tr><td>&quot;3qhlB30KknSejmIvZZLjOD&quot;</td><td>&quot;End of Beginning&quot;</td><td>&quot;Djo&quot;</td><td>&quot;AE&quot;</td><td>&quot;DECIDE&quot;</td></tr><tr><td>&quot;7BqBn9nzAq8spo5e7cZ0dJ&quot;</td><td>&quot;Just the Way You Are&quot;</td><td>&quot;Bruno Mars&quot;</td><td>&quot;AE&quot;</td><td>&quot;Doo-Wops &amp; Hooligans&quot;</td></tr><tr><td>&quot;5e0b9LgOfi3aJSKXFcOWRe&quot;</td><td>&quot;Beanie&quot;</td><td>&quot;Chezile&quot;</td><td>&quot;AE&quot;</td><td>&quot;Beanie&quot;</td></tr><tr><td>&quot;4XTgFBxBHN6var1BzAgE1m&quot;</td><td>&quot;Jhol&quot;</td><td>&quot;Maanu, Annural Khalid&quot;</td><td>&quot;AE&quot;</td><td>&quot;Jhol&quot;</td></tr></tbody></table></div>"
      ],
      "text/plain": [
       "shape: (1_281_585, 5)\n",
       "┌────────────────────────┬─────────────────────────────┬───────────────────────┬─────────┬─────────────────────────────┐\n",
       "│ spotify_id             ┆ name                        ┆ artists               ┆ country ┆ album_name                  │\n",
       "│ ---                    ┆ ---                         ┆ ---                   ┆ ---     ┆ ---                         │\n",
       "│ str                    ┆ str                         ┆ str                   ┆ str     ┆ str                         │\n",
       "╞════════════════════════╪═════════════════════════════╪═══════════════════════╪═════════╪═════════════════════════════╡\n",
       "│ 3rUGC1vUpkDG9CZFHMur1t ┆ greedy                      ┆ Tate McRae            ┆ WW      ┆ greedy                      │\n",
       "│ 0R6NfOiLzLj4O5VbYSJAjf ┆ La Diabla                   ┆ Xavi                  ┆ WW      ┆ La Diabla                   │\n",
       "│ 1BxfuPKGuaTgP7aM0Bbdwr ┆ Cruel Summer                ┆ Taylor Swift          ┆ WW      ┆ Lover                       │\n",
       "│ 4xhsWYTOGcal8zt0J161CU ┆ Lovin On Me                 ┆ Jack Harlow           ┆ WW      ┆ Lovin On Me                 │\n",
       "│ 2HRgqmZQC0MC7GeNuDIXHN ┆ Seven (feat. Latto)         ┆ Jung Kook, Latto      ┆ WW      ┆ GOLDEN                      │\n",
       "│                        ┆ (Explicit …                 ┆                       ┆         ┆                             │\n",
       "│ 3vkCueOmm7xQDoJ17W1Pm3 ┆ My Love Mine All Mine       ┆ Mitski                ┆ WW      ┆ The Land Is Inhospitable    │\n",
       "│                        ┆                             ┆                       ┆         ┆ and S…                      │\n",
       "│ 7CyPwkp0oE8Ro9Dd5CUDjW ┆ One Of The Girls (with      ┆ The Weeknd, JENNIE,   ┆ WW      ┆ The Idol Episode 4 (Music   │\n",
       "│                        ┆ JENNIE,…                    ┆ Lily-Rose …           ┆         ┆ from…                       │\n",
       "│ 05WVKTdZhlIMX4qqMLuo0f ┆ BELLAKEO                    ┆ Peso Pluma, Anitta    ┆ WW      ┆ BELLAKEO                    │\n",
       "│ 5XVdHRf4CAJ2Jm0uMIy5qY ┆ La Víctima                  ┆ Xavi                  ┆ WW      ┆ La Víctima                  │\n",
       "│ 56y1jOTK0XSvJzVv9vHQBK ┆ Paint The Town Red          ┆ Doja Cat              ┆ WW      ┆ Scarlet                     │\n",
       "│ 5RqSsdzTNPX1uzkmlHCFvK ┆ QLONA                       ┆ KAROL G, Peso Pluma   ┆ WW      ┆ MAÑANA SERÁ BONITO (BICHOTA │\n",
       "│                        ┆                             ┆                       ┆         ┆ SE…                         │\n",
       "│ 7iQXYTyuG13aoeHxGG28Nh ┆ PERRO NEGRO                 ┆ Bad Bunny, Feid       ┆ WW      ┆ nadie sabe lo que va a      │\n",
       "│                        ┆                             ┆                       ┆         ┆ pasar m…                    │\n",
       "│ 0mflMxspEfB0VbI1kyLiAv ┆ Stick Season                ┆ Noah Kahan            ┆ WW      ┆ Stick Season                │\n",
       "│ …                      ┆ …                           ┆ …                     ┆ …       ┆ …                           │\n",
       "│ 5O2P9iiztwhomNh8xkR9lJ ┆ Night Changes               ┆ One Direction         ┆ AE      ┆ FOUR (Deluxe)               │\n",
       "│ 42VsgItocQwOQC3XWZ8JNA ┆ FE!N (feat. Playboi Carti)  ┆ Travis Scott, Playboi ┆ AE      ┆ UTOPIA                      │\n",
       "│                        ┆                             ┆ Carti                 ┆         ┆                             │\n",
       "│ 19XpFsce28aByvCC4g89tJ ┆ Too Sweet                   ┆ Hozier                ┆ AE      ┆ Unreal Unearth: Unaired     │\n",
       "│ 1Qrg8KqiBpW07V7PNxwwwL ┆ Kill Bill                   ┆ SZA                   ┆ AE      ┆ SOS                         │\n",
       "│ 3AJwUDP919kvQ9QcozQPxg ┆ Yellow                      ┆ Coldplay              ┆ AE      ┆ Parachutes                  │\n",
       "│ 3siwsiaEoU4Kuuc9WKMUy5 ┆ No One Noticed              ┆ The Marías            ┆ AE      ┆ Submarine                   │\n",
       "│ 0xGQTpN4ESETtl1Sp6rzd2 ┆ São Paulo (feat. Anitta)    ┆ The Weeknd, Anitta    ┆ AE      ┆ São Paulo                   │\n",
       "│ 7G7mSV4BebkoHWwKTDvXu9 ┆ Winter Ahead (with PARK HYO ┆ V, Park Hyo Shin      ┆ AE      ┆ Winter Ahead (with PARK HYO │\n",
       "│                        ┆ SH…                         ┆                       ┆         ┆ SH…                         │\n",
       "│ 3qhlB30KknSejmIvZZLjOD ┆ End of Beginning            ┆ Djo                   ┆ AE      ┆ DECIDE                      │\n",
       "│ 7BqBn9nzAq8spo5e7cZ0dJ ┆ Just the Way You Are        ┆ Bruno Mars            ┆ AE      ┆ Doo-Wops & Hooligans        │\n",
       "│ 5e0b9LgOfi3aJSKXFcOWRe ┆ Beanie                      ┆ Chezile               ┆ AE      ┆ Beanie                      │\n",
       "│ 4XTgFBxBHN6var1BzAgE1m ┆ Jhol                        ┆ Maanu, Annural Khalid ┆ AE      ┆ Jhol                        │\n",
       "└────────────────────────┴─────────────────────────────┴───────────────────────┴─────────┴─────────────────────────────┘"
      ]
     },
     "execution_count": 8,
     "metadata": {},
     "output_type": "execute_result"
    }
   ],
   "source": [
    "df_spotify = (\n",
    "\tdf_spotify.with_columns(pl.when(pl.col('country').is_null() == True)  ## country 열이 null이면\n",
    "\t\t.then(pl.lit('WW')) ## WW로 변경\n",
    "\t\t.otherwise(pl.col('country')).alias('country'))  ## 아니면 원래대로\n",
    "\t.drop_nulls())  ## 그 외 null이 들어간 행 삭제\n",
    "df_spotify.select(pl.col(pl.String))"
   ]
  },
  {
   "cell_type": "code",
   "execution_count": 9,
   "id": "2390f3c9-eec7-4cb3-8dac-6e7b3865a819",
   "metadata": {},
   "outputs": [
    {
     "data": {
      "text/html": [
       "<div><style>\n",
       ".dataframe > thead > tr,\n",
       ".dataframe > tbody > tr {\n",
       "  text-align: right;\n",
       "  white-space: pre-wrap;\n",
       "}\n",
       "</style>\n",
       "<small>shape: (0, 3)</small><table border=\"1\" class=\"dataframe\"><thead><tr><th>column</th><th>all_rows</th><th>null_counts</th></tr><tr><td>str</td><td>u32</td><td>u32</td></tr></thead><tbody></tbody></table></div>"
      ],
      "text/plain": [
       "shape: (0, 3)\n",
       "┌────────┬──────────┬─────────────┐\n",
       "│ column ┆ all_rows ┆ null_counts │\n",
       "│ ---    ┆ ---      ┆ ---         │\n",
       "│ str    ┆ u32      ┆ u32         │\n",
       "╞════════╪══════════╪═════════════╡\n",
       "└────────┴──────────┴─────────────┘"
      ]
     },
     "execution_count": 9,
     "metadata": {},
     "output_type": "execute_result"
    }
   ],
   "source": [
    "(pl.concat([df_spotify.select(pl.all().len()), df_spotify.select(pl.all().null_count())], how = \"vertical\")\n",
    "\t.transpose(include_header = True, column_names = ['all_rows', 'null_counts'])\n",
    "\t.filter(pl.col('null_counts') != 0))"
   ]
  },
  {
   "cell_type": "markdown",
   "id": "55e7ea3f-4c27-4e9d-b5b0-842ed2a470cf",
   "metadata": {},
   "source": [
    "## 9.3\t파생 데이터 만들기"
   ]
  },
  {
   "cell_type": "code",
   "execution_count": 10,
   "id": "d940eaf4-0b03-4f4f-9360-fd59ddd32f96",
   "metadata": {},
   "outputs": [
    {
     "data": {
      "text/html": [
       "<div><style>\n",
       ".dataframe > thead > tr,\n",
       ".dataframe > tbody > tr {\n",
       "  text-align: right;\n",
       "  white-space: pre-wrap;\n",
       "}\n",
       "</style>\n",
       "<small>shape: (25, 2)</small><table border=\"1\" class=\"dataframe\"><thead><tr><th>column</th><th>column_0</th></tr><tr><td>str</td><td>u32</td></tr></thead><tbody><tr><td>&quot;spotify_id&quot;</td><td>16360</td></tr><tr><td>&quot;name&quot;</td><td>14550</td></tr><tr><td>&quot;artists&quot;</td><td>9540</td></tr><tr><td>&quot;daily_rank&quot;</td><td>50</td></tr><tr><td>&quot;daily_movement&quot;</td><td>99</td></tr><tr><td>&quot;weekly_movement&quot;</td><td>99</td></tr><tr><td>&quot;country&quot;</td><td>73</td></tr><tr><td>&quot;snapshot_date&quot;</td><td>354</td></tr><tr><td>&quot;popularity&quot;</td><td>101</td></tr><tr><td>&quot;is_explicit&quot;</td><td>2</td></tr><tr><td>&quot;duration_ms&quot;</td><td>12804</td></tr><tr><td>&quot;album_name&quot;</td><td>11086</td></tr><tr><td>&quot;album_release_date&quot;</td><td>2353</td></tr><tr><td>&quot;danceability&quot;</td><td>774</td></tr><tr><td>&quot;energy&quot;</td><td>929</td></tr><tr><td>&quot;key&quot;</td><td>12</td></tr><tr><td>&quot;loudness&quot;</td><td>7944</td></tr><tr><td>&quot;mode&quot;</td><td>2</td></tr><tr><td>&quot;speechiness&quot;</td><td>1237</td></tr><tr><td>&quot;acousticness&quot;</td><td>2481</td></tr><tr><td>&quot;instrumentalness&quot;</td><td>3513</td></tr><tr><td>&quot;liveness&quot;</td><td>1383</td></tr><tr><td>&quot;valence&quot;</td><td>1105</td></tr><tr><td>&quot;tempo&quot;</td><td>11909</td></tr><tr><td>&quot;time_signature&quot;</td><td>5</td></tr></tbody></table></div>"
      ],
      "text/plain": [
       "shape: (25, 2)\n",
       "┌────────────────────┬──────────┐\n",
       "│ column             ┆ column_0 │\n",
       "│ ---                ┆ ---      │\n",
       "│ str                ┆ u32      │\n",
       "╞════════════════════╪══════════╡\n",
       "│ spotify_id         ┆ 16360    │\n",
       "│ name               ┆ 14550    │\n",
       "│ artists            ┆ 9540     │\n",
       "│ daily_rank         ┆ 50       │\n",
       "│ daily_movement     ┆ 99       │\n",
       "│ weekly_movement    ┆ 99       │\n",
       "│ country            ┆ 73       │\n",
       "│ snapshot_date      ┆ 354      │\n",
       "│ popularity         ┆ 101      │\n",
       "│ is_explicit        ┆ 2        │\n",
       "│ duration_ms        ┆ 12804    │\n",
       "│ album_name         ┆ 11086    │\n",
       "│ album_release_date ┆ 2353     │\n",
       "│ danceability       ┆ 774      │\n",
       "│ energy             ┆ 929      │\n",
       "│ key                ┆ 12       │\n",
       "│ loudness           ┆ 7944     │\n",
       "│ mode               ┆ 2        │\n",
       "│ speechiness        ┆ 1237     │\n",
       "│ acousticness       ┆ 2481     │\n",
       "│ instrumentalness   ┆ 3513     │\n",
       "│ liveness           ┆ 1383     │\n",
       "│ valence            ┆ 1105     │\n",
       "│ tempo              ┆ 11909    │\n",
       "│ time_signature     ┆ 5        │\n",
       "└────────────────────┴──────────┘"
      ]
     },
     "execution_count": 10,
     "metadata": {},
     "output_type": "execute_result"
    }
   ],
   "source": [
    "pl.Config(tbl_rows = 25)\n",
    "df_spotify.select(pl.all().n_unique()).transpose(include_header = True)"
   ]
  },
  {
   "cell_type": "code",
   "execution_count": 11,
   "id": "439443b1-3518-47f5-b656-858245a9e8fa",
   "metadata": {},
   "outputs": [
    {
     "data": {
      "text/html": [
       "<div><style>\n",
       ".dataframe > thead > tr,\n",
       ".dataframe > tbody > tr {\n",
       "  text-align: right;\n",
       "  white-space: pre-wrap;\n",
       "}\n",
       "</style>\n",
       "<small>shape: (1_281_585, 3)</small><table border=\"1\" class=\"dataframe\"><thead><tr><th>name</th><th>artists</th><th>key</th></tr><tr><td>str</td><td>str</td><td>enum</td></tr></thead><tbody><tr><td>&quot;I Wanna Be Yours&quot;</td><td>&quot;Arctic Monkeys&quot;</td><td>&quot;C&quot;</td></tr><tr><td>&quot;Love Me Again&quot;</td><td>&quot;V&quot;</td><td>&quot;C&quot;</td></tr><tr><td>&quot;Flowers&quot;</td><td>&quot;Miley Cyrus&quot;</td><td>&quot;C&quot;</td></tr><tr><td>&quot;What Was I Made For? [From The…</td><td>&quot;Billie Eilish&quot;</td><td>&quot;C&quot;</td></tr><tr><td>&quot;I Remember Everything (feat. K…</td><td>&quot;Zach Bryan, Kacey Musgraves&quot;</td><td>&quot;C&quot;</td></tr><tr><td>&quot;Sgudi Snyc&quot;</td><td>&quot;De Mthuda, Da Muziqal Chef, Ee…</td><td>&quot;C&quot;</td></tr><tr><td>&quot;Những Lời Hứa Bỏ Quên&quot;</td><td>&quot;Vũ., Dear Jane&quot;</td><td>&quot;C&quot;</td></tr><tr><td>&quot;Love Me Again&quot;</td><td>&quot;V&quot;</td><td>&quot;C&quot;</td></tr><tr><td>&quot;Closer Than This&quot;</td><td>&quot;Jimin&quot;</td><td>&quot;C&quot;</td></tr><tr><td>&quot;Cầu Vĩnh Tuy&quot;</td><td>&quot;Wren Evans, itsnk&quot;</td><td>&quot;C&quot;</td></tr><tr><td>&quot;Tình Yêu Vĩ Mô&quot;</td><td>&quot;Wren Evans, itsnk&quot;</td><td>&quot;C&quot;</td></tr><tr><td>&quot;Chuyện Đôi Ta (feat. Muộii)&quot;</td><td>&quot;Emcee L (Da LAB), Da LAB, Muội…</td><td>&quot;C&quot;</td></tr><tr><td>&quot;Tình cờ yêu em&quot;</td><td>&quot;Kuun Đức Nam, Linh Thộn&quot;</td><td>&quot;C&quot;</td></tr><tr><td>&hellip;</td><td>&hellip;</td><td>&hellip;</td></tr><tr><td>&quot;Perdonarte, ¿Para Qué?&quot;</td><td>&quot;Los Ángeles Azules, Emilia&quot;</td><td>&quot;B&quot;</td></tr><tr><td>&quot;noviogangsta &lt;3&quot;</td><td>&quot;Emilia&quot;</td><td>&quot;B&quot;</td></tr><tr><td>&quot;Hoy&quot;</td><td>&quot;Valentino Merlo, The La Planta&quot;</td><td>&quot;B&quot;</td></tr><tr><td>&quot;Princesa&quot;</td><td>&quot;Paulo Londra, Luck Ra, Valenti…</td><td>&quot;B&quot;</td></tr><tr><td>&quot;Tu Foto - En Vivo&quot;</td><td>&quot;Q&#x27; Lokura, Valentino Merlo&quot;</td><td>&quot;B&quot;</td></tr><tr><td>&quot;Falling (feat. Taka)&quot;</td><td>&quot;Jin, Taka&quot;</td><td>&quot;B&quot;</td></tr><tr><td>&quot;Timeless (with Playboi Carti)&quot;</td><td>&quot;The Weeknd, Playboi Carti&quot;</td><td>&quot;B&quot;</td></tr><tr><td>&quot;Heart on the Window (with WEND…</td><td>&quot;Jin, WENDY&quot;</td><td>&quot;B&quot;</td></tr><tr><td>&quot;Sailor Song&quot;</td><td>&quot;Gigi Perez&quot;</td><td>&quot;B&quot;</td></tr><tr><td>&quot;Good Luck, Babe!&quot;</td><td>&quot;Chappell Roan&quot;</td><td>&quot;B&quot;</td></tr><tr><td>&quot;Seven (feat. Latto) (Explicit …</td><td>&quot;Jung Kook, Latto&quot;</td><td>&quot;B&quot;</td></tr><tr><td>&quot;Yellow&quot;</td><td>&quot;Coldplay&quot;</td><td>&quot;B&quot;</td></tr></tbody></table></div>"
      ],
      "text/plain": [
       "shape: (1_281_585, 3)\n",
       "┌─────────────────────────────────┬─────────────────────────────────┬──────┐\n",
       "│ name                            ┆ artists                         ┆ key  │\n",
       "│ ---                             ┆ ---                             ┆ ---  │\n",
       "│ str                             ┆ str                             ┆ enum │\n",
       "╞═════════════════════════════════╪═════════════════════════════════╪══════╡\n",
       "│ I Wanna Be Yours                ┆ Arctic Monkeys                  ┆ C    │\n",
       "│ Love Me Again                   ┆ V                               ┆ C    │\n",
       "│ Flowers                         ┆ Miley Cyrus                     ┆ C    │\n",
       "│ What Was I Made For? [From The… ┆ Billie Eilish                   ┆ C    │\n",
       "│ I Remember Everything (feat. K… ┆ Zach Bryan, Kacey Musgraves     ┆ C    │\n",
       "│ Sgudi Snyc                      ┆ De Mthuda, Da Muziqal Chef, Ee… ┆ C    │\n",
       "│ Những Lời Hứa Bỏ Quên           ┆ Vũ., Dear Jane                  ┆ C    │\n",
       "│ Love Me Again                   ┆ V                               ┆ C    │\n",
       "│ Closer Than This                ┆ Jimin                           ┆ C    │\n",
       "│ Cầu Vĩnh Tuy                    ┆ Wren Evans, itsnk               ┆ C    │\n",
       "│ Tình Yêu Vĩ Mô                  ┆ Wren Evans, itsnk               ┆ C    │\n",
       "│ Chuyện Đôi Ta (feat. Muộii)     ┆ Emcee L (Da LAB), Da LAB, Muội… ┆ C    │\n",
       "│ Tình cờ yêu em                  ┆ Kuun Đức Nam, Linh Thộn         ┆ C    │\n",
       "│ …                               ┆ …                               ┆ …    │\n",
       "│ Perdonarte, ¿Para Qué?          ┆ Los Ángeles Azules, Emilia      ┆ B    │\n",
       "│ noviogangsta <3                 ┆ Emilia                          ┆ B    │\n",
       "│ Hoy                             ┆ Valentino Merlo, The La Planta  ┆ B    │\n",
       "│ Princesa                        ┆ Paulo Londra, Luck Ra, Valenti… ┆ B    │\n",
       "│ Tu Foto - En Vivo               ┆ Q' Lokura, Valentino Merlo      ┆ B    │\n",
       "│ Falling (feat. Taka)            ┆ Jin, Taka                       ┆ B    │\n",
       "│ Timeless (with Playboi Carti)   ┆ The Weeknd, Playboi Carti       ┆ B    │\n",
       "│ Heart on the Window (with WEND… ┆ Jin, WENDY                      ┆ B    │\n",
       "│ Sailor Song                     ┆ Gigi Perez                      ┆ B    │\n",
       "│ Good Luck, Babe!                ┆ Chappell Roan                   ┆ B    │\n",
       "│ Seven (feat. Latto) (Explicit … ┆ Jung Kook, Latto                ┆ B    │\n",
       "│ Yellow                          ┆ Coldplay                        ┆ B    │\n",
       "└─────────────────────────────────┴─────────────────────────────────┴──────┘"
      ]
     },
     "execution_count": 11,
     "metadata": {},
     "output_type": "execute_result"
    }
   ],
   "source": [
    "key_levels = pl.Enum([\"C\", \"C#\", \"D\", \"Eb\", \"E\", \"F\", \"F#\", \"G\", \"G#\", \"A\", \"Bb\", \"B\"])\n",
    "df_spotify = (df_spotify.with_columns(pl.col('key').cast(pl.String)\n",
    "\t.replace([\"0\", \"1\", \"2\", \"3\", \"4\", \"5\", \"6\", \"7\", \"8\", \"9\", \"10\", \"11\"],\n",
    "\t\t[\"C\", \"C#\", \"D\", \"Eb\", \"E\", \"F\", \"F#\", \"G\", \"G#\", \"A\", \"Bb\", \"B\"]))\n",
    "\t.with_columns(pl.col('key').cast(key_levels)).sort('key'))\n",
    "df_spotify.select(pl.col('name'), pl.col('artists'), pl.col('key'))"
   ]
  },
  {
   "cell_type": "code",
   "execution_count": 12,
   "id": "67c7a4b4-57de-4b07-ba5d-31656896958a",
   "metadata": {},
   "outputs": [
    {
     "data": {
      "text/html": [
       "<div><style>\n",
       ".dataframe > thead > tr,\n",
       ".dataframe > tbody > tr {\n",
       "  text-align: right;\n",
       "  white-space: pre-wrap;\n",
       "}\n",
       "</style>\n",
       "<small>shape: (1_281_585, 4)</small><table border=\"1\" class=\"dataframe\"><thead><tr><th>name</th><th>artists</th><th>main_vocal</th><th>featuring</th></tr><tr><td>str</td><td>list[str]</td><td>str</td><td>list[str]</td></tr></thead><tbody><tr><td>&quot;I Wanna Be Yours&quot;</td><td>[&quot;Arctic Monkeys&quot;]</td><td>&quot;Arctic Monkeys&quot;</td><td>null</td></tr><tr><td>&quot;Love Me Again&quot;</td><td>[&quot;V&quot;]</td><td>&quot;V&quot;</td><td>null</td></tr><tr><td>&quot;Flowers&quot;</td><td>[&quot;Miley Cyrus&quot;]</td><td>&quot;Miley Cyrus&quot;</td><td>null</td></tr><tr><td>&quot;What Was I Made For? [From The…</td><td>[&quot;Billie Eilish&quot;]</td><td>&quot;Billie Eilish&quot;</td><td>null</td></tr><tr><td>&quot;I Remember Everything (feat. K…</td><td>[&quot;Zach Bryan&quot;, &quot;Kacey Musgraves&quot;]</td><td>&quot;Zach Bryan&quot;</td><td>[&quot;Kacey Musgraves&quot;]</td></tr><tr><td>&quot;Sgudi Snyc&quot;</td><td>[&quot;De Mthuda&quot;, &quot;Da Muziqal Chef&quot;, &quot;Eemoh&quot;]</td><td>&quot;De Mthuda&quot;</td><td>[&quot;Da Muziqal Chef&quot;, &quot;Eemoh&quot;]</td></tr><tr><td>&quot;Những Lời Hứa Bỏ Quên&quot;</td><td>[&quot;Vũ.&quot;, &quot;Dear Jane&quot;]</td><td>&quot;Vũ.&quot;</td><td>[&quot;Dear Jane&quot;]</td></tr><tr><td>&quot;Love Me Again&quot;</td><td>[&quot;V&quot;]</td><td>&quot;V&quot;</td><td>null</td></tr><tr><td>&quot;Closer Than This&quot;</td><td>[&quot;Jimin&quot;]</td><td>&quot;Jimin&quot;</td><td>null</td></tr><tr><td>&quot;Cầu Vĩnh Tuy&quot;</td><td>[&quot;Wren Evans&quot;, &quot;itsnk&quot;]</td><td>&quot;Wren Evans&quot;</td><td>[&quot;itsnk&quot;]</td></tr><tr><td>&quot;Tình Yêu Vĩ Mô&quot;</td><td>[&quot;Wren Evans&quot;, &quot;itsnk&quot;]</td><td>&quot;Wren Evans&quot;</td><td>[&quot;itsnk&quot;]</td></tr><tr><td>&quot;Chuyện Đôi Ta (feat. Muộii)&quot;</td><td>[&quot;Emcee L (Da LAB)&quot;, &quot;Da LAB&quot;, &quot;Muộii (Starry Night)&quot;]</td><td>&quot;Emcee L (Da LAB)&quot;</td><td>[&quot;Da LAB&quot;, &quot;Muộii (Starry Night)&quot;]</td></tr><tr><td>&quot;Tình cờ yêu em&quot;</td><td>[&quot;Kuun Đức Nam&quot;, &quot;Linh Thộn&quot;]</td><td>&quot;Kuun Đức Nam&quot;</td><td>[&quot;Linh Thộn&quot;]</td></tr><tr><td>&hellip;</td><td>&hellip;</td><td>&hellip;</td><td>&hellip;</td></tr><tr><td>&quot;Perdonarte, ¿Para Qué?&quot;</td><td>[&quot;Los Ángeles Azules&quot;, &quot;Emilia&quot;]</td><td>&quot;Los Ángeles Azules&quot;</td><td>[&quot;Emilia&quot;]</td></tr><tr><td>&quot;noviogangsta &lt;3&quot;</td><td>[&quot;Emilia&quot;]</td><td>&quot;Emilia&quot;</td><td>null</td></tr><tr><td>&quot;Hoy&quot;</td><td>[&quot;Valentino Merlo&quot;, &quot;The La Planta&quot;]</td><td>&quot;Valentino Merlo&quot;</td><td>[&quot;The La Planta&quot;]</td></tr><tr><td>&quot;Princesa&quot;</td><td>[&quot;Paulo Londra&quot;, &quot;Luck Ra&quot;, &quot;Valentino Merlo&quot;]</td><td>&quot;Paulo Londra&quot;</td><td>[&quot;Luck Ra&quot;, &quot;Valentino Merlo&quot;]</td></tr><tr><td>&quot;Tu Foto - En Vivo&quot;</td><td>[&quot;Q&#x27; Lokura&quot;, &quot;Valentino Merlo&quot;]</td><td>&quot;Q&#x27; Lokura&quot;</td><td>[&quot;Valentino Merlo&quot;]</td></tr><tr><td>&quot;Falling (feat. Taka)&quot;</td><td>[&quot;Jin&quot;, &quot;Taka&quot;]</td><td>&quot;Jin&quot;</td><td>[&quot;Taka&quot;]</td></tr><tr><td>&quot;Timeless (with Playboi Carti)&quot;</td><td>[&quot;The Weeknd&quot;, &quot;Playboi Carti&quot;]</td><td>&quot;The Weeknd&quot;</td><td>[&quot;Playboi Carti&quot;]</td></tr><tr><td>&quot;Heart on the Window (with WEND…</td><td>[&quot;Jin&quot;, &quot;WENDY&quot;]</td><td>&quot;Jin&quot;</td><td>[&quot;WENDY&quot;]</td></tr><tr><td>&quot;Sailor Song&quot;</td><td>[&quot;Gigi Perez&quot;]</td><td>&quot;Gigi Perez&quot;</td><td>null</td></tr><tr><td>&quot;Good Luck, Babe!&quot;</td><td>[&quot;Chappell Roan&quot;]</td><td>&quot;Chappell Roan&quot;</td><td>null</td></tr><tr><td>&quot;Seven (feat. Latto) (Explicit …</td><td>[&quot;Jung Kook&quot;, &quot;Latto&quot;]</td><td>&quot;Jung Kook&quot;</td><td>[&quot;Latto&quot;]</td></tr><tr><td>&quot;Yellow&quot;</td><td>[&quot;Coldplay&quot;]</td><td>&quot;Coldplay&quot;</td><td>null</td></tr></tbody></table></div>"
      ],
      "text/plain": [
       "shape: (1_281_585, 4)\n",
       "┌────────────────────────────────┬────────────────────────────────┬────────────────────┬───────────────────────────────┐\n",
       "│ name                           ┆ artists                        ┆ main_vocal         ┆ featuring                     │\n",
       "│ ---                            ┆ ---                            ┆ ---                ┆ ---                           │\n",
       "│ str                            ┆ list[str]                      ┆ str                ┆ list[str]                     │\n",
       "╞════════════════════════════════╪════════════════════════════════╪════════════════════╪═══════════════════════════════╡\n",
       "│ I Wanna Be Yours               ┆ [\"Arctic Monkeys\"]             ┆ Arctic Monkeys     ┆ null                          │\n",
       "│ Love Me Again                  ┆ [\"V\"]                          ┆ V                  ┆ null                          │\n",
       "│ Flowers                        ┆ [\"Miley Cyrus\"]                ┆ Miley Cyrus        ┆ null                          │\n",
       "│ What Was I Made For? [From     ┆ [\"Billie Eilish\"]              ┆ Billie Eilish      ┆ null                          │\n",
       "│ The…                           ┆                                ┆                    ┆                               │\n",
       "│ I Remember Everything (feat.   ┆ [\"Zach Bryan\", \"Kacey          ┆ Zach Bryan         ┆ [\"Kacey Musgraves\"]           │\n",
       "│ K…                             ┆ Musgrave…                      ┆                    ┆                               │\n",
       "│ Sgudi Snyc                     ┆ [\"De Mthuda\", \"Da Muziqal      ┆ De Mthuda          ┆ [\"Da Muziqal Chef\", \"Eemoh\"]  │\n",
       "│                                ┆ Chef…                          ┆                    ┆                               │\n",
       "│ Những Lời Hứa Bỏ Quên          ┆ [\"Vũ.\", \"Dear Jane\"]           ┆ Vũ.                ┆ [\"Dear Jane\"]                 │\n",
       "│ Love Me Again                  ┆ [\"V\"]                          ┆ V                  ┆ null                          │\n",
       "│ Closer Than This               ┆ [\"Jimin\"]                      ┆ Jimin              ┆ null                          │\n",
       "│ Cầu Vĩnh Tuy                   ┆ [\"Wren Evans\", \"itsnk\"]        ┆ Wren Evans         ┆ [\"itsnk\"]                     │\n",
       "│ Tình Yêu Vĩ Mô                 ┆ [\"Wren Evans\", \"itsnk\"]        ┆ Wren Evans         ┆ [\"itsnk\"]                     │\n",
       "│ Chuyện Đôi Ta (feat. Muộii)    ┆ [\"Emcee L (Da LAB)\", \"Da       ┆ Emcee L (Da LAB)   ┆ [\"Da LAB\", \"Muộii (Starry     │\n",
       "│                                ┆ LAB\",…                         ┆                    ┆ Nigh…                         │\n",
       "│ Tình cờ yêu em                 ┆ [\"Kuun Đức Nam\", \"Linh Thộn\"]  ┆ Kuun Đức Nam       ┆ [\"Linh Thộn\"]                 │\n",
       "│ …                              ┆ …                              ┆ …                  ┆ …                             │\n",
       "│ Perdonarte, ¿Para Qué?         ┆ [\"Los Ángeles Azules\",         ┆ Los Ángeles Azules ┆ [\"Emilia\"]                    │\n",
       "│                                ┆ \"Emilia…                       ┆                    ┆                               │\n",
       "│ noviogangsta <3                ┆ [\"Emilia\"]                     ┆ Emilia             ┆ null                          │\n",
       "│ Hoy                            ┆ [\"Valentino Merlo\", \"The La    ┆ Valentino Merlo    ┆ [\"The La Planta\"]             │\n",
       "│                                ┆ Pl…                            ┆                    ┆                               │\n",
       "│ Princesa                       ┆ [\"Paulo Londra\", \"Luck Ra\",    ┆ Paulo Londra       ┆ [\"Luck Ra\", \"Valentino        │\n",
       "│                                ┆ \"V…                            ┆                    ┆ Merlo\"]                       │\n",
       "│ Tu Foto - En Vivo              ┆ [\"Q' Lokura\", \"Valentino       ┆ Q' Lokura          ┆ [\"Valentino Merlo\"]           │\n",
       "│                                ┆ Merlo…                         ┆                    ┆                               │\n",
       "│ Falling (feat. Taka)           ┆ [\"Jin\", \"Taka\"]                ┆ Jin                ┆ [\"Taka\"]                      │\n",
       "│ Timeless (with Playboi Carti)  ┆ [\"The Weeknd\", \"Playboi        ┆ The Weeknd         ┆ [\"Playboi Carti\"]             │\n",
       "│                                ┆ Carti\"…                        ┆                    ┆                               │\n",
       "│ Heart on the Window (with      ┆ [\"Jin\", \"WENDY\"]               ┆ Jin                ┆ [\"WENDY\"]                     │\n",
       "│ WEND…                          ┆                                ┆                    ┆                               │\n",
       "│ Sailor Song                    ┆ [\"Gigi Perez\"]                 ┆ Gigi Perez         ┆ null                          │\n",
       "│ Good Luck, Babe!               ┆ [\"Chappell Roan\"]              ┆ Chappell Roan      ┆ null                          │\n",
       "│ Seven (feat. Latto) (Explicit  ┆ [\"Jung Kook\", \"Latto\"]         ┆ Jung Kook          ┆ [\"Latto\"]                     │\n",
       "│ …                              ┆                                ┆                    ┆                               │\n",
       "│ Yellow                         ┆ [\"Coldplay\"]                   ┆ Coldplay           ┆ null                          │\n",
       "└────────────────────────────────┴────────────────────────────────┴────────────────────┴───────────────────────────────┘"
      ]
     },
     "execution_count": 12,
     "metadata": {},
     "output_type": "execute_result"
    }
   ],
   "source": [
    "df_spotify = (df_spotify.with_columns(pl.col('artists').str.split(', '))  ## ,를 기준으로 문자열을 분리\n",
    "    ## 리스트의 첫 번째 아이템을 가져와서 main_vocal로 저장\n",
    "\t.with_columns(pl.col('artists').list.get(0, null_on_oob = True).alias('main_vocal'), \n",
    "\t\tpl.col('artists').list.tail(-1).alias('featuring')) ## 첫 번째 아이템을 제외한 나머지를 featuring으로 저장\n",
    "\t.with_columns(pl.when(pl.col('featuring').list.len() == 0) ## 리스트 길이가 0이면\n",
    "\t\t.then(None)  ## None으로 설정\n",
    "\t\t.otherwise(pl.col('featuring')).name.keep()))  ## 아니면 그대로 유지\n",
    "df_spotify.select(pl.col('name'), pl.col('artists'), pl.col('main_vocal'), pl.col('featuring'))"
   ]
  },
  {
   "cell_type": "code",
   "execution_count": 13,
   "id": "9bd93b18-dfd1-4cd2-ad7f-288102c8a269",
   "metadata": {},
   "outputs": [],
   "source": [
    "import pycountry_convert as pc\n",
    "def get_continent_name(nation_code: str) -> str:\n",
    "\tif nation_code != 'WW':\n",
    "\t\tcontinent_code = pc.country_alpha2_to_continent_code(nation_code)\n",
    "\telse: \n",
    "\t\tcontinent_code = 'WW'\n",
    "\tcontinent_dict = {\"NA\": \"North America\",\"SA\": \"South America\", \"AS\": \"Asia\", \"AF\": \"Africa\",\n",
    "\t\t\"OC\": \"Oceania\", \"EU\": \"Europe\", \"AQ\": \"Antarctica\", \"WW\": \"Global\"}\n",
    "\treturn continent_dict[continent_code]"
   ]
  },
  {
   "cell_type": "code",
   "execution_count": 27,
   "id": "de6309d4-b319-402f-837d-def987c7f2bf",
   "metadata": {},
   "outputs": [
    {
     "data": {
      "text/html": [
       "<div><style>\n",
       ".dataframe > thead > tr,\n",
       ".dataframe > tbody > tr {\n",
       "  text-align: right;\n",
       "  white-space: pre-wrap;\n",
       "}\n",
       "</style>\n",
       "<small>shape: (7, 2)</small><table border=\"1\" class=\"dataframe\"><thead><tr><th>continent</th><th>country</th></tr><tr><td>str</td><td>str</td></tr></thead><tbody><tr><td>&quot;Africa&quot;</td><td>&quot;ZA&quot;</td></tr><tr><td>&quot;Asia&quot;</td><td>&quot;VN&quot;</td></tr><tr><td>&quot;Europe&quot;</td><td>&quot;UA&quot;</td></tr><tr><td>&quot;Global&quot;</td><td>&quot;WW&quot;</td></tr><tr><td>&quot;North America&quot;</td><td>&quot;US&quot;</td></tr><tr><td>&quot;Oceania&quot;</td><td>&quot;NZ&quot;</td></tr><tr><td>&quot;South America&quot;</td><td>&quot;UY&quot;</td></tr></tbody></table></div>"
      ],
      "text/plain": [
       "shape: (7, 2)\n",
       "┌───────────────┬─────────┐\n",
       "│ continent     ┆ country │\n",
       "│ ---           ┆ ---     │\n",
       "│ str           ┆ str     │\n",
       "╞═══════════════╪═════════╡\n",
       "│ Africa        ┆ ZA      │\n",
       "│ Asia          ┆ VN      │\n",
       "│ Europe        ┆ UA      │\n",
       "│ Global        ┆ WW      │\n",
       "│ North America ┆ US      │\n",
       "│ Oceania       ┆ NZ      │\n",
       "│ South America ┆ UY      │\n",
       "└───────────────┴─────────┘"
      ]
     },
     "execution_count": 27,
     "metadata": {},
     "output_type": "execute_result"
    }
   ],
   "source": [
    "df_spotify = (df_spotify.with_columns(pl.col('country')\n",
    "\t## 앞서 정의한 함수를 country 열에 적용 \n",
    "\t.map_elements(get_continent_name, return_dtype = pl.String).alias('continent')))\n",
    "df_spotify.group_by('continent').agg(pl.col('country').first()).sort('continent')"
   ]
  }
 ],
 "metadata": {
  "kernelspec": {
   "display_name": "venv_polars_book_deploy",
   "language": "python",
   "name": "venv_polars_book_deploy"
  },
  "language_info": {
   "codemirror_mode": {
    "name": "ipython",
    "version": 3
   },
   "file_extension": ".py",
   "mimetype": "text/x-python",
   "name": "python",
   "nbconvert_exporter": "python",
   "pygments_lexer": "ipython3",
   "version": "3.12.7"
  }
 },
 "nbformat": 4,
 "nbformat_minor": 5
}
